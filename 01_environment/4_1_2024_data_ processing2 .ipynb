{
 "cells": [
  {
   "cell_type": "code",
   "execution_count": 1,
   "id": "bd6cb235",
   "metadata": {},
   "outputs": [],
   "source": [
    "import pandas as pd\n",
    "import numpy as np\n",
    "import matplotlib.pyplot as plt\n",
    "\n",
    "# 그래프 기본 설정\n",
    "plt.rcParams['font.family'] = 'Malgun Gothic'\n",
    "# plt.rcParams['font.family'] = 'AppleGothic'\n",
    "plt.rcParams['figure.figsize'] = 12, 6\n",
    "plt.rcParams['font.size'] = 14\n",
    "plt.rcParams['axes.unicode_minus'] = False"
   ]
  },
  {
   "cell_type": "markdown",
   "id": "8e1f09cc",
   "metadata": {},
   "source": [
    "## 2023 데이터 전처리"
   ]
  },
  {
   "cell_type": "code",
   "execution_count": 3,
   "metadata": {},
   "outputs": [],
   "source": [
    "df = pd.read_excel('data/2023/2023 외래관광객조사 DATA.xlsx')"
   ]
  },
  {
   "cell_type": "markdown",
   "id": "980e19d0",
   "metadata": {},
   "source": [
    "- 국적: D_NAT\n",
    "- 체류기간: M일HAP\n",
    "- 동반자 유무: Q7A\n",
    "- 동행자 유형: Q7a_dk ~ Q7a8\n",
    "- 여행 형태: D_GUB\n",
    "- 방문 목적: D_MOK\n",
    "- 총지출: 총액1인TOT항공제외2\n",
    "- 참여한 활동(자연경관 감상, 뷰티/미용 관광): Q8a03, Q8a12\n",
    "- 참여 만족도: Q8_1a1, Q8_1a2, Q8_1a3\n",
    "- 가중치: weight \n",
    "- 연령대"
   ]
  },
  {
   "cell_type": "code",
   "execution_count": 4,
   "id": "af1a502a",
   "metadata": {},
   "outputs": [],
   "source": [
    "cols_needed = ['D_NAT','M일HAP', \n",
    "               'Q7A','Q7a_dk', 'Q7a2', 'Q7a3', 'Q7a4', 'Q7a5', 'Q7a6', 'Q7a7', 'Q7a8',\n",
    "               'D_GUB', 'D_MOK', '총액1인TOT항공제외2', \n",
    "               'Q8a03', 'Q8a12', \n",
    "               'Q8_1a1', 'Q8_1a2', 'Q8_1a3',\n",
    "               'D_AGE']\n",
    "df = df[cols_needed]"
   ]
  },
  {
   "cell_type": "code",
   "execution_count": 5,
   "id": "e866267a",
   "metadata": {},
   "outputs": [
    {
     "data": {
      "application/vnd.microsoft.datawrangler.viewer.v0+json": {
       "columns": [
        {
         "name": "index",
         "rawType": "object",
         "type": "string"
        },
        {
         "name": "0",
         "rawType": "int64",
         "type": "integer"
        }
       ],
       "ref": "92ec902e-f39a-45ce-afd8-038af0fe0938",
       "rows": [
        [
         "D_NAT",
         "0"
        ],
        [
         "M일HAP",
         "0"
        ],
        [
         "Q7A",
         "0"
        ],
        [
         "Q7a_dk",
         "10690"
        ],
        [
         "Q7a2",
         "13369"
        ],
        [
         "Q7a3",
         "14923"
        ],
        [
         "Q7a4",
         "14887"
        ],
        [
         "Q7a5",
         "14512"
        ],
        [
         "Q7a6",
         "12350"
        ],
        [
         "Q7a7",
         "14476"
        ],
        [
         "Q7a8",
         "16078"
        ],
        [
         "D_GUB",
         "0"
        ],
        [
         "D_MOK",
         "0"
        ],
        [
         "총액1인TOT항공제외2",
         "0"
        ],
        [
         "Q8a03",
         "7332"
        ],
        [
         "Q8a12",
         "14576"
        ],
        [
         "Q8_1a1",
         "0"
        ],
        [
         "Q8_1a2",
         "1112"
        ],
        [
         "Q8_1a3",
         "3149"
        ],
        [
         "D_AGE",
         "0"
        ]
       ],
       "shape": {
        "columns": 1,
        "rows": 20
       }
      },
      "text/plain": [
       "D_NAT               0\n",
       "M일HAP               0\n",
       "Q7A                 0\n",
       "Q7a_dk          10690\n",
       "Q7a2            13369\n",
       "Q7a3            14923\n",
       "Q7a4            14887\n",
       "Q7a5            14512\n",
       "Q7a6            12350\n",
       "Q7a7            14476\n",
       "Q7a8            16078\n",
       "D_GUB               0\n",
       "D_MOK               0\n",
       "총액1인TOT항공제외2        0\n",
       "Q8a03            7332\n",
       "Q8a12           14576\n",
       "Q8_1a1              0\n",
       "Q8_1a2           1112\n",
       "Q8_1a3           3149\n",
       "D_AGE               0\n",
       "dtype: int64"
      ]
     },
     "execution_count": 5,
     "metadata": {},
     "output_type": "execute_result"
    }
   ],
   "source": [
    "df.isnull().sum()"
   ]
  },
  {
   "cell_type": "markdown",
   "id": "2a625d8e",
   "metadata": {},
   "source": [
    "### 동행자 유형 분류"
   ]
  },
  {
   "cell_type": "code",
   "execution_count": 6,
   "id": "d3a112aa",
   "metadata": {},
   "outputs": [],
   "source": [
    "# 1. 동행자 관련 컬럼만 추출\n",
    "companion_cols = ['Q7a_dk', 'Q7a2', 'Q7a3', 'Q7a4', 'Q7a5', 'Q7a6', 'Q7a7', 'Q7a8']\n",
    "\n",
    "# 2. 결측치 처리 안함 \n",
    "# 결측치는 <선택하지 않음>을 의미하므로 처리하지 않음\n",
    "\n",
    "# 3. 동행자유형 파생 변수 만들기\n",
    "## 1) 단순 그룹 (가족 여부 중심)\n",
    "def classify_family_group(row):\n",
    "    if row['Q7a_dk'] == 1:\n",
    "        return '혼자'\n",
    "    if any([row['Q7a2'] == 2, row['Q7a3'] == 3, row['Q7a4'] == 4, row['Q7a5'] == 5]):\n",
    "        return '가족'\n",
    "    if row['Q7a6'] == 6:\n",
    "        return '친구'\n",
    "    if row['Q7a7'] == 7:\n",
    "        return '직장동료'\n",
    "    if row['Q7a8'] == 8:\n",
    "        return '기타'\n",
    "    return '응답없음'\n",
    "\n",
    "## 2) 세분화 그룹 (구체 동행자 중심)\n",
    "def classify_detailed_group(row):\n",
    "    if row['Q7a_dk'] == 1:\n",
    "        return '혼자'\n",
    "    if row['Q7a2'] == 2:\n",
    "        return '배우자/파트너'\n",
    "    if row['Q7a3'] == 3:\n",
    "        return '부모님'\n",
    "    if row['Q7a4'] == 4:\n",
    "        return '자녀'\n",
    "    if row['Q7a5'] == 5:\n",
    "        return '그 외 가족 친지'\n",
    "    if row['Q7a6'] == 6:\n",
    "        return '친구'\n",
    "    if row['Q7a7'] == 7:\n",
    "        return '직장동료'\n",
    "    if row['Q7a8'] == 8:\n",
    "        return '기타'\n",
    "    return '응답없음'\n",
    "\n",
    "# 4. 적용\n",
    "df['동행자_단순'] = df.apply(classify_family_group, axis=1)\n",
    "df['동행자_세분화'] = df.apply(classify_detailed_group, axis=1)\n",
    "\n",
    "# 5. 유효 응답만 남기기\n",
    "## 두 변수 모두 '응답없음'이 아닌 행만 남김\n",
    "df = df[(df['동행자_단순'] != '응답없음') & (df['동행자_세분화'] != '응답없음')].copy()"
   ]
  },
  {
   "cell_type": "code",
   "execution_count": 7,
   "metadata": {},
   "outputs": [
    {
     "data": {
      "text/plain": [
       "Index(['D_NAT', 'M일HAP', 'Q7A', 'Q7a_dk', 'Q7a2', 'Q7a3', 'Q7a4', 'Q7a5',\n",
       "       'Q7a6', 'Q7a7', 'Q7a8', 'D_GUB', 'D_MOK', '총액1인TOT항공제외2', 'Q8a03',\n",
       "       'Q8a12', 'Q8_1a1', 'Q8_1a2', 'Q8_1a3', 'D_AGE', '동행자_단순', '동행자_세분화'],\n",
       "      dtype='object')"
      ]
     },
     "execution_count": 7,
     "metadata": {},
     "output_type": "execute_result"
    }
   ],
   "source": [
    "df.columns"
   ]
  },
  {
   "cell_type": "code",
   "execution_count": 8,
   "id": "272103fd",
   "metadata": {},
   "outputs": [
    {
     "data": {
      "application/vnd.microsoft.datawrangler.viewer.v0+json": {
       "columns": [
        {
         "name": "동행자_단순",
         "rawType": "object",
         "type": "string"
        },
        {
         "name": "count",
         "rawType": "int64",
         "type": "integer"
        }
       ],
       "ref": "9fccce78-fc88-4c5a-95f0-4eca3f8d5e62",
       "rows": [
        [
         "가족",
         "5511"
        ],
        [
         "혼자",
         "5506"
        ],
        [
         "친구",
         "3526"
        ],
        [
         "직장동료",
         "1588"
        ],
        [
         "기타",
         "65"
        ]
       ],
       "shape": {
        "columns": 1,
        "rows": 5
       }
      },
      "text/plain": [
       "동행자_단순\n",
       "가족      5511\n",
       "혼자      5506\n",
       "친구      3526\n",
       "직장동료    1588\n",
       "기타        65\n",
       "Name: count, dtype: int64"
      ]
     },
     "execution_count": 8,
     "metadata": {},
     "output_type": "execute_result"
    }
   ],
   "source": [
    "df['동행자_단순'].value_counts()"
   ]
  },
  {
   "cell_type": "code",
   "execution_count": 9,
   "id": "8a712f12",
   "metadata": {},
   "outputs": [
    {
     "data": {
      "application/vnd.microsoft.datawrangler.viewer.v0+json": {
       "columns": [
        {
         "name": "동행자_세분화",
         "rawType": "object",
         "type": "string"
        },
        {
         "name": "count",
         "rawType": "int64",
         "type": "integer"
        }
       ],
       "ref": "229b8d8a-42c4-4f13-8cda-895a83f0f29c",
       "rows": [
        [
         "혼자",
         "5506"
        ],
        [
         "친구",
         "3526"
        ],
        [
         "배우자/파트너",
         "2827"
        ],
        [
         "직장동료",
         "1588"
        ],
        [
         "부모님",
         "1142"
        ],
        [
         "그 외 가족 친지",
         "995"
        ],
        [
         "자녀",
         "547"
        ],
        [
         "기타",
         "65"
        ]
       ],
       "shape": {
        "columns": 1,
        "rows": 8
       }
      },
      "text/plain": [
       "동행자_세분화\n",
       "혼자           5506\n",
       "친구           3526\n",
       "배우자/파트너      2827\n",
       "직장동료         1588\n",
       "부모님          1142\n",
       "그 외 가족 친지     995\n",
       "자녀            547\n",
       "기타             65\n",
       "Name: count, dtype: int64"
      ]
     },
     "execution_count": 9,
     "metadata": {},
     "output_type": "execute_result"
    }
   ],
   "source": [
    "df['동행자_세분화'].value_counts()"
   ]
  },
  {
   "cell_type": "markdown",
   "id": "87a4c02c",
   "metadata": {},
   "source": [
    "### 국적 선별 \n",
    "- 2023년 글로벌 방한 관광객 통계 기준 상위 6개국 \n",
    "- GWI-Rankings 상위 5개국 중 2개국(방한관광객 상위 국가와 중복 제외)"
   ]
  },
  {
   "cell_type": "code",
   "execution_count": 10,
   "id": "d7eda214",
   "metadata": {},
   "outputs": [
    {
     "data": {
      "application/vnd.microsoft.datawrangler.viewer.v0+json": {
       "columns": [
        {
         "name": "D_NAT",
         "rawType": "int64",
         "type": "integer"
        },
        {
         "name": "count",
         "rawType": "int64",
         "type": "integer"
        }
       ],
       "ref": "f63565f9-3c33-47be-a089-dba4e0e3f577",
       "rows": [
        [
         "2",
         "1963"
        ],
        [
         "1",
         "1588"
        ],
        [
         "4",
         "1444"
        ],
        [
         "3",
         "1263"
        ],
        [
         "10",
         "873"
        ],
        [
         "5",
         "868"
        ],
        [
         "6",
         "824"
        ],
        [
         "97",
         "682"
        ],
        [
         "8",
         "678"
        ],
        [
         "13",
         "664"
        ],
        [
         "15",
         "639"
        ],
        [
         "12",
         "583"
        ],
        [
         "14",
         "537"
        ],
        [
         "7",
         "521"
        ],
        [
         "9",
         "512"
        ],
        [
         "19",
         "497"
        ],
        [
         "18",
         "496"
        ],
        [
         "16",
         "488"
        ],
        [
         "20",
         "385"
        ],
        [
         "17",
         "359"
        ],
        [
         "11",
         "332"
        ]
       ],
       "shape": {
        "columns": 1,
        "rows": 21
       }
      },
      "text/plain": [
       "D_NAT\n",
       "2     1963\n",
       "1     1588\n",
       "4     1444\n",
       "3     1263\n",
       "10     873\n",
       "5      868\n",
       "6      824\n",
       "97     682\n",
       "8      678\n",
       "13     664\n",
       "15     639\n",
       "12     583\n",
       "14     537\n",
       "7      521\n",
       "9      512\n",
       "19     497\n",
       "18     496\n",
       "16     488\n",
       "20     385\n",
       "17     359\n",
       "11     332\n",
       "Name: count, dtype: int64"
      ]
     },
     "execution_count": 10,
     "metadata": {},
     "output_type": "execute_result"
    }
   ],
   "source": [
    "df['D_NAT'].value_counts()"
   ]
  },
  {
   "cell_type": "markdown",
   "id": "534251fb",
   "metadata": {},
   "source": [
    "### 국가명 매핑"
   ]
  },
  {
   "cell_type": "code",
   "execution_count": 11,
   "id": "5b548944",
   "metadata": {},
   "outputs": [
    {
     "data": {
      "text/plain": [
       "dtype('int64')"
      ]
     },
     "execution_count": 11,
     "metadata": {},
     "output_type": "execute_result"
    }
   ],
   "source": [
    "df['D_NAT'].dtype"
   ]
  },
  {
   "cell_type": "code",
   "execution_count": 12,
   "id": "431e55af",
   "metadata": {},
   "outputs": [],
   "source": [
    "nat_map = {\n",
    "    1: '중국',\n",
    "    2: '일본',\n",
    "    3: '대만',\n",
    "    4: '미국',\n",
    "    5: '홍콩',\n",
    "    6: '태국',\n",
    "    7: '베트남',\n",
    "    10: '싱가포르',\n",
    "    16: '영국',\n",
    "    18: '독일',\n",
    "    12: '중동'\n",
    "}\n",
    "\n",
    "df['국가명'] = df['D_NAT'].map(nat_map)\n",
    "\n",
    "# 분석 대상 국가만 필터링\n",
    "df = df[df['국가명'].notna()]"
   ]
  },
  {
   "cell_type": "code",
   "execution_count": 13,
   "id": "3fef28bc",
   "metadata": {},
   "outputs": [
    {
     "data": {
      "application/vnd.microsoft.datawrangler.viewer.v0+json": {
       "columns": [
        {
         "name": "국가명",
         "rawType": "object",
         "type": "string"
        },
        {
         "name": "count",
         "rawType": "int64",
         "type": "integer"
        }
       ],
       "ref": "78865760-8efe-4ac2-bb26-445556c0eb4d",
       "rows": [
        [
         "일본",
         "1963"
        ],
        [
         "중국",
         "1588"
        ],
        [
         "미국",
         "1444"
        ],
        [
         "대만",
         "1263"
        ],
        [
         "싱가포르",
         "873"
        ],
        [
         "홍콩",
         "868"
        ],
        [
         "태국",
         "824"
        ],
        [
         "중동",
         "583"
        ],
        [
         "베트남",
         "521"
        ],
        [
         "독일",
         "496"
        ],
        [
         "영국",
         "488"
        ]
       ],
       "shape": {
        "columns": 1,
        "rows": 11
       }
      },
      "text/plain": [
       "국가명\n",
       "일본      1963\n",
       "중국      1588\n",
       "미국      1444\n",
       "대만      1263\n",
       "싱가포르     873\n",
       "홍콩       868\n",
       "태국       824\n",
       "중동       583\n",
       "베트남      521\n",
       "독일       496\n",
       "영국       488\n",
       "Name: count, dtype: int64"
      ]
     },
     "execution_count": 13,
     "metadata": {},
     "output_type": "execute_result"
    }
   ],
   "source": [
    "df['국가명'].value_counts()"
   ]
  },
  {
   "cell_type": "markdown",
   "id": "20ad2285",
   "metadata": {},
   "source": [
    "### 연령대 분류"
   ]
  },
  {
   "cell_type": "code",
   "execution_count": 14,
   "id": "cb5a4fd2",
   "metadata": {},
   "outputs": [],
   "source": [
    "# 연령 통합 그룹\n",
    "def classify_age_group_simple(code):\n",
    "    if code == 1:\n",
    "        return '10대'\n",
    "    elif code == 2:\n",
    "        return '20대'\n",
    "    elif code in [3, 4, 5]:\n",
    "        return '30~50대'\n",
    "    elif code == 6:\n",
    "        return '60대 이상'\n",
    "    return '응답없음'\n",
    "\n",
    "# 연령 세분화 그룹 (항목 정의서 그대로)\n",
    "def classify_age_group_detailed(code):\n",
    "    age_map = {\n",
    "        1: '10대',\n",
    "        2: '20대',\n",
    "        3: '30대',\n",
    "        4: '40대',\n",
    "        5: '50대',\n",
    "        6: '60대 이상'\n",
    "    }\n",
    "    return age_map.get(code, '응답없음')\n",
    "\n",
    "# 적용\n",
    "df['연령대_단순'] = df['D_AGE'].apply(classify_age_group_simple)\n",
    "df['연령대_세분화'] = df['D_AGE'].apply(classify_age_group_detailed)\n",
    "\n",
    "df = df[(df['연령대_단순'] != '응답없음') & (df['연령대_세분화'] != '응답없음')].copy()"
   ]
  },
  {
   "cell_type": "code",
   "execution_count": 15,
   "id": "506f10a6",
   "metadata": {},
   "outputs": [
    {
     "data": {
      "application/vnd.microsoft.datawrangler.viewer.v0+json": {
       "columns": [
        {
         "name": "index",
         "rawType": "int64",
         "type": "integer"
        },
        {
         "name": "D_NAT",
         "rawType": "int64",
         "type": "integer"
        },
        {
         "name": "M일HAP",
         "rawType": "int64",
         "type": "integer"
        },
        {
         "name": "Q7A",
         "rawType": "int64",
         "type": "integer"
        },
        {
         "name": "Q7a_dk",
         "rawType": "float64",
         "type": "float"
        },
        {
         "name": "Q7a2",
         "rawType": "float64",
         "type": "float"
        },
        {
         "name": "Q7a3",
         "rawType": "float64",
         "type": "float"
        },
        {
         "name": "Q7a4",
         "rawType": "float64",
         "type": "float"
        },
        {
         "name": "Q7a5",
         "rawType": "float64",
         "type": "float"
        },
        {
         "name": "Q7a6",
         "rawType": "float64",
         "type": "float"
        },
        {
         "name": "Q7a7",
         "rawType": "float64",
         "type": "float"
        },
        {
         "name": "Q7a8",
         "rawType": "float64",
         "type": "float"
        },
        {
         "name": "D_GUB",
         "rawType": "int64",
         "type": "integer"
        },
        {
         "name": "D_MOK",
         "rawType": "int64",
         "type": "integer"
        },
        {
         "name": "총액1인TOT항공제외2",
         "rawType": "float64",
         "type": "float"
        },
        {
         "name": "Q8a03",
         "rawType": "float64",
         "type": "float"
        },
        {
         "name": "Q8a12",
         "rawType": "float64",
         "type": "float"
        },
        {
         "name": "Q8_1a1",
         "rawType": "int64",
         "type": "integer"
        },
        {
         "name": "Q8_1a2",
         "rawType": "float64",
         "type": "float"
        },
        {
         "name": "Q8_1a3",
         "rawType": "float64",
         "type": "float"
        },
        {
         "name": "D_AGE",
         "rawType": "int64",
         "type": "integer"
        },
        {
         "name": "동행자_단순",
         "rawType": "object",
         "type": "string"
        },
        {
         "name": "동행자_세분화",
         "rawType": "object",
         "type": "string"
        },
        {
         "name": "국가명",
         "rawType": "object",
         "type": "string"
        },
        {
         "name": "연령대_단순",
         "rawType": "object",
         "type": "string"
        },
        {
         "name": "연령대_세분화",
         "rawType": "object",
         "type": "string"
        }
       ],
       "ref": "a6743f27-3a87-4577-b23f-ec353aeafc21",
       "rows": [
        [
         "0",
         "3",
         "27",
         "1",
         "1.0",
         null,
         null,
         null,
         null,
         null,
         null,
         null,
         "1",
         "1",
         "1093.21",
         null,
         null,
         "8",
         "1.0",
         "2.0",
         "2",
         "혼자",
         "혼자",
         "대만",
         "20대",
         "20대"
        ],
        [
         "1",
         "1",
         "7",
         "1",
         "1.0",
         null,
         null,
         null,
         null,
         null,
         null,
         null,
         "1",
         "2",
         "1621.28",
         "3.0",
         null,
         "11",
         "2.0",
         "3.0",
         "3",
         "혼자",
         "혼자",
         "중국",
         "30~50대",
         "30대"
        ],
        [
         "2",
         "4",
         "2",
         "1",
         "1.0",
         null,
         null,
         null,
         null,
         null,
         null,
         null,
         "1",
         "5",
         "150.0",
         null,
         null,
         "1",
         null,
         null,
         "1",
         "혼자",
         "혼자",
         "미국",
         "10대",
         "10대"
        ],
        [
         "3",
         "5",
         "8",
         "1",
         "1.0",
         null,
         null,
         null,
         null,
         null,
         null,
         null,
         "1",
         "3",
         "2818.2",
         null,
         null,
         "15",
         "4.0",
         "16.0",
         "5",
         "혼자",
         "혼자",
         "홍콩",
         "30~50대",
         "50대"
        ],
        [
         "4",
         "1",
         "71",
         "1",
         "1.0",
         null,
         null,
         null,
         null,
         null,
         null,
         null,
         "1",
         "2",
         "1646.16",
         null,
         null,
         "2",
         "4.0",
         "1.0",
         "4",
         "혼자",
         "혼자",
         "중국",
         "30~50대",
         "40대"
        ],
        [
         "5",
         "5",
         "5",
         "2",
         null,
         null,
         null,
         null,
         null,
         "6.0",
         null,
         null,
         "1",
         "1",
         "1140.09",
         null,
         null,
         "5",
         "1.0",
         "11.0",
         "4",
         "친구",
         "친구",
         "홍콩",
         "30~50대",
         "40대"
        ],
        [
         "7",
         "5",
         "8",
         "1",
         "1.0",
         null,
         null,
         null,
         null,
         null,
         null,
         null,
         "1",
         "3",
         "2075.22",
         null,
         null,
         "17",
         "2.0",
         null,
         "2",
         "혼자",
         "혼자",
         "홍콩",
         "20대",
         "20대"
        ],
        [
         "9",
         "3",
         "8",
         "2",
         null,
         null,
         null,
         null,
         null,
         "6.0",
         null,
         null,
         "1",
         "1",
         "1336.6",
         "3.0",
         null,
         "2",
         "3.0",
         "1.0",
         "2",
         "친구",
         "친구",
         "대만",
         "20대",
         "20대"
        ],
        [
         "10",
         "4",
         "7",
         "1",
         "1.0",
         null,
         null,
         null,
         null,
         null,
         null,
         null,
         "1",
         "1",
         "1430.0",
         null,
         null,
         "7",
         "4.0",
         null,
         "2",
         "혼자",
         "혼자",
         "미국",
         "20대",
         "20대"
        ],
        [
         "11",
         "3",
         "6",
         "2",
         null,
         null,
         null,
         "4.0",
         null,
         null,
         null,
         null,
         "1",
         "1",
         "1401.8",
         null,
         null,
         "2",
         "1.0",
         null,
         "3",
         "가족",
         "자녀",
         "대만",
         "30~50대",
         "30대"
        ],
        [
         "12",
         "5",
         "6",
         "2",
         null,
         null,
         null,
         null,
         null,
         "6.0",
         null,
         null,
         "1",
         "1",
         "1790.84",
         "3.0",
         null,
         "3",
         "2.0",
         "15.0",
         "3",
         "친구",
         "친구",
         "홍콩",
         "30~50대",
         "30대"
        ],
        [
         "13",
         "3",
         "6",
         "2",
         null,
         "2.0",
         null,
         null,
         null,
         null,
         null,
         null,
         "1",
         "1",
         "805.22",
         "3.0",
         null,
         "3",
         "1.0",
         "2.0",
         "2",
         "가족",
         "배우자/파트너",
         "대만",
         "20대",
         "20대"
        ],
        [
         "14",
         "3",
         "5",
         "2",
         null,
         null,
         null,
         null,
         null,
         "6.0",
         null,
         null,
         "3",
         "1",
         "1352.9",
         "3.0",
         null,
         "3",
         "1.0",
         "8.0",
         "3",
         "친구",
         "친구",
         "대만",
         "30~50대",
         "30대"
        ],
        [
         "17",
         "1",
         "7",
         "2",
         null,
         "2.0",
         null,
         null,
         null,
         null,
         null,
         null,
         "1",
         "2",
         "1480.1",
         null,
         null,
         "2",
         "1.0",
         "6.0",
         "2",
         "가족",
         "배우자/파트너",
         "중국",
         "20대",
         "20대"
        ],
        [
         "18",
         "5",
         "7",
         "2",
         null,
         "2.0",
         null,
         "4.0",
         null,
         null,
         null,
         null,
         "1",
         "2",
         "1537.2",
         null,
         null,
         "2",
         "1.0",
         "14.0",
         "4",
         "가족",
         "배우자/파트너",
         "홍콩",
         "30~50대",
         "40대"
        ],
        [
         "19",
         "3",
         "5",
         "2",
         null,
         null,
         null,
         "4.0",
         null,
         null,
         null,
         null,
         "3",
         "1",
         "1630.0",
         "3.0",
         null,
         "8",
         "11.0",
         "3.0",
         "4",
         "가족",
         "자녀",
         "대만",
         "30~50대",
         "40대"
        ],
        [
         "21",
         "16",
         "7",
         "1",
         "1.0",
         null,
         null,
         null,
         null,
         null,
         null,
         null,
         "1",
         "2",
         "2145.26",
         "3.0",
         null,
         "1",
         "2.0",
         "3.0",
         "4",
         "혼자",
         "혼자",
         "영국",
         "30~50대",
         "40대"
        ],
        [
         "23",
         "7",
         "3",
         "1",
         "1.0",
         null,
         null,
         null,
         null,
         null,
         null,
         null,
         "1",
         "1",
         "733.44",
         "3.0",
         null,
         "4",
         "2.0",
         "3.0",
         "2",
         "혼자",
         "혼자",
         "베트남",
         "20대",
         "20대"
        ],
        [
         "24",
         "1",
         "11",
         "1",
         "1.0",
         null,
         null,
         null,
         null,
         null,
         null,
         null,
         "1",
         "2",
         "1173.5",
         null,
         null,
         "2",
         null,
         null,
         "2",
         "혼자",
         "혼자",
         "중국",
         "20대",
         "20대"
        ],
        [
         "25",
         "2",
         "4",
         "2",
         null,
         null,
         null,
         null,
         null,
         "6.0",
         null,
         null,
         "1",
         "1",
         "319.2",
         null,
         null,
         "11",
         null,
         null,
         "2",
         "친구",
         "친구",
         "일본",
         "20대",
         "20대"
        ],
        [
         "29",
         "10",
         "4",
         "1",
         "1.0",
         null,
         null,
         null,
         null,
         null,
         null,
         null,
         "1",
         "1",
         "144.4",
         null,
         null,
         "15",
         "8.0",
         "1.0",
         "3",
         "혼자",
         "혼자",
         "싱가포르",
         "30~50대",
         "30대"
        ],
        [
         "30",
         "6",
         "4",
         "2",
         null,
         null,
         null,
         null,
         null,
         null,
         "7.0",
         null,
         "1",
         "1",
         "5632.58",
         null,
         null,
         "2",
         "4.0",
         "1.0",
         "4",
         "직장동료",
         "직장동료",
         "태국",
         "30~50대",
         "40대"
        ],
        [
         "32",
         "10",
         "10",
         "2",
         null,
         "2.0",
         null,
         "4.0",
         null,
         null,
         null,
         null,
         "1",
         "1",
         "4222.23",
         null,
         "12.0",
         "1",
         "12.0",
         "2.0",
         "3",
         "가족",
         "배우자/파트너",
         "싱가포르",
         "30~50대",
         "30대"
        ],
        [
         "34",
         "4",
         "10",
         "2",
         null,
         null,
         "3.0",
         null,
         null,
         null,
         null,
         null,
         "1",
         "1",
         "910.0",
         "3.0",
         null,
         "9",
         "1.0",
         "4.0",
         "3",
         "가족",
         "부모님",
         "미국",
         "30~50대",
         "30대"
        ],
        [
         "35",
         "2",
         "4",
         "1",
         "1.0",
         null,
         null,
         null,
         null,
         null,
         null,
         null,
         "1",
         "1",
         "638.4",
         null,
         null,
         "1",
         "2.0",
         null,
         "5",
         "혼자",
         "혼자",
         "일본",
         "30~50대",
         "50대"
        ],
        [
         "36",
         "1",
         "8",
         "2",
         null,
         null,
         "3.0",
         null,
         null,
         null,
         null,
         null,
         "1",
         "2",
         "1111.88",
         "3.0",
         null,
         "1",
         "2.0",
         "3.0",
         "1",
         "가족",
         "부모님",
         "중국",
         "10대",
         "10대"
        ],
        [
         "37",
         "5",
         "7",
         "2",
         null,
         "2.0",
         null,
         "4.0",
         null,
         null,
         null,
         null,
         "2",
         "1",
         "1477.42",
         "3.0",
         null,
         "6",
         "3.0",
         "2.0",
         "3",
         "가족",
         "배우자/파트너",
         "홍콩",
         "30~50대",
         "30대"
        ],
        [
         "38",
         "10",
         "7",
         "2",
         null,
         "2.0",
         "3.0",
         "4.0",
         "5.0",
         null,
         null,
         null,
         "1",
         "1",
         "1095.3",
         null,
         null,
         "2",
         "11.0",
         "6.0",
         "4",
         "가족",
         "배우자/파트너",
         "싱가포르",
         "30~50대",
         "40대"
        ],
        [
         "39",
         "10",
         "7",
         "2",
         null,
         null,
         null,
         null,
         "5.0",
         null,
         null,
         null,
         "1",
         "1",
         "1092.81",
         "3.0",
         null,
         "2",
         "3.0",
         "4.0",
         "3",
         "가족",
         "그 외 가족 친지",
         "싱가포르",
         "30~50대",
         "30대"
        ],
        [
         "40",
         "10",
         "7",
         "2",
         null,
         "2.0",
         "3.0",
         "4.0",
         null,
         null,
         null,
         null,
         "1",
         "1",
         "4743.8",
         "3.0",
         null,
         "15",
         "4.0",
         "3.0",
         "3",
         "가족",
         "배우자/파트너",
         "싱가포르",
         "30~50대",
         "30대"
        ],
        [
         "42",
         "5",
         "15",
         "1",
         "1.0",
         null,
         null,
         null,
         null,
         null,
         null,
         null,
         "1",
         "1",
         "486.78",
         null,
         null,
         "5",
         "11.0",
         "6.0",
         "3",
         "혼자",
         "혼자",
         "홍콩",
         "30~50대",
         "30대"
        ],
        [
         "45",
         "1",
         "24",
         "2",
         null,
         null,
         null,
         "4.0",
         null,
         null,
         null,
         null,
         "1",
         "2",
         "1010.8",
         "3.0",
         null,
         "3",
         "2.0",
         null,
         "4",
         "가족",
         "자녀",
         "중국",
         "30~50대",
         "40대"
        ],
        [
         "46",
         "10",
         "6",
         "2",
         null,
         "2.0",
         "3.0",
         "4.0",
         null,
         null,
         null,
         null,
         "1",
         "1",
         "1583.34",
         "3.0",
         null,
         "2",
         "15.0",
         "3.0",
         "2",
         "가족",
         "배우자/파트너",
         "싱가포르",
         "20대",
         "20대"
        ],
        [
         "48",
         "10",
         "7",
         "2",
         null,
         null,
         "3.0",
         "4.0",
         null,
         null,
         null,
         null,
         "2",
         "2",
         "2210.46",
         "3.0",
         null,
         "15",
         "2.0",
         "1.0",
         "4",
         "가족",
         "부모님",
         "싱가포르",
         "30~50대",
         "40대"
        ],
        [
         "50",
         "1",
         "6",
         "1",
         "1.0",
         null,
         null,
         null,
         null,
         null,
         null,
         null,
         "1",
         "2",
         "1083.0",
         null,
         null,
         "1",
         "2.0",
         null,
         "3",
         "혼자",
         "혼자",
         "중국",
         "30~50대",
         "30대"
        ],
        [
         "51",
         "6",
         "8",
         "2",
         null,
         "2.0",
         null,
         null,
         null,
         null,
         null,
         null,
         "1",
         "1",
         "960.93",
         null,
         null,
         "2",
         "1.0",
         "4.0",
         "3",
         "가족",
         "배우자/파트너",
         "태국",
         "30~50대",
         "30대"
        ],
        [
         "52",
         "6",
         "17",
         "1",
         "1.0",
         null,
         null,
         null,
         null,
         null,
         null,
         null,
         "1",
         "1",
         "2225.3",
         "3.0",
         null,
         "10",
         "3.0",
         "2.0",
         "2",
         "혼자",
         "혼자",
         "태국",
         "20대",
         "20대"
        ],
        [
         "53",
         "6",
         "4",
         "2",
         null,
         null,
         null,
         null,
         null,
         "6.0",
         null,
         null,
         "1",
         "1",
         "1325.07",
         null,
         null,
         "2",
         "7.0",
         null,
         "4",
         "친구",
         "친구",
         "태국",
         "30~50대",
         "40대"
        ],
        [
         "54",
         "1",
         "6",
         "1",
         "1.0",
         null,
         null,
         null,
         null,
         null,
         null,
         null,
         "1",
         "1",
         "5000.0",
         null,
         null,
         "8",
         "10.0",
         "2.0",
         "2",
         "혼자",
         "혼자",
         "중국",
         "20대",
         "20대"
        ],
        [
         "55",
         "2",
         "7",
         "2",
         null,
         null,
         null,
         null,
         null,
         "6.0",
         null,
         null,
         "1",
         "1",
         "779.0",
         null,
         null,
         "2",
         "1.0",
         "4.0",
         "3",
         "친구",
         "친구",
         "일본",
         "30~50대",
         "30대"
        ],
        [
         "56",
         "6",
         "6",
         "2",
         null,
         null,
         null,
         null,
         "5.0",
         null,
         null,
         null,
         "1",
         "1",
         "1502.8",
         null,
         null,
         "5",
         "2.0",
         "1.0",
         "3",
         "가족",
         "그 외 가족 친지",
         "태국",
         "30~50대",
         "30대"
        ],
        [
         "57",
         "1",
         "11",
         "1",
         "1.0",
         null,
         null,
         null,
         null,
         null,
         null,
         null,
         "1",
         "2",
         "736.44",
         null,
         null,
         "2",
         "1.0",
         null,
         "3",
         "혼자",
         "혼자",
         "중국",
         "30~50대",
         "30대"
        ],
        [
         "58",
         "1",
         "26",
         "1",
         "1.0",
         null,
         null,
         null,
         null,
         null,
         null,
         null,
         "1",
         "3",
         "2194.88",
         null,
         null,
         "17",
         "1.0",
         "2.0",
         "5",
         "혼자",
         "혼자",
         "중국",
         "30~50대",
         "50대"
        ],
        [
         "59",
         "6",
         "5",
         "2",
         null,
         null,
         "3.0",
         null,
         null,
         null,
         null,
         null,
         "1",
         "1",
         "752.85",
         "3.0",
         null,
         "2",
         "1.0",
         "3.0",
         "6",
         "가족",
         "부모님",
         "태국",
         "60대 이상",
         "60대 이상"
        ],
        [
         "60",
         "4",
         "5",
         "2",
         null,
         "2.0",
         null,
         null,
         null,
         null,
         null,
         null,
         "1",
         "1",
         "1365.0",
         "3.0",
         "12.0",
         "11",
         "2.0",
         "1.0",
         "6",
         "가족",
         "배우자/파트너",
         "미국",
         "60대 이상",
         "60대 이상"
        ],
        [
         "61",
         "1",
         "13",
         "1",
         "1.0",
         null,
         null,
         null,
         null,
         null,
         null,
         null,
         "1",
         "2",
         "1351.07",
         null,
         null,
         "13",
         "1.0",
         "2.0",
         "4",
         "혼자",
         "혼자",
         "중국",
         "30~50대",
         "40대"
        ],
        [
         "63",
         "1",
         "15",
         "2",
         null,
         null,
         null,
         "4.0",
         null,
         null,
         null,
         null,
         "1",
         "2",
         "1724.22",
         null,
         null,
         "11",
         "2.0",
         null,
         "3",
         "가족",
         "자녀",
         "중국",
         "30~50대",
         "30대"
        ],
        [
         "64",
         "4",
         "13",
         "2",
         null,
         "2.0",
         null,
         null,
         null,
         null,
         null,
         null,
         "1",
         "2",
         "980.0",
         "3.0",
         null,
         "4",
         "2.0",
         "3.0",
         "5",
         "가족",
         "배우자/파트너",
         "미국",
         "30~50대",
         "50대"
        ],
        [
         "65",
         "7",
         "4",
         "2",
         null,
         null,
         "3.0",
         null,
         null,
         "6.0",
         null,
         null,
         "3",
         "1",
         "1265.0",
         null,
         "12.0",
         "8",
         "1.0",
         "2.0",
         "1",
         "가족",
         "부모님",
         "베트남",
         "10대",
         "10대"
        ],
        [
         "70",
         "4",
         "6",
         "1",
         "1.0",
         null,
         null,
         null,
         null,
         null,
         null,
         null,
         "1",
         "2",
         "930.0",
         null,
         null,
         "1",
         "10.0",
         "5.0",
         "3",
         "혼자",
         "혼자",
         "미국",
         "30~50대",
         "30대"
        ]
       ],
       "shape": {
        "columns": 25,
        "rows": 10911
       }
      },
      "text/html": [
       "<div>\n",
       "<style scoped>\n",
       "    .dataframe tbody tr th:only-of-type {\n",
       "        vertical-align: middle;\n",
       "    }\n",
       "\n",
       "    .dataframe tbody tr th {\n",
       "        vertical-align: top;\n",
       "    }\n",
       "\n",
       "    .dataframe thead th {\n",
       "        text-align: right;\n",
       "    }\n",
       "</style>\n",
       "<table border=\"1\" class=\"dataframe\">\n",
       "  <thead>\n",
       "    <tr style=\"text-align: right;\">\n",
       "      <th></th>\n",
       "      <th>D_NAT</th>\n",
       "      <th>M일HAP</th>\n",
       "      <th>Q7A</th>\n",
       "      <th>Q7a_dk</th>\n",
       "      <th>Q7a2</th>\n",
       "      <th>Q7a3</th>\n",
       "      <th>Q7a4</th>\n",
       "      <th>Q7a5</th>\n",
       "      <th>Q7a6</th>\n",
       "      <th>Q7a7</th>\n",
       "      <th>...</th>\n",
       "      <th>Q8a12</th>\n",
       "      <th>Q8_1a1</th>\n",
       "      <th>Q8_1a2</th>\n",
       "      <th>Q8_1a3</th>\n",
       "      <th>D_AGE</th>\n",
       "      <th>동행자_단순</th>\n",
       "      <th>동행자_세분화</th>\n",
       "      <th>국가명</th>\n",
       "      <th>연령대_단순</th>\n",
       "      <th>연령대_세분화</th>\n",
       "    </tr>\n",
       "  </thead>\n",
       "  <tbody>\n",
       "    <tr>\n",
       "      <th>0</th>\n",
       "      <td>3</td>\n",
       "      <td>27</td>\n",
       "      <td>1</td>\n",
       "      <td>1.0</td>\n",
       "      <td>NaN</td>\n",
       "      <td>NaN</td>\n",
       "      <td>NaN</td>\n",
       "      <td>NaN</td>\n",
       "      <td>NaN</td>\n",
       "      <td>NaN</td>\n",
       "      <td>...</td>\n",
       "      <td>NaN</td>\n",
       "      <td>8</td>\n",
       "      <td>1.0</td>\n",
       "      <td>2.0</td>\n",
       "      <td>2</td>\n",
       "      <td>혼자</td>\n",
       "      <td>혼자</td>\n",
       "      <td>대만</td>\n",
       "      <td>20대</td>\n",
       "      <td>20대</td>\n",
       "    </tr>\n",
       "    <tr>\n",
       "      <th>1</th>\n",
       "      <td>1</td>\n",
       "      <td>7</td>\n",
       "      <td>1</td>\n",
       "      <td>1.0</td>\n",
       "      <td>NaN</td>\n",
       "      <td>NaN</td>\n",
       "      <td>NaN</td>\n",
       "      <td>NaN</td>\n",
       "      <td>NaN</td>\n",
       "      <td>NaN</td>\n",
       "      <td>...</td>\n",
       "      <td>NaN</td>\n",
       "      <td>11</td>\n",
       "      <td>2.0</td>\n",
       "      <td>3.0</td>\n",
       "      <td>3</td>\n",
       "      <td>혼자</td>\n",
       "      <td>혼자</td>\n",
       "      <td>중국</td>\n",
       "      <td>30~50대</td>\n",
       "      <td>30대</td>\n",
       "    </tr>\n",
       "    <tr>\n",
       "      <th>2</th>\n",
       "      <td>4</td>\n",
       "      <td>2</td>\n",
       "      <td>1</td>\n",
       "      <td>1.0</td>\n",
       "      <td>NaN</td>\n",
       "      <td>NaN</td>\n",
       "      <td>NaN</td>\n",
       "      <td>NaN</td>\n",
       "      <td>NaN</td>\n",
       "      <td>NaN</td>\n",
       "      <td>...</td>\n",
       "      <td>NaN</td>\n",
       "      <td>1</td>\n",
       "      <td>NaN</td>\n",
       "      <td>NaN</td>\n",
       "      <td>1</td>\n",
       "      <td>혼자</td>\n",
       "      <td>혼자</td>\n",
       "      <td>미국</td>\n",
       "      <td>10대</td>\n",
       "      <td>10대</td>\n",
       "    </tr>\n",
       "    <tr>\n",
       "      <th>3</th>\n",
       "      <td>5</td>\n",
       "      <td>8</td>\n",
       "      <td>1</td>\n",
       "      <td>1.0</td>\n",
       "      <td>NaN</td>\n",
       "      <td>NaN</td>\n",
       "      <td>NaN</td>\n",
       "      <td>NaN</td>\n",
       "      <td>NaN</td>\n",
       "      <td>NaN</td>\n",
       "      <td>...</td>\n",
       "      <td>NaN</td>\n",
       "      <td>15</td>\n",
       "      <td>4.0</td>\n",
       "      <td>16.0</td>\n",
       "      <td>5</td>\n",
       "      <td>혼자</td>\n",
       "      <td>혼자</td>\n",
       "      <td>홍콩</td>\n",
       "      <td>30~50대</td>\n",
       "      <td>50대</td>\n",
       "    </tr>\n",
       "    <tr>\n",
       "      <th>4</th>\n",
       "      <td>1</td>\n",
       "      <td>71</td>\n",
       "      <td>1</td>\n",
       "      <td>1.0</td>\n",
       "      <td>NaN</td>\n",
       "      <td>NaN</td>\n",
       "      <td>NaN</td>\n",
       "      <td>NaN</td>\n",
       "      <td>NaN</td>\n",
       "      <td>NaN</td>\n",
       "      <td>...</td>\n",
       "      <td>NaN</td>\n",
       "      <td>2</td>\n",
       "      <td>4.0</td>\n",
       "      <td>1.0</td>\n",
       "      <td>4</td>\n",
       "      <td>혼자</td>\n",
       "      <td>혼자</td>\n",
       "      <td>중국</td>\n",
       "      <td>30~50대</td>\n",
       "      <td>40대</td>\n",
       "    </tr>\n",
       "    <tr>\n",
       "      <th>...</th>\n",
       "      <td>...</td>\n",
       "      <td>...</td>\n",
       "      <td>...</td>\n",
       "      <td>...</td>\n",
       "      <td>...</td>\n",
       "      <td>...</td>\n",
       "      <td>...</td>\n",
       "      <td>...</td>\n",
       "      <td>...</td>\n",
       "      <td>...</td>\n",
       "      <td>...</td>\n",
       "      <td>...</td>\n",
       "      <td>...</td>\n",
       "      <td>...</td>\n",
       "      <td>...</td>\n",
       "      <td>...</td>\n",
       "      <td>...</td>\n",
       "      <td>...</td>\n",
       "      <td>...</td>\n",
       "      <td>...</td>\n",
       "      <td>...</td>\n",
       "    </tr>\n",
       "    <tr>\n",
       "      <th>16191</th>\n",
       "      <td>1</td>\n",
       "      <td>6</td>\n",
       "      <td>2</td>\n",
       "      <td>NaN</td>\n",
       "      <td>NaN</td>\n",
       "      <td>NaN</td>\n",
       "      <td>NaN</td>\n",
       "      <td>NaN</td>\n",
       "      <td>6.0</td>\n",
       "      <td>NaN</td>\n",
       "      <td>...</td>\n",
       "      <td>12.0</td>\n",
       "      <td>11</td>\n",
       "      <td>10.0</td>\n",
       "      <td>12.0</td>\n",
       "      <td>4</td>\n",
       "      <td>친구</td>\n",
       "      <td>친구</td>\n",
       "      <td>중국</td>\n",
       "      <td>30~50대</td>\n",
       "      <td>40대</td>\n",
       "    </tr>\n",
       "    <tr>\n",
       "      <th>16192</th>\n",
       "      <td>1</td>\n",
       "      <td>5</td>\n",
       "      <td>2</td>\n",
       "      <td>NaN</td>\n",
       "      <td>NaN</td>\n",
       "      <td>NaN</td>\n",
       "      <td>NaN</td>\n",
       "      <td>NaN</td>\n",
       "      <td>6.0</td>\n",
       "      <td>NaN</td>\n",
       "      <td>...</td>\n",
       "      <td>NaN</td>\n",
       "      <td>3</td>\n",
       "      <td>2.0</td>\n",
       "      <td>1.0</td>\n",
       "      <td>3</td>\n",
       "      <td>친구</td>\n",
       "      <td>친구</td>\n",
       "      <td>중국</td>\n",
       "      <td>30~50대</td>\n",
       "      <td>30대</td>\n",
       "    </tr>\n",
       "    <tr>\n",
       "      <th>16193</th>\n",
       "      <td>1</td>\n",
       "      <td>4</td>\n",
       "      <td>2</td>\n",
       "      <td>NaN</td>\n",
       "      <td>NaN</td>\n",
       "      <td>NaN</td>\n",
       "      <td>NaN</td>\n",
       "      <td>NaN</td>\n",
       "      <td>6.0</td>\n",
       "      <td>NaN</td>\n",
       "      <td>...</td>\n",
       "      <td>NaN</td>\n",
       "      <td>3</td>\n",
       "      <td>4.0</td>\n",
       "      <td>9.0</td>\n",
       "      <td>3</td>\n",
       "      <td>친구</td>\n",
       "      <td>친구</td>\n",
       "      <td>중국</td>\n",
       "      <td>30~50대</td>\n",
       "      <td>30대</td>\n",
       "    </tr>\n",
       "    <tr>\n",
       "      <th>16194</th>\n",
       "      <td>1</td>\n",
       "      <td>4</td>\n",
       "      <td>2</td>\n",
       "      <td>NaN</td>\n",
       "      <td>NaN</td>\n",
       "      <td>NaN</td>\n",
       "      <td>NaN</td>\n",
       "      <td>NaN</td>\n",
       "      <td>6.0</td>\n",
       "      <td>NaN</td>\n",
       "      <td>...</td>\n",
       "      <td>NaN</td>\n",
       "      <td>3</td>\n",
       "      <td>1.0</td>\n",
       "      <td>2.0</td>\n",
       "      <td>4</td>\n",
       "      <td>친구</td>\n",
       "      <td>친구</td>\n",
       "      <td>중국</td>\n",
       "      <td>30~50대</td>\n",
       "      <td>40대</td>\n",
       "    </tr>\n",
       "    <tr>\n",
       "      <th>16195</th>\n",
       "      <td>1</td>\n",
       "      <td>4</td>\n",
       "      <td>2</td>\n",
       "      <td>NaN</td>\n",
       "      <td>NaN</td>\n",
       "      <td>NaN</td>\n",
       "      <td>NaN</td>\n",
       "      <td>NaN</td>\n",
       "      <td>6.0</td>\n",
       "      <td>NaN</td>\n",
       "      <td>...</td>\n",
       "      <td>NaN</td>\n",
       "      <td>3</td>\n",
       "      <td>1.0</td>\n",
       "      <td>2.0</td>\n",
       "      <td>5</td>\n",
       "      <td>친구</td>\n",
       "      <td>친구</td>\n",
       "      <td>중국</td>\n",
       "      <td>30~50대</td>\n",
       "      <td>50대</td>\n",
       "    </tr>\n",
       "  </tbody>\n",
       "</table>\n",
       "<p>10911 rows × 25 columns</p>\n",
       "</div>"
      ],
      "text/plain": [
       "       D_NAT  M일HAP  Q7A  Q7a_dk  Q7a2  Q7a3  Q7a4  Q7a5  Q7a6  Q7a7  ...  \\\n",
       "0          3     27    1     1.0   NaN   NaN   NaN   NaN   NaN   NaN  ...   \n",
       "1          1      7    1     1.0   NaN   NaN   NaN   NaN   NaN   NaN  ...   \n",
       "2          4      2    1     1.0   NaN   NaN   NaN   NaN   NaN   NaN  ...   \n",
       "3          5      8    1     1.0   NaN   NaN   NaN   NaN   NaN   NaN  ...   \n",
       "4          1     71    1     1.0   NaN   NaN   NaN   NaN   NaN   NaN  ...   \n",
       "...      ...    ...  ...     ...   ...   ...   ...   ...   ...   ...  ...   \n",
       "16191      1      6    2     NaN   NaN   NaN   NaN   NaN   6.0   NaN  ...   \n",
       "16192      1      5    2     NaN   NaN   NaN   NaN   NaN   6.0   NaN  ...   \n",
       "16193      1      4    2     NaN   NaN   NaN   NaN   NaN   6.0   NaN  ...   \n",
       "16194      1      4    2     NaN   NaN   NaN   NaN   NaN   6.0   NaN  ...   \n",
       "16195      1      4    2     NaN   NaN   NaN   NaN   NaN   6.0   NaN  ...   \n",
       "\n",
       "       Q8a12  Q8_1a1  Q8_1a2  Q8_1a3  D_AGE  동행자_단순  동행자_세분화  국가명  연령대_단순  \\\n",
       "0        NaN       8     1.0     2.0      2      혼자       혼자   대만     20대   \n",
       "1        NaN      11     2.0     3.0      3      혼자       혼자   중국  30~50대   \n",
       "2        NaN       1     NaN     NaN      1      혼자       혼자   미국     10대   \n",
       "3        NaN      15     4.0    16.0      5      혼자       혼자   홍콩  30~50대   \n",
       "4        NaN       2     4.0     1.0      4      혼자       혼자   중국  30~50대   \n",
       "...      ...     ...     ...     ...    ...     ...      ...  ...     ...   \n",
       "16191   12.0      11    10.0    12.0      4      친구       친구   중국  30~50대   \n",
       "16192    NaN       3     2.0     1.0      3      친구       친구   중국  30~50대   \n",
       "16193    NaN       3     4.0     9.0      3      친구       친구   중국  30~50대   \n",
       "16194    NaN       3     1.0     2.0      4      친구       친구   중국  30~50대   \n",
       "16195    NaN       3     1.0     2.0      5      친구       친구   중국  30~50대   \n",
       "\n",
       "       연령대_세분화  \n",
       "0          20대  \n",
       "1          30대  \n",
       "2          10대  \n",
       "3          50대  \n",
       "4          40대  \n",
       "...        ...  \n",
       "16191      40대  \n",
       "16192      30대  \n",
       "16193      30대  \n",
       "16194      40대  \n",
       "16195      50대  \n",
       "\n",
       "[10911 rows x 25 columns]"
      ]
     },
     "execution_count": 15,
     "metadata": {},
     "output_type": "execute_result"
    }
   ],
   "source": [
    "df"
   ]
  },
  {
   "cell_type": "markdown",
   "id": "a759e56f",
   "metadata": {},
   "source": [
    "### 체류일수 및 총지출 0 이하 제거"
   ]
  },
  {
   "cell_type": "code",
   "execution_count": 17,
   "id": "339a9a49",
   "metadata": {},
   "outputs": [],
   "source": [
    "df = df[(df['M일HAP'] > 0) & (df['총액1인TOT항공제외2'] > 0)]"
   ]
  },
  {
   "cell_type": "markdown",
   "id": "8f2a58e8",
   "metadata": {},
   "source": [
    "### 웰니스 활동 참여 여부 파생변수 생성"
   ]
  },
  {
   "cell_type": "code",
   "execution_count": 18,
   "metadata": {},
   "outputs": [
    {
     "data": {
      "text/plain": [
       "dtype('float64')"
      ]
     },
     "execution_count": 18,
     "metadata": {},
     "output_type": "execute_result"
    }
   ],
   "source": [
    "df['Q8a03'].dtype"
   ]
  },
  {
   "cell_type": "code",
   "execution_count": 19,
   "metadata": {},
   "outputs": [
    {
     "data": {
      "text/plain": [
       "dtype('float64')"
      ]
     },
     "execution_count": 19,
     "metadata": {},
     "output_type": "execute_result"
    }
   ],
   "source": [
    "df['Q8a12'].dtype"
   ]
  },
  {
   "cell_type": "code",
   "execution_count": 20,
   "metadata": {},
   "outputs": [],
   "source": [
    "df['웰니스참여'] = ((df['Q8a03'] == 3) | (df['Q8a12'] == 12)).astype(int)"
   ]
  },
  {
   "cell_type": "code",
   "execution_count": 21,
   "metadata": {},
   "outputs": [
    {
     "data": {
      "application/vnd.microsoft.datawrangler.viewer.v0+json": {
       "columns": [
        {
         "name": "웰니스참여",
         "rawType": "int64",
         "type": "integer"
        },
        {
         "name": "count",
         "rawType": "int64",
         "type": "integer"
        }
       ],
       "ref": "456bce15-8aa5-44d3-8792-1119befc36d5",
       "rows": [
        [
         "1",
         "6078"
        ],
        [
         "0",
         "4833"
        ]
       ],
       "shape": {
        "columns": 1,
        "rows": 2
       }
      },
      "text/plain": [
       "웰니스참여\n",
       "1    6078\n",
       "0    4833\n",
       "Name: count, dtype: int64"
      ]
     },
     "execution_count": 21,
     "metadata": {},
     "output_type": "execute_result"
    }
   ],
   "source": [
    "df['웰니스참여'].value_counts()"
   ]
  },
  {
   "cell_type": "code",
   "execution_count": 22,
   "metadata": {},
   "outputs": [
    {
     "data": {
      "application/vnd.microsoft.datawrangler.viewer.v0+json": {
       "columns": [
        {
         "name": "Q8_1a1",
         "rawType": "int64",
         "type": "integer"
        },
        {
         "name": "count",
         "rawType": "int64",
         "type": "integer"
        }
       ],
       "ref": "d7e6b65d-106b-446a-a711-c483a7e1df38",
       "rows": [
        [
         "2",
         "2174"
        ],
        [
         "1",
         "1985"
        ],
        [
         "3",
         "1430"
        ],
        [
         "4",
         "1156"
        ],
        [
         "17",
         "797"
        ],
        [
         "7",
         "605"
        ],
        [
         "11",
         "425"
        ],
        [
         "5",
         "355"
        ],
        [
         "6",
         "351"
        ],
        [
         "10",
         "309"
        ],
        [
         "12",
         "269"
        ],
        [
         "18",
         "229"
        ],
        [
         "13",
         "189"
        ],
        [
         "19",
         "170"
        ],
        [
         "15",
         "123"
        ],
        [
         "8",
         "111"
        ],
        [
         "16",
         "106"
        ],
        [
         "14",
         "64"
        ],
        [
         "9",
         "63"
        ]
       ],
       "shape": {
        "columns": 1,
        "rows": 19
       }
      },
      "text/plain": [
       "Q8_1a1\n",
       "2     2174\n",
       "1     1985\n",
       "3     1430\n",
       "4     1156\n",
       "17     797\n",
       "7      605\n",
       "11     425\n",
       "5      355\n",
       "6      351\n",
       "10     309\n",
       "12     269\n",
       "18     229\n",
       "13     189\n",
       "19     170\n",
       "15     123\n",
       "8      111\n",
       "16     106\n",
       "14      64\n",
       "9       63\n",
       "Name: count, dtype: int64"
      ]
     },
     "execution_count": 22,
     "metadata": {},
     "output_type": "execute_result"
    }
   ],
   "source": [
    "df['Q8_1a1'].value_counts()"
   ]
  },
  {
   "cell_type": "code",
   "execution_count": 23,
   "metadata": {},
   "outputs": [
    {
     "data": {
      "application/vnd.microsoft.datawrangler.viewer.v0+json": {
       "columns": [
        {
         "name": "Q8_1a2",
         "rawType": "float64",
         "type": "float"
        },
        {
         "name": "count",
         "rawType": "int64",
         "type": "integer"
        }
       ],
       "ref": "4f7679d5-c714-491c-82f0-83d6bde847e1",
       "rows": [
        [
         "1.0",
         "2843"
        ],
        [
         "2.0",
         "2719"
        ],
        [
         "3.0",
         "1361"
        ],
        [
         "4.0",
         "1078"
        ],
        [
         "6.0",
         "439"
        ],
        [
         "5.0",
         "321"
        ],
        [
         "11.0",
         "265"
        ],
        [
         "10.0",
         "245"
        ],
        [
         "12.0",
         "181"
        ],
        [
         "7.0",
         "154"
        ],
        [
         "17.0",
         "139"
        ],
        [
         "13.0",
         "69"
        ],
        [
         "15.0",
         "62"
        ],
        [
         "8.0",
         "60"
        ],
        [
         "9.0",
         "56"
        ],
        [
         "14.0",
         "42"
        ],
        [
         "16.0",
         "34"
        ],
        [
         "18.0",
         "34"
        ],
        [
         "19.0",
         "6"
        ]
       ],
       "shape": {
        "columns": 1,
        "rows": 19
       }
      },
      "text/plain": [
       "Q8_1a2\n",
       "1.0     2843\n",
       "2.0     2719\n",
       "3.0     1361\n",
       "4.0     1078\n",
       "6.0      439\n",
       "5.0      321\n",
       "11.0     265\n",
       "10.0     245\n",
       "12.0     181\n",
       "7.0      154\n",
       "17.0     139\n",
       "13.0      69\n",
       "15.0      62\n",
       "8.0       60\n",
       "9.0       56\n",
       "14.0      42\n",
       "16.0      34\n",
       "18.0      34\n",
       "19.0       6\n",
       "Name: count, dtype: int64"
      ]
     },
     "execution_count": 23,
     "metadata": {},
     "output_type": "execute_result"
    }
   ],
   "source": [
    "df['Q8_1a2'].value_counts()"
   ]
  },
  {
   "cell_type": "code",
   "execution_count": 24,
   "metadata": {},
   "outputs": [
    {
     "data": {
      "application/vnd.microsoft.datawrangler.viewer.v0+json": {
       "columns": [
        {
         "name": "Q8_1a3",
         "rawType": "float64",
         "type": "float"
        },
        {
         "name": "count",
         "rawType": "int64",
         "type": "integer"
        }
       ],
       "ref": "3fbd6890-57d3-454f-b9a7-c08e4e5a81cc",
       "rows": [
        [
         "2.0",
         "1938"
        ],
        [
         "1.0",
         "1678"
        ],
        [
         "3.0",
         "1301"
        ],
        [
         "4.0",
         "1055"
        ],
        [
         "6.0",
         "513"
        ],
        [
         "11.0",
         "370"
        ],
        [
         "5.0",
         "366"
        ],
        [
         "10.0",
         "289"
        ],
        [
         "12.0",
         "264"
        ],
        [
         "7.0",
         "187"
        ],
        [
         "17.0",
         "149"
        ],
        [
         "13.0",
         "89"
        ],
        [
         "8.0",
         "84"
        ],
        [
         "9.0",
         "69"
        ],
        [
         "15.0",
         "61"
        ],
        [
         "18.0",
         "43"
        ],
        [
         "14.0",
         "37"
        ],
        [
         "16.0",
         "23"
        ],
        [
         "19.0",
         "13"
        ]
       ],
       "shape": {
        "columns": 1,
        "rows": 19
       }
      },
      "text/plain": [
       "Q8_1a3\n",
       "2.0     1938\n",
       "1.0     1678\n",
       "3.0     1301\n",
       "4.0     1055\n",
       "6.0      513\n",
       "11.0     370\n",
       "5.0      366\n",
       "10.0     289\n",
       "12.0     264\n",
       "7.0      187\n",
       "17.0     149\n",
       "13.0      89\n",
       "8.0       84\n",
       "9.0       69\n",
       "15.0      61\n",
       "18.0      43\n",
       "14.0      37\n",
       "16.0      23\n",
       "19.0      13\n",
       "Name: count, dtype: int64"
      ]
     },
     "execution_count": 24,
     "metadata": {},
     "output_type": "execute_result"
    }
   ],
   "source": [
    "df['Q8_1a3'].value_counts()"
   ]
  },
  {
   "cell_type": "markdown",
   "id": "0e701e34",
   "metadata": {},
   "source": [
    "- 자연경관(3)은 Top3 만족 활동 중 매우 자주 등장 (총 4000회 이상)\n",
    "\n",
    "- 뷰티/미용(12)도 상대적으로 빈도는 적지만 분명히 선택되고 있음"
   ]
  },
  {
   "cell_type": "markdown",
   "id": "66eb39c4",
   "metadata": {},
   "source": [
    "### 웰니스 활동이 Top3 만족 활동에 포함된 총 응답자 수\n",
    "- 현재는 각 코드별 총 등장 수만 계산됨 -> 실제 몇 명이 ‘3 또는 12’를 한번 이상 선택했는지 계산"
   ]
  },
  {
   "cell_type": "code",
   "execution_count": 25,
   "id": "9e85f508",
   "metadata": {},
   "outputs": [
    {
     "data": {
      "application/vnd.microsoft.datawrangler.viewer.v0+json": {
       "columns": [
        {
         "name": "웰니스만족",
         "rawType": "int64",
         "type": "integer"
        },
        {
         "name": "count",
         "rawType": "int64",
         "type": "integer"
        }
       ],
       "ref": "533fb38e-fd23-48e4-94d1-e429e105a35f",
       "rows": [
        [
         "0",
         "6223"
        ],
        [
         "1",
         "4688"
        ]
       ],
       "shape": {
        "columns": 1,
        "rows": 2
       }
      },
      "text/plain": [
       "웰니스만족\n",
       "0    6223\n",
       "1    4688\n",
       "Name: count, dtype: int64"
      ]
     },
     "execution_count": 25,
     "metadata": {},
     "output_type": "execute_result"
    }
   ],
   "source": [
    "df['웰니스만족'] = df[['Q8_1a1', 'Q8_1a2', 'Q8_1a3']].apply(\n",
    "    lambda row: any(x in [3, 12] for x in row if pd.notnull(x)),\n",
    "    axis=1\n",
    ").astype(int)\n",
    "\n",
    "df['웰니스만족'].value_counts()"
   ]
  },
  {
   "cell_type": "markdown",
   "id": "92dd629f",
   "metadata": {},
   "source": [
    "### 여행 목적 컬럼 (D_MOK) 전처리\n",
    "- 여가/위락/힐링, 친구/친지 방문, 사업/전문 활동, 교육, 기타\n",
    "- 여가/힐링을 즐길 의사와 여건이 있었던 응답자만 포함"
   ]
  },
  {
   "cell_type": "code",
   "execution_count": 26,
   "id": "fe64995c",
   "metadata": {},
   "outputs": [
    {
     "data": {
      "text/plain": [
       "dtype('int64')"
      ]
     },
     "execution_count": 26,
     "metadata": {},
     "output_type": "execute_result"
    }
   ],
   "source": [
    "df['D_MOK'].dtype"
   ]
  },
  {
   "cell_type": "code",
   "execution_count": 27,
   "id": "c9b220d9",
   "metadata": {},
   "outputs": [],
   "source": [
    "df = df[df['D_MOK'].isin([1, 2])]"
   ]
  },
  {
   "cell_type": "code",
   "execution_count": 28,
   "id": "5aaebd6c",
   "metadata": {},
   "outputs": [
    {
     "data": {
      "application/vnd.microsoft.datawrangler.viewer.v0+json": {
       "columns": [
        {
         "name": "D_MOK",
         "rawType": "int64",
         "type": "integer"
        },
        {
         "name": "count",
         "rawType": "int64",
         "type": "integer"
        }
       ],
       "ref": "aef5e66c-8b62-45b0-9dcd-3c866329001d",
       "rows": [
        [
         "1",
         "6799"
        ],
        [
         "2",
         "1555"
        ]
       ],
       "shape": {
        "columns": 1,
        "rows": 2
       }
      },
      "text/plain": [
       "D_MOK\n",
       "1    6799\n",
       "2    1555\n",
       "Name: count, dtype: int64"
      ]
     },
     "execution_count": 28,
     "metadata": {},
     "output_type": "execute_result"
    }
   ],
   "source": [
    "df['D_MOK'].value_counts()"
   ]
  },
  {
   "cell_type": "code",
   "execution_count": 29,
   "metadata": {},
   "outputs": [
    {
     "name": "stdout",
     "output_type": "stream",
     "text": [
      "동행자_단순 결측치 수: 0\n",
      "동행자_단순 고유값 목록: ['혼자' '친구' '가족' '직장동료' '기타']\n",
      "동행자_세분화 결측치 수: 0\n",
      "동행자_세분화 고유값 목록: ['혼자' '친구' '자녀' '배우자/파트너' '직장동료' '부모님' '그 외 가족 친지' '기타']\n"
     ]
    }
   ],
   "source": [
    "# 분류 성공 여부 및 결측 확인\n",
    "# 결측치 확인\n",
    "print(\"동행자_단순 결측치 수:\", df['동행자_단순'].isnull().sum())\n",
    "\n",
    "# 고유값 확인\n",
    "print(\"동행자_단순 고유값 목록:\", df['동행자_단순'].dropna().unique())\n",
    "\n",
    "print(\"동행자_세분화 결측치 수:\", df['동행자_세분화'].isnull().sum())\n",
    "print(\"동행자_세분화 고유값 목록:\", df['동행자_세분화'].dropna().unique())"
   ]
  },
  {
   "cell_type": "code",
   "execution_count": 30,
   "id": "ac02095f",
   "metadata": {},
   "outputs": [
    {
     "name": "stdout",
     "output_type": "stream",
     "text": [
      "연령대_단순 결측치 수: 0\n",
      "연령대_단순 고유값 목록: ['20대' '30~50대' '10대' '60대 이상']\n",
      "연령대_세분화 결측치 수: 0\n",
      "연령대_세분화 고유값 목록: ['20대' '30대' '40대' '50대' '10대' '60대 이상']\n"
     ]
    }
   ],
   "source": [
    "# 분류 성공 여부 및 결측 확인\n",
    "# 결측치 확인\n",
    "print(\"연령대_단순 결측치 수:\", df['연령대_단순'].isnull().sum())\n",
    "\n",
    "# 고유값 확인\n",
    "print(\"연령대_단순 고유값 목록:\", df['연령대_단순'].dropna().unique())\n",
    "\n",
    "print(\"연령대_세분화 결측치 수:\", df['연령대_세분화'].isnull().sum())\n",
    "print(\"연령대_세분화 고유값 목록:\", df['연령대_세분화'].dropna().unique())"
   ]
  },
  {
   "cell_type": "markdown",
   "id": "bc18c3f0",
   "metadata": {},
   "source": [
    "- ANOVA 검정 안정 확보를 위해 로그 변환 변수 추가"
   ]
  },
  {
   "cell_type": "code",
   "execution_count": 32,
   "id": "315947af",
   "metadata": {},
   "outputs": [],
   "source": [
    "df['log_총액'] = np.log(df['총액1인TOT항공제외2'])"
   ]
  },
  {
   "cell_type": "markdown",
   "id": "4a3d6a49",
   "metadata": {},
   "source": [
    "### 23년도 전처리 데이터 저장"
   ]
  },
  {
   "cell_type": "code",
   "execution_count": 34,
   "metadata": {},
   "outputs": [],
   "source": [
    "df['year'] = 2023  # 연도 컬럼 붙이기\n",
    "df.to_csv(\"data/2023/외래관광객조사_2023_전처리3(세분화).csv\", index=False, encoding='utf-8-sig')"
   ]
  },
  {
   "cell_type": "code",
   "execution_count": null,
   "id": "f324eb93",
   "metadata": {},
   "outputs": [],
   "source": []
  },
  {
   "cell_type": "code",
   "execution_count": null,
   "id": "08eff23f",
   "metadata": {},
   "outputs": [],
   "source": []
  }
 ],
 "metadata": {
  "kernelspec": {
   "display_name": "tensorflow_env",
   "language": "python",
   "name": "python3"
  },
  "language_info": {
   "codemirror_mode": {
    "name": "ipython",
    "version": 3
   },
   "file_extension": ".py",
   "mimetype": "text/x-python",
   "name": "python",
   "nbconvert_exporter": "python",
   "pygments_lexer": "ipython3",
   "version": "3.10.18"
  }
 },
 "nbformat": 4,
 "nbformat_minor": 5
}
