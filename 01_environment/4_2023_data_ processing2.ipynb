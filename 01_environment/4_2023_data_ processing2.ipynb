{
 "cells": [
  {
   "cell_type": "code",
   "execution_count": 1,
   "id": "8123b93c",
   "metadata": {},
   "outputs": [],
   "source": [
    "import pandas as pd\n",
    "import numpy as np"
   ]
  },
  {
   "cell_type": "markdown",
   "id": "ed641a62",
   "metadata": {},
   "source": [
    "## 2023년 데이터 전처리"
   ]
  },
  {
   "cell_type": "code",
   "execution_count": 2,
   "metadata": {},
   "outputs": [
    {
     "name": "stdout",
     "output_type": "stream",
     "text": [
      "   pnid  MVIT  RVIT  XRVIT  TYP  Q1  Q1_1a1  Q1_1a2  Q1_1a3  Q2a1  ...  Q14  \\\n",
      "0     6     4     4    5.0    1   1     2.0     3.0     4.0   4.0  ...    5   \n",
      "1     7    20     4    5.0    1   2     2.0     9.0     7.0   NaN  ...    5   \n",
      "2     8     2     2    5.0    1   5     NaN     NaN     NaN   NaN  ...    5   \n",
      "3    10     1     1    NaN    1   3     NaN     NaN     NaN   NaN  ...    4   \n",
      "4    11     3     3    5.0    1   2     8.0     3.0     7.0   NaN  ...    5   \n",
      "\n",
      "   D_MON  D_BUN  D_NAT  D_SEX  D_AGE  D_MOK  D_NUM  D_GUB      weight  \n",
      "0      1      1      3      2      2      1      4      1  866.099893  \n",
      "1      1      1      1      1      3      2      4      1  191.333757  \n",
      "2      1      1      4      2      1      5      2      1  244.838755  \n",
      "3      1      1      5      1      5      3      1      1  555.272342  \n",
      "4      1      1      1      2      4      2      3      1  193.434506  \n",
      "\n",
      "[5 rows x 365 columns]\n"
     ]
    }
   ],
   "source": [
    "df= pd.read_excel('data/2023/2023 외래관광객조사 DATA.xlsx')\n",
    "\n",
    "print(df.head())"
   ]
  },
  {
   "cell_type": "markdown",
   "id": "a9465e12",
   "metadata": {},
   "source": [
    "- 국적: D_NAT\n",
    "- 체류기간: M일HAP\n",
    "- 동반자 유무: Q7A\n",
    "- 동행자 유형: Q7a_dk ~ Q7a8\n",
    "- 여행 형태: D_GUB\n",
    "- 방문 목적: D_MOK\n",
    "- 총지출: 총액1인TOT항공제외2\n",
    "- 참여한 활동(자연경관 감상, 뷰티/미용 관광): Q8a03, Q8a12\n",
    "- 참여 만족도: Q8_1a1, Q8_1a2, Q8_1a3\n",
    "- 가중치: weight "
   ]
  },
  {
   "cell_type": "code",
   "execution_count": 3,
   "metadata": {},
   "outputs": [],
   "source": [
    "cols_needed = ['D_NAT', 'M일HAP', \n",
    "               'Q7A','Q7a_dk', 'Q7a2', 'Q7a3', 'Q7a4', 'Q7a5', 'Q7a6', 'Q7a7', 'Q7a8',\n",
    "               'D_GUB', 'D_MOK', '총액1인TOT항공제외2', \n",
    "               'Q8a03', 'Q8a12', \n",
    "               'Q8_1a1', 'Q8_1a2', 'Q8_1a3']\n",
    "df = df[cols_needed]"
   ]
  },
  {
   "cell_type": "code",
   "execution_count": 4,
   "metadata": {},
   "outputs": [
    {
     "data": {
      "application/vnd.microsoft.datawrangler.viewer.v0+json": {
       "columns": [
        {
         "name": "index",
         "rawType": "object",
         "type": "string"
        },
        {
         "name": "0",
         "rawType": "int64",
         "type": "integer"
        }
       ],
       "ref": "394a6c2b-4d46-46a1-a85c-ffb741fb763c",
       "rows": [
        [
         "D_NAT",
         "0"
        ],
        [
         "M일HAP",
         "0"
        ],
        [
         "Q7A",
         "0"
        ],
        [
         "Q7a_dk",
         "10690"
        ],
        [
         "Q7a2",
         "13369"
        ],
        [
         "Q7a3",
         "14923"
        ],
        [
         "Q7a4",
         "14887"
        ],
        [
         "Q7a5",
         "14512"
        ],
        [
         "Q7a6",
         "12350"
        ],
        [
         "Q7a7",
         "14476"
        ],
        [
         "Q7a8",
         "16078"
        ],
        [
         "D_GUB",
         "0"
        ],
        [
         "D_MOK",
         "0"
        ],
        [
         "총액1인TOT항공제외2",
         "0"
        ],
        [
         "Q8a03",
         "7332"
        ],
        [
         "Q8a12",
         "14576"
        ],
        [
         "Q8_1a1",
         "0"
        ],
        [
         "Q8_1a2",
         "1112"
        ],
        [
         "Q8_1a3",
         "3149"
        ]
       ],
       "shape": {
        "columns": 1,
        "rows": 19
       }
      },
      "text/plain": [
       "D_NAT               0\n",
       "M일HAP               0\n",
       "Q7A                 0\n",
       "Q7a_dk          10690\n",
       "Q7a2            13369\n",
       "Q7a3            14923\n",
       "Q7a4            14887\n",
       "Q7a5            14512\n",
       "Q7a6            12350\n",
       "Q7a7            14476\n",
       "Q7a8            16078\n",
       "D_GUB               0\n",
       "D_MOK               0\n",
       "총액1인TOT항공제외2        0\n",
       "Q8a03            7332\n",
       "Q8a12           14576\n",
       "Q8_1a1              0\n",
       "Q8_1a2           1112\n",
       "Q8_1a3           3149\n",
       "dtype: int64"
      ]
     },
     "execution_count": 4,
     "metadata": {},
     "output_type": "execute_result"
    }
   ],
   "source": [
    "df.isnull().sum()"
   ]
  },
  {
   "cell_type": "markdown",
   "id": "42cecb48",
   "metadata": {},
   "source": [
    "### 동행자 유형 분류"
   ]
  },
  {
   "cell_type": "code",
   "execution_count": 5,
   "metadata": {},
   "outputs": [],
   "source": [
    "# 1. 동행자 관련 컬럼만 추출\n",
    "companion_cols = ['Q7a_dk', 'Q7a2', 'Q7a3', 'Q7a4', 'Q7a5', 'Q7a6', 'Q7a7', 'Q7a8']\n",
    "\n",
    "# 2. 결측치 처리 안함 \n",
    "# 결측치는 <선택하지 않음>을 의미하므로 처리하지 않음\n",
    "\n",
    "# 3. 동행자유형 파생 변수 만들기\n",
    "def classify_companion(row):\n",
    "    # 혼자 온 경우\n",
    "    if row['Q7a_dk'] == 1:\n",
    "        return '혼자'\n",
    "\n",
    "    # 가족 유형\n",
    "    if any([\n",
    "        row['Q7a2'] == 2,\n",
    "        row['Q7a3'] == 3,\n",
    "        row['Q7a4'] == 4,\n",
    "        row['Q7a5'] == 5\n",
    "    ]):\n",
    "        return '가족'\n",
    "\n",
    "    # 친구\n",
    "    if row['Q7a6'] == 6:\n",
    "        return '친구'\n",
    "\n",
    "    # 직장동료\n",
    "    if row['Q7a7'] == 7:\n",
    "        return '직장동료'\n",
    "\n",
    "    # 기타\n",
    "    if row['Q7a8'] == 8:\n",
    "        return '기타'\n",
    "\n",
    "    # 아무 것도 선택하지 않은 경우\n",
    "    return '응답없음'\n",
    "\n",
    "# 4. 적용\n",
    "df['동행자유형'] = df.apply(classify_companion, axis=1)\n",
    "\n",
    "# 5. 유효 응답만 남기기\n",
    "df = df[df['동행자유형'] != '응답없음'].copy()\n"
   ]
  },
  {
   "cell_type": "code",
   "execution_count": 6,
   "metadata": {},
   "outputs": [
    {
     "data": {
      "text/plain": [
       "Index(['D_NAT', 'M일HAP', 'Q7A', 'Q7a_dk', 'Q7a2', 'Q7a3', 'Q7a4', 'Q7a5',\n",
       "       'Q7a6', 'Q7a7', 'Q7a8', 'D_GUB', 'D_MOK', '총액1인TOT항공제외2', 'Q8a03',\n",
       "       'Q8a12', 'Q8_1a1', 'Q8_1a2', 'Q8_1a3', '동행자유형'],\n",
       "      dtype='object')"
      ]
     },
     "execution_count": 6,
     "metadata": {},
     "output_type": "execute_result"
    }
   ],
   "source": [
    "df.columns"
   ]
  },
  {
   "cell_type": "code",
   "execution_count": 7,
   "metadata": {},
   "outputs": [
    {
     "data": {
      "application/vnd.microsoft.datawrangler.viewer.v0+json": {
       "columns": [
        {
         "name": "동행자유형",
         "rawType": "object",
         "type": "string"
        },
        {
         "name": "count",
         "rawType": "int64",
         "type": "integer"
        }
       ],
       "ref": "99c4741a-6e07-4674-a513-b4c793557089",
       "rows": [
        [
         "가족",
         "5511"
        ],
        [
         "혼자",
         "5506"
        ],
        [
         "친구",
         "3526"
        ],
        [
         "직장동료",
         "1588"
        ],
        [
         "기타",
         "65"
        ]
       ],
       "shape": {
        "columns": 1,
        "rows": 5
       }
      },
      "text/plain": [
       "동행자유형\n",
       "가족      5511\n",
       "혼자      5506\n",
       "친구      3526\n",
       "직장동료    1588\n",
       "기타        65\n",
       "Name: count, dtype: int64"
      ]
     },
     "execution_count": 7,
     "metadata": {},
     "output_type": "execute_result"
    }
   ],
   "source": [
    "df['동행자유형'].value_counts()"
   ]
  },
  {
   "cell_type": "markdown",
   "id": "f8689974",
   "metadata": {},
   "source": [
    "### 국적 선별 \n",
    "- 2023년 글로벌 방한 관광객 통계 기준 상위 6개국 \n",
    "- GWI-Rankings 상위 5개국 중 2개국(방한관광객 상위 국가와 중복 제외)"
   ]
  },
  {
   "cell_type": "code",
   "execution_count": 8,
   "metadata": {},
   "outputs": [
    {
     "data": {
      "application/vnd.microsoft.datawrangler.viewer.v0+json": {
       "columns": [
        {
         "name": "D_NAT",
         "rawType": "int64",
         "type": "integer"
        },
        {
         "name": "count",
         "rawType": "int64",
         "type": "integer"
        }
       ],
       "ref": "a5749c8b-5530-4dbb-a821-3e1e282ef352",
       "rows": [
        [
         "2",
         "1963"
        ],
        [
         "1",
         "1588"
        ],
        [
         "4",
         "1444"
        ],
        [
         "3",
         "1263"
        ],
        [
         "10",
         "873"
        ],
        [
         "5",
         "868"
        ],
        [
         "6",
         "824"
        ],
        [
         "97",
         "682"
        ],
        [
         "8",
         "678"
        ],
        [
         "13",
         "664"
        ],
        [
         "15",
         "639"
        ],
        [
         "12",
         "583"
        ],
        [
         "14",
         "537"
        ],
        [
         "7",
         "521"
        ],
        [
         "9",
         "512"
        ],
        [
         "19",
         "497"
        ],
        [
         "18",
         "496"
        ],
        [
         "16",
         "488"
        ],
        [
         "20",
         "385"
        ],
        [
         "17",
         "359"
        ],
        [
         "11",
         "332"
        ]
       ],
       "shape": {
        "columns": 1,
        "rows": 21
       }
      },
      "text/plain": [
       "D_NAT\n",
       "2     1963\n",
       "1     1588\n",
       "4     1444\n",
       "3     1263\n",
       "10     873\n",
       "5      868\n",
       "6      824\n",
       "97     682\n",
       "8      678\n",
       "13     664\n",
       "15     639\n",
       "12     583\n",
       "14     537\n",
       "7      521\n",
       "9      512\n",
       "19     497\n",
       "18     496\n",
       "16     488\n",
       "20     385\n",
       "17     359\n",
       "11     332\n",
       "Name: count, dtype: int64"
      ]
     },
     "execution_count": 8,
     "metadata": {},
     "output_type": "execute_result"
    }
   ],
   "source": [
    "df['D_NAT'].value_counts()"
   ]
  },
  {
   "cell_type": "markdown",
   "id": "a0a7a34e",
   "metadata": {},
   "source": [
    "### 국가명 매핑"
   ]
  },
  {
   "cell_type": "code",
   "execution_count": 9,
   "metadata": {},
   "outputs": [
    {
     "data": {
      "text/plain": [
       "dtype('int64')"
      ]
     },
     "execution_count": 9,
     "metadata": {},
     "output_type": "execute_result"
    }
   ],
   "source": [
    "df['D_NAT'].dtype"
   ]
  },
  {
   "cell_type": "code",
   "execution_count": 10,
   "metadata": {},
   "outputs": [],
   "source": [
    "nat_map = {\n",
    "    1: '중국',\n",
    "    2: '일본',\n",
    "    3: '대만',\n",
    "    4: '미국',\n",
    "    5: '홍콩',\n",
    "    6: '태국',\n",
    "    7: '베트남',\n",
    "    10: '싱가포르',\n",
    "    16: '영국',\n",
    "    18: '독일',\n",
    "    12: '중동'\n",
    "}\n",
    "\n",
    "df['국가명'] = df['D_NAT'].map(nat_map)\n",
    "\n",
    "# 분석 대상 국가만 필터링\n",
    "df = df[df['국가명'].notna()]"
   ]
  },
  {
   "cell_type": "code",
   "execution_count": 13,
   "id": "30fca097",
   "metadata": {},
   "outputs": [
    {
     "data": {
      "application/vnd.microsoft.datawrangler.viewer.v0+json": {
       "columns": [
        {
         "name": "국가명",
         "rawType": "object",
         "type": "string"
        },
        {
         "name": "count",
         "rawType": "int64",
         "type": "integer"
        }
       ],
       "ref": "544b3544-f16c-4a2a-9d4c-88152d76137b",
       "rows": [
        [
         "일본",
         "1963"
        ],
        [
         "중국",
         "1588"
        ],
        [
         "미국",
         "1444"
        ],
        [
         "대만",
         "1263"
        ],
        [
         "싱가포르",
         "873"
        ],
        [
         "홍콩",
         "868"
        ],
        [
         "태국",
         "824"
        ],
        [
         "중동",
         "583"
        ],
        [
         "베트남",
         "521"
        ],
        [
         "독일",
         "496"
        ],
        [
         "영국",
         "488"
        ]
       ],
       "shape": {
        "columns": 1,
        "rows": 11
       }
      },
      "text/plain": [
       "국가명\n",
       "일본      1963\n",
       "중국      1588\n",
       "미국      1444\n",
       "대만      1263\n",
       "싱가포르     873\n",
       "홍콩       868\n",
       "태국       824\n",
       "중동       583\n",
       "베트남      521\n",
       "독일       496\n",
       "영국       488\n",
       "Name: count, dtype: int64"
      ]
     },
     "execution_count": 13,
     "metadata": {},
     "output_type": "execute_result"
    }
   ],
   "source": [
    "df['국가명'].value_counts()"
   ]
  },
  {
   "cell_type": "markdown",
   "id": "957dba30",
   "metadata": {},
   "source": [
    "### 체류일수 및 총지출 0 이하 제거"
   ]
  },
  {
   "cell_type": "code",
   "execution_count": 15,
   "id": "ec73ebc6",
   "metadata": {},
   "outputs": [],
   "source": [
    "df = df[(df['M일HAP'] > 0) & (df['총액1인TOT항공제외2'] > 0)]"
   ]
  },
  {
   "cell_type": "markdown",
   "id": "a63a43bc",
   "metadata": {},
   "source": [
    "### 웰니스 활동 참여 여부 파생변수 생성"
   ]
  },
  {
   "cell_type": "code",
   "execution_count": 19,
   "id": "dcdc6d95",
   "metadata": {},
   "outputs": [
    {
     "data": {
      "text/plain": [
       "dtype('float64')"
      ]
     },
     "execution_count": 19,
     "metadata": {},
     "output_type": "execute_result"
    }
   ],
   "source": [
    "df['Q8a03'].dtype"
   ]
  },
  {
   "cell_type": "code",
   "execution_count": 20,
   "id": "b27f1edb",
   "metadata": {},
   "outputs": [
    {
     "data": {
      "text/plain": [
       "dtype('float64')"
      ]
     },
     "execution_count": 20,
     "metadata": {},
     "output_type": "execute_result"
    }
   ],
   "source": [
    "df['Q8a12'].dtype"
   ]
  },
  {
   "cell_type": "code",
   "execution_count": 16,
   "id": "7587cb61",
   "metadata": {},
   "outputs": [],
   "source": [
    "df['웰니스참여'] = ((df['Q8a03'] == 3) | (df['Q8a12'] == 12)).astype(int)"
   ]
  },
  {
   "cell_type": "code",
   "execution_count": 17,
   "id": "841a6fda",
   "metadata": {},
   "outputs": [
    {
     "data": {
      "application/vnd.microsoft.datawrangler.viewer.v0+json": {
       "columns": [
        {
         "name": "웰니스참여",
         "rawType": "int64",
         "type": "integer"
        },
        {
         "name": "count",
         "rawType": "int64",
         "type": "integer"
        }
       ],
       "ref": "cefc928a-a6f8-4d17-b594-1eafac022cc3",
       "rows": [
        [
         "1",
         "6078"
        ],
        [
         "0",
         "4833"
        ]
       ],
       "shape": {
        "columns": 1,
        "rows": 2
       }
      },
      "text/plain": [
       "웰니스참여\n",
       "1    6078\n",
       "0    4833\n",
       "Name: count, dtype: int64"
      ]
     },
     "execution_count": 17,
     "metadata": {},
     "output_type": "execute_result"
    }
   ],
   "source": [
    "df['웰니스참여'].value_counts()"
   ]
  },
  {
   "cell_type": "code",
   "execution_count": 21,
   "id": "1acb65b3",
   "metadata": {},
   "outputs": [
    {
     "data": {
      "application/vnd.microsoft.datawrangler.viewer.v0+json": {
       "columns": [
        {
         "name": "Q8_1a1",
         "rawType": "int64",
         "type": "integer"
        },
        {
         "name": "count",
         "rawType": "int64",
         "type": "integer"
        }
       ],
       "ref": "1a444c8e-b1d7-4c2f-ad14-eb3c4c230c23",
       "rows": [
        [
         "2",
         "2174"
        ],
        [
         "1",
         "1985"
        ],
        [
         "3",
         "1430"
        ],
        [
         "4",
         "1156"
        ],
        [
         "17",
         "797"
        ],
        [
         "7",
         "605"
        ],
        [
         "11",
         "425"
        ],
        [
         "5",
         "355"
        ],
        [
         "6",
         "351"
        ],
        [
         "10",
         "309"
        ],
        [
         "12",
         "269"
        ],
        [
         "18",
         "229"
        ],
        [
         "13",
         "189"
        ],
        [
         "19",
         "170"
        ],
        [
         "15",
         "123"
        ],
        [
         "8",
         "111"
        ],
        [
         "16",
         "106"
        ],
        [
         "14",
         "64"
        ],
        [
         "9",
         "63"
        ]
       ],
       "shape": {
        "columns": 1,
        "rows": 19
       }
      },
      "text/plain": [
       "Q8_1a1\n",
       "2     2174\n",
       "1     1985\n",
       "3     1430\n",
       "4     1156\n",
       "17     797\n",
       "7      605\n",
       "11     425\n",
       "5      355\n",
       "6      351\n",
       "10     309\n",
       "12     269\n",
       "18     229\n",
       "13     189\n",
       "19     170\n",
       "15     123\n",
       "8      111\n",
       "16     106\n",
       "14      64\n",
       "9       63\n",
       "Name: count, dtype: int64"
      ]
     },
     "execution_count": 21,
     "metadata": {},
     "output_type": "execute_result"
    }
   ],
   "source": [
    "df['Q8_1a1'].value_counts()"
   ]
  },
  {
   "cell_type": "code",
   "execution_count": 22,
   "id": "db46ec8a",
   "metadata": {},
   "outputs": [
    {
     "data": {
      "application/vnd.microsoft.datawrangler.viewer.v0+json": {
       "columns": [
        {
         "name": "Q8_1a2",
         "rawType": "float64",
         "type": "float"
        },
        {
         "name": "count",
         "rawType": "int64",
         "type": "integer"
        }
       ],
       "ref": "2ab6d09e-5486-456b-b884-1ae052e1d5f4",
       "rows": [
        [
         "1.0",
         "2843"
        ],
        [
         "2.0",
         "2719"
        ],
        [
         "3.0",
         "1361"
        ],
        [
         "4.0",
         "1078"
        ],
        [
         "6.0",
         "439"
        ],
        [
         "5.0",
         "321"
        ],
        [
         "11.0",
         "265"
        ],
        [
         "10.0",
         "245"
        ],
        [
         "12.0",
         "181"
        ],
        [
         "7.0",
         "154"
        ],
        [
         "17.0",
         "139"
        ],
        [
         "13.0",
         "69"
        ],
        [
         "15.0",
         "62"
        ],
        [
         "8.0",
         "60"
        ],
        [
         "9.0",
         "56"
        ],
        [
         "14.0",
         "42"
        ],
        [
         "16.0",
         "34"
        ],
        [
         "18.0",
         "34"
        ],
        [
         "19.0",
         "6"
        ]
       ],
       "shape": {
        "columns": 1,
        "rows": 19
       }
      },
      "text/plain": [
       "Q8_1a2\n",
       "1.0     2843\n",
       "2.0     2719\n",
       "3.0     1361\n",
       "4.0     1078\n",
       "6.0      439\n",
       "5.0      321\n",
       "11.0     265\n",
       "10.0     245\n",
       "12.0     181\n",
       "7.0      154\n",
       "17.0     139\n",
       "13.0      69\n",
       "15.0      62\n",
       "8.0       60\n",
       "9.0       56\n",
       "14.0      42\n",
       "16.0      34\n",
       "18.0      34\n",
       "19.0       6\n",
       "Name: count, dtype: int64"
      ]
     },
     "execution_count": 22,
     "metadata": {},
     "output_type": "execute_result"
    }
   ],
   "source": [
    "df['Q8_1a2'].value_counts()"
   ]
  },
  {
   "cell_type": "code",
   "execution_count": 23,
   "id": "39727f86",
   "metadata": {},
   "outputs": [
    {
     "data": {
      "application/vnd.microsoft.datawrangler.viewer.v0+json": {
       "columns": [
        {
         "name": "Q8_1a3",
         "rawType": "float64",
         "type": "float"
        },
        {
         "name": "count",
         "rawType": "int64",
         "type": "integer"
        }
       ],
       "ref": "85509833-f570-402e-b535-0bb6a3b7a54a",
       "rows": [
        [
         "2.0",
         "1938"
        ],
        [
         "1.0",
         "1678"
        ],
        [
         "3.0",
         "1301"
        ],
        [
         "4.0",
         "1055"
        ],
        [
         "6.0",
         "513"
        ],
        [
         "11.0",
         "370"
        ],
        [
         "5.0",
         "366"
        ],
        [
         "10.0",
         "289"
        ],
        [
         "12.0",
         "264"
        ],
        [
         "7.0",
         "187"
        ],
        [
         "17.0",
         "149"
        ],
        [
         "13.0",
         "89"
        ],
        [
         "8.0",
         "84"
        ],
        [
         "9.0",
         "69"
        ],
        [
         "15.0",
         "61"
        ],
        [
         "18.0",
         "43"
        ],
        [
         "14.0",
         "37"
        ],
        [
         "16.0",
         "23"
        ],
        [
         "19.0",
         "13"
        ]
       ],
       "shape": {
        "columns": 1,
        "rows": 19
       }
      },
      "text/plain": [
       "Q8_1a3\n",
       "2.0     1938\n",
       "1.0     1678\n",
       "3.0     1301\n",
       "4.0     1055\n",
       "6.0      513\n",
       "11.0     370\n",
       "5.0      366\n",
       "10.0     289\n",
       "12.0     264\n",
       "7.0      187\n",
       "17.0     149\n",
       "13.0      89\n",
       "8.0       84\n",
       "9.0       69\n",
       "15.0      61\n",
       "18.0      43\n",
       "14.0      37\n",
       "16.0      23\n",
       "19.0      13\n",
       "Name: count, dtype: int64"
      ]
     },
     "execution_count": 23,
     "metadata": {},
     "output_type": "execute_result"
    }
   ],
   "source": [
    "df['Q8_1a3'].value_counts()"
   ]
  },
  {
   "cell_type": "markdown",
   "id": "585f6451",
   "metadata": {},
   "source": [
    "- 자연경관(3)은 Top3 만족 활동 중 매우 자주 등장 (총 4000회 이상)\n",
    "\n",
    "- 뷰티/미용(12)도 상대적으로 빈도는 적지만 분명히 선택되고 있음"
   ]
  },
  {
   "cell_type": "markdown",
   "id": "d4c1a4c0",
   "metadata": {},
   "source": [
    "### 웰니스 활동이 Top3 만족 활동에 포함된 총 응답자 수\n",
    "- 현재는 각 코드별 총 등장 수만 계산됨 -> 실제 몇 명이 ‘3 또는 12’를 한번 이상 선택했는지 계산"
   ]
  },
  {
   "cell_type": "code",
   "execution_count": 24,
   "id": "904eca94",
   "metadata": {},
   "outputs": [
    {
     "data": {
      "application/vnd.microsoft.datawrangler.viewer.v0+json": {
       "columns": [
        {
         "name": "웰니스만족",
         "rawType": "int64",
         "type": "integer"
        },
        {
         "name": "count",
         "rawType": "int64",
         "type": "integer"
        }
       ],
       "ref": "4f07a596-d503-48a4-906e-d606c3cb99ff",
       "rows": [
        [
         "0",
         "6223"
        ],
        [
         "1",
         "4688"
        ]
       ],
       "shape": {
        "columns": 1,
        "rows": 2
       }
      },
      "text/plain": [
       "웰니스만족\n",
       "0    6223\n",
       "1    4688\n",
       "Name: count, dtype: int64"
      ]
     },
     "execution_count": 24,
     "metadata": {},
     "output_type": "execute_result"
    }
   ],
   "source": [
    "df['웰니스만족'] = df[['Q8_1a1', 'Q8_1a2', 'Q8_1a3']].apply(\n",
    "    lambda row: any(x in [3, 12] for x in row if pd.notnull(x)),\n",
    "    axis=1\n",
    ").astype(int)\n",
    "\n",
    "df['웰니스만족'].value_counts()\n"
   ]
  },
  {
   "cell_type": "markdown",
   "id": "0955cafd",
   "metadata": {},
   "source": [
    "### 여행 목적 컬럼 (D_MOK) 전처리\n",
    "- 여가/위락/힐링, 친구/친지 방문, 사업/전문 활동, 교육, 기타\n",
    "- 여가/힐링을 즐길 의사와 여건이 있었던 응답자만 포함"
   ]
  },
  {
   "cell_type": "code",
   "execution_count": 25,
   "id": "79733784",
   "metadata": {},
   "outputs": [
    {
     "data": {
      "text/plain": [
       "dtype('int64')"
      ]
     },
     "execution_count": 25,
     "metadata": {},
     "output_type": "execute_result"
    }
   ],
   "source": [
    "df['D_MOK'].dtype"
   ]
  },
  {
   "cell_type": "code",
   "execution_count": 26,
   "metadata": {},
   "outputs": [],
   "source": [
    "df = df[df['D_MOK'].isin([1, 2])]"
   ]
  },
  {
   "cell_type": "code",
   "execution_count": 27,
   "id": "398a0f46",
   "metadata": {},
   "outputs": [
    {
     "data": {
      "application/vnd.microsoft.datawrangler.viewer.v0+json": {
       "columns": [
        {
         "name": "D_MOK",
         "rawType": "int64",
         "type": "integer"
        },
        {
         "name": "count",
         "rawType": "int64",
         "type": "integer"
        }
       ],
       "ref": "48494acc-1ee7-4832-b2bd-d3c0703731cd",
       "rows": [
        [
         "1",
         "6799"
        ],
        [
         "2",
         "1555"
        ]
       ],
       "shape": {
        "columns": 1,
        "rows": 2
       }
      },
      "text/plain": [
       "D_MOK\n",
       "1    6799\n",
       "2    1555\n",
       "Name: count, dtype: int64"
      ]
     },
     "execution_count": 27,
     "metadata": {},
     "output_type": "execute_result"
    }
   ],
   "source": [
    "df['D_MOK'].value_counts()"
   ]
  },
  {
   "cell_type": "code",
   "execution_count": 29,
   "id": "c5f2926e",
   "metadata": {},
   "outputs": [
    {
     "name": "stdout",
     "output_type": "stream",
     "text": [
      "동행자유형 결측치 수: 0\n",
      "동행자유형 고유값 목록: ['혼자' '친구' '가족' '직장동료' '기타']\n"
     ]
    }
   ],
   "source": [
    "# 분류 성공 여부 및 결측 확인\n",
    "# 결측치 확인\n",
    "print(\"동행자유형 결측치 수:\", df['동행자유형'].isnull().sum())\n",
    "\n",
    "# 고유값 확인\n",
    "print(\"동행자유형 고유값 목록:\", df['동행자유형'].dropna().unique())"
   ]
  },
  {
   "cell_type": "markdown",
   "id": "eed61da0",
   "metadata": {},
   "source": [
    "- ANOVA 검정 안정 확보를 위해 로그 변환 변수 추가"
   ]
  },
  {
   "cell_type": "code",
   "execution_count": 30,
   "metadata": {},
   "outputs": [],
   "source": [
    "df['log_총액'] = np.log(df['총액1인TOT항공제외2'])"
   ]
  },
  {
   "cell_type": "markdown",
   "id": "5841dada",
   "metadata": {},
   "source": [
    "### 23년도 전처리 데이터 저장"
   ]
  },
  {
   "cell_type": "code",
   "execution_count": 31,
   "id": "ff52788a",
   "metadata": {},
   "outputs": [],
   "source": [
    "df['year'] = 2023  # 연도 컬럼 붙이기\n",
    "df.to_csv(\"data/2023/외래관광객조사_2023_전처리2.csv\", index=False, encoding='utf-8-sig')"
   ]
  },
  {
   "cell_type": "code",
   "execution_count": null,
   "id": "6d374444",
   "metadata": {},
   "outputs": [],
   "source": []
  }
 ],
 "metadata": {
  "kernelspec": {
   "display_name": "tensorflow_env",
   "language": "python",
   "name": "python3"
  },
  "language_info": {
   "codemirror_mode": {
    "name": "ipython",
    "version": 3
   },
   "file_extension": ".py",
   "mimetype": "text/x-python",
   "name": "python",
   "nbconvert_exporter": "python",
   "pygments_lexer": "ipython3",
   "version": "3.10.18"
  }
 },
 "nbformat": 4,
 "nbformat_minor": 5
}
