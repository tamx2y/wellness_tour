{
 "cells": [
  {
   "cell_type": "code",
   "execution_count": 1,
   "id": "bd6cb235",
   "metadata": {},
   "outputs": [],
   "source": [
    "import pandas as pd\n",
    "import numpy as np\n",
    "import matplotlib.pyplot as plt\n",
    "\n",
    "# 그래프 기본 설정\n",
    "plt.rcParams['font.family'] = 'Malgun Gothic'\n",
    "# plt.rcParams['font.family'] = 'AppleGothic'\n",
    "plt.rcParams['figure.figsize'] = 12, 6\n",
    "plt.rcParams['font.size'] = 14\n",
    "plt.rcParams['axes.unicode_minus'] = False"
   ]
  },
  {
   "cell_type": "markdown",
   "id": "8e1f09cc",
   "metadata": {},
   "source": [
    "## 2024 데이터 전처리"
   ]
  },
  {
   "cell_type": "code",
   "execution_count": 2,
   "metadata": {},
   "outputs": [],
   "source": [
    "df = pd.read_excel('data/2024/2024 외래관광객조사_Data.xlsx')"
   ]
  },
  {
   "cell_type": "markdown",
   "id": "980e19d0",
   "metadata": {},
   "source": [
    "- 국적: D_NAT\n",
    "- 체류기간: M일HAP\n",
    "- 동반자 유무: Q7A\n",
    "- 동행자 유형: Q7a_dk ~ Q7a8\n",
    "- 여행 형태: D_GUB\n",
    "- 방문 목적: D_MOK\n",
    "- 총지출: 총액1인TOT항공제외2\n",
    "- 참여한 활동(자연경관 감상, 뷰티/미용 관광): Q8a03, Q8a12\n",
    "- 참여 만족도: Q8_1a1, Q8_1a2, Q8_1a3\n",
    "- 가중치: weight "
   ]
  },
  {
   "cell_type": "code",
   "execution_count": null,
   "id": "af1a502a",
   "metadata": {},
   "outputs": [],
   "source": [
    "cols_needed = ['D_NAT','M일HAP', \n",
    "               'Q7A','Q7a_dk', 'Q7a2', 'Q7a3', 'Q7a4', 'Q7a5', 'Q7a6', 'Q7a7', 'Q7a8',\n",
    "               'D_GUB', 'D_MOK', '총액1인TOT_개별국제교통비제외2', \n",
    "               'Q8a03', 'Q8a12', \n",
    "               'Q8_1a1', 'Q8_1a2', 'Q8_1a3']\n",
    "df = df[cols_needed]"
   ]
  },
  {
   "cell_type": "code",
   "execution_count": 4,
   "id": "e866267a",
   "metadata": {},
   "outputs": [
    {
     "data": {
      "application/vnd.microsoft.datawrangler.viewer.v0+json": {
       "columns": [
        {
         "name": "index",
         "rawType": "object",
         "type": "string"
        },
        {
         "name": "0",
         "rawType": "int64",
         "type": "integer"
        }
       ],
       "ref": "8f07df2c-7ba0-4dd7-ac72-c07ff65b791e",
       "rows": [
        [
         "D_NAT",
         "0"
        ],
        [
         "M일HAP",
         "0"
        ],
        [
         "Q7A",
         "0"
        ],
        [
         "Q7a_dk",
         "11275"
        ],
        [
         "Q7a2",
         "12905"
        ],
        [
         "Q7a3",
         "15081"
        ],
        [
         "Q7a4",
         "14707"
        ],
        [
         "Q7a5",
         "14518"
        ],
        [
         "Q7a6",
         "11961"
        ],
        [
         "Q7a7",
         "14520"
        ],
        [
         "Q7a8",
         "16108"
        ],
        [
         "D_GUB",
         "0"
        ],
        [
         "D_MOK",
         "0"
        ],
        [
         "총액1인TOT_개별국제교통비제외2",
         "0"
        ],
        [
         "Q8a03",
         "6934"
        ],
        [
         "Q8a12",
         "13632"
        ],
        [
         "Q8_1a1",
         "0"
        ],
        [
         "Q8_1a2",
         "1025"
        ],
        [
         "Q8_1a3",
         "2947"
        ]
       ],
       "shape": {
        "columns": 1,
        "rows": 19
       }
      },
      "text/plain": [
       "D_NAT                     0\n",
       "M일HAP                     0\n",
       "Q7A                       0\n",
       "Q7a_dk                11275\n",
       "Q7a2                  12905\n",
       "Q7a3                  15081\n",
       "Q7a4                  14707\n",
       "Q7a5                  14518\n",
       "Q7a6                  11961\n",
       "Q7a7                  14520\n",
       "Q7a8                  16108\n",
       "D_GUB                     0\n",
       "D_MOK                     0\n",
       "총액1인TOT_개별국제교통비제외2        0\n",
       "Q8a03                  6934\n",
       "Q8a12                 13632\n",
       "Q8_1a1                    0\n",
       "Q8_1a2                 1025\n",
       "Q8_1a3                 2947\n",
       "dtype: int64"
      ]
     },
     "execution_count": 4,
     "metadata": {},
     "output_type": "execute_result"
    }
   ],
   "source": [
    "df.isnull().sum()"
   ]
  },
  {
   "cell_type": "markdown",
   "id": "2a625d8e",
   "metadata": {},
   "source": [
    "### 동행자 유형 분류"
   ]
  },
  {
   "cell_type": "code",
   "execution_count": null,
   "id": "d3a112aa",
   "metadata": {},
   "outputs": [],
   "source": [
    "# 1. 동행자 관련 컬럼만 추출\n",
    "companion_cols = ['Q7a_dk', 'Q7a2', 'Q7a3', 'Q7a4', 'Q7a5', 'Q7a6', 'Q7a7', 'Q7a8']\n",
    "\n",
    "# 2. 결측치 처리 안함 \n",
    "# 결측치는 <선택하지 않음>을 의미하므로 처리하지 않음\n",
    "\n",
    "# 3. 동행자유형 파생 변수 만들기\n",
    "def classify_companion(row):\n",
    "    # 혼자 온 경우\n",
    "    if row['Q7a_dk'] == 1:\n",
    "        return '혼자'\n",
    "\n",
    "    # 가족 유형\n",
    "    if any([\n",
    "        row['Q7a2'] == 2,\n",
    "        row['Q7a3'] == 3,\n",
    "        row['Q7a4'] == 4,\n",
    "        row['Q7a5'] == 5\n",
    "    ]):\n",
    "        return '가족'\n",
    "\n",
    "    # 친구\n",
    "    if row['Q7a6'] == 6:\n",
    "        return '친구'\n",
    "\n",
    "    # 직장동료\n",
    "    if row['Q7a7'] == 7:\n",
    "        return '직장동료'\n",
    "\n",
    "    # 기타\n",
    "    if row['Q7a8'] == 8:\n",
    "        return '기타'\n",
    "\n",
    "    # 아무 것도 선택하지 않은 경우\n",
    "    return '응답없음'\n",
    "\n",
    "# 4. 적용\n",
    "df['동행자유형'] = df.apply(classify_companion, axis=1)\n",
    "\n",
    "# 5. 유효 응답만 남기기\n",
    "df = df[df['동행자유형'] != '응답없음'].copy()\n"
   ]
  },
  {
   "cell_type": "code",
   "execution_count": 6,
   "metadata": {},
   "outputs": [
    {
     "data": {
      "text/plain": [
       "Index(['D_NAT', 'M일HAP', 'Q7A', 'Q7a_dk', 'Q7a2', 'Q7a3', 'Q7a4', 'Q7a5',\n",
       "       'Q7a6', 'Q7a7', 'Q7a8', 'D_GUB', 'D_MOK', '총액1인TOT_개별국제교통비제외2', 'Q8a03',\n",
       "       'Q8a12', 'Q8_1a1', 'Q8_1a2', 'Q8_1a3', '동행자유형'],\n",
       "      dtype='object')"
      ]
     },
     "execution_count": 6,
     "metadata": {},
     "output_type": "execute_result"
    }
   ],
   "source": [
    "df.columns"
   ]
  },
  {
   "cell_type": "code",
   "execution_count": 7,
   "id": "272103fd",
   "metadata": {},
   "outputs": [
    {
     "data": {
      "application/vnd.microsoft.datawrangler.viewer.v0+json": {
       "columns": [
        {
         "name": "동행자유형",
         "rawType": "object",
         "type": "string"
        },
        {
         "name": "count",
         "rawType": "int64",
         "type": "integer"
        }
       ],
       "ref": "1965c2c8-7f6b-4c90-8e86-19e111822ed0",
       "rows": [
        [
         "가족",
         "5775"
        ],
        [
         "혼자",
         "4941"
        ],
        [
         "친구",
         "3902"
        ],
        [
         "직장동료",
         "1530"
        ],
        [
         "기타",
         "68"
        ]
       ],
       "shape": {
        "columns": 1,
        "rows": 5
       }
      },
      "text/plain": [
       "동행자유형\n",
       "가족      5775\n",
       "혼자      4941\n",
       "친구      3902\n",
       "직장동료    1530\n",
       "기타        68\n",
       "Name: count, dtype: int64"
      ]
     },
     "execution_count": 7,
     "metadata": {},
     "output_type": "execute_result"
    }
   ],
   "source": [
    "df['동행자유형'].value_counts()"
   ]
  },
  {
   "cell_type": "markdown",
   "id": "87a4c02c",
   "metadata": {},
   "source": [
    "### 국적 선별 \n",
    "- 2023년 글로벌 방한 관광객 통계 기준 상위 6개국 \n",
    "- GWI-Rankings 상위 5개국 중 2개국(방한관광객 상위 국가와 중복 제외)"
   ]
  },
  {
   "cell_type": "code",
   "execution_count": 8,
   "id": "d7eda214",
   "metadata": {},
   "outputs": [
    {
     "data": {
      "application/vnd.microsoft.datawrangler.viewer.v0+json": {
       "columns": [
        {
         "name": "D_NAT",
         "rawType": "int64",
         "type": "integer"
        },
        {
         "name": "count",
         "rawType": "int64",
         "type": "integer"
        }
       ],
       "ref": "747e6e13-36a5-45bb-9a9c-c6c112abc3f5",
       "rows": [
        [
         "1",
         "2215"
        ],
        [
         "2",
         "2007"
        ],
        [
         "3",
         "1300"
        ],
        [
         "4",
         "1192"
        ],
        [
         "5",
         "834"
        ],
        [
         "7",
         "769"
        ],
        [
         "10",
         "687"
        ],
        [
         "6",
         "648"
        ],
        [
         "12",
         "644"
        ],
        [
         "9",
         "621"
        ],
        [
         "97",
         "607"
        ],
        [
         "8",
         "606"
        ],
        [
         "13",
         "536"
        ],
        [
         "14",
         "536"
        ],
        [
         "15",
         "530"
        ],
        [
         "19",
         "451"
        ],
        [
         "11",
         "425"
        ],
        [
         "18",
         "423"
        ],
        [
         "17",
         "419"
        ],
        [
         "16",
         "419"
        ],
        [
         "20",
         "347"
        ]
       ],
       "shape": {
        "columns": 1,
        "rows": 21
       }
      },
      "text/plain": [
       "D_NAT\n",
       "1     2215\n",
       "2     2007\n",
       "3     1300\n",
       "4     1192\n",
       "5      834\n",
       "7      769\n",
       "10     687\n",
       "6      648\n",
       "12     644\n",
       "9      621\n",
       "97     607\n",
       "8      606\n",
       "13     536\n",
       "14     536\n",
       "15     530\n",
       "19     451\n",
       "11     425\n",
       "18     423\n",
       "17     419\n",
       "16     419\n",
       "20     347\n",
       "Name: count, dtype: int64"
      ]
     },
     "execution_count": 8,
     "metadata": {},
     "output_type": "execute_result"
    }
   ],
   "source": [
    "df['D_NAT'].value_counts()"
   ]
  },
  {
   "cell_type": "code",
   "execution_count": null,
   "id": "54c4cca4",
   "metadata": {},
   "outputs": [],
   "source": [
    "df['D_NAT2'].value_counts()"
   ]
  },
  {
   "cell_type": "markdown",
   "id": "534251fb",
   "metadata": {},
   "source": [
    "### 국가명 매핑"
   ]
  },
  {
   "cell_type": "code",
   "execution_count": 9,
   "id": "5b548944",
   "metadata": {},
   "outputs": [
    {
     "data": {
      "text/plain": [
       "dtype('int64')"
      ]
     },
     "execution_count": 9,
     "metadata": {},
     "output_type": "execute_result"
    }
   ],
   "source": [
    "df['D_NAT'].dtype"
   ]
  },
  {
   "cell_type": "code",
   "execution_count": null,
   "id": "431e55af",
   "metadata": {},
   "outputs": [],
   "source": [
    "nat_map = {\n",
    "    1: '중국',\n",
    "    2: '일본',\n",
    "    3: '대만',\n",
    "    4: '미국',\n",
    "    5: '홍콩',\n",
    "    6: '태국',\n",
    "    7: '베트남',\n",
    "    10: '싱가포르',\n",
    "    16: '영국',\n",
    "    18: '독일',\n",
    "    12: '중동'\n",
    "}\n",
    "\n",
    "df['국가명'] = df['D_NAT'].map(nat_map)\n",
    "\n",
    "# 분석 대상 국가만 필터링\n",
    "df = df[df['국가명'].notna()]"
   ]
  },
  {
   "cell_type": "code",
   "execution_count": 11,
   "id": "3fef28bc",
   "metadata": {},
   "outputs": [
    {
     "data": {
      "application/vnd.microsoft.datawrangler.viewer.v0+json": {
       "columns": [
        {
         "name": "국가명",
         "rawType": "object",
         "type": "string"
        },
        {
         "name": "count",
         "rawType": "int64",
         "type": "integer"
        }
       ],
       "ref": "f5eaf7b1-1805-4d21-9bbc-6d1cc2f7dcca",
       "rows": [
        [
         "중국",
         "2215"
        ],
        [
         "일본",
         "2007"
        ],
        [
         "대만",
         "1300"
        ],
        [
         "미국",
         "1192"
        ],
        [
         "홍콩",
         "834"
        ],
        [
         "베트남",
         "769"
        ],
        [
         "싱가포르",
         "687"
        ],
        [
         "태국",
         "648"
        ],
        [
         "중동",
         "644"
        ],
        [
         "독일",
         "423"
        ],
        [
         "영국",
         "419"
        ]
       ],
       "shape": {
        "columns": 1,
        "rows": 11
       }
      },
      "text/plain": [
       "국가명\n",
       "중국      2215\n",
       "일본      2007\n",
       "대만      1300\n",
       "미국      1192\n",
       "홍콩       834\n",
       "베트남      769\n",
       "싱가포르     687\n",
       "태국       648\n",
       "중동       644\n",
       "독일       423\n",
       "영국       419\n",
       "Name: count, dtype: int64"
      ]
     },
     "execution_count": 11,
     "metadata": {},
     "output_type": "execute_result"
    }
   ],
   "source": [
    "df['국가명'].value_counts()"
   ]
  },
  {
   "cell_type": "markdown",
   "id": "a759e56f",
   "metadata": {},
   "source": [
    "### 체류일수 및 총지출 0 이하 제거"
   ]
  },
  {
   "cell_type": "code",
   "execution_count": 12,
   "id": "339a9a49",
   "metadata": {},
   "outputs": [],
   "source": [
    "df = df[(df['M일HAP'] > 0) & (df['총액1인TOT_개별국제교통비제외2'] > 0)]"
   ]
  },
  {
   "cell_type": "markdown",
   "id": "8f2a58e8",
   "metadata": {},
   "source": [
    "### 웰니스 활동 참여 여부 파생변수 생성"
   ]
  },
  {
   "cell_type": "code",
   "execution_count": 13,
   "metadata": {},
   "outputs": [
    {
     "data": {
      "text/plain": [
       "dtype('float64')"
      ]
     },
     "execution_count": 13,
     "metadata": {},
     "output_type": "execute_result"
    }
   ],
   "source": [
    "df['Q8a03'].dtype"
   ]
  },
  {
   "cell_type": "code",
   "execution_count": 14,
   "metadata": {},
   "outputs": [
    {
     "data": {
      "text/plain": [
       "dtype('float64')"
      ]
     },
     "execution_count": 14,
     "metadata": {},
     "output_type": "execute_result"
    }
   ],
   "source": [
    "df['Q8a12'].dtype"
   ]
  },
  {
   "cell_type": "code",
   "execution_count": 15,
   "metadata": {},
   "outputs": [],
   "source": [
    "df['웰니스참여'] = ((df['Q8a03'] == 3) | (df['Q8a12'] == 12)).astype(int)"
   ]
  },
  {
   "cell_type": "code",
   "execution_count": 16,
   "metadata": {},
   "outputs": [
    {
     "data": {
      "application/vnd.microsoft.datawrangler.viewer.v0+json": {
       "columns": [
        {
         "name": "웰니스참여",
         "rawType": "int64",
         "type": "integer"
        },
        {
         "name": "count",
         "rawType": "int64",
         "type": "integer"
        }
       ],
       "ref": "64df123e-dafc-4fce-9edc-a7fd0494cd6d",
       "rows": [
        [
         "1",
         "6584"
        ],
        [
         "0",
         "4554"
        ]
       ],
       "shape": {
        "columns": 1,
        "rows": 2
       }
      },
      "text/plain": [
       "웰니스참여\n",
       "1    6584\n",
       "0    4554\n",
       "Name: count, dtype: int64"
      ]
     },
     "execution_count": 16,
     "metadata": {},
     "output_type": "execute_result"
    }
   ],
   "source": [
    "df['웰니스참여'].value_counts()"
   ]
  },
  {
   "cell_type": "code",
   "execution_count": 17,
   "metadata": {},
   "outputs": [
    {
     "data": {
      "application/vnd.microsoft.datawrangler.viewer.v0+json": {
       "columns": [
        {
         "name": "Q8_1a1",
         "rawType": "int64",
         "type": "integer"
        },
        {
         "name": "count",
         "rawType": "int64",
         "type": "integer"
        }
       ],
       "ref": "5f1e12c4-8140-4029-b52d-fd5cdd77a1c8",
       "rows": [
        [
         "2",
         "2127"
        ],
        [
         "1",
         "2081"
        ],
        [
         "3",
         "1483"
        ],
        [
         "5",
         "1085"
        ],
        [
         "18",
         "812"
        ],
        [
         "8",
         "524"
        ],
        [
         "13",
         "417"
        ],
        [
         "12",
         "384"
        ],
        [
         "6",
         "363"
        ],
        [
         "7",
         "298"
        ],
        [
         "14",
         "275"
        ],
        [
         "11",
         "271"
        ],
        [
         "4",
         "256"
        ],
        [
         "19",
         "224"
        ],
        [
         "17",
         "121"
        ],
        [
         "9",
         "119"
        ],
        [
         "16",
         "110"
        ],
        [
         "10",
         "69"
        ],
        [
         "20",
         "64"
        ],
        [
         "15",
         "55"
        ]
       ],
       "shape": {
        "columns": 1,
        "rows": 20
       }
      },
      "text/plain": [
       "Q8_1a1\n",
       "2     2127\n",
       "1     2081\n",
       "3     1483\n",
       "5     1085\n",
       "18     812\n",
       "8      524\n",
       "13     417\n",
       "12     384\n",
       "6      363\n",
       "7      298\n",
       "14     275\n",
       "11     271\n",
       "4      256\n",
       "19     224\n",
       "17     121\n",
       "9      119\n",
       "16     110\n",
       "10      69\n",
       "20      64\n",
       "15      55\n",
       "Name: count, dtype: int64"
      ]
     },
     "execution_count": 17,
     "metadata": {},
     "output_type": "execute_result"
    }
   ],
   "source": [
    "df['Q8_1a1'].value_counts()"
   ]
  },
  {
   "cell_type": "code",
   "execution_count": 18,
   "metadata": {},
   "outputs": [
    {
     "data": {
      "application/vnd.microsoft.datawrangler.viewer.v0+json": {
       "columns": [
        {
         "name": "Q8_1a2",
         "rawType": "float64",
         "type": "float"
        },
        {
         "name": "count",
         "rawType": "int64",
         "type": "integer"
        }
       ],
       "ref": "42cd9fde-b7e6-469d-910f-11b65725e84d",
       "rows": [
        [
         "1.0",
         "3060"
        ],
        [
         "2.0",
         "2674"
        ],
        [
         "3.0",
         "1315"
        ],
        [
         "5.0",
         "937"
        ],
        [
         "6.0",
         "349"
        ],
        [
         "7.0",
         "347"
        ],
        [
         "4.0",
         "319"
        ],
        [
         "12.0",
         "266"
        ],
        [
         "11.0",
         "208"
        ],
        [
         "13.0",
         "203"
        ],
        [
         "8.0",
         "181"
        ],
        [
         "18.0",
         "164"
        ],
        [
         "9.0",
         "90"
        ],
        [
         "14.0",
         "78"
        ],
        [
         "16.0",
         "58"
        ],
        [
         "10.0",
         "48"
        ],
        [
         "15.0",
         "47"
        ],
        [
         "17.0",
         "42"
        ],
        [
         "19.0",
         "32"
        ],
        [
         "20.0",
         "13"
        ]
       ],
       "shape": {
        "columns": 1,
        "rows": 20
       }
      },
      "text/plain": [
       "Q8_1a2\n",
       "1.0     3060\n",
       "2.0     2674\n",
       "3.0     1315\n",
       "5.0      937\n",
       "6.0      349\n",
       "7.0      347\n",
       "4.0      319\n",
       "12.0     266\n",
       "11.0     208\n",
       "13.0     203\n",
       "8.0      181\n",
       "18.0     164\n",
       "9.0       90\n",
       "14.0      78\n",
       "16.0      58\n",
       "10.0      48\n",
       "15.0      47\n",
       "17.0      42\n",
       "19.0      32\n",
       "20.0      13\n",
       "Name: count, dtype: int64"
      ]
     },
     "execution_count": 18,
     "metadata": {},
     "output_type": "execute_result"
    }
   ],
   "source": [
    "df['Q8_1a2'].value_counts()"
   ]
  },
  {
   "cell_type": "code",
   "execution_count": 19,
   "metadata": {},
   "outputs": [
    {
     "data": {
      "application/vnd.microsoft.datawrangler.viewer.v0+json": {
       "columns": [
        {
         "name": "Q8_1a3",
         "rawType": "float64",
         "type": "float"
        },
        {
         "name": "count",
         "rawType": "int64",
         "type": "integer"
        }
       ],
       "ref": "47f16181-5c7c-480b-b0f6-7ad4a64cdf1a",
       "rows": [
        [
         "2.0",
         "2003"
        ],
        [
         "1.0",
         "1898"
        ],
        [
         "3.0",
         "1361"
        ],
        [
         "5.0",
         "960"
        ],
        [
         "7.0",
         "410"
        ],
        [
         "4.0",
         "357"
        ],
        [
         "6.0",
         "341"
        ],
        [
         "13.0",
         "320"
        ],
        [
         "12.0",
         "281"
        ],
        [
         "11.0",
         "265"
        ],
        [
         "8.0",
         "189"
        ],
        [
         "18.0",
         "174"
        ],
        [
         "14.0",
         "124"
        ],
        [
         "10.0",
         "66"
        ],
        [
         "9.0",
         "65"
        ],
        [
         "19.0",
         "47"
        ],
        [
         "16.0",
         "41"
        ],
        [
         "15.0",
         "40"
        ],
        [
         "17.0",
         "31"
        ],
        [
         "20.0",
         "19"
        ]
       ],
       "shape": {
        "columns": 1,
        "rows": 20
       }
      },
      "text/plain": [
       "Q8_1a3\n",
       "2.0     2003\n",
       "1.0     1898\n",
       "3.0     1361\n",
       "5.0      960\n",
       "7.0      410\n",
       "4.0      357\n",
       "6.0      341\n",
       "13.0     320\n",
       "12.0     281\n",
       "11.0     265\n",
       "8.0      189\n",
       "18.0     174\n",
       "14.0     124\n",
       "10.0      66\n",
       "9.0       65\n",
       "19.0      47\n",
       "16.0      41\n",
       "15.0      40\n",
       "17.0      31\n",
       "20.0      19\n",
       "Name: count, dtype: int64"
      ]
     },
     "execution_count": 19,
     "metadata": {},
     "output_type": "execute_result"
    }
   ],
   "source": [
    "df['Q8_1a3'].value_counts()"
   ]
  },
  {
   "cell_type": "markdown",
   "id": "0e701e34",
   "metadata": {},
   "source": [
    "- 자연경관(3)은 Top3 만족 활동 중 매우 자주 등장 (총 4000회 이상)\n",
    "\n",
    "- 뷰티/미용(12)도 상대적으로 빈도는 적지만 분명히 선택되고 있음"
   ]
  },
  {
   "cell_type": "markdown",
   "id": "66eb39c4",
   "metadata": {},
   "source": [
    "### 웰니스 활동이 Top3 만족 활동에 포함된 총 응답자 수\n",
    "- 현재는 각 코드별 총 등장 수만 계산됨 -> 실제 몇 명이 ‘3 또는 12’를 한번 이상 선택했는지 계산"
   ]
  },
  {
   "cell_type": "code",
   "execution_count": 20,
   "id": "9e85f508",
   "metadata": {},
   "outputs": [
    {
     "data": {
      "application/vnd.microsoft.datawrangler.viewer.v0+json": {
       "columns": [
        {
         "name": "웰니스만족",
         "rawType": "int64",
         "type": "integer"
        },
        {
         "name": "count",
         "rawType": "int64",
         "type": "integer"
        }
       ],
       "ref": "d9298074-3df2-4ce8-9332-5e9e06f9d6ef",
       "rows": [
        [
         "0",
         "6251"
        ],
        [
         "1",
         "4887"
        ]
       ],
       "shape": {
        "columns": 1,
        "rows": 2
       }
      },
      "text/plain": [
       "웰니스만족\n",
       "0    6251\n",
       "1    4887\n",
       "Name: count, dtype: int64"
      ]
     },
     "execution_count": 20,
     "metadata": {},
     "output_type": "execute_result"
    }
   ],
   "source": [
    "df['웰니스만족'] = df[['Q8_1a1', 'Q8_1a2', 'Q8_1a3']].apply(\n",
    "    lambda row: any(x in [3, 12] for x in row if pd.notnull(x)),\n",
    "    axis=1\n",
    ").astype(int)\n",
    "\n",
    "df['웰니스만족'].value_counts()"
   ]
  },
  {
   "cell_type": "markdown",
   "id": "92dd629f",
   "metadata": {},
   "source": [
    "### 여행 목적 컬럼 (D_MOK) 전처리\n",
    "- 여가/위락/힐링, 친구/친지 방문, 사업/전문 활동, 교육, 기타\n",
    "- 여가/힐링을 즐길 의사와 여건이 있었던 응답자만 포함"
   ]
  },
  {
   "cell_type": "code",
   "execution_count": 21,
   "id": "fe64995c",
   "metadata": {},
   "outputs": [
    {
     "data": {
      "text/plain": [
       "dtype('int64')"
      ]
     },
     "execution_count": 21,
     "metadata": {},
     "output_type": "execute_result"
    }
   ],
   "source": [
    "df['D_MOK'].dtype"
   ]
  },
  {
   "cell_type": "code",
   "execution_count": 22,
   "id": "c9b220d9",
   "metadata": {},
   "outputs": [],
   "source": [
    "df = df[df['D_MOK'].isin([1, 2])]"
   ]
  },
  {
   "cell_type": "code",
   "execution_count": 23,
   "id": "5aaebd6c",
   "metadata": {},
   "outputs": [
    {
     "data": {
      "application/vnd.microsoft.datawrangler.viewer.v0+json": {
       "columns": [
        {
         "name": "D_MOK",
         "rawType": "int64",
         "type": "integer"
        },
        {
         "name": "count",
         "rawType": "int64",
         "type": "integer"
        }
       ],
       "ref": "03b14370-fa9a-4bf0-ae8c-530302e757fa",
       "rows": [
        [
         "1",
         "7374"
        ],
        [
         "2",
         "1395"
        ]
       ],
       "shape": {
        "columns": 1,
        "rows": 2
       }
      },
      "text/plain": [
       "D_MOK\n",
       "1    7374\n",
       "2    1395\n",
       "Name: count, dtype: int64"
      ]
     },
     "execution_count": 23,
     "metadata": {},
     "output_type": "execute_result"
    }
   ],
   "source": [
    "df['D_MOK'].value_counts()"
   ]
  },
  {
   "cell_type": "code",
   "execution_count": 24,
   "metadata": {},
   "outputs": [
    {
     "name": "stdout",
     "output_type": "stream",
     "text": [
      "동행자유형 결측치 수: 0\n",
      "동행자유형 고유값 목록: ['가족' '혼자' '친구' '직장동료' '기타']\n"
     ]
    }
   ],
   "source": [
    "# 분류 성공 여부 및 결측 확인\n",
    "# 결측치 확인\n",
    "print(\"동행자유형 결측치 수:\", df['동행자유형'].isnull().sum())\n",
    "\n",
    "# 고유값 확인\n",
    "print(\"동행자유형 고유값 목록:\", df['동행자유형'].dropna().unique())"
   ]
  },
  {
   "cell_type": "markdown",
   "id": "bc18c3f0",
   "metadata": {},
   "source": [
    "- ANOVA 검정 안정 확보를 위해 로그 변환 변수 추가"
   ]
  },
  {
   "cell_type": "code",
   "execution_count": 25,
   "id": "315947af",
   "metadata": {},
   "outputs": [],
   "source": [
    "df['log_총액'] = np.log(df['총액1인TOT_개별국제교통비제외2'])"
   ]
  },
  {
   "cell_type": "markdown",
   "id": "4a3d6a49",
   "metadata": {},
   "source": [
    "### 24년도 전처리 데이터 저장"
   ]
  },
  {
   "cell_type": "code",
   "execution_count": 26,
   "metadata": {},
   "outputs": [],
   "source": [
    "df['year'] = 2024  # 연도 컬럼 붙이기\n",
    "df.to_csv(\"data/2024/외래관광객조사_2024_전처리2.csv\", index=False, encoding='utf-8-sig')"
   ]
  },
  {
   "cell_type": "code",
   "execution_count": null,
   "id": "f324eb93",
   "metadata": {},
   "outputs": [],
   "source": []
  },
  {
   "cell_type": "code",
   "execution_count": null,
   "id": "08eff23f",
   "metadata": {},
   "outputs": [],
   "source": []
  }
 ],
 "metadata": {
  "kernelspec": {
   "display_name": "tensorflow_env",
   "language": "python",
   "name": "python3"
  },
  "language_info": {
   "codemirror_mode": {
    "name": "ipython",
    "version": 3
   },
   "file_extension": ".py",
   "mimetype": "text/x-python",
   "name": "python",
   "nbconvert_exporter": "python",
   "pygments_lexer": "ipython3",
   "version": "3.10.18"
  }
 },
 "nbformat": 4,
 "nbformat_minor": 5
}
