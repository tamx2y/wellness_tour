{
 "cells": [
  {
   "cell_type": "code",
   "execution_count": 1,
   "id": "bd6cb235",
   "metadata": {},
   "outputs": [],
   "source": [
    "import pandas as pd\n",
    "import numpy as np\n",
    "import matplotlib.pyplot as plt\n",
    "\n",
    "# 그래프 기본 설정\n",
    "plt.rcParams['font.family'] = 'Malgun Gothic'\n",
    "# plt.rcParams['font.family'] = 'AppleGothic'\n",
    "plt.rcParams['figure.figsize'] = 12, 6\n",
    "plt.rcParams['font.size'] = 14\n",
    "plt.rcParams['axes.unicode_minus'] = False"
   ]
  },
  {
   "cell_type": "markdown",
   "id": "8e1f09cc",
   "metadata": {},
   "source": [
    "## 2024 데이터 전처리"
   ]
  },
  {
   "cell_type": "code",
   "execution_count": 2,
   "metadata": {},
   "outputs": [],
   "source": [
    "df = pd.read_excel('data/2024/2024 외래관광객조사_Data.xlsx')"
   ]
  },
  {
   "cell_type": "markdown",
   "id": "980e19d0",
   "metadata": {},
   "source": [
    "- 국적: D_NAT\n",
    "- 체류기간: M일HAP\n",
    "- 동반자 유무: Q7A\n",
    "- 동행자 유형: Q7a_dk ~ Q7a8\n",
    "- 여행 형태: D_GUB\n",
    "- 방문 목적: D_MOK\n",
    "- 총지출: 총액1인TOT항공제외2\n",
    "- 참여한 활동(자연경관 감상, 뷰티/미용 관광): Q8a03, Q8a12\n",
    "- 참여 만족도: Q8_1a1, Q8_1a2, Q8_1a3\n",
    "- 가중치: weight "
   ]
  },
  {
   "cell_type": "code",
   "execution_count": 32,
   "id": "af1a502a",
   "metadata": {},
   "outputs": [],
   "source": [
    "cols_needed = ['D_NAT','M일HAP', \n",
    "               'Q7A','Q7a_dk', 'Q7a2', 'Q7a3', 'Q7a4', 'Q7a5', 'Q7a6', 'Q7a7', 'Q7a8',\n",
    "               'D_GUB', 'D_MOK', '총액1인TOT_개별국제교통비제외2', \n",
    "               'Q8a03', 'Q8a12', \n",
    "               'Q8_1a1', 'Q8_1a2', 'Q8_1a3',\n",
    "               'D_AGE']\n",
    "df = df[cols_needed]"
   ]
  },
  {
   "cell_type": "code",
   "execution_count": 33,
   "id": "e866267a",
   "metadata": {},
   "outputs": [
    {
     "data": {
      "application/vnd.microsoft.datawrangler.viewer.v0+json": {
       "columns": [
        {
         "name": "index",
         "rawType": "object",
         "type": "string"
        },
        {
         "name": "0",
         "rawType": "int64",
         "type": "integer"
        }
       ],
       "ref": "8983cfb1-e641-4e30-a5a2-4587b7118bd5",
       "rows": [
        [
         "D_NAT",
         "0"
        ],
        [
         "M일HAP",
         "0"
        ],
        [
         "Q7A",
         "0"
        ],
        [
         "Q7a_dk",
         "6934"
        ],
        [
         "Q7a2",
         "6655"
        ],
        [
         "Q7a3",
         "8024"
        ],
        [
         "Q7a4",
         "7720"
        ],
        [
         "Q7a5",
         "7730"
        ],
        [
         "Q7a6",
         "5687"
        ],
        [
         "Q7a7",
         "8309"
        ],
        [
         "Q7a8",
         "8734"
        ],
        [
         "D_GUB",
         "0"
        ],
        [
         "D_MOK",
         "0"
        ],
        [
         "총액1인TOT_개별국제교통비제외2",
         "0"
        ],
        [
         "Q8a03",
         "3560"
        ],
        [
         "Q8a12",
         "7459"
        ],
        [
         "Q8_1a1",
         "0"
        ],
        [
         "Q8_1a2",
         "174"
        ],
        [
         "Q8_1a3",
         "1142"
        ],
        [
         "D_AGE",
         "0"
        ]
       ],
       "shape": {
        "columns": 1,
        "rows": 20
       }
      },
      "text/plain": [
       "D_NAT                    0\n",
       "M일HAP                    0\n",
       "Q7A                      0\n",
       "Q7a_dk                6934\n",
       "Q7a2                  6655\n",
       "Q7a3                  8024\n",
       "Q7a4                  7720\n",
       "Q7a5                  7730\n",
       "Q7a6                  5687\n",
       "Q7a7                  8309\n",
       "Q7a8                  8734\n",
       "D_GUB                    0\n",
       "D_MOK                    0\n",
       "총액1인TOT_개별국제교통비제외2       0\n",
       "Q8a03                 3560\n",
       "Q8a12                 7459\n",
       "Q8_1a1                   0\n",
       "Q8_1a2                 174\n",
       "Q8_1a3                1142\n",
       "D_AGE                    0\n",
       "dtype: int64"
      ]
     },
     "execution_count": 33,
     "metadata": {},
     "output_type": "execute_result"
    }
   ],
   "source": [
    "df.isnull().sum()"
   ]
  },
  {
   "cell_type": "markdown",
   "id": "2a625d8e",
   "metadata": {},
   "source": [
    "### 동행자 유형 분류"
   ]
  },
  {
   "cell_type": "code",
   "execution_count": 34,
   "id": "d3a112aa",
   "metadata": {},
   "outputs": [
    {
     "name": "stderr",
     "output_type": "stream",
     "text": [
      "C:\\Users\\82106\\AppData\\Local\\Temp\\ipykernel_17208\\2849500916.py:43: SettingWithCopyWarning: \n",
      "A value is trying to be set on a copy of a slice from a DataFrame.\n",
      "Try using .loc[row_indexer,col_indexer] = value instead\n",
      "\n",
      "See the caveats in the documentation: https://pandas.pydata.org/pandas-docs/stable/user_guide/indexing.html#returning-a-view-versus-a-copy\n",
      "  df['동행자_단순'] = df.apply(classify_family_group, axis=1)\n",
      "C:\\Users\\82106\\AppData\\Local\\Temp\\ipykernel_17208\\2849500916.py:44: SettingWithCopyWarning: \n",
      "A value is trying to be set on a copy of a slice from a DataFrame.\n",
      "Try using .loc[row_indexer,col_indexer] = value instead\n",
      "\n",
      "See the caveats in the documentation: https://pandas.pydata.org/pandas-docs/stable/user_guide/indexing.html#returning-a-view-versus-a-copy\n",
      "  df['동행자_세분화'] = df.apply(classify_detailed_group, axis=1)\n"
     ]
    }
   ],
   "source": [
    "# 1. 동행자 관련 컬럼만 추출\n",
    "companion_cols = ['Q7a_dk', 'Q7a2', 'Q7a3', 'Q7a4', 'Q7a5', 'Q7a6', 'Q7a7', 'Q7a8']\n",
    "\n",
    "# 2. 결측치 처리 안함 \n",
    "# 결측치는 <선택하지 않음>을 의미하므로 처리하지 않음\n",
    "\n",
    "# 3. 동행자유형 파생 변수 만들기\n",
    "## 1) 단순 그룹 (가족 여부 중심)\n",
    "def classify_family_group(row):\n",
    "    if row['Q7a_dk'] == 1:\n",
    "        return '혼자'\n",
    "    if any([row['Q7a2'] == 2, row['Q7a3'] == 3, row['Q7a4'] == 4, row['Q7a5'] == 5]):\n",
    "        return '가족'\n",
    "    if row['Q7a6'] == 6:\n",
    "        return '친구'\n",
    "    if row['Q7a7'] == 7:\n",
    "        return '직장동료'\n",
    "    if row['Q7a8'] == 8:\n",
    "        return '기타'\n",
    "    return '응답없음'\n",
    "\n",
    "## 2) 세분화 그룹 (구체 동행자 중심)\n",
    "def classify_detailed_group(row):\n",
    "    if row['Q7a_dk'] == 1:\n",
    "        return '혼자'\n",
    "    if row['Q7a2'] == 2:\n",
    "        return '배우자/파트너'\n",
    "    if row['Q7a3'] == 3:\n",
    "        return '부모님'\n",
    "    if row['Q7a4'] == 4:\n",
    "        return '자녀'\n",
    "    if row['Q7a5'] == 5:\n",
    "        return '그 외 가족 친지'\n",
    "    if row['Q7a6'] == 6:\n",
    "        return '친구'\n",
    "    if row['Q7a7'] == 7:\n",
    "        return '직장동료'\n",
    "    if row['Q7a8'] == 8:\n",
    "        return '기타'\n",
    "    return '응답없음'\n",
    "\n",
    "# 4. 적용\n",
    "df['동행자_단순'] = df.apply(classify_family_group, axis=1)\n",
    "df['동행자_세분화'] = df.apply(classify_detailed_group, axis=1)\n",
    "\n",
    "# 5. 유효 응답만 남기기\n",
    "## 두 변수 모두 '응답없음'이 아닌 행만 남김\n",
    "df = df[(df['동행자_단순'] != '응답없음') & (df['동행자_세분화'] != '응답없음')].copy()"
   ]
  },
  {
   "cell_type": "code",
   "execution_count": 35,
   "metadata": {},
   "outputs": [
    {
     "data": {
      "text/plain": [
       "Index(['D_NAT', 'M일HAP', 'Q7A', 'Q7a_dk', 'Q7a2', 'Q7a3', 'Q7a4', 'Q7a5',\n",
       "       'Q7a6', 'Q7a7', 'Q7a8', 'D_GUB', 'D_MOK', '총액1인TOT_개별국제교통비제외2', 'Q8a03',\n",
       "       'Q8a12', 'Q8_1a1', 'Q8_1a2', 'Q8_1a3', 'D_AGE', '동행자_단순', '동행자_세분화'],\n",
       "      dtype='object')"
      ]
     },
     "execution_count": 35,
     "metadata": {},
     "output_type": "execute_result"
    }
   ],
   "source": [
    "df.columns"
   ]
  },
  {
   "cell_type": "code",
   "execution_count": 36,
   "id": "272103fd",
   "metadata": {},
   "outputs": [
    {
     "data": {
      "application/vnd.microsoft.datawrangler.viewer.v0+json": {
       "columns": [
        {
         "name": "동행자_단순",
         "rawType": "object",
         "type": "string"
        },
        {
         "name": "count",
         "rawType": "int64",
         "type": "integer"
        }
       ],
       "ref": "abd5d031-9bfb-45e7-a1b7-8d40413e329e",
       "rows": [
        [
         "가족",
         "3704"
        ],
        [
         "친구",
         "2854"
        ],
        [
         "혼자",
         "1835"
        ],
        [
         "직장동료",
         "355"
        ],
        [
         "기타",
         "21"
        ]
       ],
       "shape": {
        "columns": 1,
        "rows": 5
       }
      },
      "text/plain": [
       "동행자_단순\n",
       "가족      3704\n",
       "친구      2854\n",
       "혼자      1835\n",
       "직장동료     355\n",
       "기타        21\n",
       "Name: count, dtype: int64"
      ]
     },
     "execution_count": 36,
     "metadata": {},
     "output_type": "execute_result"
    }
   ],
   "source": [
    "df['동행자_단순'].value_counts()"
   ]
  },
  {
   "cell_type": "code",
   "execution_count": 37,
   "id": "8a712f12",
   "metadata": {},
   "outputs": [
    {
     "data": {
      "application/vnd.microsoft.datawrangler.viewer.v0+json": {
       "columns": [
        {
         "name": "동행자_세분화",
         "rawType": "object",
         "type": "string"
        },
        {
         "name": "count",
         "rawType": "int64",
         "type": "integer"
        }
       ],
       "ref": "136cc965-d7e5-4c46-8902-744779c0a48d",
       "rows": [
        [
         "친구",
         "2854"
        ],
        [
         "배우자/파트너",
         "2114"
        ],
        [
         "혼자",
         "1835"
        ],
        [
         "부모님",
         "630"
        ],
        [
         "그 외 가족 친지",
         "527"
        ],
        [
         "자녀",
         "433"
        ],
        [
         "직장동료",
         "355"
        ],
        [
         "기타",
         "21"
        ]
       ],
       "shape": {
        "columns": 1,
        "rows": 8
       }
      },
      "text/plain": [
       "동행자_세분화\n",
       "친구           2854\n",
       "배우자/파트너      2114\n",
       "혼자           1835\n",
       "부모님           630\n",
       "그 외 가족 친지     527\n",
       "자녀            433\n",
       "직장동료          355\n",
       "기타             21\n",
       "Name: count, dtype: int64"
      ]
     },
     "execution_count": 37,
     "metadata": {},
     "output_type": "execute_result"
    }
   ],
   "source": [
    "df['동행자_세분화'].value_counts()"
   ]
  },
  {
   "cell_type": "markdown",
   "id": "87a4c02c",
   "metadata": {},
   "source": [
    "### 국적 선별 \n",
    "- 2023년 글로벌 방한 관광객 통계 기준 상위 6개국 \n",
    "- GWI-Rankings 상위 5개국 중 2개국(방한관광객 상위 국가와 중복 제외)"
   ]
  },
  {
   "cell_type": "code",
   "execution_count": 38,
   "id": "d7eda214",
   "metadata": {},
   "outputs": [
    {
     "data": {
      "application/vnd.microsoft.datawrangler.viewer.v0+json": {
       "columns": [
        {
         "name": "D_NAT",
         "rawType": "int64",
         "type": "integer"
        },
        {
         "name": "count",
         "rawType": "int64",
         "type": "integer"
        }
       ],
       "ref": "a5b411ca-865b-4f1e-8800-dde1ee96fd1b",
       "rows": [
        [
         "1",
         "1804"
        ],
        [
         "2",
         "1716"
        ],
        [
         "3",
         "1171"
        ],
        [
         "4",
         "786"
        ],
        [
         "5",
         "746"
        ],
        [
         "7",
         "603"
        ],
        [
         "10",
         "537"
        ],
        [
         "6",
         "515"
        ],
        [
         "12",
         "327"
        ],
        [
         "18",
         "282"
        ],
        [
         "16",
         "282"
        ]
       ],
       "shape": {
        "columns": 1,
        "rows": 11
       }
      },
      "text/plain": [
       "D_NAT\n",
       "1     1804\n",
       "2     1716\n",
       "3     1171\n",
       "4      786\n",
       "5      746\n",
       "7      603\n",
       "10     537\n",
       "6      515\n",
       "12     327\n",
       "18     282\n",
       "16     282\n",
       "Name: count, dtype: int64"
      ]
     },
     "execution_count": 38,
     "metadata": {},
     "output_type": "execute_result"
    }
   ],
   "source": [
    "df['D_NAT'].value_counts()"
   ]
  },
  {
   "cell_type": "markdown",
   "id": "534251fb",
   "metadata": {},
   "source": [
    "### 국가명 매핑"
   ]
  },
  {
   "cell_type": "code",
   "execution_count": 39,
   "id": "5b548944",
   "metadata": {},
   "outputs": [
    {
     "data": {
      "text/plain": [
       "dtype('int64')"
      ]
     },
     "execution_count": 39,
     "metadata": {},
     "output_type": "execute_result"
    }
   ],
   "source": [
    "df['D_NAT'].dtype"
   ]
  },
  {
   "cell_type": "code",
   "execution_count": 40,
   "id": "431e55af",
   "metadata": {},
   "outputs": [],
   "source": [
    "nat_map = {\n",
    "    1: '중국',\n",
    "    2: '일본',\n",
    "    3: '대만',\n",
    "    4: '미국',\n",
    "    5: '홍콩',\n",
    "    6: '태국',\n",
    "    7: '베트남',\n",
    "    10: '싱가포르',\n",
    "    16: '영국',\n",
    "    18: '독일',\n",
    "    12: '중동'\n",
    "}\n",
    "\n",
    "df['국가명'] = df['D_NAT'].map(nat_map)\n",
    "\n",
    "# 분석 대상 국가만 필터링\n",
    "df = df[df['국가명'].notna()]"
   ]
  },
  {
   "cell_type": "code",
   "execution_count": 41,
   "id": "3fef28bc",
   "metadata": {},
   "outputs": [
    {
     "data": {
      "application/vnd.microsoft.datawrangler.viewer.v0+json": {
       "columns": [
        {
         "name": "국가명",
         "rawType": "object",
         "type": "string"
        },
        {
         "name": "count",
         "rawType": "int64",
         "type": "integer"
        }
       ],
       "ref": "3e5f526f-b8cc-4551-83a5-2eca4c6a0a9c",
       "rows": [
        [
         "중국",
         "1804"
        ],
        [
         "일본",
         "1716"
        ],
        [
         "대만",
         "1171"
        ],
        [
         "미국",
         "786"
        ],
        [
         "홍콩",
         "746"
        ],
        [
         "베트남",
         "603"
        ],
        [
         "싱가포르",
         "537"
        ],
        [
         "태국",
         "515"
        ],
        [
         "중동",
         "327"
        ],
        [
         "독일",
         "282"
        ],
        [
         "영국",
         "282"
        ]
       ],
       "shape": {
        "columns": 1,
        "rows": 11
       }
      },
      "text/plain": [
       "국가명\n",
       "중국      1804\n",
       "일본      1716\n",
       "대만      1171\n",
       "미국       786\n",
       "홍콩       746\n",
       "베트남      603\n",
       "싱가포르     537\n",
       "태국       515\n",
       "중동       327\n",
       "독일       282\n",
       "영국       282\n",
       "Name: count, dtype: int64"
      ]
     },
     "execution_count": 41,
     "metadata": {},
     "output_type": "execute_result"
    }
   ],
   "source": [
    "df['국가명'].value_counts()"
   ]
  },
  {
   "cell_type": "markdown",
   "id": "20ad2285",
   "metadata": {},
   "source": [
    "### 연령대 분류"
   ]
  },
  {
   "cell_type": "code",
   "execution_count": 42,
   "id": "cb5a4fd2",
   "metadata": {},
   "outputs": [],
   "source": [
    "# 연령 통합 그룹\n",
    "def classify_age_group_simple(code):\n",
    "    if code == 1:\n",
    "        return '10대'\n",
    "    elif code == 2:\n",
    "        return '20대'\n",
    "    elif code in [3, 4, 5]:\n",
    "        return '30~50대'\n",
    "    elif code == 6:\n",
    "        return '60대 이상'\n",
    "    return '응답없음'\n",
    "\n",
    "# 연령 세분화 그룹 (항목 정의서 그대로)\n",
    "def classify_age_group_detailed(code):\n",
    "    age_map = {\n",
    "        1: '10대',\n",
    "        2: '20대',\n",
    "        3: '30대',\n",
    "        4: '40대',\n",
    "        5: '50대',\n",
    "        6: '60대 이상'\n",
    "    }\n",
    "    return age_map.get(code, '응답없음')\n",
    "\n",
    "# 적용\n",
    "df['연령대_단순'] = df['D_AGE'].apply(classify_age_group_simple)\n",
    "df['연령대_세분화'] = df['D_AGE'].apply(classify_age_group_detailed)\n",
    "\n",
    "df = df[(df['연령대_단순'] != '응답없음') & (df['연령대_세분화'] != '응답없음')].copy()"
   ]
  },
  {
   "cell_type": "code",
   "execution_count": 43,
   "id": "506f10a6",
   "metadata": {},
   "outputs": [
    {
     "data": {
      "application/vnd.microsoft.datawrangler.viewer.v0+json": {
       "columns": [
        {
         "name": "index",
         "rawType": "int64",
         "type": "integer"
        },
        {
         "name": "D_NAT",
         "rawType": "int64",
         "type": "integer"
        },
        {
         "name": "M일HAP",
         "rawType": "int64",
         "type": "integer"
        },
        {
         "name": "Q7A",
         "rawType": "int64",
         "type": "integer"
        },
        {
         "name": "Q7a_dk",
         "rawType": "float64",
         "type": "float"
        },
        {
         "name": "Q7a2",
         "rawType": "float64",
         "type": "float"
        },
        {
         "name": "Q7a3",
         "rawType": "float64",
         "type": "float"
        },
        {
         "name": "Q7a4",
         "rawType": "float64",
         "type": "float"
        },
        {
         "name": "Q7a5",
         "rawType": "float64",
         "type": "float"
        },
        {
         "name": "Q7a6",
         "rawType": "float64",
         "type": "float"
        },
        {
         "name": "Q7a7",
         "rawType": "float64",
         "type": "float"
        },
        {
         "name": "Q7a8",
         "rawType": "float64",
         "type": "float"
        },
        {
         "name": "D_GUB",
         "rawType": "int64",
         "type": "integer"
        },
        {
         "name": "D_MOK",
         "rawType": "int64",
         "type": "integer"
        },
        {
         "name": "총액1인TOT_개별국제교통비제외2",
         "rawType": "float64",
         "type": "float"
        },
        {
         "name": "Q8a03",
         "rawType": "float64",
         "type": "float"
        },
        {
         "name": "Q8a12",
         "rawType": "float64",
         "type": "float"
        },
        {
         "name": "Q8_1a1",
         "rawType": "int64",
         "type": "integer"
        },
        {
         "name": "Q8_1a2",
         "rawType": "float64",
         "type": "float"
        },
        {
         "name": "Q8_1a3",
         "rawType": "float64",
         "type": "float"
        },
        {
         "name": "D_AGE",
         "rawType": "int64",
         "type": "integer"
        },
        {
         "name": "동행자_단순",
         "rawType": "object",
         "type": "string"
        },
        {
         "name": "동행자_세분화",
         "rawType": "object",
         "type": "string"
        },
        {
         "name": "국가명",
         "rawType": "object",
         "type": "string"
        },
        {
         "name": "연령대_단순",
         "rawType": "object",
         "type": "string"
        },
        {
         "name": "연령대_세분화",
         "rawType": "object",
         "type": "string"
        }
       ],
       "ref": "115b2991-24f9-4730-9447-1cb61f235f0a",
       "rows": [
        [
         "1",
         "3",
         "5",
         "2",
         null,
         "2.0",
         null,
         "4.0",
         null,
         null,
         null,
         null,
         "1",
         "1",
         "846.3722286511188",
         null,
         null,
         "1",
         "2.0",
         "5.0",
         "4",
         "가족",
         "배우자/파트너",
         "대만",
         "30~50대",
         "40대"
        ],
        [
         "2",
         "3",
         "6",
         "2",
         null,
         null,
         null,
         "4.0",
         null,
         null,
         "7.0",
         null,
         "1",
         "1",
         "742.9489319800031",
         null,
         "12.0",
         "12",
         "1.0",
         "2.0",
         "3",
         "가족",
         "자녀",
         "대만",
         "30~50대",
         "30대"
        ],
        [
         "3",
         "1",
         "6",
         "1",
         "1.0",
         null,
         null,
         null,
         null,
         null,
         null,
         null,
         "1",
         "1",
         "727.2560968229955",
         "3.0",
         null,
         "11",
         "1.0",
         "3.0",
         "2",
         "혼자",
         "혼자",
         "중국",
         "20대",
         "20대"
        ],
        [
         "4",
         "3",
         "5",
         "2",
         null,
         null,
         "3.0",
         null,
         null,
         null,
         null,
         null,
         "1",
         "1",
         "1259.775985100961",
         null,
         "12.0",
         "2",
         "12.0",
         "5.0",
         "2",
         "가족",
         "부모님",
         "대만",
         "20대",
         "20대"
        ],
        [
         "5",
         "3",
         "5",
         "2",
         null,
         null,
         "3.0",
         null,
         null,
         null,
         null,
         null,
         "1",
         "1",
         "1024.2812110454718",
         null,
         "12.0",
         "12",
         "6.0",
         "1.0",
         "2",
         "가족",
         "부모님",
         "대만",
         "20대",
         "20대"
        ],
        [
         "6",
         "3",
         "5",
         "2",
         null,
         "2.0",
         null,
         "4.0",
         null,
         null,
         null,
         null,
         "1",
         "1",
         "879.2468212893745",
         null,
         "12.0",
         "6",
         "12.0",
         "1.0",
         "5",
         "가족",
         "배우자/파트너",
         "대만",
         "30~50대",
         "50대"
        ],
        [
         "7",
         "1",
         "4",
         "2",
         null,
         null,
         null,
         null,
         null,
         "6.0",
         null,
         null,
         "1",
         "1",
         "1684.5449433207384",
         "3.0",
         null,
         "14",
         "2.0",
         "1.0",
         "1",
         "친구",
         "친구",
         "중국",
         "10대",
         "10대"
        ],
        [
         "8",
         "3",
         "7",
         "2",
         null,
         "2.0",
         null,
         "4.0",
         null,
         null,
         null,
         null,
         "1",
         "1",
         "999.4490187823077",
         "3.0",
         null,
         "2",
         "1.0",
         "3.0",
         "4",
         "가족",
         "배우자/파트너",
         "대만",
         "30~50대",
         "40대"
        ],
        [
         "10",
         "1",
         "5",
         "2",
         null,
         null,
         null,
         null,
         null,
         "6.0",
         null,
         null,
         "1",
         "1",
         "544.8698265895953",
         null,
         null,
         "2",
         "1.0",
         "11.0",
         "2",
         "친구",
         "친구",
         "중국",
         "20대",
         "20대"
        ],
        [
         "12",
         "3",
         "5",
         "2",
         null,
         "2.0",
         null,
         "4.0",
         null,
         null,
         null,
         null,
         "3",
         "1",
         "2170.56",
         "3.0",
         null,
         "3",
         "16.0",
         "1.0",
         "5",
         "가족",
         "배우자/파트너",
         "대만",
         "30~50대",
         "50대"
        ],
        [
         "13",
         "3",
         "5",
         "2",
         null,
         "2.0",
         null,
         "4.0",
         null,
         null,
         null,
         null,
         "3",
         "1",
         "1356.6000000000004",
         "3.0",
         null,
         "16",
         "1.0",
         "2.0",
         "3",
         "가족",
         "배우자/파트너",
         "대만",
         "30~50대",
         "30대"
        ],
        [
         "15",
         "3",
         "5",
         "2",
         null,
         "2.0",
         null,
         null,
         "5.0",
         "6.0",
         null,
         null,
         "3",
         "1",
         "1033.6000000000001",
         "3.0",
         null,
         "7",
         "5.0",
         "2.0",
         "4",
         "가족",
         "배우자/파트너",
         "대만",
         "30~50대",
         "40대"
        ],
        [
         "16",
         "3",
         "5",
         "2",
         null,
         null,
         "3.0",
         null,
         "5.0",
         null,
         null,
         null,
         "3",
         "1",
         "2164.1000000000004",
         "3.0",
         null,
         "16",
         "2.0",
         null,
         "2",
         "가족",
         "부모님",
         "대만",
         "20대",
         "20대"
        ],
        [
         "17",
         "3",
         "5",
         "2",
         null,
         "2.0",
         null,
         null,
         null,
         null,
         null,
         null,
         "3",
         "1",
         "2164.1000000000004",
         null,
         null,
         "16",
         "2.0",
         "1.0",
         "3",
         "가족",
         "배우자/파트너",
         "대만",
         "30~50대",
         "30대"
        ],
        [
         "18",
         "3",
         "5",
         "2",
         null,
         null,
         null,
         null,
         "5.0",
         "6.0",
         "7.0",
         null,
         "3",
         "1",
         "969.0000000000001",
         "3.0",
         "12.0",
         "2",
         "5.0",
         "7.0",
         "5",
         "가족",
         "그 외 가족 친지",
         "대만",
         "30~50대",
         "50대"
        ],
        [
         "20",
         "1",
         "7",
         "2",
         null,
         "2.0",
         null,
         null,
         null,
         null,
         null,
         null,
         "1",
         "1",
         "4018.28309335059",
         "3.0",
         null,
         "1",
         "2.0",
         "3.0",
         "2",
         "가족",
         "배우자/파트너",
         "중국",
         "20대",
         "20대"
        ],
        [
         "21",
         "1",
         "6",
         "2",
         null,
         null,
         "3.0",
         null,
         "5.0",
         null,
         null,
         null,
         "1",
         "1",
         "589.4411710126379",
         "3.0",
         "12.0",
         "16",
         "8.0",
         "1.0",
         "2",
         "가족",
         "부모님",
         "중국",
         "20대",
         "20대"
        ],
        [
         "22",
         "1",
         "11",
         "1",
         "1.0",
         null,
         null,
         null,
         null,
         null,
         null,
         null,
         "1",
         "2",
         "1171.6571428571428",
         "3.0",
         null,
         "3",
         "1.0",
         "2.0",
         "5",
         "혼자",
         "혼자",
         "중국",
         "30~50대",
         "50대"
        ],
        [
         "32",
         "2",
         "4",
         "2",
         null,
         "2.0",
         null,
         null,
         null,
         null,
         null,
         null,
         "1",
         "2",
         "344.57956",
         "3.0",
         null,
         "3",
         "5.0",
         "1.0",
         "6",
         "가족",
         "배우자/파트너",
         "일본",
         "60대 이상",
         "60대 이상"
        ],
        [
         "33",
         "4",
         "15",
         "1",
         "1.0",
         null,
         null,
         null,
         null,
         null,
         null,
         null,
         "1",
         "2",
         "4350.0",
         null,
         null,
         "10",
         "11.0",
         "6.0",
         "6",
         "혼자",
         "혼자",
         "미국",
         "60대 이상",
         "60대 이상"
        ],
        [
         "35",
         "1",
         "5",
         "2",
         null,
         null,
         null,
         null,
         "5.0",
         null,
         null,
         null,
         "1",
         "1",
         "813.7136962314429",
         null,
         null,
         "8",
         "1.0",
         "7.0",
         "3",
         "가족",
         "그 외 가족 친지",
         "중국",
         "30~50대",
         "30대"
        ],
        [
         "40",
         "5",
         "5",
         "2",
         null,
         "2.0",
         null,
         "4.0",
         null,
         null,
         null,
         null,
         "3",
         "1",
         "895.3",
         "3.0",
         null,
         "3",
         "2.0",
         null,
         "4",
         "가족",
         "배우자/파트너",
         "홍콩",
         "30~50대",
         "40대"
        ],
        [
         "41",
         "1",
         "7",
         "2",
         null,
         null,
         null,
         null,
         null,
         "6.0",
         null,
         null,
         "1",
         "1",
         "881.1367082860386",
         "3.0",
         null,
         "2",
         "3.0",
         "1.0",
         "2",
         "친구",
         "친구",
         "중국",
         "20대",
         "20대"
        ],
        [
         "42",
         "1",
         "5",
         "2",
         null,
         null,
         null,
         null,
         null,
         "6.0",
         null,
         null,
         "1",
         "1",
         "339.0612658576945",
         null,
         null,
         "8",
         "1.0",
         "7.0",
         "1",
         "친구",
         "친구",
         "중국",
         "10대",
         "10대"
        ],
        [
         "44",
         "3",
         "6",
         "2",
         null,
         null,
         null,
         null,
         null,
         "6.0",
         null,
         null,
         "1",
         "1",
         "484.66665591744606",
         "3.0",
         null,
         "4",
         "1.0",
         "3.0",
         "2",
         "친구",
         "친구",
         "대만",
         "20대",
         "20대"
        ],
        [
         "45",
         "5",
         "6",
         "2",
         null,
         null,
         null,
         null,
         null,
         "6.0",
         null,
         null,
         "1",
         "1",
         "559.808355548917",
         "3.0",
         null,
         "16",
         "3.0",
         "2.0",
         "2",
         "친구",
         "친구",
         "홍콩",
         "20대",
         "20대"
        ],
        [
         "46",
         "2",
         "4",
         "1",
         "1.0",
         null,
         null,
         null,
         null,
         null,
         null,
         null,
         "1",
         "1",
         "427.17913614214206",
         null,
         null,
         "1",
         "2.0",
         null,
         "2",
         "혼자",
         "혼자",
         "일본",
         "20대",
         "20대"
        ],
        [
         "48",
         "2",
         "4",
         "2",
         null,
         "2.0",
         null,
         null,
         null,
         null,
         null,
         null,
         "1",
         "2",
         "803.2935153583617",
         "3.0",
         null,
         "1",
         "3.0",
         "11.0",
         "6",
         "가족",
         "배우자/파트너",
         "일본",
         "60대 이상",
         "60대 이상"
        ],
        [
         "49",
         "1",
         "5",
         "2",
         null,
         null,
         null,
         null,
         null,
         "6.0",
         null,
         null,
         "1",
         "1",
         "2027.4924516531505",
         null,
         null,
         "1",
         "2.0",
         "14.0",
         "2",
         "친구",
         "친구",
         "중국",
         "20대",
         "20대"
        ],
        [
         "53",
         "6",
         "16",
         "1",
         "1.0",
         null,
         null,
         null,
         null,
         null,
         null,
         null,
         "1",
         "1",
         "2215.4600985221678",
         null,
         null,
         "2",
         "1.0",
         null,
         "2",
         "혼자",
         "혼자",
         "태국",
         "20대",
         "20대"
        ],
        [
         "54",
         "12",
         "30",
         "2",
         null,
         null,
         null,
         null,
         "5.0",
         null,
         null,
         null,
         "1",
         "2",
         "1754.7619047619046",
         null,
         null,
         "8",
         "6.0",
         "1.0",
         "2",
         "가족",
         "그 외 가족 친지",
         "중동",
         "20대",
         "20대"
        ],
        [
         "56",
         "1",
         "9",
         "2",
         null,
         null,
         null,
         null,
         null,
         "6.0",
         null,
         null,
         "1",
         "1",
         "1464.3457627118644",
         "3.0",
         null,
         "2",
         "3.0",
         "1.0",
         "5",
         "친구",
         "친구",
         "중국",
         "30~50대",
         "50대"
        ],
        [
         "57",
         "5",
         "5",
         "2",
         null,
         "2.0",
         null,
         null,
         null,
         null,
         null,
         null,
         "1",
         "1",
         "1183.0749999999998",
         "3.0",
         null,
         "7",
         "3.0",
         "1.0",
         "3",
         "가족",
         "배우자/파트너",
         "홍콩",
         "30~50대",
         "30대"
        ],
        [
         "59",
         "5",
         "5",
         "1",
         "1.0",
         null,
         null,
         null,
         null,
         null,
         null,
         null,
         "1",
         "1",
         "1677.6",
         null,
         null,
         "13",
         "7.0",
         "5.0",
         "2",
         "혼자",
         "혼자",
         "홍콩",
         "20대",
         "20대"
        ],
        [
         "60",
         "2",
         "3",
         "2",
         null,
         null,
         null,
         null,
         null,
         "6.0",
         null,
         null,
         "2",
         "2",
         "603.5",
         null,
         null,
         "20",
         "1.0",
         "2.0",
         "6",
         "친구",
         "친구",
         "일본",
         "60대 이상",
         "60대 이상"
        ],
        [
         "61",
         "1",
         "7",
         "2",
         null,
         null,
         null,
         null,
         null,
         "6.0",
         null,
         null,
         "1",
         "1",
         "1145.0",
         "3.0",
         null,
         "11",
         "5.0",
         "2.0",
         "2",
         "친구",
         "친구",
         "중국",
         "20대",
         "20대"
        ],
        [
         "63",
         "2",
         "4",
         "2",
         null,
         null,
         null,
         null,
         null,
         "6.0",
         null,
         null,
         "1",
         "1",
         "584.2708333333333",
         "3.0",
         null,
         "9",
         "3.0",
         "1.0",
         "2",
         "친구",
         "친구",
         "일본",
         "20대",
         "20대"
        ],
        [
         "64",
         "5",
         "7",
         "2",
         null,
         "2.0",
         null,
         null,
         null,
         null,
         null,
         null,
         "1",
         "1",
         "982.3808510638299",
         null,
         "12.0",
         "1",
         "2.0",
         "12.0",
         "3",
         "가족",
         "배우자/파트너",
         "홍콩",
         "30~50대",
         "30대"
        ],
        [
         "65",
         "2",
         "4",
         "2",
         null,
         null,
         null,
         "4.0",
         null,
         null,
         null,
         null,
         "1",
         "1",
         "527.0596090090091",
         "3.0",
         null,
         "1",
         "2.0",
         "3.0",
         "5",
         "가족",
         "자녀",
         "일본",
         "30~50대",
         "50대"
        ],
        [
         "66",
         "5",
         "4",
         "2",
         null,
         "2.0",
         null,
         null,
         null,
         null,
         null,
         null,
         "1",
         "1",
         "700.0",
         "3.0",
         "12.0",
         "11",
         "1.0",
         "3.0",
         "2",
         "가족",
         "배우자/파트너",
         "홍콩",
         "20대",
         "20대"
        ],
        [
         "69",
         "4",
         "8",
         "1",
         "1.0",
         null,
         null,
         null,
         null,
         null,
         null,
         null,
         "1",
         "1",
         "684.2284160435078",
         null,
         null,
         "4",
         "15.0",
         "16.0",
         "4",
         "혼자",
         "혼자",
         "미국",
         "30~50대",
         "40대"
        ],
        [
         "70",
         "1",
         "5",
         "2",
         null,
         null,
         null,
         null,
         null,
         "6.0",
         null,
         null,
         "1",
         "1",
         "1800.0",
         "3.0",
         null,
         "7",
         "8.0",
         "6.0",
         "3",
         "친구",
         "친구",
         "중국",
         "30~50대",
         "30대"
        ],
        [
         "72",
         "2",
         "5",
         "2",
         null,
         null,
         null,
         null,
         null,
         "6.0",
         null,
         null,
         "1",
         "1",
         "504.1",
         "3.0",
         null,
         "3",
         "7.0",
         null,
         "2",
         "친구",
         "친구",
         "일본",
         "20대",
         "20대"
        ],
        [
         "75",
         "1",
         "5",
         "2",
         null,
         null,
         null,
         null,
         null,
         "6.0",
         null,
         null,
         "1",
         "1",
         "573.1800000000001",
         "3.0",
         null,
         "2",
         "1.0",
         "3.0",
         "2",
         "친구",
         "친구",
         "중국",
         "20대",
         "20대"
        ],
        [
         "77",
         "2",
         "8",
         "1",
         "1.0",
         null,
         null,
         null,
         null,
         null,
         null,
         null,
         "1",
         "1",
         "1207.0",
         null,
         null,
         "8",
         "1.0",
         "2.0",
         "6",
         "혼자",
         "혼자",
         "일본",
         "60대 이상",
         "60대 이상"
        ],
        [
         "81",
         "3",
         "5",
         "2",
         null,
         null,
         "3.0",
         null,
         "5.0",
         null,
         null,
         null,
         "3",
         "1",
         "872.1",
         "3.0",
         "12.0",
         "12",
         "3.0",
         "5.0",
         "2",
         "가족",
         "부모님",
         "대만",
         "20대",
         "20대"
        ],
        [
         "82",
         "3",
         "5",
         "2",
         null,
         null,
         null,
         null,
         null,
         "6.0",
         null,
         null,
         "3",
         "1",
         "620.1600000000001",
         "3.0",
         null,
         "3",
         "1.0",
         null,
         "5",
         "친구",
         "친구",
         "대만",
         "30~50대",
         "50대"
        ],
        [
         "84",
         "3",
         "5",
         "2",
         null,
         "2.0",
         null,
         "4.0",
         "5.0",
         null,
         "7.0",
         null,
         "3",
         "1",
         "936.7",
         "3.0",
         "12.0",
         "5",
         "6.0",
         "12.0",
         "4",
         "가족",
         "배우자/파트너",
         "대만",
         "30~50대",
         "40대"
        ],
        [
         "85",
         "3",
         "4",
         "2",
         null,
         null,
         null,
         null,
         null,
         "6.0",
         null,
         null,
         "3",
         "1",
         "801.0400000000001",
         null,
         null,
         "5",
         "10.0",
         "1.0",
         "6",
         "친구",
         "친구",
         "대만",
         "60대 이상",
         "60대 이상"
        ],
        [
         "86",
         "2",
         "4",
         "2",
         null,
         null,
         null,
         null,
         null,
         "6.0",
         null,
         null,
         "1",
         "2",
         "1312.867483296214",
         null,
         null,
         "1",
         "2.0",
         "14.0",
         "5",
         "친구",
         "친구",
         "일본",
         "30~50대",
         "50대"
        ]
       ],
       "shape": {
        "columns": 25,
        "rows": 8769
       }
      },
      "text/html": [
       "<div>\n",
       "<style scoped>\n",
       "    .dataframe tbody tr th:only-of-type {\n",
       "        vertical-align: middle;\n",
       "    }\n",
       "\n",
       "    .dataframe tbody tr th {\n",
       "        vertical-align: top;\n",
       "    }\n",
       "\n",
       "    .dataframe thead th {\n",
       "        text-align: right;\n",
       "    }\n",
       "</style>\n",
       "<table border=\"1\" class=\"dataframe\">\n",
       "  <thead>\n",
       "    <tr style=\"text-align: right;\">\n",
       "      <th></th>\n",
       "      <th>D_NAT</th>\n",
       "      <th>M일HAP</th>\n",
       "      <th>Q7A</th>\n",
       "      <th>Q7a_dk</th>\n",
       "      <th>Q7a2</th>\n",
       "      <th>Q7a3</th>\n",
       "      <th>Q7a4</th>\n",
       "      <th>Q7a5</th>\n",
       "      <th>Q7a6</th>\n",
       "      <th>Q7a7</th>\n",
       "      <th>...</th>\n",
       "      <th>Q8a12</th>\n",
       "      <th>Q8_1a1</th>\n",
       "      <th>Q8_1a2</th>\n",
       "      <th>Q8_1a3</th>\n",
       "      <th>D_AGE</th>\n",
       "      <th>동행자_단순</th>\n",
       "      <th>동행자_세분화</th>\n",
       "      <th>국가명</th>\n",
       "      <th>연령대_단순</th>\n",
       "      <th>연령대_세분화</th>\n",
       "    </tr>\n",
       "  </thead>\n",
       "  <tbody>\n",
       "    <tr>\n",
       "      <th>1</th>\n",
       "      <td>3</td>\n",
       "      <td>5</td>\n",
       "      <td>2</td>\n",
       "      <td>NaN</td>\n",
       "      <td>2.0</td>\n",
       "      <td>NaN</td>\n",
       "      <td>4.0</td>\n",
       "      <td>NaN</td>\n",
       "      <td>NaN</td>\n",
       "      <td>NaN</td>\n",
       "      <td>...</td>\n",
       "      <td>NaN</td>\n",
       "      <td>1</td>\n",
       "      <td>2.0</td>\n",
       "      <td>5.0</td>\n",
       "      <td>4</td>\n",
       "      <td>가족</td>\n",
       "      <td>배우자/파트너</td>\n",
       "      <td>대만</td>\n",
       "      <td>30~50대</td>\n",
       "      <td>40대</td>\n",
       "    </tr>\n",
       "    <tr>\n",
       "      <th>2</th>\n",
       "      <td>3</td>\n",
       "      <td>6</td>\n",
       "      <td>2</td>\n",
       "      <td>NaN</td>\n",
       "      <td>NaN</td>\n",
       "      <td>NaN</td>\n",
       "      <td>4.0</td>\n",
       "      <td>NaN</td>\n",
       "      <td>NaN</td>\n",
       "      <td>7.0</td>\n",
       "      <td>...</td>\n",
       "      <td>12.0</td>\n",
       "      <td>12</td>\n",
       "      <td>1.0</td>\n",
       "      <td>2.0</td>\n",
       "      <td>3</td>\n",
       "      <td>가족</td>\n",
       "      <td>자녀</td>\n",
       "      <td>대만</td>\n",
       "      <td>30~50대</td>\n",
       "      <td>30대</td>\n",
       "    </tr>\n",
       "    <tr>\n",
       "      <th>3</th>\n",
       "      <td>1</td>\n",
       "      <td>6</td>\n",
       "      <td>1</td>\n",
       "      <td>1.0</td>\n",
       "      <td>NaN</td>\n",
       "      <td>NaN</td>\n",
       "      <td>NaN</td>\n",
       "      <td>NaN</td>\n",
       "      <td>NaN</td>\n",
       "      <td>NaN</td>\n",
       "      <td>...</td>\n",
       "      <td>NaN</td>\n",
       "      <td>11</td>\n",
       "      <td>1.0</td>\n",
       "      <td>3.0</td>\n",
       "      <td>2</td>\n",
       "      <td>혼자</td>\n",
       "      <td>혼자</td>\n",
       "      <td>중국</td>\n",
       "      <td>20대</td>\n",
       "      <td>20대</td>\n",
       "    </tr>\n",
       "    <tr>\n",
       "      <th>4</th>\n",
       "      <td>3</td>\n",
       "      <td>5</td>\n",
       "      <td>2</td>\n",
       "      <td>NaN</td>\n",
       "      <td>NaN</td>\n",
       "      <td>3.0</td>\n",
       "      <td>NaN</td>\n",
       "      <td>NaN</td>\n",
       "      <td>NaN</td>\n",
       "      <td>NaN</td>\n",
       "      <td>...</td>\n",
       "      <td>12.0</td>\n",
       "      <td>2</td>\n",
       "      <td>12.0</td>\n",
       "      <td>5.0</td>\n",
       "      <td>2</td>\n",
       "      <td>가족</td>\n",
       "      <td>부모님</td>\n",
       "      <td>대만</td>\n",
       "      <td>20대</td>\n",
       "      <td>20대</td>\n",
       "    </tr>\n",
       "    <tr>\n",
       "      <th>5</th>\n",
       "      <td>3</td>\n",
       "      <td>5</td>\n",
       "      <td>2</td>\n",
       "      <td>NaN</td>\n",
       "      <td>NaN</td>\n",
       "      <td>3.0</td>\n",
       "      <td>NaN</td>\n",
       "      <td>NaN</td>\n",
       "      <td>NaN</td>\n",
       "      <td>NaN</td>\n",
       "      <td>...</td>\n",
       "      <td>12.0</td>\n",
       "      <td>12</td>\n",
       "      <td>6.0</td>\n",
       "      <td>1.0</td>\n",
       "      <td>2</td>\n",
       "      <td>가족</td>\n",
       "      <td>부모님</td>\n",
       "      <td>대만</td>\n",
       "      <td>20대</td>\n",
       "      <td>20대</td>\n",
       "    </tr>\n",
       "    <tr>\n",
       "      <th>...</th>\n",
       "      <td>...</td>\n",
       "      <td>...</td>\n",
       "      <td>...</td>\n",
       "      <td>...</td>\n",
       "      <td>...</td>\n",
       "      <td>...</td>\n",
       "      <td>...</td>\n",
       "      <td>...</td>\n",
       "      <td>...</td>\n",
       "      <td>...</td>\n",
       "      <td>...</td>\n",
       "      <td>...</td>\n",
       "      <td>...</td>\n",
       "      <td>...</td>\n",
       "      <td>...</td>\n",
       "      <td>...</td>\n",
       "      <td>...</td>\n",
       "      <td>...</td>\n",
       "      <td>...</td>\n",
       "      <td>...</td>\n",
       "      <td>...</td>\n",
       "    </tr>\n",
       "    <tr>\n",
       "      <th>16211</th>\n",
       "      <td>1</td>\n",
       "      <td>5</td>\n",
       "      <td>2</td>\n",
       "      <td>NaN</td>\n",
       "      <td>NaN</td>\n",
       "      <td>NaN</td>\n",
       "      <td>NaN</td>\n",
       "      <td>NaN</td>\n",
       "      <td>6.0</td>\n",
       "      <td>NaN</td>\n",
       "      <td>...</td>\n",
       "      <td>NaN</td>\n",
       "      <td>3</td>\n",
       "      <td>2.0</td>\n",
       "      <td>1.0</td>\n",
       "      <td>4</td>\n",
       "      <td>친구</td>\n",
       "      <td>친구</td>\n",
       "      <td>중국</td>\n",
       "      <td>30~50대</td>\n",
       "      <td>40대</td>\n",
       "    </tr>\n",
       "    <tr>\n",
       "      <th>16212</th>\n",
       "      <td>1</td>\n",
       "      <td>5</td>\n",
       "      <td>2</td>\n",
       "      <td>NaN</td>\n",
       "      <td>2.0</td>\n",
       "      <td>NaN</td>\n",
       "      <td>NaN</td>\n",
       "      <td>NaN</td>\n",
       "      <td>NaN</td>\n",
       "      <td>NaN</td>\n",
       "      <td>...</td>\n",
       "      <td>NaN</td>\n",
       "      <td>2</td>\n",
       "      <td>1.0</td>\n",
       "      <td>NaN</td>\n",
       "      <td>4</td>\n",
       "      <td>가족</td>\n",
       "      <td>배우자/파트너</td>\n",
       "      <td>중국</td>\n",
       "      <td>30~50대</td>\n",
       "      <td>40대</td>\n",
       "    </tr>\n",
       "    <tr>\n",
       "      <th>16213</th>\n",
       "      <td>1</td>\n",
       "      <td>5</td>\n",
       "      <td>2</td>\n",
       "      <td>NaN</td>\n",
       "      <td>NaN</td>\n",
       "      <td>NaN</td>\n",
       "      <td>4.0</td>\n",
       "      <td>NaN</td>\n",
       "      <td>NaN</td>\n",
       "      <td>NaN</td>\n",
       "      <td>...</td>\n",
       "      <td>NaN</td>\n",
       "      <td>13</td>\n",
       "      <td>3.0</td>\n",
       "      <td>2.0</td>\n",
       "      <td>5</td>\n",
       "      <td>가족</td>\n",
       "      <td>자녀</td>\n",
       "      <td>중국</td>\n",
       "      <td>30~50대</td>\n",
       "      <td>50대</td>\n",
       "    </tr>\n",
       "    <tr>\n",
       "      <th>16214</th>\n",
       "      <td>1</td>\n",
       "      <td>5</td>\n",
       "      <td>2</td>\n",
       "      <td>NaN</td>\n",
       "      <td>2.0</td>\n",
       "      <td>NaN</td>\n",
       "      <td>NaN</td>\n",
       "      <td>NaN</td>\n",
       "      <td>NaN</td>\n",
       "      <td>NaN</td>\n",
       "      <td>...</td>\n",
       "      <td>NaN</td>\n",
       "      <td>3</td>\n",
       "      <td>2.0</td>\n",
       "      <td>NaN</td>\n",
       "      <td>5</td>\n",
       "      <td>가족</td>\n",
       "      <td>배우자/파트너</td>\n",
       "      <td>중국</td>\n",
       "      <td>30~50대</td>\n",
       "      <td>50대</td>\n",
       "    </tr>\n",
       "    <tr>\n",
       "      <th>16215</th>\n",
       "      <td>4</td>\n",
       "      <td>26</td>\n",
       "      <td>2</td>\n",
       "      <td>NaN</td>\n",
       "      <td>2.0</td>\n",
       "      <td>NaN</td>\n",
       "      <td>NaN</td>\n",
       "      <td>NaN</td>\n",
       "      <td>NaN</td>\n",
       "      <td>NaN</td>\n",
       "      <td>...</td>\n",
       "      <td>12.0</td>\n",
       "      <td>1</td>\n",
       "      <td>16.0</td>\n",
       "      <td>3.0</td>\n",
       "      <td>2</td>\n",
       "      <td>가족</td>\n",
       "      <td>배우자/파트너</td>\n",
       "      <td>미국</td>\n",
       "      <td>20대</td>\n",
       "      <td>20대</td>\n",
       "    </tr>\n",
       "  </tbody>\n",
       "</table>\n",
       "<p>8769 rows × 25 columns</p>\n",
       "</div>"
      ],
      "text/plain": [
       "       D_NAT  M일HAP  Q7A  Q7a_dk  Q7a2  Q7a3  Q7a4  Q7a5  Q7a6  Q7a7  ...  \\\n",
       "1          3      5    2     NaN   2.0   NaN   4.0   NaN   NaN   NaN  ...   \n",
       "2          3      6    2     NaN   NaN   NaN   4.0   NaN   NaN   7.0  ...   \n",
       "3          1      6    1     1.0   NaN   NaN   NaN   NaN   NaN   NaN  ...   \n",
       "4          3      5    2     NaN   NaN   3.0   NaN   NaN   NaN   NaN  ...   \n",
       "5          3      5    2     NaN   NaN   3.0   NaN   NaN   NaN   NaN  ...   \n",
       "...      ...    ...  ...     ...   ...   ...   ...   ...   ...   ...  ...   \n",
       "16211      1      5    2     NaN   NaN   NaN   NaN   NaN   6.0   NaN  ...   \n",
       "16212      1      5    2     NaN   2.0   NaN   NaN   NaN   NaN   NaN  ...   \n",
       "16213      1      5    2     NaN   NaN   NaN   4.0   NaN   NaN   NaN  ...   \n",
       "16214      1      5    2     NaN   2.0   NaN   NaN   NaN   NaN   NaN  ...   \n",
       "16215      4     26    2     NaN   2.0   NaN   NaN   NaN   NaN   NaN  ...   \n",
       "\n",
       "       Q8a12  Q8_1a1  Q8_1a2  Q8_1a3  D_AGE  동행자_단순  동행자_세분화  국가명  연령대_단순  \\\n",
       "1        NaN       1     2.0     5.0      4      가족  배우자/파트너   대만  30~50대   \n",
       "2       12.0      12     1.0     2.0      3      가족       자녀   대만  30~50대   \n",
       "3        NaN      11     1.0     3.0      2      혼자       혼자   중국     20대   \n",
       "4       12.0       2    12.0     5.0      2      가족      부모님   대만     20대   \n",
       "5       12.0      12     6.0     1.0      2      가족      부모님   대만     20대   \n",
       "...      ...     ...     ...     ...    ...     ...      ...  ...     ...   \n",
       "16211    NaN       3     2.0     1.0      4      친구       친구   중국  30~50대   \n",
       "16212    NaN       2     1.0     NaN      4      가족  배우자/파트너   중국  30~50대   \n",
       "16213    NaN      13     3.0     2.0      5      가족       자녀   중국  30~50대   \n",
       "16214    NaN       3     2.0     NaN      5      가족  배우자/파트너   중국  30~50대   \n",
       "16215   12.0       1    16.0     3.0      2      가족  배우자/파트너   미국     20대   \n",
       "\n",
       "       연령대_세분화  \n",
       "1          40대  \n",
       "2          30대  \n",
       "3          20대  \n",
       "4          20대  \n",
       "5          20대  \n",
       "...        ...  \n",
       "16211      40대  \n",
       "16212      40대  \n",
       "16213      50대  \n",
       "16214      50대  \n",
       "16215      20대  \n",
       "\n",
       "[8769 rows x 25 columns]"
      ]
     },
     "execution_count": 43,
     "metadata": {},
     "output_type": "execute_result"
    }
   ],
   "source": [
    "df"
   ]
  },
  {
   "cell_type": "markdown",
   "id": "a759e56f",
   "metadata": {},
   "source": [
    "### 체류일수 및 총지출 0 이하 제거"
   ]
  },
  {
   "cell_type": "code",
   "execution_count": 44,
   "id": "339a9a49",
   "metadata": {},
   "outputs": [],
   "source": [
    "df = df[(df['M일HAP'] > 0) & (df['총액1인TOT_개별국제교통비제외2'] > 0)]"
   ]
  },
  {
   "cell_type": "markdown",
   "id": "8f2a58e8",
   "metadata": {},
   "source": [
    "### 웰니스 활동 참여 여부 파생변수 생성"
   ]
  },
  {
   "cell_type": "code",
   "execution_count": 45,
   "metadata": {},
   "outputs": [
    {
     "data": {
      "text/plain": [
       "dtype('float64')"
      ]
     },
     "execution_count": 45,
     "metadata": {},
     "output_type": "execute_result"
    }
   ],
   "source": [
    "df['Q8a03'].dtype"
   ]
  },
  {
   "cell_type": "code",
   "execution_count": 46,
   "metadata": {},
   "outputs": [
    {
     "data": {
      "text/plain": [
       "dtype('float64')"
      ]
     },
     "execution_count": 46,
     "metadata": {},
     "output_type": "execute_result"
    }
   ],
   "source": [
    "df['Q8a12'].dtype"
   ]
  },
  {
   "cell_type": "code",
   "execution_count": 47,
   "metadata": {},
   "outputs": [],
   "source": [
    "df['웰니스참여'] = ((df['Q8a03'] == 3) | (df['Q8a12'] == 12)).astype(int)"
   ]
  },
  {
   "cell_type": "code",
   "execution_count": 48,
   "metadata": {},
   "outputs": [
    {
     "data": {
      "application/vnd.microsoft.datawrangler.viewer.v0+json": {
       "columns": [
        {
         "name": "웰니스참여",
         "rawType": "int64",
         "type": "integer"
        },
        {
         "name": "count",
         "rawType": "int64",
         "type": "integer"
        }
       ],
       "ref": "86cdadf0-47b9-4759-9198-fdea7578927f",
       "rows": [
        [
         "1",
         "5690"
        ],
        [
         "0",
         "3079"
        ]
       ],
       "shape": {
        "columns": 1,
        "rows": 2
       }
      },
      "text/plain": [
       "웰니스참여\n",
       "1    5690\n",
       "0    3079\n",
       "Name: count, dtype: int64"
      ]
     },
     "execution_count": 48,
     "metadata": {},
     "output_type": "execute_result"
    }
   ],
   "source": [
    "df['웰니스참여'].value_counts()"
   ]
  },
  {
   "cell_type": "code",
   "execution_count": 49,
   "metadata": {},
   "outputs": [
    {
     "data": {
      "application/vnd.microsoft.datawrangler.viewer.v0+json": {
       "columns": [
        {
         "name": "Q8_1a1",
         "rawType": "int64",
         "type": "integer"
        },
        {
         "name": "count",
         "rawType": "int64",
         "type": "integer"
        }
       ],
       "ref": "e47f4def-800b-4856-90ec-4048581d3a6b",
       "rows": [
        [
         "2",
         "1886"
        ],
        [
         "1",
         "1754"
        ],
        [
         "3",
         "1329"
        ],
        [
         "5",
         "932"
        ],
        [
         "8",
         "505"
        ],
        [
         "13",
         "398"
        ],
        [
         "12",
         "341"
        ],
        [
         "6",
         "332"
        ],
        [
         "7",
         "250"
        ],
        [
         "11",
         "237"
        ],
        [
         "4",
         "233"
        ],
        [
         "14",
         "220"
        ],
        [
         "9",
         "106"
        ],
        [
         "16",
         "83"
        ],
        [
         "10",
         "56"
        ],
        [
         "20",
         "56"
        ],
        [
         "15",
         "33"
        ],
        [
         "18",
         "9"
        ],
        [
         "17",
         "5"
        ],
        [
         "19",
         "4"
        ]
       ],
       "shape": {
        "columns": 1,
        "rows": 20
       }
      },
      "text/plain": [
       "Q8_1a1\n",
       "2     1886\n",
       "1     1754\n",
       "3     1329\n",
       "5      932\n",
       "8      505\n",
       "13     398\n",
       "12     341\n",
       "6      332\n",
       "7      250\n",
       "11     237\n",
       "4      233\n",
       "14     220\n",
       "9      106\n",
       "16      83\n",
       "10      56\n",
       "20      56\n",
       "15      33\n",
       "18       9\n",
       "17       5\n",
       "19       4\n",
       "Name: count, dtype: int64"
      ]
     },
     "execution_count": 49,
     "metadata": {},
     "output_type": "execute_result"
    }
   ],
   "source": [
    "df['Q8_1a1'].value_counts()"
   ]
  },
  {
   "cell_type": "code",
   "execution_count": 50,
   "metadata": {},
   "outputs": [
    {
     "data": {
      "application/vnd.microsoft.datawrangler.viewer.v0+json": {
       "columns": [
        {
         "name": "Q8_1a2",
         "rawType": "float64",
         "type": "float"
        },
        {
         "name": "count",
         "rawType": "int64",
         "type": "integer"
        }
       ],
       "ref": "79bce23e-381f-445a-b3d3-1f1f0df5be09",
       "rows": [
        [
         "1.0",
         "2625"
        ],
        [
         "2.0",
         "2214"
        ],
        [
         "3.0",
         "1083"
        ],
        [
         "5.0",
         "795"
        ],
        [
         "6.0",
         "309"
        ],
        [
         "7.0",
         "281"
        ],
        [
         "4.0",
         "271"
        ],
        [
         "12.0",
         "226"
        ],
        [
         "13.0",
         "187"
        ],
        [
         "11.0",
         "172"
        ],
        [
         "8.0",
         "151"
        ],
        [
         "9.0",
         "79"
        ],
        [
         "14.0",
         "71"
        ],
        [
         "16.0",
         "48"
        ],
        [
         "10.0",
         "38"
        ],
        [
         "15.0",
         "29"
        ],
        [
         "20.0",
         "10"
        ],
        [
         "18.0",
         "5"
        ],
        [
         "17.0",
         "1"
        ]
       ],
       "shape": {
        "columns": 1,
        "rows": 19
       }
      },
      "text/plain": [
       "Q8_1a2\n",
       "1.0     2625\n",
       "2.0     2214\n",
       "3.0     1083\n",
       "5.0      795\n",
       "6.0      309\n",
       "7.0      281\n",
       "4.0      271\n",
       "12.0     226\n",
       "13.0     187\n",
       "11.0     172\n",
       "8.0      151\n",
       "9.0       79\n",
       "14.0      71\n",
       "16.0      48\n",
       "10.0      38\n",
       "15.0      29\n",
       "20.0      10\n",
       "18.0       5\n",
       "17.0       1\n",
       "Name: count, dtype: int64"
      ]
     },
     "execution_count": 50,
     "metadata": {},
     "output_type": "execute_result"
    }
   ],
   "source": [
    "df['Q8_1a2'].value_counts()"
   ]
  },
  {
   "cell_type": "code",
   "execution_count": 51,
   "metadata": {},
   "outputs": [
    {
     "data": {
      "application/vnd.microsoft.datawrangler.viewer.v0+json": {
       "columns": [
        {
         "name": "Q8_1a3",
         "rawType": "float64",
         "type": "float"
        },
        {
         "name": "count",
         "rawType": "int64",
         "type": "integer"
        }
       ],
       "ref": "89585d5f-b066-4475-a5cd-4da593dd6d90",
       "rows": [
        [
         "2.0",
         "1725"
        ],
        [
         "1.0",
         "1627"
        ],
        [
         "3.0",
         "1178"
        ],
        [
         "5.0",
         "856"
        ],
        [
         "7.0",
         "356"
        ],
        [
         "4.0",
         "326"
        ],
        [
         "6.0",
         "310"
        ],
        [
         "13.0",
         "293"
        ],
        [
         "12.0",
         "242"
        ],
        [
         "11.0",
         "225"
        ],
        [
         "8.0",
         "173"
        ],
        [
         "14.0",
         "113"
        ],
        [
         "10.0",
         "56"
        ],
        [
         "9.0",
         "52"
        ],
        [
         "16.0",
         "36"
        ],
        [
         "15.0",
         "29"
        ],
        [
         "20.0",
         "16"
        ],
        [
         "19.0",
         "6"
        ],
        [
         "18.0",
         "4"
        ],
        [
         "17.0",
         "4"
        ]
       ],
       "shape": {
        "columns": 1,
        "rows": 20
       }
      },
      "text/plain": [
       "Q8_1a3\n",
       "2.0     1725\n",
       "1.0     1627\n",
       "3.0     1178\n",
       "5.0      856\n",
       "7.0      356\n",
       "4.0      326\n",
       "6.0      310\n",
       "13.0     293\n",
       "12.0     242\n",
       "11.0     225\n",
       "8.0      173\n",
       "14.0     113\n",
       "10.0      56\n",
       "9.0       52\n",
       "16.0      36\n",
       "15.0      29\n",
       "20.0      16\n",
       "19.0       6\n",
       "18.0       4\n",
       "17.0       4\n",
       "Name: count, dtype: int64"
      ]
     },
     "execution_count": 51,
     "metadata": {},
     "output_type": "execute_result"
    }
   ],
   "source": [
    "df['Q8_1a3'].value_counts()"
   ]
  },
  {
   "cell_type": "markdown",
   "id": "0e701e34",
   "metadata": {},
   "source": [
    "- 자연경관(3)은 Top3 만족 활동 중 매우 자주 등장 (총 4000회 이상)\n",
    "\n",
    "- 뷰티/미용(12)도 상대적으로 빈도는 적지만 분명히 선택되고 있음"
   ]
  },
  {
   "cell_type": "markdown",
   "id": "66eb39c4",
   "metadata": {},
   "source": [
    "### 웰니스 활동이 Top3 만족 활동에 포함된 총 응답자 수\n",
    "- 현재는 각 코드별 총 등장 수만 계산됨 -> 실제 몇 명이 ‘3 또는 12’를 한번 이상 선택했는지 계산"
   ]
  },
  {
   "cell_type": "code",
   "execution_count": 52,
   "id": "9e85f508",
   "metadata": {},
   "outputs": [
    {
     "data": {
      "application/vnd.microsoft.datawrangler.viewer.v0+json": {
       "columns": [
        {
         "name": "웰니스만족",
         "rawType": "int64",
         "type": "integer"
        },
        {
         "name": "count",
         "rawType": "int64",
         "type": "integer"
        }
       ],
       "ref": "b8fd9d08-55ec-4b53-923b-8b1587f12c04",
       "rows": [
        [
         "0",
         "4551"
        ],
        [
         "1",
         "4218"
        ]
       ],
       "shape": {
        "columns": 1,
        "rows": 2
       }
      },
      "text/plain": [
       "웰니스만족\n",
       "0    4551\n",
       "1    4218\n",
       "Name: count, dtype: int64"
      ]
     },
     "execution_count": 52,
     "metadata": {},
     "output_type": "execute_result"
    }
   ],
   "source": [
    "df['웰니스만족'] = df[['Q8_1a1', 'Q8_1a2', 'Q8_1a3']].apply(\n",
    "    lambda row: any(x in [3, 12] for x in row if pd.notnull(x)),\n",
    "    axis=1\n",
    ").astype(int)\n",
    "\n",
    "df['웰니스만족'].value_counts()"
   ]
  },
  {
   "cell_type": "markdown",
   "id": "92dd629f",
   "metadata": {},
   "source": [
    "### 여행 목적 컬럼 (D_MOK) 전처리\n",
    "- 여가/위락/힐링, 친구/친지 방문, 사업/전문 활동, 교육, 기타\n",
    "- 여가/힐링을 즐길 의사와 여건이 있었던 응답자만 포함"
   ]
  },
  {
   "cell_type": "code",
   "execution_count": 53,
   "id": "fe64995c",
   "metadata": {},
   "outputs": [
    {
     "data": {
      "text/plain": [
       "dtype('int64')"
      ]
     },
     "execution_count": 53,
     "metadata": {},
     "output_type": "execute_result"
    }
   ],
   "source": [
    "df['D_MOK'].dtype"
   ]
  },
  {
   "cell_type": "code",
   "execution_count": 54,
   "id": "c9b220d9",
   "metadata": {},
   "outputs": [],
   "source": [
    "df = df[df['D_MOK'].isin([1, 2])]"
   ]
  },
  {
   "cell_type": "code",
   "execution_count": 55,
   "id": "5aaebd6c",
   "metadata": {},
   "outputs": [
    {
     "data": {
      "application/vnd.microsoft.datawrangler.viewer.v0+json": {
       "columns": [
        {
         "name": "D_MOK",
         "rawType": "int64",
         "type": "integer"
        },
        {
         "name": "count",
         "rawType": "int64",
         "type": "integer"
        }
       ],
       "ref": "5cf51756-99ec-41b4-be9b-cb91ef271969",
       "rows": [
        [
         "1",
         "7374"
        ],
        [
         "2",
         "1395"
        ]
       ],
       "shape": {
        "columns": 1,
        "rows": 2
       }
      },
      "text/plain": [
       "D_MOK\n",
       "1    7374\n",
       "2    1395\n",
       "Name: count, dtype: int64"
      ]
     },
     "execution_count": 55,
     "metadata": {},
     "output_type": "execute_result"
    }
   ],
   "source": [
    "df['D_MOK'].value_counts()"
   ]
  },
  {
   "cell_type": "code",
   "execution_count": 56,
   "metadata": {},
   "outputs": [
    {
     "name": "stdout",
     "output_type": "stream",
     "text": [
      "동행자_단순 결측치 수: 0\n",
      "동행자_단순 고유값 목록: ['가족' '혼자' '친구' '직장동료' '기타']\n",
      "동행자_세분화 결측치 수: 0\n",
      "동행자_세분화 고유값 목록: ['배우자/파트너' '자녀' '혼자' '부모님' '친구' '그 외 가족 친지' '직장동료' '기타']\n"
     ]
    }
   ],
   "source": [
    "# 분류 성공 여부 및 결측 확인\n",
    "# 결측치 확인\n",
    "print(\"동행자_단순 결측치 수:\", df['동행자_단순'].isnull().sum())\n",
    "\n",
    "# 고유값 확인\n",
    "print(\"동행자_단순 고유값 목록:\", df['동행자_단순'].dropna().unique())\n",
    "\n",
    "print(\"동행자_세분화 결측치 수:\", df['동행자_세분화'].isnull().sum())\n",
    "print(\"동행자_세분화 고유값 목록:\", df['동행자_세분화'].dropna().unique())"
   ]
  },
  {
   "cell_type": "code",
   "execution_count": 58,
   "id": "ac02095f",
   "metadata": {},
   "outputs": [
    {
     "name": "stdout",
     "output_type": "stream",
     "text": [
      "연령대_단순 결측치 수: 0\n",
      "연령대_단순 고유값 목록: ['30~50대' '20대' '10대' '60대 이상']\n",
      "연령대_세분화 결측치 수: 0\n",
      "연령대_세분화 고유값 목록: ['40대' '30대' '20대' '50대' '10대' '60대 이상']\n"
     ]
    }
   ],
   "source": [
    "# 분류 성공 여부 및 결측 확인\n",
    "# 결측치 확인\n",
    "print(\"연령대_단순 결측치 수:\", df['연령대_단순'].isnull().sum())\n",
    "\n",
    "# 고유값 확인\n",
    "print(\"연령대_단순 고유값 목록:\", df['연령대_단순'].dropna().unique())\n",
    "\n",
    "print(\"연령대_세분화 결측치 수:\", df['연령대_세분화'].isnull().sum())\n",
    "print(\"연령대_세분화 고유값 목록:\", df['연령대_세분화'].dropna().unique())"
   ]
  },
  {
   "cell_type": "markdown",
   "id": "bc18c3f0",
   "metadata": {},
   "source": [
    "- ANOVA 검정 안정 확보를 위해 로그 변환 변수 추가"
   ]
  },
  {
   "cell_type": "code",
   "execution_count": 59,
   "id": "315947af",
   "metadata": {},
   "outputs": [],
   "source": [
    "df['log_총액'] = np.log(df['총액1인TOT_개별국제교통비제외2'])"
   ]
  },
  {
   "cell_type": "markdown",
   "id": "4a3d6a49",
   "metadata": {},
   "source": [
    "### 24년도 전처리 데이터 저장"
   ]
  },
  {
   "cell_type": "code",
   "execution_count": 60,
   "metadata": {},
   "outputs": [],
   "source": [
    "df['year'] = 2024  # 연도 컬럼 붙이기\n",
    "df.to_csv(\"data/2024/외래관광객조사_2024_전처리3(세분화).csv\", index=False, encoding='utf-8-sig')"
   ]
  },
  {
   "cell_type": "code",
   "execution_count": null,
   "id": "f324eb93",
   "metadata": {},
   "outputs": [],
   "source": []
  },
  {
   "cell_type": "code",
   "execution_count": null,
   "id": "08eff23f",
   "metadata": {},
   "outputs": [],
   "source": []
  }
 ],
 "metadata": {
  "kernelspec": {
   "display_name": "tensorflow_env",
   "language": "python",
   "name": "python3"
  },
  "language_info": {
   "codemirror_mode": {
    "name": "ipython",
    "version": 3
   },
   "file_extension": ".py",
   "mimetype": "text/x-python",
   "name": "python",
   "nbconvert_exporter": "python",
   "pygments_lexer": "ipython3",
   "version": "3.10.18"
  }
 },
 "nbformat": 4,
 "nbformat_minor": 5
}
