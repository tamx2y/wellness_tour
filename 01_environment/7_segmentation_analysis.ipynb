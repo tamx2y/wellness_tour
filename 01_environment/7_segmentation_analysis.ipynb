{
 "cells": [
  {
   "cell_type": "code",
   "execution_count": 1,
   "id": "7ba8c29e",
   "metadata": {},
   "outputs": [],
   "source": [
    "import pandas as pd\n",
    "import numpy as np\n",
    "import seaborn as sns\n",
    "import matplotlib.pyplot as plt\n",
    "from scipy.stats import f_oneway\n",
    "from scipy.stats import levene\n",
    "from scipy.stats import ttest_ind\n",
    "from statsmodels.stats.multicomp import pairwise_tukeyhsd\n",
    "from scipy.stats import ttest_ind, mannwhitneyu\n",
    "import pingouin as pg\n",
    "import matplotlib.pyplot as plt\n",
    "import seaborn as sns\n",
    "\n",
    "# 그래프 기본 설정\n",
    "plt.rcParams['font.family'] = 'Malgun Gothic'\n",
    "# plt.rcParams['font.family'] = 'AppleGothic'\n",
    "plt.rcParams['figure.figsize'] = 12, 6\n",
    "plt.rcParams['font.size'] = 14\n",
    "plt.rcParams['axes.unicode_minus'] = False"
   ]
  },
  {
   "cell_type": "code",
   "execution_count": 9,
   "id": "0e17e467",
   "metadata": {},
   "outputs": [],
   "source": [
    "df_2023= pd.read_csv('data/2023/외래관광객조사_2023_전처리3(세분화).csv')\n",
    "df_2024= pd.read_csv('data/2024/외래관광객조사_2024_전처리3(세분화).csv')"
   ]
  },
  {
   "cell_type": "code",
   "execution_count": 16,
   "id": "cefe87d9",
   "metadata": {},
   "outputs": [],
   "source": [
    "# 2024년 컬럼명 통일\n",
    "df_2024.rename(columns={\n",
    "    '총액1인TOT_개별국제교통비제외2': '총액1인TOT항공제외2'\n",
    "}, inplace=True)"
   ]
  },
  {
   "cell_type": "code",
   "execution_count": 17,
   "id": "b8c99c03",
   "metadata": {},
   "outputs": [
    {
     "name": "stdout",
     "output_type": "stream",
     "text": [
      "False\n"
     ]
    }
   ],
   "source": [
    "print('총액1인TOT_개별국제교통비제외2' in df_2024.columns)"
   ]
  },
  {
   "cell_type": "code",
   "execution_count": 18,
   "id": "6c3dc487",
   "metadata": {},
   "outputs": [
    {
     "name": "stdout",
     "output_type": "stream",
     "text": [
      "True\n"
     ]
    }
   ],
   "source": [
    "print('총액1인TOT항공제외2' in df_2024.columns)"
   ]
  },
  {
   "cell_type": "code",
   "execution_count": 19,
   "id": "7882bcf4",
   "metadata": {},
   "outputs": [
    {
     "name": "stdout",
     "output_type": "stream",
     "text": [
      "['D_NAT', 'M일HAP', 'Q7A', 'Q7a_dk', 'Q7a2', 'Q7a3', 'Q7a4', 'Q7a5', 'Q7a6', 'Q7a7', 'Q7a8', 'D_GUB', 'D_MOK', '총액1인TOT항공제외2', 'Q8a03', 'Q8a12', 'Q8_1a1', 'Q8_1a2', 'Q8_1a3', 'D_AGE', '동행자_단순', '동행자_세분화', '국가명', '연령대_단순', '연령대_세분화', '웰니스참여', '웰니스만족', 'log_총액', 'year']\n"
     ]
    }
   ],
   "source": [
    "print(df_2024.columns.tolist())"
   ]
  },
  {
   "cell_type": "code",
   "execution_count": 20,
   "id": "4b915713",
   "metadata": {},
   "outputs": [],
   "source": [
    "# 23, 24년도 데이터 병합\n",
    "df_all = pd.concat([df_2023, df_2024], ignore_index=True)"
   ]
  },
  {
   "cell_type": "code",
   "execution_count": 21,
   "id": "0e2513e0",
   "metadata": {},
   "outputs": [
    {
     "name": "stdout",
     "output_type": "stream",
     "text": [
      "(17123, 29)\n",
      "year\n",
      "2024    8769\n",
      "2023    8354\n",
      "Name: count, dtype: int64\n"
     ]
    }
   ],
   "source": [
    "# 병합된 데이터 확인\n",
    "print(df_all.shape)\n",
    "print(df_all['year'].value_counts())  # 연도별 분포 확인"
   ]
  },
  {
   "cell_type": "markdown",
   "id": "8257ca71",
   "metadata": {},
   "source": [
    "### 연령대별 사용 총액 분석"
   ]
  },
  {
   "cell_type": "code",
   "execution_count": 22,
   "id": "7a4edc70",
   "metadata": {},
   "outputs": [
    {
     "data": {
      "application/vnd.microsoft.datawrangler.viewer.v0+json": {
       "columns": [
        {
         "name": "연령대_단순",
         "rawType": "object",
         "type": "string"
        },
        {
         "name": "count",
         "rawType": "int64",
         "type": "integer"
        }
       ],
       "ref": "53e91be1-8cff-44f6-a64f-3684a7a169bf",
       "rows": [
        [
         "30~50대",
         "9596"
        ],
        [
         "20대",
         "6117"
        ],
        [
         "60대 이상",
         "974"
        ],
        [
         "10대",
         "436"
        ]
       ],
       "shape": {
        "columns": 1,
        "rows": 4
       }
      },
      "text/plain": [
       "연령대_단순\n",
       "30~50대    9596\n",
       "20대       6117\n",
       "60대 이상     974\n",
       "10대        436\n",
       "Name: count, dtype: int64"
      ]
     },
     "execution_count": 22,
     "metadata": {},
     "output_type": "execute_result"
    }
   ],
   "source": [
    "df_all['연령대_단순'].value_counts()"
   ]
  },
  {
   "cell_type": "code",
   "execution_count": 26,
   "id": "9e45da45",
   "metadata": {},
   "outputs": [
    {
     "name": "stdout",
     "output_type": "stream",
     "text": [
      "연령대_단순\n",
      "10대       1160.0\n",
      "20대       1268.6\n",
      "30~50대    1445.3\n",
      "60대 이상    1252.9\n",
      "Name: 총액1인TOT항공제외2, dtype: float64\n"
     ]
    }
   ],
   "source": [
    "# 연령대별 평균 총액\n",
    "avg_total_by_age = df_all.groupby('연령대_단순')['총액1인TOT항공제외2'].mean().round(1).sort_index()\n",
    "print(avg_total_by_age)"
   ]
  },
  {
   "cell_type": "markdown",
   "id": "9fe7f063",
   "metadata": {},
   "source": [
    "- 30~50대가 총액1인소비가 가장 큰 그룹으로 나타남\n",
    "- 30~50대 > 20대 > 60대 이상 > 10대 순으로 연령대별 평균 소비 총액을 확인할 수 있음 "
   ]
  },
  {
   "cell_type": "code",
   "execution_count": 66,
   "id": "49c0d523",
   "metadata": {},
   "outputs": [
    {
     "data": {
      "application/vnd.microsoft.datawrangler.viewer.v0+json": {
       "columns": [
        {
         "name": "연령대_세분화",
         "rawType": "object",
         "type": "string"
        },
        {
         "name": "count",
         "rawType": "int64",
         "type": "integer"
        }
       ],
       "ref": "b1ac97ed-fb72-4e7c-93f2-cc0d41476bde",
       "rows": [
        [
         "20대",
         "6117"
        ],
        [
         "30대",
         "4189"
        ],
        [
         "50대",
         "2776"
        ],
        [
         "40대",
         "2631"
        ],
        [
         "60대 이상",
         "974"
        ],
        [
         "10대",
         "436"
        ]
       ],
       "shape": {
        "columns": 1,
        "rows": 6
       }
      },
      "text/plain": [
       "연령대_세분화\n",
       "20대       6117\n",
       "30대       4189\n",
       "50대       2776\n",
       "40대       2631\n",
       "60대 이상     974\n",
       "10대        436\n",
       "Name: count, dtype: int64"
      ]
     },
     "execution_count": 66,
     "metadata": {},
     "output_type": "execute_result"
    }
   ],
   "source": [
    "df_all['연령대_세분화'].value_counts()"
   ]
  },
  {
   "cell_type": "code",
   "execution_count": 67,
   "id": "27370eb5",
   "metadata": {},
   "outputs": [
    {
     "name": "stdout",
     "output_type": "stream",
     "text": [
      "연령대_세분화\n",
      "10대       1160.0\n",
      "20대       1268.6\n",
      "30대       1465.3\n",
      "40대       1476.9\n",
      "50대       1385.0\n",
      "60대 이상    1252.9\n",
      "Name: 총액1인TOT항공제외2, dtype: float64\n"
     ]
    }
   ],
   "source": [
    "# 연령대별 평균 총액\n",
    "avg_total_by_age = df_all.groupby('연령대_세분화')['총액1인TOT항공제외2'].mean().round(1).sort_index()\n",
    "print(avg_total_by_age)"
   ]
  },
  {
   "cell_type": "code",
   "execution_count": 28,
   "id": "6cbd15cb",
   "metadata": {},
   "outputs": [
    {
     "name": "stdout",
     "output_type": "stream",
     "text": [
      "count    17123.000000\n",
      "mean      1363.952237\n",
      "std       1272.311095\n",
      "min        139.800000\n",
      "25%        665.133847\n",
      "50%        987.620000\n",
      "75%       1561.700000\n",
      "max       9549.510000\n",
      "Name: 총액1인TOT항공제외2, dtype: float64\n"
     ]
    }
   ],
   "source": [
    "print(df_all['총액1인TOT항공제외2'].describe())"
   ]
  },
  {
   "cell_type": "code",
   "execution_count": 30,
   "id": "c9309653",
   "metadata": {},
   "outputs": [
    {
     "data": {
      "image/png": "[encoded data removed]",
      "text/plain": [
       "<Figure size 800x500 with 1 Axes>"
      ]
     },
     "metadata": {},
     "output_type": "display_data"
    }
   ],
   "source": [
    "plt.figure(figsize=(8, 5))\n",
    "sns.histplot(df_all['총액1인TOT항공제외2'], bins=50, kde=True)\n",
    "plt.title(\"총액1인TOT항공제외2 분포\")\n",
    "plt.xlabel(\"총액 (USD)\")\n",
    "plt.ylabel(\"빈도수\")\n",
    "plt.show()"
   ]
  },
  {
   "cell_type": "code",
   "execution_count": 77,
   "id": "095c8f39",
   "metadata": {},
   "outputs": [
    {
     "data": {
      "image/png": "[encoded data removed]",
      "text/plain": [
       "<Figure size 800x500 with 1 Axes>"
      ]
     },
     "metadata": {},
     "output_type": "display_data"
    }
   ],
   "source": [
    "plt.figure(figsize=(8, 5))\n",
    "sns.histplot(df_all['log_총액'], bins=50, kde=True, color='orange')\n",
    "plt.title(\"log_총액 분포\")\n",
    "plt.xlabel(\"로그 변환된 총액\")\n",
    "plt.ylabel(\"빈도수\")\n",
    "plt.show()"
   ]
  },
  {
   "cell_type": "code",
   "execution_count": 34,
   "id": "a5d58f7c",
   "metadata": {},
   "outputs": [
    {
     "name": "stdout",
     "output_type": "stream",
     "text": [
      "연령대_단순\n",
      "10대       6.798\n",
      "20대       6.870\n",
      "30~50대    7.003\n",
      "60대 이상    6.829\n",
      "Name: log_총액, dtype: float64\n"
     ]
    }
   ],
   "source": [
    "# 연령대별 평균 log_총액 구하기\n",
    "avg_log_by_age = df_all.groupby('연령대_단순')['log_총액'].mean().round(3)\n",
    "print(avg_log_by_age)"
   ]
  },
  {
   "cell_type": "code",
   "execution_count": 37,
   "metadata": {},
   "outputs": [],
   "source": [
    "df_all['예상_총액'] = np.exp(df_all['log_총액']) - 1"
   ]
  },
  {
   "cell_type": "code",
   "execution_count": 38,
   "metadata": {},
   "outputs": [
    {
     "name": "stdout",
     "output_type": "stream",
     "text": [
      "연령대_단순\n",
      "10대       1159.0\n",
      "20대       1267.6\n",
      "30~50대    1444.3\n",
      "60대 이상    1251.9\n",
      "Name: 예상_총액, dtype: float64\n"
     ]
    }
   ],
   "source": [
    "avg_total_by_age = df_all.groupby('연령대_단순')['예상_총액'].mean().round(1)\n",
    "print(avg_total_by_age)"
   ]
  },
  {
   "cell_type": "markdown",
   "id": "8d1d8644",
   "metadata": {},
   "source": [
    "### 연령대별 자녀 동반 여부에 따른 소비 총액 차이"
   ]
  },
  {
   "cell_type": "markdown",
   "id": "30dd900b",
   "metadata": {},
   "source": [
    "#### 연령대_단순 기준 \n",
    "- 10대, 20대, 30~50대, 60대 이상"
   ]
  },
  {
   "cell_type": "code",
   "execution_count": null,
   "id": "6745e6f0",
   "metadata": {},
   "outputs": [],
   "source": [
    "# 동행자_세분화 컬럼 중에서 '자녀'와 함께온 관광객은 자녀O, 아닌 그룹은 자녀X 그룹으로 나눔\n",
    "df_all['자녀동반'] = df_all['동행자_세분화'].apply(lambda x: '자녀O' if x == '자녀' else '자녀X')"
   ]
  },
  {
   "cell_type": "code",
   "execution_count": 61,
   "id": "2d964e1e",
   "metadata": {},
   "outputs": [
    {
     "data": {
      "application/vnd.microsoft.datawrangler.viewer.v0+json": {
       "columns": [
        {
         "name": "연령대_단순",
         "rawType": "object",
         "type": "string"
        },
        {
         "name": "count",
         "rawType": "int64",
         "type": "integer"
        }
       ],
       "ref": "2a4e6517-61c7-4ac2-8cee-63416529e3f5",
       "rows": [
        [
         "30~50대",
         "9596"
        ],
        [
         "20대",
         "6117"
        ],
        [
         "60대 이상",
         "974"
        ],
        [
         "10대",
         "436"
        ]
       ],
       "shape": {
        "columns": 1,
        "rows": 4
       }
      },
      "text/plain": [
       "연령대_단순\n",
       "30~50대    9596\n",
       "20대       6117\n",
       "60대 이상     974\n",
       "10대        436\n",
       "Name: count, dtype: int64"
      ]
     },
     "execution_count": 61,
     "metadata": {},
     "output_type": "execute_result"
    }
   ],
   "source": [
    "df_all['연령대_단순'].value_counts()"
   ]
  },
  {
   "cell_type": "code",
   "execution_count": 62,
   "id": "3d660a94",
   "metadata": {},
   "outputs": [
    {
     "data": {
      "application/vnd.microsoft.datawrangler.viewer.v0+json": {
       "columns": [
        {
         "name": "연령대_단순",
         "rawType": "object",
         "type": "string"
        },
        {
         "name": "0",
         "rawType": "int64",
         "type": "integer"
        }
       ],
       "ref": "ecb47a8d-acd2-44c5-979a-50898c3631fc",
       "rows": [
        [
         "10대",
         "1"
        ],
        [
         "20대",
         "15"
        ],
        [
         "30~50대",
         "698"
        ],
        [
         "60대 이상",
         "114"
        ]
       ],
       "shape": {
        "columns": 1,
        "rows": 4
       }
      },
      "text/plain": [
       "연령대_단순\n",
       "10대         1\n",
       "20대        15\n",
       "30~50대    698\n",
       "60대 이상    114\n",
       "dtype: int64"
      ]
     },
     "execution_count": 62,
     "metadata": {},
     "output_type": "execute_result"
    }
   ],
   "source": [
    "df_all.query(\"자녀동반 == '자녀O'\").groupby('연령대_단순').size()"
   ]
  },
  {
   "cell_type": "code",
   "execution_count": 76,
   "id": "016dca44",
   "metadata": {},
   "outputs": [
    {
     "name": "stdout",
     "output_type": "stream",
     "text": [
      "['자녀X' '자녀O']\n"
     ]
    }
   ],
   "source": [
    "print(df_all['자녀동반'].unique())"
   ]
  },
  {
   "cell_type": "code",
   "execution_count": 64,
   "id": "39752e45",
   "metadata": {},
   "outputs": [],
   "source": [
    "# 10대 제외 필터링\n",
    "df_filtered = df_all[df_all['연령대_단순'] != '10대']"
   ]
  },
  {
   "cell_type": "code",
   "execution_count": 65,
   "metadata": {},
   "outputs": [
    {
     "name": "stdout",
     "output_type": "stream",
     "text": [
      "자녀동반       자녀O     자녀X\n",
      "연령대_단순                \n",
      "20대     1360.4  1267.4\n",
      "30~50대  1298.2  1455.7\n",
      "60대 이상  1172.4  1262.5\n"
     ]
    }
   ],
   "source": [
    "# 연령대별 × 자녀 동반 여부별 평균 소비액 확인\n",
    "## 예상 총액 기준으로 평균 비교\n",
    "pivot = df_filtered.pivot_table(\n",
    "    index='연령대_단순',\n",
    "    columns='자녀동반',\n",
    "    values='예상_총액',\n",
    "    aggfunc='mean'\n",
    ").round(1)\n",
    "\n",
    "print(pivot)"
   ]
  },
  {
   "cell_type": "code",
   "execution_count": 71,
   "id": "ec8d62c1",
   "metadata": {},
   "outputs": [
    {
     "name": "stdout",
     "output_type": "stream",
     "text": [
      "연령대_단순\n",
      "20대        15\n",
      "30~50대    698\n",
      "60대 이상    114\n",
      "dtype: int64\n"
     ]
    },
    {
     "data": {
      "application/vnd.microsoft.datawrangler.viewer.v0+json": {
       "columns": [
        {
         "name": "연령대_단순",
         "rawType": "object",
         "type": "string"
        },
        {
         "name": "자녀동반비율",
         "rawType": "object",
         "type": "string"
        }
       ],
       "ref": "fe1a6ef9-c72c-44bc-97d3-acdae6eeece6",
       "rows": [
        [
         "20대",
         "0.2%"
        ],
        [
         "30~50대",
         "7.3%"
        ],
        [
         "60대 이상",
         "11.7%"
        ]
       ],
       "shape": {
        "columns": 1,
        "rows": 3
       }
      },
      "text/plain": [
       "연령대_단순\n",
       "20대        0.2%\n",
       "30~50대     7.3%\n",
       "60대 이상    11.7%\n",
       "Name: 자녀동반비율, dtype: object"
      ]
     },
     "execution_count": 71,
     "metadata": {},
     "output_type": "execute_result"
    }
   ],
   "source": [
    "# 자녀 동반 비율\n",
    "# 전체 인원 수\n",
    "total = df_filtered.groupby('연령대_단순').size()\n",
    "\n",
    "# 자녀동반 인원 수\n",
    "with_child = df_filtered[df_filtered['자녀동반'] == '자녀O'].groupby('연령대_단순').size()\n",
    "\n",
    "# 비율 계산\n",
    "pivot['자녀동반비율'] = (with_child / total * 100).round(1).astype(str) + '%'\n",
    "\n",
    "print(with_child)\n",
    "pivot['자녀동반비율']"
   ]
  },
  {
   "cell_type": "markdown",
   "id": "118b63fd",
   "metadata": {},
   "source": [
    "| 연령대     | 자녀O 평균 소비액 | 자녀X 평균 소비액 | 차이 (자녀X - 자녀O)            |\n",
    "| ------- | ---------- | ---------- | ------------------------- |\n",
    "| 20대     | \\$1,360.4  | \\$1,267.4  | **-93.0** (자녀 동반 시 소비 ↑)  |\n",
    "| 30\\~50대 | \\$1,298.2  | \\$1,455.7  | **+157.5** (자녀 동반 시 소비 ↓) |\n",
    "| 60대 이상  | \\$1,172.4  | \\$1,262.5  | **+90.1** (자녀 동반 시 소비 ↓)  |\n"
   ]
  },
  {
   "cell_type": "markdown",
   "id": "b7cdda91",
   "metadata": {},
   "source": [
    "- 20대만 자녀 동반 시 소비가 증가 (다만, 표본수가 다른 그룹보다 적기에 신뢰도 낮음)\n",
    "- 30~50대는 자녀 동반 시 평균 소비 감소 (30~50대 전체 표본수에 비해 자녀와 함계한 30~50대의 표본차가 큼)\n",
    "- 자녀 미동반 시 평균 소비가 약 $157 더 높음\n",
    "- 자녀 동반 시 비용 부담을 줄이거나, 여행 스타일 자체가 달라질 가능성 존재\n",
    "- 체험 위주 -> 실내/단기 체류\n",
    "- 60대도 비슷한 경향\n",
    "- 자녀 미동반 시 소비가 더 높음\n",
    "- 다만 전반적으로 평균 소비 자체가 낮음 (60대 특징)"
   ]
  },
  {
   "cell_type": "markdown",
   "id": "dbd23180",
   "metadata": {},
   "source": [
    "- 30~50대: 자녀 없이 여행하는 중장년층이 가장 높은 소비력 보유층으로 타겟팅 가치 큼\n",
    "- 60대 이상: 자녀와 함께 여행하더라도 소비는 제한적 → 저가형, 휴식형 콘텐츠 전략 적합"
   ]
  },
  {
   "cell_type": "markdown",
   "id": "ce53a437",
   "metadata": {},
   "source": [
    "#### 연령대_세분화 기준"
   ]
  },
  {
   "cell_type": "code",
   "execution_count": 73,
   "id": "18495c34",
   "metadata": {},
   "outputs": [
    {
     "data": {
      "application/vnd.microsoft.datawrangler.viewer.v0+json": {
       "columns": [
        {
         "name": "연령대_세분화",
         "rawType": "object",
         "type": "string"
        },
        {
         "name": "0",
         "rawType": "int64",
         "type": "integer"
        }
       ],
       "ref": "8f907ec0-18aa-4aa7-83ef-c56fb9920a81",
       "rows": [
        [
         "10대",
         "1"
        ],
        [
         "20대",
         "15"
        ],
        [
         "30대",
         "113"
        ],
        [
         "40대",
         "206"
        ],
        [
         "50대",
         "379"
        ],
        [
         "60대 이상",
         "114"
        ]
       ],
       "shape": {
        "columns": 1,
        "rows": 6
       }
      },
      "text/plain": [
       "연령대_세분화\n",
       "10대         1\n",
       "20대        15\n",
       "30대       113\n",
       "40대       206\n",
       "50대       379\n",
       "60대 이상    114\n",
       "dtype: int64"
      ]
     },
     "execution_count": 73,
     "metadata": {},
     "output_type": "execute_result"
    }
   ],
   "source": [
    "df_all.query(\"자녀동반 == '자녀O'\").groupby('연령대_세분화').size()"
   ]
  },
  {
   "cell_type": "code",
   "execution_count": 74,
   "id": "ed528def",
   "metadata": {},
   "outputs": [],
   "source": [
    "# 10대 제외 필터링\n",
    "df_filtered = df_all[df_all['연령대_세분화'] != '10대']"
   ]
  },
  {
   "cell_type": "code",
   "execution_count": 75,
   "id": "5036e147",
   "metadata": {},
   "outputs": [
    {
     "name": "stdout",
     "output_type": "stream",
     "text": [
      "자녀동반        자녀O     자녀X\n",
      "연령대_세분화                \n",
      "20대      1360.4  1267.4\n",
      "30대      1329.7  1468.1\n",
      "40대      1424.3  1480.2\n",
      "50대      1220.3  1409.9\n",
      "60대 이상   1172.4  1262.5\n"
     ]
    }
   ],
   "source": [
    "# 연령대별 × 자녀 동반 여부별 평균 소비액 확인\n",
    "## 예상 총액 기준으로 평균 비교\n",
    "pivot = df_filtered.pivot_table(\n",
    "    index='연령대_세분화',\n",
    "    columns='자녀동반',\n",
    "    values='예상_총액',\n",
    "    aggfunc='mean'\n",
    ").round(1)\n",
    "\n",
    "print(pivot)"
   ]
  },
  {
   "cell_type": "markdown",
   "id": "558aed7f",
   "metadata": {},
   "source": [
    "### 왜 자녀를 동반하면 소비가 줄어들까?"
   ]
  },
  {
   "cell_type": "markdown",
   "id": "03441ccd",
   "metadata": {},
   "source": [
    "1. 1인당 지출이 분산됨\n",
    "- 숙소·음식·이동 등에서 전체 비용은 증가하나, 개별 체험/사치 지출은 감소\n",
    "\n",
    "2. 자녀 중심 일정으로 전환됨\n",
    "- 웰니스 콘텐츠(명상, 뷰티, 스파 등)는 어른 중심 활동\n",
    "- 자녀가 있으면 소극적 선택, 체험 종류 제한됨\n",
    "\n",
    "3. 예산 조정 심리\n",
    "- 가족 단위 여행은 전체 예산이 커지므로, 개별 항목에서 지출 절제\n",
    "\n",
    "4. 왜 30~50대 자녀 미동반자는 핵심 소비자인가?\n",
    "- 경제활동 주력층 + 체력과 여가 모두 확보된 세대\n",
    "- 자녀 없이 여행할 경우: 자기만족 중심 소비 가능\n",
    "- 웰니스 콘텐츠(명상, 스파, 치유 등)에 높은 관심과 지출 여력\n",
    "\n",
    "5. 결론\n",
    "- 웰니스 관광의 핵심 소비자는 ‘자녀 없이 여행하는 30~50대’다."
   ]
  },
  {
   "cell_type": "markdown",
   "id": "8afe2158",
   "metadata": {},
   "source": [
    "- 관광객 / 웰니스 관광객 구분해서 더 분석해보기"
   ]
  },
  {
   "cell_type": "markdown",
   "id": "4ab3037b",
   "metadata": {},
   "source": []
  }
 ],
 "metadata": {
  "kernelspec": {
   "display_name": "tensorflow_env",
   "language": "python",
   "name": "python3"
  },
  "language_info": {
   "codemirror_mode": {
    "name": "ipython",
    "version": 3
   },
   "file_extension": ".py",
   "mimetype": "text/x-python",
   "name": "python",
   "nbconvert_exporter": "python",
   "pygments_lexer": "ipython3",
   "version": "3.10.18"
  }
 },
 "nbformat": 4,
 "nbformat_minor": 5
}
