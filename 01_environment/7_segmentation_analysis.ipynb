{
 "cells": [
  {
   "cell_type": "code",
   "execution_count": 24,
   "id": "7ba8c29e",
   "metadata": {},
   "outputs": [],
   "source": [
    "import pandas as pd\n",
    "import numpy as np\n",
    "import seaborn as sns\n",
    "import matplotlib.pyplot as plt\n",
    "from scipy.stats import f_oneway\n",
    "from scipy.stats import levene\n",
    "from scipy.stats import ttest_ind\n",
    "from statsmodels.stats.multicomp import pairwise_tukeyhsd\n",
    "from scipy.stats import ttest_ind, mannwhitneyu\n",
    "import pingouin as pg\n",
    "import matplotlib.pyplot as plt\n",
    "import seaborn as sns\n",
    "import scipy.stats as stats\n",
    "\n",
    "# 그래프 기본 설정\n",
    "plt.rcParams['font.family'] = 'Malgun Gothic'\n",
    "# plt.rcParams['font.family'] = 'AppleGothic'\n",
    "plt.rcParams['figure.figsize'] = 12, 6\n",
    "plt.rcParams['font.size'] = 12\n",
    "plt.rcParams['axes.unicode_minus'] = False"
   ]
  },
  {
   "cell_type": "code",
   "execution_count": 25,
   "id": "0e17e467",
   "metadata": {},
   "outputs": [],
   "source": [
    "df_2023= pd.read_csv('data/2023/외래관광객조사_2023_전처리3(세분화).csv')\n",
    "df_2024= pd.read_csv('data/2024/외래관광객조사_2024_전처리3(세분화).csv')"
   ]
  },
  {
   "cell_type": "code",
   "execution_count": 26,
   "id": "cefe87d9",
   "metadata": {},
   "outputs": [],
   "source": [
    "# 2024년 컬럼명 통일\n",
    "df_2024.rename(columns={\n",
    "    '총액1인TOT_개별국제교통비제외2': '총액1인TOT항공제외2'\n",
    "}, inplace=True)"
   ]
  },
  {
   "cell_type": "code",
   "execution_count": 27,
   "id": "b8c99c03",
   "metadata": {},
   "outputs": [
    {
     "name": "stdout",
     "output_type": "stream",
     "text": [
      "False\n"
     ]
    }
   ],
   "source": [
    "print('총액1인TOT_개별국제교통비제외2' in df_2024.columns)"
   ]
  },
  {
   "cell_type": "code",
   "execution_count": 28,
   "id": "6c3dc487",
   "metadata": {},
   "outputs": [
    {
     "name": "stdout",
     "output_type": "stream",
     "text": [
      "True\n"
     ]
    }
   ],
   "source": [
    "print('총액1인TOT항공제외2' in df_2024.columns)"
   ]
  },
  {
   "cell_type": "code",
   "execution_count": 29,
   "id": "7882bcf4",
   "metadata": {},
   "outputs": [
    {
     "name": "stdout",
     "output_type": "stream",
     "text": [
      "['D_NAT', 'M일HAP', 'Q7A', 'Q7a_dk', 'Q7a2', 'Q7a3', 'Q7a4', 'Q7a5', 'Q7a6', 'Q7a7', 'Q7a8', 'D_GUB', 'D_MOK', '총액1인TOT항공제외2', 'Q8a03', 'Q8a12', 'Q8_1a1', 'Q8_1a2', 'Q8_1a3', 'D_AGE', '동행자_단순', '동행자_세분화', '국가명', '연령대_단순', '연령대_세분화', '웰니스참여', '웰니스만족', 'log_총액', 'year']\n"
     ]
    }
   ],
   "source": [
    "print(df_2024.columns.tolist())"
   ]
  },
  {
   "cell_type": "code",
   "execution_count": 30,
   "id": "4b915713",
   "metadata": {},
   "outputs": [],
   "source": [
    "# 23, 24년도 데이터 병합\n",
    "df_all = pd.concat([df_2023, df_2024], ignore_index=True)"
   ]
  },
  {
   "cell_type": "code",
   "execution_count": 31,
   "id": "0e2513e0",
   "metadata": {},
   "outputs": [
    {
     "name": "stdout",
     "output_type": "stream",
     "text": [
      "(17123, 29)\n",
      "year\n",
      "2024    8769\n",
      "2023    8354\n",
      "Name: count, dtype: int64\n"
     ]
    }
   ],
   "source": [
    "# 병합된 데이터 확인\n",
    "print(df_all.shape)\n",
    "print(df_all['year'].value_counts())  # 연도별 분포 확인"
   ]
  },
  {
   "cell_type": "markdown",
   "id": "8257ca71",
   "metadata": {},
   "source": [
    "### 전체 연령대별 사용 총액 분석"
   ]
  },
  {
   "cell_type": "code",
   "execution_count": 32,
   "id": "7a4edc70",
   "metadata": {},
   "outputs": [
    {
     "data": {
      "application/vnd.microsoft.datawrangler.viewer.v0+json": {
       "columns": [
        {
         "name": "연령대_단순",
         "rawType": "object",
         "type": "string"
        },
        {
         "name": "count",
         "rawType": "int64",
         "type": "integer"
        }
       ],
       "ref": "998898a7-0710-4037-ab6c-db2d9affc9b0",
       "rows": [
        [
         "30~50대",
         "9596"
        ],
        [
         "20대",
         "6117"
        ],
        [
         "60대 이상",
         "974"
        ],
        [
         "10대",
         "436"
        ]
       ],
       "shape": {
        "columns": 1,
        "rows": 4
       }
      },
      "text/plain": [
       "연령대_단순\n",
       "30~50대    9596\n",
       "20대       6117\n",
       "60대 이상     974\n",
       "10대        436\n",
       "Name: count, dtype: int64"
      ]
     },
     "execution_count": 32,
     "metadata": {},
     "output_type": "execute_result"
    }
   ],
   "source": [
    "df_all['연령대_단순'].value_counts()"
   ]
  },
  {
   "cell_type": "code",
   "execution_count": 33,
   "id": "9e45da45",
   "metadata": {},
   "outputs": [
    {
     "name": "stdout",
     "output_type": "stream",
     "text": [
      "연령대_단순\n",
      "10대       1160.0\n",
      "20대       1268.6\n",
      "30~50대    1445.3\n",
      "60대 이상    1252.9\n",
      "Name: 총액1인TOT항공제외2, dtype: float64\n"
     ]
    }
   ],
   "source": [
    "# 연령대별 평균 총액\n",
    "avg_total_by_age = df_all.groupby('연령대_단순')['총액1인TOT항공제외2'].mean().round(1).sort_index()\n",
    "print(avg_total_by_age)"
   ]
  },
  {
   "cell_type": "markdown",
   "id": "9fe7f063",
   "metadata": {},
   "source": [
    "- 30~50대가 총액1인소비가 가장 큰 그룹으로 나타남\n",
    "- 30~50대 > 20대 > 60대 이상 > 10대 순으로 연령대별 평균 소비 총액을 확인할 수 있음 "
   ]
  },
  {
   "cell_type": "code",
   "execution_count": 34,
   "id": "49c0d523",
   "metadata": {},
   "outputs": [
    {
     "data": {
      "application/vnd.microsoft.datawrangler.viewer.v0+json": {
       "columns": [
        {
         "name": "연령대_세분화",
         "rawType": "object",
         "type": "string"
        },
        {
         "name": "count",
         "rawType": "int64",
         "type": "integer"
        }
       ],
       "ref": "bbd5d681-4cd7-46b6-8103-e321641ce004",
       "rows": [
        [
         "20대",
         "6117"
        ],
        [
         "30대",
         "4189"
        ],
        [
         "50대",
         "2776"
        ],
        [
         "40대",
         "2631"
        ],
        [
         "60대 이상",
         "974"
        ],
        [
         "10대",
         "436"
        ]
       ],
       "shape": {
        "columns": 1,
        "rows": 6
       }
      },
      "text/plain": [
       "연령대_세분화\n",
       "20대       6117\n",
       "30대       4189\n",
       "50대       2776\n",
       "40대       2631\n",
       "60대 이상     974\n",
       "10대        436\n",
       "Name: count, dtype: int64"
      ]
     },
     "execution_count": 34,
     "metadata": {},
     "output_type": "execute_result"
    }
   ],
   "source": [
    "df_all['연령대_세분화'].value_counts()"
   ]
  },
  {
   "cell_type": "code",
   "execution_count": 35,
   "id": "27370eb5",
   "metadata": {},
   "outputs": [
    {
     "name": "stdout",
     "output_type": "stream",
     "text": [
      "연령대_세분화\n",
      "10대       1160.0\n",
      "20대       1268.6\n",
      "30대       1465.3\n",
      "40대       1476.9\n",
      "50대       1385.0\n",
      "60대 이상    1252.9\n",
      "Name: 총액1인TOT항공제외2, dtype: float64\n"
     ]
    }
   ],
   "source": [
    "# 연령대별 평균 총액\n",
    "avg_total_by_age = df_all.groupby('연령대_세분화')['총액1인TOT항공제외2'].mean().round(1).sort_index()\n",
    "print(avg_total_by_age)"
   ]
  },
  {
   "cell_type": "code",
   "execution_count": 36,
   "id": "6cbd15cb",
   "metadata": {},
   "outputs": [
    {
     "name": "stdout",
     "output_type": "stream",
     "text": [
      "count    17123.000000\n",
      "mean      1363.952237\n",
      "std       1272.311095\n",
      "min        139.800000\n",
      "25%        665.133847\n",
      "50%        987.620000\n",
      "75%       1561.700000\n",
      "max       9549.510000\n",
      "Name: 총액1인TOT항공제외2, dtype: float64\n"
     ]
    }
   ],
   "source": [
    "print(df_all['총액1인TOT항공제외2'].describe())"
   ]
  },
  {
   "cell_type": "code",
   "execution_count": 37,
   "id": "c9309653",
   "metadata": {},
   "outputs": [
    {
     "data": {
      "image/png": "[encoded data removed]",
      "text/plain": [
       "<Figure size 800x500 with 1 Axes>"
      ]
     },
     "metadata": {},
     "output_type": "display_data"
    }
   ],
   "source": [
    "plt.figure(figsize=(8, 5))\n",
    "sns.histplot(df_all['총액1인TOT항공제외2'], bins=50, kde=True)\n",
    "plt.title(\"총액1인TOT항공제외2 분포\")\n",
    "plt.xlabel(\"총액 (USD)\")\n",
    "plt.ylabel(\"빈도수\")\n",
    "plt.show()"
   ]
  },
  {
   "cell_type": "code",
   "execution_count": 38,
   "id": "095c8f39",
   "metadata": {},
   "outputs": [
    {
     "data": {
      "image/png": "[encoded data removed]",
      "text/plain": [
       "<Figure size 800x500 with 1 Axes>"
      ]
     },
     "metadata": {},
     "output_type": "display_data"
    }
   ],
   "source": [
    "plt.figure(figsize=(8, 5))\n",
    "sns.histplot(df_all['log_총액'], bins=50, kde=True, color='orange')\n",
    "plt.title(\"log_총액 분포\")\n",
    "plt.xlabel(\"로그 변환된 총액\")\n",
    "plt.ylabel(\"빈도수\")\n",
    "plt.show()"
   ]
  },
  {
   "cell_type": "code",
   "execution_count": 39,
   "id": "a5d58f7c",
   "metadata": {},
   "outputs": [
    {
     "name": "stdout",
     "output_type": "stream",
     "text": [
      "연령대_단순\n",
      "10대       6.798\n",
      "20대       6.870\n",
      "30~50대    7.003\n",
      "60대 이상    6.829\n",
      "Name: log_총액, dtype: float64\n"
     ]
    }
   ],
   "source": [
    "# 연령대별 평균 log_총액 구하기\n",
    "avg_log_by_age = df_all.groupby('연령대_단순')['log_총액'].mean().round(3)\n",
    "print(avg_log_by_age)"
   ]
  },
  {
   "cell_type": "code",
   "execution_count": 40,
   "metadata": {},
   "outputs": [],
   "source": [
    "df_all['예상_총액'] = np.exp(df_all['log_총액']) - 1"
   ]
  },
  {
   "cell_type": "code",
   "execution_count": 41,
   "metadata": {},
   "outputs": [
    {
     "name": "stdout",
     "output_type": "stream",
     "text": [
      "연령대_단순\n",
      "10대       1159.0\n",
      "20대       1267.6\n",
      "30~50대    1444.3\n",
      "60대 이상    1251.9\n",
      "Name: 예상_총액, dtype: float64\n"
     ]
    }
   ],
   "source": [
    "avg_total_by_age = df_all.groupby('연령대_단순')['예상_총액'].mean().round(1)\n",
    "print(avg_total_by_age)"
   ]
  },
  {
   "cell_type": "markdown",
   "id": "8d1d8644",
   "metadata": {},
   "source": [
    "### 연령대별 자녀 동반 여부에 따른 소비 총액 차이"
   ]
  },
  {
   "cell_type": "markdown",
   "id": "30dd900b",
   "metadata": {},
   "source": [
    "#### 연령대_단순 기준 \n",
    "- 10대, 20대, 30~50대, 60대 이상"
   ]
  },
  {
   "cell_type": "code",
   "execution_count": 42,
   "id": "6745e6f0",
   "metadata": {},
   "outputs": [],
   "source": [
    "# 동행자_세분화 컬럼 중에서 '자녀'와 함께온 관광객은 자녀O, 아닌 그룹은 자녀X 그룹으로 나눔\n",
    "df_all['자녀동반'] = df_all['동행자_세분화'].apply(lambda x: '자녀O' if x == '자녀' else '자녀X')"
   ]
  },
  {
   "cell_type": "code",
   "execution_count": 43,
   "id": "2d964e1e",
   "metadata": {},
   "outputs": [
    {
     "data": {
      "application/vnd.microsoft.datawrangler.viewer.v0+json": {
       "columns": [
        {
         "name": "연령대_단순",
         "rawType": "object",
         "type": "string"
        },
        {
         "name": "count",
         "rawType": "int64",
         "type": "integer"
        }
       ],
       "ref": "fac4c4cc-eeba-4bb8-bacf-cd1a120d14c0",
       "rows": [
        [
         "30~50대",
         "9596"
        ],
        [
         "20대",
         "6117"
        ],
        [
         "60대 이상",
         "974"
        ],
        [
         "10대",
         "436"
        ]
       ],
       "shape": {
        "columns": 1,
        "rows": 4
       }
      },
      "text/plain": [
       "연령대_단순\n",
       "30~50대    9596\n",
       "20대       6117\n",
       "60대 이상     974\n",
       "10대        436\n",
       "Name: count, dtype: int64"
      ]
     },
     "execution_count": 43,
     "metadata": {},
     "output_type": "execute_result"
    }
   ],
   "source": [
    "df_all['연령대_단순'].value_counts()"
   ]
  },
  {
   "cell_type": "code",
   "execution_count": 44,
   "id": "3d660a94",
   "metadata": {},
   "outputs": [
    {
     "data": {
      "application/vnd.microsoft.datawrangler.viewer.v0+json": {
       "columns": [
        {
         "name": "연령대_단순",
         "rawType": "object",
         "type": "string"
        },
        {
         "name": "0",
         "rawType": "int64",
         "type": "integer"
        }
       ],
       "ref": "0a6bf06e-4aba-49ab-b38f-1e134a8d999e",
       "rows": [
        [
         "10대",
         "1"
        ],
        [
         "20대",
         "15"
        ],
        [
         "30~50대",
         "698"
        ],
        [
         "60대 이상",
         "114"
        ]
       ],
       "shape": {
        "columns": 1,
        "rows": 4
       }
      },
      "text/plain": [
       "연령대_단순\n",
       "10대         1\n",
       "20대        15\n",
       "30~50대    698\n",
       "60대 이상    114\n",
       "dtype: int64"
      ]
     },
     "execution_count": 44,
     "metadata": {},
     "output_type": "execute_result"
    }
   ],
   "source": [
    "df_all.query(\"자녀동반 == '자녀O'\").groupby('연령대_단순').size()"
   ]
  },
  {
   "cell_type": "code",
   "execution_count": 45,
   "id": "9d0be381",
   "metadata": {},
   "outputs": [
    {
     "data": {
      "application/vnd.microsoft.datawrangler.viewer.v0+json": {
       "columns": [
        {
         "name": "연령대_세분화",
         "rawType": "object",
         "type": "string"
        },
        {
         "name": "0",
         "rawType": "int64",
         "type": "integer"
        }
       ],
       "ref": "834b05bb-e012-4783-a494-3493425e9c51",
       "rows": [
        [
         "10대",
         "1"
        ],
        [
         "20대",
         "15"
        ],
        [
         "30대",
         "113"
        ],
        [
         "40대",
         "206"
        ],
        [
         "50대",
         "379"
        ],
        [
         "60대 이상",
         "114"
        ]
       ],
       "shape": {
        "columns": 1,
        "rows": 6
       }
      },
      "text/plain": [
       "연령대_세분화\n",
       "10대         1\n",
       "20대        15\n",
       "30대       113\n",
       "40대       206\n",
       "50대       379\n",
       "60대 이상    114\n",
       "dtype: int64"
      ]
     },
     "execution_count": 45,
     "metadata": {},
     "output_type": "execute_result"
    }
   ],
   "source": [
    "df_all.query(\"자녀동반 == '자녀O'\").groupby('연령대_세분화').size()"
   ]
  },
  {
   "cell_type": "code",
   "execution_count": 46,
   "id": "016dca44",
   "metadata": {},
   "outputs": [
    {
     "name": "stdout",
     "output_type": "stream",
     "text": [
      "['자녀X' '자녀O']\n"
     ]
    }
   ],
   "source": [
    "print(df_all['자녀동반'].unique())"
   ]
  },
  {
   "cell_type": "code",
   "execution_count": 47,
   "id": "39752e45",
   "metadata": {},
   "outputs": [],
   "source": [
    "# 10대 제외 필터링\n",
    "df_filtered = df_all[df_all['연령대_단순'] != '10대']"
   ]
  },
  {
   "cell_type": "code",
   "execution_count": 48,
   "metadata": {},
   "outputs": [
    {
     "name": "stdout",
     "output_type": "stream",
     "text": [
      "자녀동반       자녀O     자녀X\n",
      "연령대_단순                \n",
      "20대     1361.4  1268.4\n",
      "30~50대  1299.2  1456.7\n",
      "60대 이상  1173.4  1263.5\n"
     ]
    }
   ],
   "source": [
    "# 연령대별 × 자녀 동반 여부별 평균 소비액 확인\n",
    "## 예상 총액 기준으로 평균 비교\n",
    "pivot = df_filtered.pivot_table(\n",
    "    index='연령대_단순',\n",
    "    columns='자녀동반',\n",
    "    values='총액1인TOT항공제외2',\n",
    "    aggfunc='mean'\n",
    ").round(1)\n",
    "\n",
    "print(pivot)"
   ]
  },
  {
   "cell_type": "code",
   "execution_count": 49,
   "id": "ec8d62c1",
   "metadata": {},
   "outputs": [
    {
     "name": "stdout",
     "output_type": "stream",
     "text": [
      "연령대_단순\n",
      "20대        15\n",
      "30~50대    698\n",
      "60대 이상    114\n",
      "dtype: int64\n"
     ]
    },
    {
     "data": {
      "application/vnd.microsoft.datawrangler.viewer.v0+json": {
       "columns": [
        {
         "name": "연령대_단순",
         "rawType": "object",
         "type": "string"
        },
        {
         "name": "자녀동반비율",
         "rawType": "object",
         "type": "string"
        }
       ],
       "ref": "2ef6b2a0-82d1-4542-a215-1410530264b5",
       "rows": [
        [
         "20대",
         "0.2%"
        ],
        [
         "30~50대",
         "7.3%"
        ],
        [
         "60대 이상",
         "11.7%"
        ]
       ],
       "shape": {
        "columns": 1,
        "rows": 3
       }
      },
      "text/plain": [
       "연령대_단순\n",
       "20대        0.2%\n",
       "30~50대     7.3%\n",
       "60대 이상    11.7%\n",
       "Name: 자녀동반비율, dtype: object"
      ]
     },
     "execution_count": 49,
     "metadata": {},
     "output_type": "execute_result"
    }
   ],
   "source": [
    "# 자녀 동반 비율\n",
    "# 전체 인원 수\n",
    "total = df_filtered.groupby('연령대_단순').size()\n",
    "\n",
    "# 자녀동반 인원 수\n",
    "with_child = df_filtered[df_filtered['자녀동반'] == '자녀O'].groupby('연령대_단순').size()\n",
    "\n",
    "# 비율 계산\n",
    "pivot['자녀동반비율'] = (with_child / total * 100).round(1).astype(str) + '%'\n",
    "\n",
    "print(with_child)\n",
    "pivot['자녀동반비율']"
   ]
  },
  {
   "cell_type": "markdown",
   "id": "118b63fd",
   "metadata": {},
   "source": [
    "| 연령대     | 자녀O 평균 소비액 | 자녀X 평균 소비액 | 차이 (자녀X - 자녀O)            |\n",
    "| ------- | ---------- | ---------- | ------------------------- |\n",
    "| 20대     | \\$1,361.4  | \\$1,268.4  | **-93.0** (자녀 동반 시 소비 ↑)  |\n",
    "| 30\\~50대 | \\$1,299.2  | \\$1,456.7  | **+157.5** (자녀 동반 시 소비 ↓) |\n",
    "| 60대 이상  | \\$1,173.4  | \\$1,263.5  | **+90.1** (자녀 동반 시 소비 ↓)  |\n"
   ]
  },
  {
   "cell_type": "markdown",
   "id": "b7cdda91",
   "metadata": {},
   "source": [
    "- 20대만 자녀 동반 시 소비가 증가 (다만, 표본수가 다른 그룹보다 적음)\n",
    "- 30~50대는 자녀 동반 시 평균 소비 감소 \n",
    "- 자녀 미동반 시 평균 소비가 약 $157 더 높음\n",
    "- 자녀 동반 시 비용 부담을 줄이거나, 여행 스타일 자체가 달라질 가능성 존재\n",
    "- 60대도 비슷한 경향 (자녀 미동반 시 소비가 더 높음)"
   ]
  },
  {
   "cell_type": "markdown",
   "id": "dbd23180",
   "metadata": {},
   "source": [
    "- 30~50대: 자녀 없이 여행하는 중장년층이 가장 높은 소비력 보유층으로 타겟팅 가치 큼"
   ]
  },
  {
   "cell_type": "markdown",
   "id": "ce53a437",
   "metadata": {},
   "source": [
    "#### 연령대_세분화 기준"
   ]
  },
  {
   "cell_type": "code",
   "execution_count": 50,
   "id": "18495c34",
   "metadata": {},
   "outputs": [
    {
     "data": {
      "application/vnd.microsoft.datawrangler.viewer.v0+json": {
       "columns": [
        {
         "name": "연령대_세분화",
         "rawType": "object",
         "type": "string"
        },
        {
         "name": "0",
         "rawType": "int64",
         "type": "integer"
        }
       ],
       "ref": "75e209dc-93f0-404a-a3ae-04834ec7fca9",
       "rows": [
        [
         "10대",
         "1"
        ],
        [
         "20대",
         "15"
        ],
        [
         "30대",
         "113"
        ],
        [
         "40대",
         "206"
        ],
        [
         "50대",
         "379"
        ],
        [
         "60대 이상",
         "114"
        ]
       ],
       "shape": {
        "columns": 1,
        "rows": 6
       }
      },
      "text/plain": [
       "연령대_세분화\n",
       "10대         1\n",
       "20대        15\n",
       "30대       113\n",
       "40대       206\n",
       "50대       379\n",
       "60대 이상    114\n",
       "dtype: int64"
      ]
     },
     "execution_count": 50,
     "metadata": {},
     "output_type": "execute_result"
    }
   ],
   "source": [
    "df_all.query(\"자녀동반 == '자녀O'\").groupby('연령대_세분화').size()"
   ]
  },
  {
   "cell_type": "code",
   "execution_count": 51,
   "id": "ed528def",
   "metadata": {},
   "outputs": [],
   "source": [
    "# 10대 제외 필터링\n",
    "df_filtered = df_all[df_all['연령대_세분화'] != '10대']"
   ]
  },
  {
   "cell_type": "code",
   "execution_count": 52,
   "id": "5036e147",
   "metadata": {},
   "outputs": [
    {
     "name": "stdout",
     "output_type": "stream",
     "text": [
      "자녀동반        자녀O     자녀X\n",
      "연령대_세분화                \n",
      "20대      1361.4  1268.4\n",
      "30대      1330.7  1469.1\n",
      "40대      1425.3  1481.2\n",
      "50대      1221.3  1410.9\n",
      "60대 이상   1173.4  1263.5\n"
     ]
    }
   ],
   "source": [
    "# 연령대별 × 자녀 동반 여부별 평균 소비액 확인\n",
    "## 총액 기준으로 평균 비교\n",
    "pivot = df_filtered.pivot_table(\n",
    "    index='연령대_세분화',\n",
    "    columns='자녀동반',\n",
    "    values='총액1인TOT항공제외2',\n",
    "    aggfunc='mean'\n",
    ").round(1)\n",
    "\n",
    "print(pivot)"
   ]
  },
  {
   "cell_type": "markdown",
   "id": "2a9ae69e",
   "metadata": {},
   "source": [
    "## 웰니스 관광객 연령대별 체류일수와 평균 소비액 차이"
   ]
  },
  {
   "cell_type": "markdown",
   "id": "51c56569",
   "metadata": {},
   "source": [
    "### 연령대별 × 자녀 동반 여부별 평균 소비액 (USD 기준)"
   ]
  },
  {
   "cell_type": "code",
   "execution_count": 53,
   "id": "18323f51",
   "metadata": {},
   "outputs": [
    {
     "name": "stdout",
     "output_type": "stream",
     "text": [
      "자녀동반        자녀O     자녀X\n",
      "연령대_세분화                \n",
      "20대      1635.3  1279.3\n",
      "30대      1160.8  1458.5\n",
      "40대      1573.8  1425.5\n",
      "50대      1289.3  1413.0\n",
      "60대 이상   1153.7  1320.5\n"
     ]
    }
   ],
   "source": [
    "# 웰니스 관광객만 + 10대 제외 필터링\n",
    "df_wellness = df_all[\n",
    "    (df_all['웰니스참여'] == 1) &\n",
    "    (df_all['연령대_세분화'] != '10대')\n",
    "]\n",
    "\n",
    "# 연령대별 × 자녀 동반 여부별 평균 소비액 (USD 기준)\n",
    "pivot = df_wellness.pivot_table(\n",
    "    index='연령대_세분화',\n",
    "    columns='자녀동반',\n",
    "    values='총액1인TOT항공제외2',\n",
    "    aggfunc='mean'\n",
    ").round(1)\n",
    "\n",
    "print(pivot)\n"
   ]
  },
  {
   "cell_type": "code",
   "execution_count": 141,
   "id": "3629eb28",
   "metadata": {},
   "outputs": [
    {
     "data": {
      "application/vnd.microsoft.datawrangler.viewer.v0+json": {
       "columns": [
        {
         "name": "연령대_세분화",
         "rawType": "object",
         "type": "string"
        },
        {
         "name": "count",
         "rawType": "int64",
         "type": "integer"
        }
       ],
       "ref": "ed47bc52-1273-4d9f-a4b5-81cc637b5ec2",
       "rows": [
        [
         "20대",
         "1987"
        ],
        [
         "30대",
         "1226"
        ],
        [
         "50대",
         "995"
        ],
        [
         "40대",
         "776"
        ],
        [
         "60대 이상",
         "427"
        ]
       ],
       "shape": {
        "columns": 1,
        "rows": 5
       }
      },
      "text/plain": [
       "연령대_세분화\n",
       "20대       1987\n",
       "30대       1226\n",
       "50대        995\n",
       "40대        776\n",
       "60대 이상     427\n",
       "Name: count, dtype: int64"
      ]
     },
     "execution_count": 141,
     "metadata": {},
     "output_type": "execute_result"
    }
   ],
   "source": [
    "df_wellness['연령대_세분화'].value_counts()"
   ]
  },
  {
   "cell_type": "code",
   "execution_count": 145,
   "id": "43cd172e",
   "metadata": {},
   "outputs": [
    {
     "name": "stdout",
     "output_type": "stream",
     "text": [
      "전체 응답자 중 웰니스 관광 참여자 비율: 31.60%\n"
     ]
    }
   ],
   "source": [
    "# 전체 응답자 중 웰니스 관광 참여자 비율\n",
    "# 전체 응답자 수\n",
    "total_n = len(df_all)\n",
    "\n",
    "# 웰니스 관광 참여자 수\n",
    "wellness_n = len(df_wellness)\n",
    "\n",
    "# 비율 계산\n",
    "wellness_ratio = wellness_n / total_n * 100\n",
    "\n",
    "print(f\"전체 응답자 중 웰니스 관광 참여자 비율: {wellness_ratio:.2f}%\")"
   ]
  },
  {
   "cell_type": "markdown",
   "id": "0b7d8bf1",
   "metadata": {},
   "source": [
    "- 총 5,411명"
   ]
  },
  {
   "cell_type": "markdown",
   "id": "db64e6b2",
   "metadata": {},
   "source": [
    "### 웰니스 관광객 연령대별 × 자녀 동반 여부별 평균 체류일수"
   ]
  },
  {
   "cell_type": "code",
   "execution_count": 143,
   "id": "58beea09",
   "metadata": {},
   "outputs": [
    {
     "name": "stdout",
     "output_type": "stream",
     "text": [
      "자녀동반     자녀O  자녀X\n",
      "연령대_세분화          \n",
      "20대      6.0  8.1\n",
      "30대      8.0  8.6\n",
      "40대      7.5  7.8\n",
      "50대      6.7  8.5\n",
      "60대 이상   9.0  9.3\n"
     ]
    }
   ],
   "source": [
    "# 연령대별 × 자녀 동반 여부별 평균 체류일수\n",
    "pivot = df_wellness.pivot_table(\n",
    "    index='연령대_세분화',\n",
    "    columns='자녀동반',\n",
    "    values='M일HAP',\n",
    "    aggfunc='mean'\n",
    ").round(1)\n",
    "\n",
    "print(pivot)\n"
   ]
  },
  {
   "cell_type": "code",
   "execution_count": 55,
   "id": "b9cb3d1d",
   "metadata": {},
   "outputs": [
    {
     "data": {
      "image/png": "[encoded data removed]",
      "text/plain": [
       "<Figure size 800x500 with 1 Axes>"
      ]
     },
     "metadata": {},
     "output_type": "display_data"
    }
   ],
   "source": [
    "import numpy as np\n",
    "import matplotlib.pyplot as plt\n",
    "\n",
    "# 한글 폰트 설정 (Windows 기준)\n",
    "plt.rcParams['font.family'] = 'Malgun Gothic'\n",
    "plt.rcParams['axes.unicode_minus'] = False\n",
    "\n",
    "# x축 설정\n",
    "labels = pivot.index.tolist()\n",
    "x = np.arange(len(labels))\n",
    "width = 0.38  # 막대 너비\n",
    "\n",
    "# 블루 계열 그라데이션 색상\n",
    "colors_o = plt.cm.Blues(np.linspace(0.4, 0.7, len(labels)))  # 자녀O\n",
    "colors_x = plt.cm.Blues(np.linspace(0.7, 1.0, len(labels)))  # 자녀X\n",
    "\n",
    "plt.figure(figsize=(8, 5))\n",
    "bars1 = plt.bar(x - width/2, pivot['자녀O'], width, label='자녀O', color=colors_o)\n",
    "bars2 = plt.bar(x + width/2, pivot['자녀X'], width, label='자녀X', color=colors_x)\n",
    "\n",
    "# 막대 위 값 표시\n",
    "def add_labels(bars):\n",
    "    for b in bars:\n",
    "        h = b.get_height()\n",
    "        plt.text(b.get_x() + b.get_width()/2, h, f'{h:.1f}일', ha='center', va='bottom', fontsize=9)\n",
    "\n",
    "add_labels(bars1)\n",
    "add_labels(bars2)\n",
    "\n",
    "plt.xticks(x, labels)\n",
    "plt.ylabel('평균 체류일수 (일)')\n",
    "plt.title('웰니스 관광객 연령대별 자녀 동반 여부 평균 체류일수')\n",
    "plt.legend()\n",
    "plt.ylim(0, np.nanmax(pivot.values) * 1.1)  # 여유 공간\n",
    "plt.grid(False)\n",
    "plt.tight_layout()\n",
    "plt.show()\n"
   ]
  },
  {
   "cell_type": "markdown",
   "id": "bd72090b",
   "metadata": {},
   "source": [
    "### 국가별 자녀 여부에 따른 평균 체류일수"
   ]
  },
  {
   "cell_type": "code",
   "execution_count": 56,
   "id": "6eb52e27",
   "metadata": {},
   "outputs": [
    {
     "name": "stdout",
     "output_type": "stream",
     "text": [
      "자녀동반   자녀O   자녀X\n",
      "국가명             \n",
      "미국     8.7  11.0\n",
      "영국    10.2  12.6\n",
      "일본     3.7   4.1\n",
      "중국     6.8   7.9\n",
      "중동    13.5  12.4\n"
     ]
    }
   ],
   "source": [
    "# 필터링: 웰니스 관광객 + 선택 국가 + 10대 제외\n",
    "countries = ['일본', '중국', '미국', '영국', '중동']\n",
    "\n",
    "df_wellness = df_all[\n",
    "    (df_all['웰니스참여'] == 1) &\n",
    "    (df_all['국가명'].isin(countries)) &\n",
    "    (df_all['연령대_세분화'] != '10대')\n",
    "]\n",
    "\n",
    "# 국가별 × 자녀동반 여부별 평균 체류일수\n",
    "pivot = df_wellness.pivot_table(\n",
    "    index='국가명',\n",
    "    columns='자녀동반',\n",
    "    values='M일HAP',\n",
    "    aggfunc='mean'\n",
    ").round(1)\n",
    "\n",
    "print(pivot)\n"
   ]
  },
  {
   "cell_type": "code",
   "execution_count": 58,
   "id": "cdafac01",
   "metadata": {},
   "outputs": [
    {
     "name": "stdout",
     "output_type": "stream",
     "text": [
      "자녀O 평균 체류일수: 7.15606936416185\n",
      "자녀X 평균 체류일수: 8.005918307946056\n"
     ]
    }
   ],
   "source": [
    "# 동행자_세분화 컬럼 중에서 '자녀'와 함께온 관광객은 자녀O, 아닌 그룹은 자녀X 그룹으로 나눔\n",
    "df_all['자녀동반'] = df_all['동행자_세분화'].apply(lambda x: '자녀O' if x == '자녀' else '자녀X')\n",
    "\n",
    "# 10대 제외 필터링\n",
    "df_filtered = df_all[df_all['연령대_단순'] != '10대']\n",
    "\n",
    "# 웰니스 관광객만 필터링 + 10대 제외\n",
    "wellness_df = df_all[(df_all['웰니스참여'] == 1)]\n",
    "\n",
    "# 자녀 동반 여부별 평균 체류일수 계산\n",
    "means = wellness_df.groupby('자녀동반')['M일HAP'].mean()\n",
    "print(\"자녀O 평균 체류일수:\", means['자녀O'])\n",
    "print(\"자녀X 평균 체류일수:\", means['자녀X'])"
   ]
  },
  {
   "cell_type": "code",
   "execution_count": 59,
   "id": "edb5a149",
   "metadata": {},
   "outputs": [
    {
     "data": {
      "image/png": "[encoded data removed]",
      "text/plain": [
       "<Figure size 600x500 with 1 Axes>"
      ]
     },
     "metadata": {},
     "output_type": "display_data"
    }
   ],
   "source": [
    "import matplotlib.pyplot as plt\n",
    "import numpy as np\n",
    "\n",
    "# 한글 폰트 설정 (Windows 기준)\n",
    "plt.rcParams['font.family'] = 'Malgun Gothic'\n",
    "plt.rcParams['axes.unicode_minus'] = False\n",
    "\n",
    "labels = means.index.tolist()\n",
    "values = means.values.tolist()\n",
    "\n",
    "# 블루 계열 그라데이션 색상 생성\n",
    "colors = plt.cm.Blues(np.linspace(0.4, 0.8, len(values)))\n",
    "\n",
    "plt.figure(figsize=(6, 5))\n",
    "bars = plt.bar(labels, values, color=colors, edgecolor='black')\n",
    "\n",
    "# 막대 위 y값 표시\n",
    "for bar in bars:\n",
    "    height = bar.get_height()\n",
    "    plt.text(bar.get_x() + bar.get_width() / 2, height,\n",
    "             f'{height:.2f}', ha='center', va='bottom', fontsize=10)\n",
    "\n",
    "plt.ylabel('평균 체류일수')\n",
    "plt.title('웰니스 관광객 자녀 동반 여부별 평균 체류일수')\n",
    "plt.ylim(0, max(values) * 1.1)  # 여유 공간\n",
    "plt.grid(False)\n",
    "plt.show()\n"
   ]
  },
  {
   "cell_type": "code",
   "execution_count": 57,
   "id": "2466ff94",
   "metadata": {},
   "outputs": [
    {
     "data": {
      "image/png": "[encoded data removed]",
      "text/plain": [
       "<Figure size 800x500 with 1 Axes>"
      ]
     },
     "metadata": {},
     "output_type": "display_data"
    }
   ],
   "source": [
    "import matplotlib.pyplot as plt\n",
    "import seaborn as sns\n",
    "\n",
    "# 한글 폰트 설정 (Windows 기준)\n",
    "plt.rcParams['font.family'] = 'Malgun Gothic'\n",
    "plt.rcParams['axes.unicode_minus'] = False\n",
    "\n",
    "# pivot 데이터를 long 형식으로 변환\n",
    "df_plot = pivot.reset_index().melt(id_vars='국가명', var_name='자녀동반', value_name='평균체류일수')\n",
    "\n",
    "plt.figure(figsize=(8, 5))\n",
    "ax = sns.barplot(\n",
    "    data=df_plot,\n",
    "    x='국가명',\n",
    "    y='평균체류일수',\n",
    "    hue='자녀동반',\n",
    "    palette='Set2'\n",
    ")\n",
    "\n",
    "# 막대 위 값 표시\n",
    "# 막대 위 값 표시 (0 또는 NaN은 제외)\n",
    "for p in ax.patches:\n",
    "    height = p.get_height()\n",
    "    if pd.notnull(height) and height != 0:  # NaN이 아니고 0이 아닐 때만 표시\n",
    "        ax.annotate(f'{height:.1f}일',\n",
    "                    (p.get_x() + p.get_width() / 2, height),\n",
    "                    ha='center', va='bottom',\n",
    "                    fontsize=9)\n",
    "\n",
    "plt.title('국가별 자녀 동반 여부에 따른 평균 체류일수')\n",
    "plt.ylabel('평균 체류일수 (일)')\n",
    "plt.xlabel('국가명')\n",
    "plt.ylim(0, df_plot['평균체류일수'].max() * 1.15)\n",
    "plt.legend(title='자녀동반')\n",
    "plt.tight_layout()\n",
    "plt.show()\n"
   ]
  },
  {
   "cell_type": "markdown",
   "id": "558aed7f",
   "metadata": {},
   "source": [
    "#### 왜 자녀를 동반하면 소비가 줄어들까?"
   ]
  },
  {
   "cell_type": "markdown",
   "id": "03441ccd",
   "metadata": {},
   "source": [
    "1. 1인당 지출이 분산됨\n",
    "- 숙소·음식·이동 등에서 전체 비용은 증가하나, 개별 체험/사치 지출은 감소\n",
    "\n",
    "2. 자녀 중심 일정으로 전환됨\n",
    "- 웰니스 콘텐츠(명상, 뷰티, 스파 등)는 어른 중심 활동\n",
    "- 자녀가 있으면 소극적 선택, 체험 종류 제한됨 (시간, 활동 측면에서 제약)\n",
    "\n",
    "3. 왜 30~50대 자녀 미동반자는 핵심 소비자인가?\n",
    "- 경제활동 주력층 + 체력과 여가 모두 확보된 세대\n",
    "- 자녀 없이 여행할 경우: 자기만족 중심 소비 가능\n",
    "- 웰니스 콘텐츠(명상, 스파, 치유 등)에 높은 관심과 지출 여력\n",
    "\n",
    "4. 결론\n",
    "- 웰니스 관광의 핵심 소비자는 ‘자녀 없이 여행하는 30~50대’다."
   ]
  },
  {
   "cell_type": "markdown",
   "id": "8afe2158",
   "metadata": {},
   "source": [
    "- 관광객 / 웰니스 관광객 구분해서 더 분석해보기"
   ]
  },
  {
   "cell_type": "markdown",
   "id": "37af2611",
   "metadata": {},
   "source": [
    "### 웰니스 관광객 연령대와 사용 총액 분석"
   ]
  },
  {
   "cell_type": "code",
   "execution_count": 60,
   "id": "d7d0b0ee",
   "metadata": {},
   "outputs": [],
   "source": [
    "# 웰니스 관광객만 필터링\n",
    "wellness_df = df_all[df_all['웰니스참여'] == 1]"
   ]
  },
  {
   "cell_type": "code",
   "execution_count": 61,
   "id": "5a455b0b",
   "metadata": {},
   "outputs": [
    {
     "data": {
      "application/vnd.microsoft.datawrangler.viewer.v0+json": {
       "columns": [
        {
         "name": "index",
         "rawType": "int64",
         "type": "integer"
        },
        {
         "name": "D_NAT",
         "rawType": "int64",
         "type": "integer"
        },
        {
         "name": "M일HAP",
         "rawType": "int64",
         "type": "integer"
        },
        {
         "name": "Q7A",
         "rawType": "int64",
         "type": "integer"
        },
        {
         "name": "Q7a_dk",
         "rawType": "float64",
         "type": "float"
        },
        {
         "name": "Q7a2",
         "rawType": "float64",
         "type": "float"
        },
        {
         "name": "Q7a3",
         "rawType": "float64",
         "type": "float"
        },
        {
         "name": "Q7a4",
         "rawType": "float64",
         "type": "float"
        },
        {
         "name": "Q7a5",
         "rawType": "float64",
         "type": "float"
        },
        {
         "name": "Q7a6",
         "rawType": "float64",
         "type": "float"
        },
        {
         "name": "Q7a7",
         "rawType": "float64",
         "type": "float"
        },
        {
         "name": "Q7a8",
         "rawType": "float64",
         "type": "float"
        },
        {
         "name": "D_GUB",
         "rawType": "int64",
         "type": "integer"
        },
        {
         "name": "D_MOK",
         "rawType": "int64",
         "type": "integer"
        },
        {
         "name": "총액1인TOT항공제외2",
         "rawType": "float64",
         "type": "float"
        },
        {
         "name": "Q8a03",
         "rawType": "float64",
         "type": "float"
        },
        {
         "name": "Q8a12",
         "rawType": "float64",
         "type": "float"
        },
        {
         "name": "Q8_1a1",
         "rawType": "int64",
         "type": "integer"
        },
        {
         "name": "Q8_1a2",
         "rawType": "float64",
         "type": "float"
        },
        {
         "name": "Q8_1a3",
         "rawType": "float64",
         "type": "float"
        },
        {
         "name": "D_AGE",
         "rawType": "int64",
         "type": "integer"
        },
        {
         "name": "동행자_단순",
         "rawType": "object",
         "type": "string"
        },
        {
         "name": "동행자_세분화",
         "rawType": "object",
         "type": "string"
        },
        {
         "name": "국가명",
         "rawType": "object",
         "type": "string"
        },
        {
         "name": "연령대_단순",
         "rawType": "object",
         "type": "string"
        },
        {
         "name": "연령대_세분화",
         "rawType": "object",
         "type": "string"
        },
        {
         "name": "웰니스참여",
         "rawType": "int64",
         "type": "integer"
        },
        {
         "name": "웰니스만족",
         "rawType": "int64",
         "type": "integer"
        },
        {
         "name": "log_총액",
         "rawType": "float64",
         "type": "float"
        },
        {
         "name": "year",
         "rawType": "int64",
         "type": "integer"
        },
        {
         "name": "예상_총액",
         "rawType": "float64",
         "type": "float"
        },
        {
         "name": "자녀동반",
         "rawType": "object",
         "type": "string"
        }
       ],
       "ref": "c8ff8165-f68c-4cfd-ada8-f7581d61389d",
       "rows": [
        [
         "1",
         "1",
         "7",
         "1",
         "1.0",
         null,
         null,
         null,
         null,
         null,
         null,
         null,
         "1",
         "2",
         "1621.28",
         "3.0",
         null,
         "11",
         "2.0",
         "3.0",
         "3",
         "혼자",
         "혼자",
         "중국",
         "30~50대",
         "30대",
         "1",
         "1",
         "7.390971239700008",
         "2023",
         "1620.2800000000007",
         "자녀X"
        ],
        [
         "4",
         "3",
         "8",
         "2",
         null,
         null,
         null,
         null,
         null,
         "6.0",
         null,
         null,
         "1",
         "1",
         "1336.6",
         "3.0",
         null,
         "2",
         "3.0",
         "1.0",
         "2",
         "친구",
         "친구",
         "대만",
         "20대",
         "20대",
         "1",
         "1",
         "7.19788435507697",
         "2023",
         "1335.6",
         "자녀X"
        ],
        [
         "7",
         "5",
         "6",
         "2",
         null,
         null,
         null,
         null,
         null,
         "6.0",
         null,
         null,
         "1",
         "1",
         "1790.84",
         "3.0",
         null,
         "3",
         "2.0",
         "15.0",
         "3",
         "친구",
         "친구",
         "홍콩",
         "30~50대",
         "30대",
         "1",
         "1",
         "7.49044006250333",
         "2023",
         "1789.8400000000004",
         "자녀X"
        ],
        [
         "8",
         "3",
         "6",
         "2",
         null,
         "2.0",
         null,
         null,
         null,
         null,
         null,
         null,
         "1",
         "1",
         "805.22",
         "3.0",
         null,
         "3",
         "1.0",
         "2.0",
         "2",
         "가족",
         "배우자/파트너",
         "대만",
         "20대",
         "20대",
         "1",
         "1",
         "6.691115532006593",
         "2023",
         "804.2199999999999",
         "자녀X"
        ],
        [
         "9",
         "3",
         "5",
         "2",
         null,
         null,
         null,
         null,
         null,
         "6.0",
         null,
         null,
         "3",
         "1",
         "1352.9",
         "3.0",
         null,
         "3",
         "1.0",
         "8.0",
         "3",
         "친구",
         "친구",
         "대만",
         "30~50대",
         "30대",
         "1",
         "1",
         "7.210005715609315",
         "2023",
         "1351.9",
         "자녀X"
        ],
        [
         "12",
         "3",
         "5",
         "2",
         null,
         null,
         null,
         "4.0",
         null,
         null,
         null,
         null,
         "3",
         "1",
         "1630.0",
         "3.0",
         null,
         "8",
         "11.0",
         "3.0",
         "4",
         "가족",
         "자녀",
         "대만",
         "30~50대",
         "40대",
         "1",
         "1",
         "7.396335293800808",
         "2023",
         "1629.0000000000005",
         "자녀O"
        ],
        [
         "13",
         "16",
         "7",
         "1",
         "1.0",
         null,
         null,
         null,
         null,
         null,
         null,
         null,
         "1",
         "2",
         "2145.26",
         "3.0",
         null,
         "1",
         "2.0",
         "3.0",
         "4",
         "혼자",
         "혼자",
         "영국",
         "30~50대",
         "40대",
         "1",
         "1",
         "7.671016036137734",
         "2023",
         "2144.260000000001",
         "자녀X"
        ],
        [
         "14",
         "7",
         "3",
         "1",
         "1.0",
         null,
         null,
         null,
         null,
         null,
         null,
         null,
         "1",
         "1",
         "733.44",
         "3.0",
         null,
         "4",
         "2.0",
         "3.0",
         "2",
         "혼자",
         "혼자",
         "베트남",
         "20대",
         "20대",
         "1",
         "1",
         "6.597745794646266",
         "2023",
         "732.4400000000004",
         "자녀X"
        ],
        [
         "19",
         "10",
         "10",
         "2",
         null,
         "2.0",
         null,
         "4.0",
         null,
         null,
         null,
         null,
         "1",
         "1",
         "4222.23",
         null,
         "12.0",
         "1",
         "12.0",
         "2.0",
         "3",
         "가족",
         "배우자/파트너",
         "싱가포르",
         "30~50대",
         "30대",
         "1",
         "1",
         "8.348118703475869",
         "2023",
         "4221.229999999996",
         "자녀X"
        ],
        [
         "20",
         "4",
         "10",
         "2",
         null,
         null,
         "3.0",
         null,
         null,
         null,
         null,
         null,
         "1",
         "1",
         "910.0",
         "3.0",
         null,
         "9",
         "1.0",
         "4.0",
         "3",
         "가족",
         "부모님",
         "미국",
         "30~50대",
         "30대",
         "1",
         "0",
         "6.813444599510896",
         "2023",
         "908.9999999999999",
         "자녀X"
        ],
        [
         "22",
         "1",
         "8",
         "2",
         null,
         null,
         "3.0",
         null,
         null,
         null,
         null,
         null,
         "1",
         "2",
         "1111.88",
         "3.0",
         null,
         "1",
         "2.0",
         "3.0",
         "1",
         "가족",
         "부모님",
         "중국",
         "10대",
         "10대",
         "1",
         "1",
         "7.0138075553183645",
         "2023",
         "1110.8800000000006",
         "자녀X"
        ],
        [
         "23",
         "5",
         "7",
         "2",
         null,
         "2.0",
         null,
         "4.0",
         null,
         null,
         null,
         null,
         "2",
         "1",
         "1477.42",
         "3.0",
         null,
         "6",
         "3.0",
         "2.0",
         "3",
         "가족",
         "배우자/파트너",
         "홍콩",
         "30~50대",
         "30대",
         "1",
         "1",
         "7.298052602298258",
         "2023",
         "1476.4200000000003",
         "자녀X"
        ],
        [
         "25",
         "10",
         "7",
         "2",
         null,
         null,
         null,
         null,
         "5.0",
         null,
         null,
         null,
         "1",
         "1",
         "1092.81",
         "3.0",
         null,
         "2",
         "3.0",
         "4.0",
         "3",
         "가족",
         "그 외 가족 친지",
         "싱가포르",
         "30~50대",
         "30대",
         "1",
         "1",
         "6.996507639579928",
         "2023",
         "1091.8099999999997",
         "자녀X"
        ],
        [
         "26",
         "10",
         "7",
         "2",
         null,
         "2.0",
         "3.0",
         "4.0",
         null,
         null,
         null,
         null,
         "1",
         "1",
         "4743.8",
         "3.0",
         null,
         "15",
         "4.0",
         "3.0",
         "3",
         "가족",
         "배우자/파트너",
         "싱가포르",
         "30~50대",
         "30대",
         "1",
         "1",
         "8.464593781272846",
         "2023",
         "4742.800000000001",
         "자녀X"
        ],
        [
         "28",
         "1",
         "24",
         "2",
         null,
         null,
         null,
         "4.0",
         null,
         null,
         null,
         null,
         "1",
         "2",
         "1010.8",
         "3.0",
         null,
         "3",
         "2.0",
         null,
         "4",
         "가족",
         "자녀",
         "중국",
         "30~50대",
         "40대",
         "1",
         "1",
         "6.918497375514039",
         "2023",
         "1009.7999999999997",
         "자녀O"
        ],
        [
         "29",
         "10",
         "6",
         "2",
         null,
         "2.0",
         "3.0",
         "4.0",
         null,
         null,
         null,
         null,
         "1",
         "1",
         "1583.34",
         "3.0",
         null,
         "2",
         "15.0",
         "3.0",
         "2",
         "가족",
         "배우자/파트너",
         "싱가포르",
         "20대",
         "20대",
         "1",
         "1",
         "7.367291818878028",
         "2023",
         "1582.3399999999992",
         "자녀X"
        ],
        [
         "30",
         "10",
         "7",
         "2",
         null,
         null,
         "3.0",
         "4.0",
         null,
         null,
         null,
         null,
         "2",
         "2",
         "2210.46",
         "3.0",
         null,
         "15",
         "2.0",
         "1.0",
         "4",
         "가족",
         "부모님",
         "싱가포르",
         "30~50대",
         "40대",
         "1",
         "0",
         "7.700955917649056",
         "2023",
         "2209.46",
         "자녀X"
        ],
        [
         "33",
         "6",
         "17",
         "1",
         "1.0",
         null,
         null,
         null,
         null,
         null,
         null,
         null,
         "1",
         "1",
         "2225.3",
         "3.0",
         null,
         "10",
         "3.0",
         "2.0",
         "2",
         "혼자",
         "혼자",
         "태국",
         "20대",
         "20대",
         "1",
         "1",
         "7.7076470169720706",
         "2023",
         "2224.3000000000006",
         "자녀X"
        ],
        [
         "39",
         "6",
         "5",
         "2",
         null,
         null,
         "3.0",
         null,
         null,
         null,
         null,
         null,
         "1",
         "1",
         "752.85",
         "3.0",
         null,
         "2",
         "1.0",
         "3.0",
         "6",
         "가족",
         "부모님",
         "태국",
         "60대 이상",
         "60대 이상",
         "1",
         "1",
         "6.623866004769052",
         "2023",
         "751.8499999999999",
         "자녀X"
        ],
        [
         "40",
         "4",
         "5",
         "2",
         null,
         "2.0",
         null,
         null,
         null,
         null,
         null,
         null,
         "1",
         "1",
         "1365.0",
         "3.0",
         "12.0",
         "11",
         "2.0",
         "1.0",
         "6",
         "가족",
         "배우자/파트너",
         "미국",
         "60대 이상",
         "60대 이상",
         "1",
         "0",
         "7.21890970761906",
         "2023",
         "1364.0000000000002",
         "자녀X"
        ],
        [
         "43",
         "4",
         "13",
         "2",
         null,
         "2.0",
         null,
         null,
         null,
         null,
         null,
         null,
         "1",
         "2",
         "980.0",
         "3.0",
         null,
         "4",
         "2.0",
         "3.0",
         "5",
         "가족",
         "배우자/파트너",
         "미국",
         "30~50대",
         "50대",
         "1",
         "1",
         "6.887552571664617",
         "2023",
         "978.9999999999998",
         "자녀X"
        ],
        [
         "44",
         "7",
         "4",
         "2",
         null,
         null,
         "3.0",
         null,
         null,
         "6.0",
         null,
         null,
         "3",
         "1",
         "1265.0",
         null,
         "12.0",
         "8",
         "1.0",
         "2.0",
         "1",
         "가족",
         "부모님",
         "베트남",
         "10대",
         "10대",
         "1",
         "0",
         "7.142827401161621",
         "2023",
         "1264.0000000000002",
         "자녀X"
        ],
        [
         "46",
         "7",
         "5",
         "2",
         null,
         null,
         null,
         null,
         null,
         "6.0",
         null,
         null,
         "3",
         "1",
         "1302.0",
         "3.0",
         null,
         "11",
         "2.0",
         "6.0",
         "2",
         "친구",
         "친구",
         "베트남",
         "20대",
         "20대",
         "1",
         "0",
         "7.171656822768514",
         "2023",
         "1300.9999999999995",
         "자녀X"
        ],
        [
         "47",
         "4",
         "3",
         "2",
         null,
         null,
         null,
         null,
         "5.0",
         null,
         null,
         null,
         "1",
         "1",
         "520.0",
         "3.0",
         null,
         "3",
         "4.0",
         "1.0",
         "3",
         "가족",
         "그 외 가족 친지",
         "미국",
         "30~50대",
         "30대",
         "1",
         "1",
         "6.253828811575473",
         "2023",
         "519.0",
         "자녀X"
        ],
        [
         "48",
         "4",
         "8",
         "1",
         "1.0",
         null,
         null,
         null,
         null,
         null,
         null,
         null,
         "1",
         "2",
         "3900.0",
         "3.0",
         null,
         "6",
         "3.0",
         "1.0",
         "5",
         "혼자",
         "혼자",
         "미국",
         "30~50대",
         "50대",
         "1",
         "1",
         "8.268731832117737",
         "2023",
         "3898.9999999999977",
         "자녀X"
        ],
        [
         "49",
         "4",
         "28",
         "1",
         "1.0",
         null,
         null,
         null,
         null,
         null,
         null,
         null,
         "1",
         "2",
         "4250.0",
         null,
         "12.0",
         "1",
         "2.0",
         "12.0",
         "2",
         "혼자",
         "혼자",
         "미국",
         "20대",
         "20대",
         "1",
         "1",
         "8.354674261918463",
         "2023",
         "4249.000000000003",
         "자녀X"
        ],
        [
         "51",
         "16",
         "15",
         "2",
         null,
         null,
         null,
         null,
         "5.0",
         null,
         null,
         null,
         "1",
         "2",
         "698.41",
         "3.0",
         null,
         "4",
         "3.0",
         "6.0",
         "5",
         "가족",
         "그 외 가족 친지",
         "영국",
         "30~50대",
         "50대",
         "1",
         "1",
         "6.548806322865038",
         "2023",
         "697.4099999999997",
         "자녀X"
        ],
        [
         "52",
         "1",
         "5",
         "1",
         "1.0",
         null,
         null,
         null,
         null,
         null,
         null,
         null,
         "1",
         "1",
         "9549.51",
         null,
         "12.0",
         "12",
         "5.0",
         "2.0",
         "2",
         "혼자",
         "혼자",
         "중국",
         "20대",
         "20대",
         "1",
         "1",
         "9.164245123257906",
         "2023",
         "9548.510000000006",
         "자녀X"
        ],
        [
         "53",
         "2",
         "3",
         "2",
         null,
         null,
         null,
         null,
         null,
         "6.0",
         null,
         null,
         "1",
         "1",
         "342.0",
         null,
         "12.0",
         "2",
         "12.0",
         "1.0",
         "4",
         "친구",
         "친구",
         "일본",
         "30~50대",
         "40대",
         "1",
         "1",
         "5.834810737062605",
         "2023",
         "340.9999999999999",
         "자녀X"
        ],
        [
         "55",
         "10",
         "6",
         "2",
         null,
         null,
         null,
         null,
         "5.0",
         null,
         null,
         null,
         "1",
         "1",
         "968.63",
         "3.0",
         null,
         "7",
         "8.0",
         "2.0",
         "2",
         "가족",
         "그 외 가족 친지",
         "싱가포르",
         "20대",
         "20대",
         "1",
         "0",
         "6.875882702027173",
         "2023",
         "967.6300000000002",
         "자녀X"
        ],
        [
         "60",
         "10",
         "4",
         "2",
         null,
         null,
         null,
         null,
         "5.0",
         null,
         null,
         null,
         "1",
         "1",
         "992.85",
         "3.0",
         null,
         "3",
         "1.0",
         "2.0",
         "1",
         "가족",
         "그 외 가족 친지",
         "싱가포르",
         "10대",
         "10대",
         "1",
         "1",
         "6.900579595233041",
         "2023",
         "991.8499999999996",
         "자녀X"
        ],
        [
         "61",
         "3",
         "4",
         "2",
         null,
         null,
         null,
         null,
         null,
         "6.0",
         null,
         null,
         "1",
         "1",
         "1307.91",
         "3.0",
         null,
         "1",
         "3.0",
         "2.0",
         "4",
         "친구",
         "친구",
         "대만",
         "30~50대",
         "40대",
         "1",
         "1",
         "7.176185722310361",
         "2023",
         "1306.9100000000003",
         "자녀X"
        ],
        [
         "62",
         "5",
         "5",
         "2",
         null,
         null,
         "3.0",
         null,
         null,
         null,
         null,
         null,
         "3",
         "1",
         "2818.2",
         "3.0",
         null,
         "2",
         "11.0",
         "5.0",
         "1",
         "가족",
         "부모님",
         "홍콩",
         "10대",
         "10대",
         "1",
         "0",
         "7.943853662261004",
         "2023",
         "2817.199999999999",
         "자녀X"
        ],
        [
         "63",
         "10",
         "5",
         "2",
         null,
         null,
         null,
         null,
         "5.0",
         null,
         null,
         null,
         "1",
         "1",
         "782.36",
         "3.0",
         null,
         "1",
         "2.0",
         "3.0",
         "3",
         "가족",
         "그 외 가족 친지",
         "싱가포르",
         "30~50대",
         "30대",
         "1",
         "1",
         "6.662314992669317",
         "2023",
         "781.3599999999999",
         "자녀X"
        ],
        [
         "64",
         "4",
         "11",
         "2",
         null,
         "2.0",
         null,
         null,
         null,
         null,
         null,
         null,
         "1",
         "2",
         "1500.0",
         "3.0",
         null,
         "4",
         "3.0",
         "2.0",
         "5",
         "가족",
         "배우자/파트너",
         "미국",
         "30~50대",
         "50대",
         "1",
         "1",
         "7.313220387090301",
         "2023",
         "1499.0",
         "자녀X"
        ],
        [
         "65",
         "3",
         "5",
         "2",
         null,
         null,
         null,
         null,
         null,
         "6.0",
         null,
         null,
         "3",
         "1",
         "2608.0",
         "3.0",
         null,
         "3",
         "1.0",
         null,
         "4",
         "친구",
         "친구",
         "대만",
         "30~50대",
         "40대",
         "1",
         "1",
         "7.866338923046544",
         "2023",
         "2607.000000000001",
         "자녀X"
        ],
        [
         "68",
         "3",
         "6",
         "2",
         null,
         null,
         null,
         null,
         null,
         "6.0",
         null,
         null,
         "3",
         "1",
         "1890.8",
         "3.0",
         null,
         "8",
         "3.0",
         "15.0",
         "2",
         "친구",
         "친구",
         "대만",
         "20대",
         "20대",
         "1",
         "1",
         "7.544755298919081",
         "2023",
         "1889.7999999999993",
         "자녀X"
        ],
        [
         "69",
         "3",
         "7",
         "2",
         null,
         null,
         "3.0",
         null,
         "5.0",
         null,
         null,
         null,
         "1",
         "1",
         "1532.2",
         "3.0",
         null,
         "1",
         "4.0",
         "3.0",
         "3",
         "가족",
         "부모님",
         "대만",
         "30~50대",
         "30대",
         "1",
         "1",
         "7.33445989008272",
         "2023",
         "1531.1999999999996",
         "자녀X"
        ],
        [
         "74",
         "2",
         "8",
         "1",
         "1.0",
         null,
         null,
         null,
         null,
         null,
         null,
         null,
         "1",
         "2",
         "615.6",
         null,
         "12.0",
         "12",
         "1.0",
         "2.0",
         "5",
         "혼자",
         "혼자",
         "일본",
         "30~50대",
         "50대",
         "1",
         "1",
         "6.422597401964724",
         "2023",
         "614.6",
         "자녀X"
        ],
        [
         "79",
         "1",
         "22",
         "1",
         "1.0",
         null,
         null,
         null,
         null,
         null,
         null,
         null,
         "1",
         "2",
         "4941.06",
         "3.0",
         null,
         "1",
         "3.0",
         "6.0",
         "3",
         "혼자",
         "혼자",
         "중국",
         "30~50대",
         "30대",
         "1",
         "1",
         "8.505335162062853",
         "2023",
         "4940.0599999999995",
         "자녀X"
        ],
        [
         "85",
         "3",
         "5",
         "2",
         null,
         null,
         "3.0",
         null,
         null,
         null,
         null,
         null,
         "3",
         "1",
         "2608.0",
         "3.0",
         null,
         "1",
         "2.0",
         "3.0",
         "3",
         "가족",
         "부모님",
         "대만",
         "30~50대",
         "30대",
         "1",
         "1",
         "7.866338923046544",
         "2023",
         "2607.000000000001",
         "자녀X"
        ],
        [
         "86",
         "4",
         "5",
         "1",
         "1.0",
         null,
         null,
         null,
         null,
         null,
         null,
         null,
         "1",
         "1",
         "1430.0",
         "3.0",
         "12.0",
         "6",
         "3.0",
         "4.0",
         "3",
         "혼자",
         "혼자",
         "미국",
         "30~50대",
         "30대",
         "1",
         "1",
         "7.265429723253953",
         "2023",
         "1428.9999999999998",
         "자녀X"
        ],
        [
         "87",
         "6",
         "4",
         "2",
         null,
         null,
         null,
         null,
         null,
         null,
         "7.0",
         null,
         "1",
         "1",
         "289.0",
         "3.0",
         null,
         "3",
         "4.0",
         "2.0",
         "1",
         "직장동료",
         "직장동료",
         "태국",
         "10대",
         "10대",
         "1",
         "1",
         "5.666426688112432",
         "2023",
         "288.00000000000006",
         "자녀X"
        ],
        [
         "88",
         "6",
         "4",
         "2",
         null,
         null,
         null,
         null,
         null,
         "6.0",
         null,
         null,
         "3",
         "1",
         "1142.13",
         "3.0",
         null,
         "2",
         "3.0",
         "11.0",
         "1",
         "친구",
         "친구",
         "태국",
         "10대",
         "10대",
         "1",
         "1",
         "7.040650219113733",
         "2023",
         "1141.1299999999997",
         "자녀X"
        ],
        [
         "89",
         "6",
         "4",
         "1",
         "1.0",
         null,
         null,
         null,
         null,
         null,
         null,
         null,
         "3",
         "1",
         "1031.73",
         "3.0",
         null,
         "1",
         "3.0",
         "10.0",
         "2",
         "혼자",
         "혼자",
         "태국",
         "20대",
         "20대",
         "1",
         "1",
         "6.93899228390398",
         "2023",
         "1030.7300000000002",
         "자녀X"
        ],
        [
         "93",
         "10",
         "5",
         "2",
         null,
         null,
         "3.0",
         null,
         null,
         null,
         null,
         null,
         "1",
         "1",
         "745.1",
         "3.0",
         null,
         "2",
         "7.0",
         "3.0",
         "2",
         "가족",
         "부모님",
         "싱가포르",
         "20대",
         "20대",
         "1",
         "1",
         "6.613518437559682",
         "2023",
         "744.1",
         "자녀X"
        ],
        [
         "96",
         "1",
         "8",
         "1",
         "1.0",
         null,
         null,
         null,
         null,
         null,
         null,
         null,
         "1",
         "1",
         "2238.2",
         "3.0",
         null,
         "4",
         "3.0",
         null,
         "3",
         "혼자",
         "혼자",
         "중국",
         "30~50대",
         "30대",
         "1",
         "1",
         "7.713427250383926",
         "2023",
         "2237.199999999999",
         "자녀X"
        ],
        [
         "97",
         "4",
         "25",
         "2",
         null,
         "2.0",
         null,
         null,
         null,
         null,
         null,
         null,
         "1",
         "2",
         "2760.0",
         "3.0",
         null,
         "3",
         "5.0",
         "9.0",
         "5",
         "가족",
         "배우자/파트너",
         "미국",
         "30~50대",
         "50대",
         "1",
         "1",
         "7.9229859587111955",
         "2023",
         "2758.9999999999995",
         "자녀X"
        ],
        [
         "103",
         "4",
         "10",
         "1",
         "1.0",
         null,
         null,
         null,
         null,
         null,
         null,
         null,
         "1",
         "2",
         "1790.0",
         "3.0",
         null,
         "1",
         "4.0",
         "3.0",
         "6",
         "혼자",
         "혼자",
         "미국",
         "60대 이상",
         "60대 이상",
         "1",
         "1",
         "7.489970898834801",
         "2023",
         "1789.0000000000002",
         "자녀X"
        ],
        [
         "104",
         "3",
         "5",
         "2",
         null,
         null,
         "3.0",
         null,
         "5.0",
         null,
         null,
         null,
         "3",
         "1",
         "1369.2",
         "3.0",
         null,
         "2",
         "11.0",
         "1.0",
         "1",
         "가족",
         "부모님",
         "대만",
         "10대",
         "10대",
         "1",
         "0",
         "7.221981906656031",
         "2023",
         "1368.2000000000005",
         "자녀X"
        ]
       ],
       "shape": {
        "columns": 31,
        "rows": 10826
       }
      },
      "text/html": [
       "<div>\n",
       "<style scoped>\n",
       "    .dataframe tbody tr th:only-of-type {\n",
       "        vertical-align: middle;\n",
       "    }\n",
       "\n",
       "    .dataframe tbody tr th {\n",
       "        vertical-align: top;\n",
       "    }\n",
       "\n",
       "    .dataframe thead th {\n",
       "        text-align: right;\n",
       "    }\n",
       "</style>\n",
       "<table border=\"1\" class=\"dataframe\">\n",
       "  <thead>\n",
       "    <tr style=\"text-align: right;\">\n",
       "      <th></th>\n",
       "      <th>D_NAT</th>\n",
       "      <th>M일HAP</th>\n",
       "      <th>Q7A</th>\n",
       "      <th>Q7a_dk</th>\n",
       "      <th>Q7a2</th>\n",
       "      <th>Q7a3</th>\n",
       "      <th>Q7a4</th>\n",
       "      <th>Q7a5</th>\n",
       "      <th>Q7a6</th>\n",
       "      <th>Q7a7</th>\n",
       "      <th>...</th>\n",
       "      <th>동행자_세분화</th>\n",
       "      <th>국가명</th>\n",
       "      <th>연령대_단순</th>\n",
       "      <th>연령대_세분화</th>\n",
       "      <th>웰니스참여</th>\n",
       "      <th>웰니스만족</th>\n",
       "      <th>log_총액</th>\n",
       "      <th>year</th>\n",
       "      <th>예상_총액</th>\n",
       "      <th>자녀동반</th>\n",
       "    </tr>\n",
       "  </thead>\n",
       "  <tbody>\n",
       "    <tr>\n",
       "      <th>1</th>\n",
       "      <td>1</td>\n",
       "      <td>7</td>\n",
       "      <td>1</td>\n",
       "      <td>1.0</td>\n",
       "      <td>NaN</td>\n",
       "      <td>NaN</td>\n",
       "      <td>NaN</td>\n",
       "      <td>NaN</td>\n",
       "      <td>NaN</td>\n",
       "      <td>NaN</td>\n",
       "      <td>...</td>\n",
       "      <td>혼자</td>\n",
       "      <td>중국</td>\n",
       "      <td>30~50대</td>\n",
       "      <td>30대</td>\n",
       "      <td>1</td>\n",
       "      <td>1</td>\n",
       "      <td>7.390971</td>\n",
       "      <td>2023</td>\n",
       "      <td>1620.280000</td>\n",
       "      <td>자녀X</td>\n",
       "    </tr>\n",
       "    <tr>\n",
       "      <th>4</th>\n",
       "      <td>3</td>\n",
       "      <td>8</td>\n",
       "      <td>2</td>\n",
       "      <td>NaN</td>\n",
       "      <td>NaN</td>\n",
       "      <td>NaN</td>\n",
       "      <td>NaN</td>\n",
       "      <td>NaN</td>\n",
       "      <td>6.0</td>\n",
       "      <td>NaN</td>\n",
       "      <td>...</td>\n",
       "      <td>친구</td>\n",
       "      <td>대만</td>\n",
       "      <td>20대</td>\n",
       "      <td>20대</td>\n",
       "      <td>1</td>\n",
       "      <td>1</td>\n",
       "      <td>7.197884</td>\n",
       "      <td>2023</td>\n",
       "      <td>1335.600000</td>\n",
       "      <td>자녀X</td>\n",
       "    </tr>\n",
       "    <tr>\n",
       "      <th>7</th>\n",
       "      <td>5</td>\n",
       "      <td>6</td>\n",
       "      <td>2</td>\n",
       "      <td>NaN</td>\n",
       "      <td>NaN</td>\n",
       "      <td>NaN</td>\n",
       "      <td>NaN</td>\n",
       "      <td>NaN</td>\n",
       "      <td>6.0</td>\n",
       "      <td>NaN</td>\n",
       "      <td>...</td>\n",
       "      <td>친구</td>\n",
       "      <td>홍콩</td>\n",
       "      <td>30~50대</td>\n",
       "      <td>30대</td>\n",
       "      <td>1</td>\n",
       "      <td>1</td>\n",
       "      <td>7.490440</td>\n",
       "      <td>2023</td>\n",
       "      <td>1789.840000</td>\n",
       "      <td>자녀X</td>\n",
       "    </tr>\n",
       "    <tr>\n",
       "      <th>8</th>\n",
       "      <td>3</td>\n",
       "      <td>6</td>\n",
       "      <td>2</td>\n",
       "      <td>NaN</td>\n",
       "      <td>2.0</td>\n",
       "      <td>NaN</td>\n",
       "      <td>NaN</td>\n",
       "      <td>NaN</td>\n",
       "      <td>NaN</td>\n",
       "      <td>NaN</td>\n",
       "      <td>...</td>\n",
       "      <td>배우자/파트너</td>\n",
       "      <td>대만</td>\n",
       "      <td>20대</td>\n",
       "      <td>20대</td>\n",
       "      <td>1</td>\n",
       "      <td>1</td>\n",
       "      <td>6.691116</td>\n",
       "      <td>2023</td>\n",
       "      <td>804.220000</td>\n",
       "      <td>자녀X</td>\n",
       "    </tr>\n",
       "    <tr>\n",
       "      <th>9</th>\n",
       "      <td>3</td>\n",
       "      <td>5</td>\n",
       "      <td>2</td>\n",
       "      <td>NaN</td>\n",
       "      <td>NaN</td>\n",
       "      <td>NaN</td>\n",
       "      <td>NaN</td>\n",
       "      <td>NaN</td>\n",
       "      <td>6.0</td>\n",
       "      <td>NaN</td>\n",
       "      <td>...</td>\n",
       "      <td>친구</td>\n",
       "      <td>대만</td>\n",
       "      <td>30~50대</td>\n",
       "      <td>30대</td>\n",
       "      <td>1</td>\n",
       "      <td>1</td>\n",
       "      <td>7.210006</td>\n",
       "      <td>2023</td>\n",
       "      <td>1351.900000</td>\n",
       "      <td>자녀X</td>\n",
       "    </tr>\n",
       "    <tr>\n",
       "      <th>...</th>\n",
       "      <td>...</td>\n",
       "      <td>...</td>\n",
       "      <td>...</td>\n",
       "      <td>...</td>\n",
       "      <td>...</td>\n",
       "      <td>...</td>\n",
       "      <td>...</td>\n",
       "      <td>...</td>\n",
       "      <td>...</td>\n",
       "      <td>...</td>\n",
       "      <td>...</td>\n",
       "      <td>...</td>\n",
       "      <td>...</td>\n",
       "      <td>...</td>\n",
       "      <td>...</td>\n",
       "      <td>...</td>\n",
       "      <td>...</td>\n",
       "      <td>...</td>\n",
       "      <td>...</td>\n",
       "      <td>...</td>\n",
       "      <td>...</td>\n",
       "    </tr>\n",
       "    <tr>\n",
       "      <th>17117</th>\n",
       "      <td>1</td>\n",
       "      <td>5</td>\n",
       "      <td>2</td>\n",
       "      <td>NaN</td>\n",
       "      <td>NaN</td>\n",
       "      <td>NaN</td>\n",
       "      <td>NaN</td>\n",
       "      <td>NaN</td>\n",
       "      <td>6.0</td>\n",
       "      <td>NaN</td>\n",
       "      <td>...</td>\n",
       "      <td>친구</td>\n",
       "      <td>중국</td>\n",
       "      <td>20대</td>\n",
       "      <td>20대</td>\n",
       "      <td>1</td>\n",
       "      <td>1</td>\n",
       "      <td>6.204900</td>\n",
       "      <td>2024</td>\n",
       "      <td>494.169633</td>\n",
       "      <td>자녀X</td>\n",
       "    </tr>\n",
       "    <tr>\n",
       "      <th>17118</th>\n",
       "      <td>1</td>\n",
       "      <td>5</td>\n",
       "      <td>2</td>\n",
       "      <td>NaN</td>\n",
       "      <td>NaN</td>\n",
       "      <td>NaN</td>\n",
       "      <td>NaN</td>\n",
       "      <td>NaN</td>\n",
       "      <td>6.0</td>\n",
       "      <td>NaN</td>\n",
       "      <td>...</td>\n",
       "      <td>친구</td>\n",
       "      <td>중국</td>\n",
       "      <td>30~50대</td>\n",
       "      <td>40대</td>\n",
       "      <td>1</td>\n",
       "      <td>1</td>\n",
       "      <td>6.053570</td>\n",
       "      <td>2024</td>\n",
       "      <td>424.630000</td>\n",
       "      <td>자녀X</td>\n",
       "    </tr>\n",
       "    <tr>\n",
       "      <th>17120</th>\n",
       "      <td>1</td>\n",
       "      <td>5</td>\n",
       "      <td>2</td>\n",
       "      <td>NaN</td>\n",
       "      <td>NaN</td>\n",
       "      <td>NaN</td>\n",
       "      <td>4.0</td>\n",
       "      <td>NaN</td>\n",
       "      <td>NaN</td>\n",
       "      <td>NaN</td>\n",
       "      <td>...</td>\n",
       "      <td>자녀</td>\n",
       "      <td>중국</td>\n",
       "      <td>30~50대</td>\n",
       "      <td>50대</td>\n",
       "      <td>1</td>\n",
       "      <td>1</td>\n",
       "      <td>7.845392</td>\n",
       "      <td>2024</td>\n",
       "      <td>2552.938220</td>\n",
       "      <td>자녀O</td>\n",
       "    </tr>\n",
       "    <tr>\n",
       "      <th>17121</th>\n",
       "      <td>1</td>\n",
       "      <td>5</td>\n",
       "      <td>2</td>\n",
       "      <td>NaN</td>\n",
       "      <td>2.0</td>\n",
       "      <td>NaN</td>\n",
       "      <td>NaN</td>\n",
       "      <td>NaN</td>\n",
       "      <td>NaN</td>\n",
       "      <td>NaN</td>\n",
       "      <td>...</td>\n",
       "      <td>배우자/파트너</td>\n",
       "      <td>중국</td>\n",
       "      <td>30~50대</td>\n",
       "      <td>50대</td>\n",
       "      <td>1</td>\n",
       "      <td>1</td>\n",
       "      <td>6.426246</td>\n",
       "      <td>2024</td>\n",
       "      <td>616.850000</td>\n",
       "      <td>자녀X</td>\n",
       "    </tr>\n",
       "    <tr>\n",
       "      <th>17122</th>\n",
       "      <td>4</td>\n",
       "      <td>26</td>\n",
       "      <td>2</td>\n",
       "      <td>NaN</td>\n",
       "      <td>2.0</td>\n",
       "      <td>NaN</td>\n",
       "      <td>NaN</td>\n",
       "      <td>NaN</td>\n",
       "      <td>NaN</td>\n",
       "      <td>NaN</td>\n",
       "      <td>...</td>\n",
       "      <td>배우자/파트너</td>\n",
       "      <td>미국</td>\n",
       "      <td>20대</td>\n",
       "      <td>20대</td>\n",
       "      <td>1</td>\n",
       "      <td>1</td>\n",
       "      <td>6.454500</td>\n",
       "      <td>2024</td>\n",
       "      <td>634.555556</td>\n",
       "      <td>자녀X</td>\n",
       "    </tr>\n",
       "  </tbody>\n",
       "</table>\n",
       "<p>10826 rows × 31 columns</p>\n",
       "</div>"
      ],
      "text/plain": [
       "       D_NAT  M일HAP  Q7A  Q7a_dk  Q7a2  Q7a3  Q7a4  Q7a5  Q7a6  Q7a7  ...  \\\n",
       "1          1      7    1     1.0   NaN   NaN   NaN   NaN   NaN   NaN  ...   \n",
       "4          3      8    2     NaN   NaN   NaN   NaN   NaN   6.0   NaN  ...   \n",
       "7          5      6    2     NaN   NaN   NaN   NaN   NaN   6.0   NaN  ...   \n",
       "8          3      6    2     NaN   2.0   NaN   NaN   NaN   NaN   NaN  ...   \n",
       "9          3      5    2     NaN   NaN   NaN   NaN   NaN   6.0   NaN  ...   \n",
       "...      ...    ...  ...     ...   ...   ...   ...   ...   ...   ...  ...   \n",
       "17117      1      5    2     NaN   NaN   NaN   NaN   NaN   6.0   NaN  ...   \n",
       "17118      1      5    2     NaN   NaN   NaN   NaN   NaN   6.0   NaN  ...   \n",
       "17120      1      5    2     NaN   NaN   NaN   4.0   NaN   NaN   NaN  ...   \n",
       "17121      1      5    2     NaN   2.0   NaN   NaN   NaN   NaN   NaN  ...   \n",
       "17122      4     26    2     NaN   2.0   NaN   NaN   NaN   NaN   NaN  ...   \n",
       "\n",
       "       동행자_세분화  국가명  연령대_단순  연령대_세분화  웰니스참여  웰니스만족    log_총액  year  \\\n",
       "1           혼자   중국  30~50대      30대      1      1  7.390971  2023   \n",
       "4           친구   대만     20대      20대      1      1  7.197884  2023   \n",
       "7           친구   홍콩  30~50대      30대      1      1  7.490440  2023   \n",
       "8      배우자/파트너   대만     20대      20대      1      1  6.691116  2023   \n",
       "9           친구   대만  30~50대      30대      1      1  7.210006  2023   \n",
       "...        ...  ...     ...      ...    ...    ...       ...   ...   \n",
       "17117       친구   중국     20대      20대      1      1  6.204900  2024   \n",
       "17118       친구   중국  30~50대      40대      1      1  6.053570  2024   \n",
       "17120       자녀   중국  30~50대      50대      1      1  7.845392  2024   \n",
       "17121  배우자/파트너   중국  30~50대      50대      1      1  6.426246  2024   \n",
       "17122  배우자/파트너   미국     20대      20대      1      1  6.454500  2024   \n",
       "\n",
       "             예상_총액  자녀동반  \n",
       "1      1620.280000   자녀X  \n",
       "4      1335.600000   자녀X  \n",
       "7      1789.840000   자녀X  \n",
       "8       804.220000   자녀X  \n",
       "9      1351.900000   자녀X  \n",
       "...            ...   ...  \n",
       "17117   494.169633   자녀X  \n",
       "17118   424.630000   자녀X  \n",
       "17120  2552.938220   자녀O  \n",
       "17121   616.850000   자녀X  \n",
       "17122   634.555556   자녀X  \n",
       "\n",
       "[10826 rows x 31 columns]"
      ]
     },
     "execution_count": 61,
     "metadata": {},
     "output_type": "execute_result"
    }
   ],
   "source": [
    "wellness_df"
   ]
  },
  {
   "cell_type": "code",
   "execution_count": 62,
   "id": "5dd79b9d",
   "metadata": {},
   "outputs": [
    {
     "data": {
      "application/vnd.microsoft.datawrangler.viewer.v0+json": {
       "columns": [
        {
         "name": "연령대_단순",
         "rawType": "object",
         "type": "string"
        },
        {
         "name": "count",
         "rawType": "int64",
         "type": "integer"
        }
       ],
       "ref": "d1f86c1f-3045-4275-8176-cba9164de969",
       "rows": [
        [
         "30~50대",
         "6243"
        ],
        [
         "20대",
         "3693"
        ],
        [
         "60대 이상",
         "643"
        ],
        [
         "10대",
         "247"
        ]
       ],
       "shape": {
        "columns": 1,
        "rows": 4
       }
      },
      "text/plain": [
       "연령대_단순\n",
       "30~50대    6243\n",
       "20대       3693\n",
       "60대 이상     643\n",
       "10대        247\n",
       "Name: count, dtype: int64"
      ]
     },
     "execution_count": 62,
     "metadata": {},
     "output_type": "execute_result"
    }
   ],
   "source": [
    "# 웰니스 관광객 연령대 분포\n",
    "wellness_df['연령대_단순'].value_counts()"
   ]
  },
  {
   "cell_type": "code",
   "execution_count": 63,
   "id": "88c8ec09",
   "metadata": {},
   "outputs": [
    {
     "data": {
      "application/vnd.microsoft.datawrangler.viewer.v0+json": {
       "columns": [
        {
         "name": "연령대_세분화",
         "rawType": "object",
         "type": "string"
        },
        {
         "name": "count",
         "rawType": "int64",
         "type": "integer"
        }
       ],
       "ref": "12a29f65-5030-4596-bc2e-edeb51bd9a9f",
       "rows": [
        [
         "20대",
         "3693"
        ],
        [
         "30대",
         "2601"
        ],
        [
         "50대",
         "1911"
        ],
        [
         "40대",
         "1731"
        ],
        [
         "60대 이상",
         "643"
        ],
        [
         "10대",
         "247"
        ]
       ],
       "shape": {
        "columns": 1,
        "rows": 6
       }
      },
      "text/plain": [
       "연령대_세분화\n",
       "20대       3693\n",
       "30대       2601\n",
       "50대       1911\n",
       "40대       1731\n",
       "60대 이상     643\n",
       "10대        247\n",
       "Name: count, dtype: int64"
      ]
     },
     "execution_count": 63,
     "metadata": {},
     "output_type": "execute_result"
    }
   ],
   "source": [
    "# 웰니스 관광객 연령대 분포\n",
    "wellness_df['연령대_세분화'].value_counts()"
   ]
  },
  {
   "cell_type": "code",
   "execution_count": 64,
   "id": "ae373885",
   "metadata": {},
   "outputs": [
    {
     "data": {
      "application/vnd.microsoft.datawrangler.viewer.v0+json": {
       "columns": [
        {
         "name": "연령대_단순",
         "rawType": "object",
         "type": "string"
        },
        {
         "name": "count",
         "rawType": "int64",
         "type": "integer"
        }
       ],
       "ref": "35fa9257-552a-4c2d-8acc-a20dff5dca1b",
       "rows": [
        [
         "30~50대",
         "9596"
        ],
        [
         "20대",
         "6117"
        ],
        [
         "60대 이상",
         "974"
        ],
        [
         "10대",
         "436"
        ]
       ],
       "shape": {
        "columns": 1,
        "rows": 4
       }
      },
      "text/plain": [
       "연령대_단순\n",
       "30~50대    9596\n",
       "20대       6117\n",
       "60대 이상     974\n",
       "10대        436\n",
       "Name: count, dtype: int64"
      ]
     },
     "execution_count": 64,
     "metadata": {},
     "output_type": "execute_result"
    }
   ],
   "source": [
    "# 전체 연령대 분포\n",
    "df_all['연령대_단순'].value_counts()"
   ]
  },
  {
   "cell_type": "code",
   "execution_count": 65,
   "id": "0af6bfc7",
   "metadata": {},
   "outputs": [
    {
     "name": "stdout",
     "output_type": "stream",
     "text": [
      "연령대_단순\n",
      "10대        2.3\n",
      "20대       34.1\n",
      "30~50대    57.7\n",
      "60대 이상     5.9\n",
      "Name: proportion, dtype: float64\n"
     ]
    }
   ],
   "source": [
    "# 연령대별 비율 \n",
    "ratio_by_age = (wellness_df['연령대_단순']\n",
    "                .value_counts(normalize=True)\n",
    "                .sort_index() * 100).round(1)\n",
    "\n",
    "print(ratio_by_age)"
   ]
  },
  {
   "cell_type": "code",
   "execution_count": 66,
   "id": "fc10a1ad",
   "metadata": {},
   "outputs": [
    {
     "data": {
      "image/png": "[encoded data removed]",
      "text/plain": [
       "<Figure size 700x700 with 1 Axes>"
      ]
     },
     "metadata": {},
     "output_type": "display_data"
    }
   ],
   "source": [
    "# 연령대 비율 시각화\n",
    "labels = ratio_by_age.index.tolist()\n",
    "sizes = ratio_by_age.values.tolist()\n",
    "\n",
    "plt.figure(figsize=(7, 7))\n",
    "plt.pie(\n",
    "    sizes, \n",
    "    labels=labels, \n",
    "    autopct='%1.1f%%', \n",
    "    startangle=90, \n",
    "    colors=plt.cm.Pastel1.colors,\n",
    "    labeldistance=1.05  # ← 조각과 라벨의 거리 조절 (기본값은 1.1)\n",
    ")\n",
    "plt.title('웰니스 관광객 연령대 비율')\n",
    "plt.axis('equal')\n",
    "plt.show()"
   ]
  },
  {
   "cell_type": "code",
   "execution_count": 67,
   "id": "d5223c06",
   "metadata": {},
   "outputs": [
    {
     "name": "stdout",
     "output_type": "stream",
     "text": [
      "연령대_세분화\n",
      "10대        2.3\n",
      "20대       34.1\n",
      "30대       24.0\n",
      "40대       16.0\n",
      "50대       17.7\n",
      "60대 이상     5.9\n",
      "Name: proportion, dtype: float64\n"
     ]
    }
   ],
   "source": [
    "# 연령대별 비율 \n",
    "ratio_by_age = (wellness_df['연령대_세분화']\n",
    "                .value_counts(normalize=True)\n",
    "                .sort_index() * 100).round(1)\n",
    "\n",
    "print(ratio_by_age)"
   ]
  },
  {
   "cell_type": "code",
   "execution_count": 68,
   "id": "4a53d465",
   "metadata": {},
   "outputs": [
    {
     "data": {
      "image/png": "[encoded data removed]",
      "text/plain": [
       "<Figure size 700x700 with 1 Axes>"
      ]
     },
     "metadata": {},
     "output_type": "display_data"
    }
   ],
   "source": [
    "# 연령대 비율 시각화\n",
    "labels = ratio_by_age.index.tolist()\n",
    "sizes = ratio_by_age.values.tolist()\n",
    "\n",
    "plt.figure(figsize=(7, 7))\n",
    "plt.pie(\n",
    "    sizes, \n",
    "    labels=labels, \n",
    "    autopct='%1.1f%%', \n",
    "    startangle=90, \n",
    "    colors=plt.cm.Pastel1.colors,\n",
    "    labeldistance=1.05  # ← 조각과 라벨의 거리 조절 (기본값은 1.1)\n",
    ")\n",
    "plt.title('웰니스 관광객 연령대 비율')\n",
    "plt.axis('equal')\n",
    "plt.show()"
   ]
  },
  {
   "cell_type": "code",
   "execution_count": 69,
   "id": "bbb0ac20",
   "metadata": {},
   "outputs": [],
   "source": [
    "# 10대 제외\n",
    "wellness_df = wellness_df[wellness_df['연령대_단순'] != '10대']"
   ]
  },
  {
   "cell_type": "code",
   "execution_count": 147,
   "id": "d2662928",
   "metadata": {},
   "outputs": [
    {
     "name": "stdout",
     "output_type": "stream",
     "text": [
      "연령대_단순\n",
      "20대       1280.4\n",
      "30~50대    1430.0\n",
      "60대 이상    1302.1\n",
      "Name: 총액1인TOT항공제외2, dtype: float64\n"
     ]
    }
   ],
   "source": [
    "# 연령대별 평균 소비액 (자녀미동반)\n",
    "avg_total = wellness_df.groupby('연령대_단순')['총액1인TOT항공제외2'].mean().round(1)\n",
    "print(avg_total)"
   ]
  },
  {
   "cell_type": "code",
   "execution_count": 71,
   "id": "8fc33d5f",
   "metadata": {},
   "outputs": [
    {
     "name": "stdout",
     "output_type": "stream",
     "text": [
      "연령대_세분화\n",
      "20대       1280.4\n",
      "30대       1450.5\n",
      "40대       1435.6\n",
      "50대       1396.9\n",
      "60대 이상    1302.1\n",
      "Name: 총액1인TOT항공제외2, dtype: float64\n"
     ]
    }
   ],
   "source": [
    "avg_total = wellness_df.groupby('연령대_세분화')['총액1인TOT항공제외2'].mean().round(1)\n",
    "print(avg_total)"
   ]
  },
  {
   "cell_type": "code",
   "execution_count": 72,
   "id": "2766e6b5",
   "metadata": {},
   "outputs": [
    {
     "name": "stderr",
     "output_type": "stream",
     "text": [
      "C:\\Users\\82106\\AppData\\Local\\Temp\\ipykernel_16740\\1236761808.py:9: FutureWarning: \n",
      "\n",
      "Passing `palette` without assigning `hue` is deprecated and will be removed in v0.14.0. Assign the `x` variable to `hue` and set `legend=False` for the same effect.\n",
      "\n",
      "  sns.barplot(x='연령대_단순', y='총액1인TOT항공제외2', data=avg_total_df, palette='Blues_d')\n"
     ]
    },
    {
     "data": {
      "image/png": "[encoded data removed]",
      "text/plain": [
       "<Figure size 800x500 with 1 Axes>"
      ]
     },
     "metadata": {},
     "output_type": "display_data"
    }
   ],
   "source": [
    "import matplotlib.pyplot as plt\n",
    "import seaborn as sns\n",
    "\n",
    "# 시각화용 DataFrame으로 변환\n",
    "avg_total_df = wellness_df.groupby('연령대_단순')['총액1인TOT항공제외2'].mean().round(1).reset_index()\n",
    "\n",
    "# 그래프 그리기\n",
    "plt.figure(figsize=(8, 5))\n",
    "sns.barplot(x='연령대_단순', y='총액1인TOT항공제외2', data=avg_total_df, palette='Blues_d')\n",
    "plt.title('연령대별 웰니스 관광객 평균 소비 총액')\n",
    "plt.xlabel('연령대')\n",
    "plt.ylabel('평균 총액 (USD)')\n",
    "plt.ylim(0, avg_total_df['총액1인TOT항공제외2'].max() * 1.2)  # y축 여유롭게\n",
    "\n",
    "# 막대 위에 값 표시\n",
    "for i, row in avg_total_df.iterrows():\n",
    "    plt.text(i, row['총액1인TOT항공제외2'] + 20, f\"{row['총액1인TOT항공제외2']}\", ha='center')\n",
    "\n",
    "plt.show()"
   ]
  },
  {
   "cell_type": "markdown",
   "id": "b129d430",
   "metadata": {},
   "source": [
    "- 30~50대: 전체 참여자의 59% 차지 + 평균 소비 최고 -> 웰니스 시장의 압도적 핵심 타겟\n",
    "- 20대: 약 35%의 비율로 비교적 많이 참여 -> 참여율은 높지만 소비는 가장 낮음 -> 저가 체험형 콘텐츠 (가성비)\n",
    "- 60대 이상: 소수지만 탄탄한 수요층 -> 참여자는 6.1%로 적지만 평균 소비는 1,300달러 수준 -> 건강 치유형 콘텐츠 타겟, 소규모 집중 마케팅\n",
    "- 웰니스 관광은 30~50대가 양적·질적으로 모두 핵심이며, 20대는 참여 유도층, 60대는 치유형 니치 마켓으로 활용 가능하다."
   ]
  },
  {
   "cell_type": "code",
   "execution_count": 73,
   "id": "4899a6fc",
   "metadata": {},
   "outputs": [
    {
     "name": "stderr",
     "output_type": "stream",
     "text": [
      "C:\\Users\\82106\\AppData\\Local\\Temp\\ipykernel_16740\\2529786357.py:6: FutureWarning: \n",
      "\n",
      "Passing `palette` without assigning `hue` is deprecated and will be removed in v0.14.0. Assign the `x` variable to `hue` and set `legend=False` for the same effect.\n",
      "\n",
      "  sns.barplot(x='연령대_세분화', y='총액1인TOT항공제외2', data=avg_total_df, palette='Blues_d')\n"
     ]
    },
    {
     "data": {
      "image/png": "[encoded data removed]",
      "text/plain": [
       "<Figure size 800x500 with 1 Axes>"
      ]
     },
     "metadata": {},
     "output_type": "display_data"
    }
   ],
   "source": [
    "# 시각화용 DataFrame으로 변환\n",
    "avg_total_df = wellness_df.groupby('연령대_세분화')['총액1인TOT항공제외2'].mean().round(1).reset_index()\n",
    "\n",
    "# 그래프 그리기\n",
    "plt.figure(figsize=(8, 5))\n",
    "sns.barplot(x='연령대_세분화', y='총액1인TOT항공제외2', data=avg_total_df, palette='Blues_d')\n",
    "plt.title('연령대별 웰니스 관광객 평균 소비 총액')\n",
    "plt.xlabel('연령대')\n",
    "plt.ylabel('평균 총액 (USD)')\n",
    "plt.ylim(0, avg_total_df['총액1인TOT항공제외2'].max() * 1.2)  # y축 여유롭게\n",
    "\n",
    "# 막대 위에 값 표시\n",
    "for i, row in avg_total_df.iterrows():\n",
    "    plt.text(i, row['총액1인TOT항공제외2'] + 20, f\"{row['총액1인TOT항공제외2']}\", ha='center')\n",
    "\n",
    "plt.show()"
   ]
  },
  {
   "cell_type": "markdown",
   "id": "131f1c68",
   "metadata": {},
   "source": [
    "- 30, 40대가 가장 큰 웰니스 관광 소비층 \n",
    "- 30~50대 전체를 핵심 소비군으로 묶는 전략 가능"
   ]
  },
  {
   "cell_type": "code",
   "execution_count": 74,
   "id": "506dc907",
   "metadata": {},
   "outputs": [
    {
     "name": "stdout",
     "output_type": "stream",
     "text": [
      "연령대_세분화\n",
      "20대       7.976983\n",
      "30대       8.112265\n",
      "40대       7.266898\n",
      "50대       8.042386\n",
      "60대 이상    8.788491\n",
      "Name: M일HAP, dtype: float64\n"
     ]
    }
   ],
   "source": [
    "# 웰니스 관광객만 필터링\n",
    "wellness_df = df_all[df_all['웰니스참여'] == 1]\n",
    "\n",
    "# 10대 제외\n",
    "wellness_df = wellness_df[wellness_df['연령대_세분화'] != '10대']\n",
    "\n",
    "# 연령대별 평균 체류일수 계산\n",
    "means = wellness_df.groupby('연령대_세분화')['M일HAP'].mean().sort_index()\n",
    "print(means)"
   ]
  },
  {
   "cell_type": "code",
   "execution_count": 75,
   "id": "beefc43c",
   "metadata": {},
   "outputs": [
    {
     "data": {
      "image/png": "[encoded data removed]",
      "text/plain": [
       "<Figure size 700x500 with 1 Axes>"
      ]
     },
     "metadata": {},
     "output_type": "display_data"
    }
   ],
   "source": [
    "import numpy as np\n",
    "import matplotlib.pyplot as plt\n",
    "\n",
    "# 한글 폰트 설정 (Windows 기준)\n",
    "plt.rcParams['font.family'] = 'Malgun Gothic'\n",
    "plt.rcParams['axes.unicode_minus'] = False\n",
    "\n",
    "labels = means.index.tolist()\n",
    "values = means.values.tolist()\n",
    "\n",
    "# 블루 계열 그라데이션 색상 생성\n",
    "colors = plt.cm.Blues(np.linspace(0.4, 0.8, len(values)))  # 밝기 범위 조정 가능\n",
    "\n",
    "plt.figure(figsize=(7, 5))\n",
    "bars = plt.bar(labels, values, color=colors)\n",
    "\n",
    "# 막대 위 값 표시\n",
    "for bar in bars:\n",
    "    height = bar.get_height()\n",
    "    plt.text(bar.get_x() + bar.get_width()/2, height,\n",
    "             f'{height:.1f}일', ha='center', va='bottom', fontsize=10)\n",
    "\n",
    "plt.ylabel('평균 체류일수')\n",
    "plt.title('웰니스 관광객 연령대별 평균 체류일수')\n",
    "plt.ylim(0, max(values) * 1.1)\n",
    "plt.grid(False)\n",
    "plt.show()\n"
   ]
  },
  {
   "cell_type": "code",
   "execution_count": 76,
   "id": "972a8c81",
   "metadata": {},
   "outputs": [
    {
     "data": {
      "image/png": "[encoded data removed]",
      "text/plain": [
       "<Figure size 600x500 with 1 Axes>"
      ]
     },
     "metadata": {},
     "output_type": "display_data"
    }
   ],
   "source": [
    "import numpy as np\n",
    "import matplotlib.pyplot as plt\n",
    "\n",
    "# 한글 폰트 설정 (Windows 기준)\n",
    "plt.rcParams['font.family'] = 'Malgun Gothic'\n",
    "plt.rcParams['axes.unicode_minus'] = False\n",
    "\n",
    "labels = means.index.tolist()\n",
    "values = means.values.tolist()\n",
    "\n",
    "# 블루 계열 그라데이션 색상 생성\n",
    "colors = plt.cm.Blues(np.linspace(0.4, 0.8, len(values)))  # 0.4~0.8 범위의 블루 톤\n",
    "\n",
    "plt.figure(figsize=(6, 5))\n",
    "bars = plt.bar(labels, values, color=colors)\n",
    "\n",
    "# 막대 위 y값 표시\n",
    "for bar in bars:\n",
    "    height = bar.get_height()\n",
    "    plt.text(bar.get_x() + bar.get_width()/2, height,\n",
    "             f'{height:.1f}일', ha='center', va='bottom', fontsize=10)\n",
    "\n",
    "plt.ylabel('평균 체류일수')\n",
    "plt.title('웰니스 관광객 자녀 동반 여부에 따른 평균 체류일수')\n",
    "plt.ylim(0, max(values) * 1.1)  # 여유 공간\n",
    "plt.grid(False)\n",
    "plt.show()\n"
   ]
  },
  {
   "cell_type": "markdown",
   "id": "f94426b7",
   "metadata": {},
   "source": [
    "###  웰니스 관광객 × 자녀 동반 여부에 따른 소비 총액 분석"
   ]
  },
  {
   "cell_type": "code",
   "execution_count": 77,
   "id": "26ab7c5c",
   "metadata": {},
   "outputs": [],
   "source": [
    "# 웰니스 참여자 중 자녀 동반자 연령대 \n",
    "wellness_with_child = df_all[(df_all['웰니스참여'] == 1) & (df_all['자녀동반'] == '자녀O')]"
   ]
  },
  {
   "cell_type": "code",
   "execution_count": 78,
   "id": "200b54ca",
   "metadata": {},
   "outputs": [
    {
     "data": {
      "application/vnd.microsoft.datawrangler.viewer.v0+json": {
       "columns": [
        {
         "name": "연령대_단순",
         "rawType": "object",
         "type": "string"
        },
        {
         "name": "count",
         "rawType": "int64",
         "type": "integer"
        }
       ],
       "ref": "a32e558f-738f-4d66-b7d0-ce85abed171e",
       "rows": [
        [
         "30~50대",
         "436"
        ],
        [
         "60대 이상",
         "71"
        ],
        [
         "20대",
         "11"
        ],
        [
         "10대",
         "1"
        ]
       ],
       "shape": {
        "columns": 1,
        "rows": 4
       }
      },
      "text/plain": [
       "연령대_단순\n",
       "30~50대    436\n",
       "60대 이상     71\n",
       "20대        11\n",
       "10대         1\n",
       "Name: count, dtype: int64"
      ]
     },
     "execution_count": 78,
     "metadata": {},
     "output_type": "execute_result"
    }
   ],
   "source": [
    "wellness_with_child['연령대_단순'].value_counts()"
   ]
  },
  {
   "cell_type": "code",
   "execution_count": 79,
   "id": "0b4fcdcb",
   "metadata": {},
   "outputs": [
    {
     "data": {
      "application/vnd.microsoft.datawrangler.viewer.v0+json": {
       "columns": [
        {
         "name": "연령대_세분화",
         "rawType": "object",
         "type": "string"
        },
        {
         "name": "count",
         "rawType": "int64",
         "type": "integer"
        }
       ],
       "ref": "33305e04-8ce7-4b8d-b1c8-dfd34f5e77a2",
       "rows": [
        [
         "50대",
         "248"
        ],
        [
         "40대",
         "118"
        ],
        [
         "60대 이상",
         "71"
        ],
        [
         "30대",
         "70"
        ],
        [
         "20대",
         "11"
        ],
        [
         "10대",
         "1"
        ]
       ],
       "shape": {
        "columns": 1,
        "rows": 6
       }
      },
      "text/plain": [
       "연령대_세분화\n",
       "50대       248\n",
       "40대       118\n",
       "60대 이상     71\n",
       "30대        70\n",
       "20대        11\n",
       "10대         1\n",
       "Name: count, dtype: int64"
      ]
     },
     "execution_count": 79,
     "metadata": {},
     "output_type": "execute_result"
    }
   ],
   "source": [
    "wellness_with_child['연령대_세분화'].value_counts()"
   ]
  },
  {
   "cell_type": "code",
   "execution_count": 80,
   "id": "6304c9c7",
   "metadata": {},
   "outputs": [],
   "source": [
    "# 10대 제외\n",
    "wellness_with_child = wellness_with_child[wellness_with_child['연령대_단순'] != '10대']"
   ]
  },
  {
   "cell_type": "code",
   "execution_count": 81,
   "id": "162158b7",
   "metadata": {},
   "outputs": [
    {
     "name": "stdout",
     "output_type": "stream",
     "text": [
      "연령대_단순\n",
      "20대        2.1\n",
      "30~50대    84.2\n",
      "60대 이상    13.7\n",
      "Name: proportion, dtype: float64\n"
     ]
    }
   ],
   "source": [
    "# 연령대별 비율 (%) 계산\n",
    "child_ratio = (wellness_with_child['연령대_단순']\n",
    "               .value_counts(normalize=True)\n",
    "               .sort_index() * 100).round(1)\n",
    "\n",
    "print(child_ratio)"
   ]
  },
  {
   "cell_type": "code",
   "execution_count": 82,
   "id": "601abce4",
   "metadata": {},
   "outputs": [
    {
     "data": {
      "image/png": "[encoded data removed]",
      "text/plain": [
       "<Figure size 700x700 with 1 Axes>"
      ]
     },
     "metadata": {},
     "output_type": "display_data"
    }
   ],
   "source": [
    "import matplotlib.pyplot as plt\n",
    "\n",
    "labels = child_ratio.index.tolist()\n",
    "sizes = child_ratio.values.tolist()\n",
    "\n",
    "plt.figure(figsize=(7, 7))\n",
    "plt.pie(\n",
    "    sizes, \n",
    "    labels=labels, \n",
    "    autopct='%1.1f%%', \n",
    "    startangle=90, \n",
    "    colors=plt.cm.Pastel2.colors, \n",
    "    labeldistance=1.05  # 라벨과 그래프 조각 간 거리 좁힘\n",
    ")\n",
    "plt.title('자녀 동반 웰니스 관광객 연령대 비율')\n",
    "plt.axis('equal')  # 원형 유지\n",
    "plt.show()"
   ]
  },
  {
   "cell_type": "code",
   "execution_count": 83,
   "id": "bdb48255",
   "metadata": {},
   "outputs": [],
   "source": [
    "# 10대 제외\n",
    "wellness_with_child = wellness_with_child[wellness_with_child['연령대_세분화'] != '10대']"
   ]
  },
  {
   "cell_type": "code",
   "execution_count": 84,
   "id": "1ee8a303",
   "metadata": {},
   "outputs": [
    {
     "name": "stdout",
     "output_type": "stream",
     "text": [
      "연령대_세분화\n",
      "20대        2.1\n",
      "30대       13.5\n",
      "40대       22.8\n",
      "50대       47.9\n",
      "60대 이상    13.7\n",
      "Name: proportion, dtype: float64\n"
     ]
    }
   ],
   "source": [
    "# 연령대별 비율 (%) 계산\n",
    "child_ratio2 = (wellness_with_child['연령대_세분화']\n",
    "               .value_counts(normalize=True)\n",
    "               .sort_index() * 100).round(1)\n",
    "\n",
    "print(child_ratio2)"
   ]
  },
  {
   "cell_type": "code",
   "execution_count": 85,
   "id": "edeb670e",
   "metadata": {},
   "outputs": [
    {
     "data": {
      "image/png": "[encoded data removed]",
      "text/plain": [
       "<Figure size 700x700 with 1 Axes>"
      ]
     },
     "metadata": {},
     "output_type": "display_data"
    }
   ],
   "source": [
    "import matplotlib.pyplot as plt\n",
    "\n",
    "labels = child_ratio2.index.tolist()\n",
    "sizes = child_ratio2.values.tolist()\n",
    "\n",
    "plt.figure(figsize=(7, 7))\n",
    "plt.pie(\n",
    "    sizes, \n",
    "    labels=labels, \n",
    "    autopct='%1.1f%%', \n",
    "    startangle=90, \n",
    "    colors=plt.cm.Pastel2.colors, \n",
    "    labeldistance=1.05  # 라벨과 그래프 조각 간 거리 좁힘\n",
    ")\n",
    "plt.title('자녀 동반 웰니스 관광객 연령대 비율')\n",
    "plt.axis('equal')  # 원형 유지\n",
    "plt.show()"
   ]
  },
  {
   "cell_type": "code",
   "execution_count": 86,
   "id": "00951e74",
   "metadata": {},
   "outputs": [
    {
     "name": "stdout",
     "output_type": "stream",
     "text": [
      "자녀동반       자녀O     자녀X\n",
      "연령대_단순                \n",
      "20대     1635.3  1279.3\n",
      "30~50대  1345.6  1436.3\n",
      "60대 이상  1153.7  1320.5\n"
     ]
    }
   ],
   "source": [
    "# 자녀 동반 여부별 평균 총액\n",
    "pivot_wellness = wellness_df.pivot_table(\n",
    "    index='연령대_단순',\n",
    "    columns='자녀동반',\n",
    "    values='총액1인TOT항공제외2',\n",
    "    aggfunc='mean'\n",
    ").round(1)\n",
    "\n",
    "print(pivot_wellness)"
   ]
  },
  {
   "cell_type": "code",
   "execution_count": 87,
   "id": "9f1c98bb",
   "metadata": {},
   "outputs": [
    {
     "name": "stdout",
     "output_type": "stream",
     "text": [
      "자녀동반        자녀O     자녀X\n",
      "연령대_세분화                \n",
      "20대      1635.3  1279.3\n",
      "30대      1160.8  1458.5\n",
      "40대      1573.8  1425.5\n",
      "50대      1289.3  1413.0\n",
      "60대 이상   1153.7  1320.5\n"
     ]
    }
   ],
   "source": [
    "# 자녀 동반 여부별 평균 총액\n",
    "pivot_wellness = wellness_df.pivot_table(\n",
    "    index='연령대_세분화',\n",
    "    columns='자녀동반',\n",
    "    values='총액1인TOT항공제외2',\n",
    "    aggfunc='mean'\n",
    ").round(1)\n",
    "\n",
    "print(pivot_wellness)"
   ]
  },
  {
   "cell_type": "code",
   "execution_count": 88,
   "id": "9813384f",
   "metadata": {},
   "outputs": [
    {
     "ename": "KeyError",
     "evalue": "\"The following id_vars or value_vars are not present in the DataFrame: ['연령대_단순']\"",
     "output_type": "error",
     "traceback": [
      "\u001b[1;31m---------------------------------------------------------------------------\u001b[0m",
      "\u001b[1;31mKeyError\u001b[0m                                  Traceback (most recent call last)",
      "Cell \u001b[1;32mIn[88], line 5\u001b[0m\n\u001b[0;32m      1\u001b[0m \u001b[38;5;66;03m# 시각화\u001b[39;00m\n\u001b[0;32m      2\u001b[0m \u001b[38;5;66;03m# 1. Pivot → Long Format 변환\u001b[39;00m\n\u001b[0;32m      3\u001b[0m pivot_wellness_reset \u001b[38;5;241m=\u001b[39m pivot_wellness\u001b[38;5;241m.\u001b[39mreset_index()\n\u001b[1;32m----> 5\u001b[0m pivot_melted \u001b[38;5;241m=\u001b[39m \u001b[43mpivot_wellness_reset\u001b[49m\u001b[38;5;241;43m.\u001b[39;49m\u001b[43mmelt\u001b[49m\u001b[43m(\u001b[49m\n\u001b[0;32m      6\u001b[0m \u001b[43m    \u001b[49m\u001b[43mid_vars\u001b[49m\u001b[38;5;241;43m=\u001b[39;49m\u001b[38;5;124;43m'\u001b[39;49m\u001b[38;5;124;43m연령대_단순\u001b[39;49m\u001b[38;5;124;43m'\u001b[39;49m\u001b[43m,\u001b[49m\u001b[43m \u001b[49m\n\u001b[0;32m      7\u001b[0m \u001b[43m    \u001b[49m\u001b[43mvalue_vars\u001b[49m\u001b[38;5;241;43m=\u001b[39;49m\u001b[43m[\u001b[49m\u001b[38;5;124;43m'\u001b[39;49m\u001b[38;5;124;43m자녀O\u001b[39;49m\u001b[38;5;124;43m'\u001b[39;49m\u001b[43m,\u001b[49m\u001b[43m \u001b[49m\u001b[38;5;124;43m'\u001b[39;49m\u001b[38;5;124;43m자녀X\u001b[39;49m\u001b[38;5;124;43m'\u001b[39;49m\u001b[43m]\u001b[49m\u001b[43m,\u001b[49m\n\u001b[0;32m      8\u001b[0m \u001b[43m    \u001b[49m\u001b[43mvar_name\u001b[49m\u001b[38;5;241;43m=\u001b[39;49m\u001b[38;5;124;43m'\u001b[39;49m\u001b[38;5;124;43m자녀동반\u001b[39;49m\u001b[38;5;124;43m'\u001b[39;49m\u001b[43m,\u001b[49m\u001b[43m \u001b[49m\n\u001b[0;32m      9\u001b[0m \u001b[43m    \u001b[49m\u001b[43mvalue_name\u001b[49m\u001b[38;5;241;43m=\u001b[39;49m\u001b[38;5;124;43m'\u001b[39;49m\u001b[38;5;124;43m총액1인TOT항공제외2\u001b[39;49m\u001b[38;5;124;43m'\u001b[39;49m\n\u001b[0;32m     10\u001b[0m \u001b[43m)\u001b[49m\n\u001b[0;32m     12\u001b[0m \u001b[38;5;66;03m# 2. Grouped Barplot 그리기\u001b[39;00m\n\u001b[0;32m     13\u001b[0m plt\u001b[38;5;241m.\u001b[39mfigure(figsize\u001b[38;5;241m=\u001b[39m(\u001b[38;5;241m8\u001b[39m, \u001b[38;5;241m5\u001b[39m))\n",
      "File \u001b[1;32mc:\\Users\\82106\\anaconda3\\envs\\tensorflow_env\\lib\\site-packages\\pandas\\core\\frame.py:9942\u001b[0m, in \u001b[0;36mDataFrame.melt\u001b[1;34m(self, id_vars, value_vars, var_name, value_name, col_level, ignore_index)\u001b[0m\n\u001b[0;32m   9932\u001b[0m \u001b[38;5;129m@Appender\u001b[39m(_shared_docs[\u001b[38;5;124m\"\u001b[39m\u001b[38;5;124mmelt\u001b[39m\u001b[38;5;124m\"\u001b[39m] \u001b[38;5;241m%\u001b[39m {\u001b[38;5;124m\"\u001b[39m\u001b[38;5;124mcaller\u001b[39m\u001b[38;5;124m\"\u001b[39m: \u001b[38;5;124m\"\u001b[39m\u001b[38;5;124mdf.melt(\u001b[39m\u001b[38;5;124m\"\u001b[39m, \u001b[38;5;124m\"\u001b[39m\u001b[38;5;124mother\u001b[39m\u001b[38;5;124m\"\u001b[39m: \u001b[38;5;124m\"\u001b[39m\u001b[38;5;124mmelt\u001b[39m\u001b[38;5;124m\"\u001b[39m})\n\u001b[0;32m   9933\u001b[0m \u001b[38;5;28;01mdef\u001b[39;00m\u001b[38;5;250m \u001b[39m\u001b[38;5;21mmelt\u001b[39m(\n\u001b[0;32m   9934\u001b[0m     \u001b[38;5;28mself\u001b[39m,\n\u001b[1;32m   (...)\u001b[0m\n\u001b[0;32m   9940\u001b[0m     ignore_index: \u001b[38;5;28mbool\u001b[39m \u001b[38;5;241m=\u001b[39m \u001b[38;5;28;01mTrue\u001b[39;00m,\n\u001b[0;32m   9941\u001b[0m ) \u001b[38;5;241m-\u001b[39m\u001b[38;5;241m>\u001b[39m DataFrame:\n\u001b[1;32m-> 9942\u001b[0m     \u001b[38;5;28;01mreturn\u001b[39;00m \u001b[43mmelt\u001b[49m\u001b[43m(\u001b[49m\n\u001b[0;32m   9943\u001b[0m \u001b[43m        \u001b[49m\u001b[38;5;28;43mself\u001b[39;49m\u001b[43m,\u001b[49m\n\u001b[0;32m   9944\u001b[0m \u001b[43m        \u001b[49m\u001b[43mid_vars\u001b[49m\u001b[38;5;241;43m=\u001b[39;49m\u001b[43mid_vars\u001b[49m\u001b[43m,\u001b[49m\n\u001b[0;32m   9945\u001b[0m \u001b[43m        \u001b[49m\u001b[43mvalue_vars\u001b[49m\u001b[38;5;241;43m=\u001b[39;49m\u001b[43mvalue_vars\u001b[49m\u001b[43m,\u001b[49m\n\u001b[0;32m   9946\u001b[0m \u001b[43m        \u001b[49m\u001b[43mvar_name\u001b[49m\u001b[38;5;241;43m=\u001b[39;49m\u001b[43mvar_name\u001b[49m\u001b[43m,\u001b[49m\n\u001b[0;32m   9947\u001b[0m \u001b[43m        \u001b[49m\u001b[43mvalue_name\u001b[49m\u001b[38;5;241;43m=\u001b[39;49m\u001b[43mvalue_name\u001b[49m\u001b[43m,\u001b[49m\n\u001b[0;32m   9948\u001b[0m \u001b[43m        \u001b[49m\u001b[43mcol_level\u001b[49m\u001b[38;5;241;43m=\u001b[39;49m\u001b[43mcol_level\u001b[49m\u001b[43m,\u001b[49m\n\u001b[0;32m   9949\u001b[0m \u001b[43m        \u001b[49m\u001b[43mignore_index\u001b[49m\u001b[38;5;241;43m=\u001b[39;49m\u001b[43mignore_index\u001b[49m\u001b[43m,\u001b[49m\n\u001b[0;32m   9950\u001b[0m \u001b[43m    \u001b[49m\u001b[43m)\u001b[49m\u001b[38;5;241m.\u001b[39m__finalize__(\u001b[38;5;28mself\u001b[39m, method\u001b[38;5;241m=\u001b[39m\u001b[38;5;124m\"\u001b[39m\u001b[38;5;124mmelt\u001b[39m\u001b[38;5;124m\"\u001b[39m)\n",
      "File \u001b[1;32mc:\\Users\\82106\\anaconda3\\envs\\tensorflow_env\\lib\\site-packages\\pandas\\core\\reshape\\melt.py:74\u001b[0m, in \u001b[0;36mmelt\u001b[1;34m(frame, id_vars, value_vars, var_name, value_name, col_level, ignore_index)\u001b[0m\n\u001b[0;32m     70\u001b[0m \u001b[38;5;28;01mif\u001b[39;00m missing\u001b[38;5;241m.\u001b[39many():\n\u001b[0;32m     71\u001b[0m     missing_labels \u001b[38;5;241m=\u001b[39m [\n\u001b[0;32m     72\u001b[0m         lab \u001b[38;5;28;01mfor\u001b[39;00m lab, not_found \u001b[38;5;129;01min\u001b[39;00m \u001b[38;5;28mzip\u001b[39m(labels, missing) \u001b[38;5;28;01mif\u001b[39;00m not_found\n\u001b[0;32m     73\u001b[0m     ]\n\u001b[1;32m---> 74\u001b[0m     \u001b[38;5;28;01mraise\u001b[39;00m \u001b[38;5;167;01mKeyError\u001b[39;00m(\n\u001b[0;32m     75\u001b[0m         \u001b[38;5;124m\"\u001b[39m\u001b[38;5;124mThe following id_vars or value_vars are not present in \u001b[39m\u001b[38;5;124m\"\u001b[39m\n\u001b[0;32m     76\u001b[0m         \u001b[38;5;124mf\u001b[39m\u001b[38;5;124m\"\u001b[39m\u001b[38;5;124mthe DataFrame: \u001b[39m\u001b[38;5;132;01m{\u001b[39;00mmissing_labels\u001b[38;5;132;01m}\u001b[39;00m\u001b[38;5;124m\"\u001b[39m\n\u001b[0;32m     77\u001b[0m     )\n\u001b[0;32m     78\u001b[0m \u001b[38;5;28;01mif\u001b[39;00m value_vars_was_not_none:\n\u001b[0;32m     79\u001b[0m     frame \u001b[38;5;241m=\u001b[39m frame\u001b[38;5;241m.\u001b[39miloc[:, algos\u001b[38;5;241m.\u001b[39munique(idx)]\n",
      "\u001b[1;31mKeyError\u001b[0m: \"The following id_vars or value_vars are not present in the DataFrame: ['연령대_단순']\""
     ]
    }
   ],
   "source": [
    "# 시각화\n",
    "# 1. Pivot → Long Format 변환\n",
    "pivot_wellness_reset = pivot_wellness.reset_index()\n",
    "\n",
    "pivot_melted = pivot_wellness_reset.melt(\n",
    "    id_vars='연령대_단순', \n",
    "    value_vars=['자녀O', '자녀X'],\n",
    "    var_name='자녀동반', \n",
    "    value_name='총액1인TOT항공제외2'\n",
    ")\n",
    "\n",
    "# 2. Grouped Barplot 그리기\n",
    "plt.figure(figsize=(8, 5))\n",
    "ax = sns.barplot(\n",
    "    x='연령대_단순', \n",
    "    y='총액1인TOT항공제외2', \n",
    "    hue='자녀동반', \n",
    "    data=pivot_melted, \n",
    "    palette='Set2'\n",
    ")\n",
    "plt.title('연령대별 × 자녀 동반 여부별 웰니스 관광객 평균 소비 총액')\n",
    "plt.xlabel('연령대')\n",
    "plt.ylabel('평균 소비 총액 (USD)')\n",
    "plt.legend(title='자녀 동반 여부')\n",
    "plt.ylim(0, pivot_melted['총액1인TOT항공제외2'].max() * 1.2)\n",
    "\n",
    "# 3. 막대 위 숫자 표시\n",
    "for p in ax.patches:\n",
    "    height = p.get_height()\n",
    "    if not pd.isna(height) and height != 0.0:  # NaN 및 0.0 모두 방지\n",
    "        ax.annotate(f'{height:.1f}', \n",
    "                    (p.get_x() + p.get_width() / 2, height), \n",
    "                    ha='center', va='bottom', fontsize=9)\n",
    "plt.show()\n"
   ]
  },
  {
   "cell_type": "markdown",
   "id": "203fbc70",
   "metadata": {},
   "source": [
    "- 30~50대가 자녀 동반 웰니스의 실질 타겟 \n",
    "- 가족 중심 콘텐츠, 프리미엄 숙소/리조트, 쇼핑 연계형 웰니스 전략 적합\n",
    "- 60대 이상은 자녀와 동반 여행할 가능성 존재 (전체의 13.7% 차지 → 니치 타겟 가능)\n",
    "- 건강/치유형 콘텐츠 + 효도형 여행 마케팅 전략 활용 가능\n",
    "- 20대는 분석상 제외 가능 -> 자녀 동반은 의미 없는 수준 (2.1%)\n",
    "- 개별 소비자 중심 마케팅이 적절 (가성비 중심)"
   ]
  },
  {
   "cell_type": "markdown",
   "id": "570b64de",
   "metadata": {},
   "source": [
    "- 30~50대: 자녀 없이 여행할 때 소비 높음 -> 자녀를 동반하지 않았을 때 소비가 약 91달러 더 높음\n",
    "- 이 연령대는 자녀 없이 여유롭게 고가 소비하는 특성이 뚜렷 \n",
    "- 60대 이상도 자녀 미동반이 더 많이 씀 -> 자녀를 동반하지 않은 경우 약 167달러 더 소비\n",
    "- 단독/부부 여행자 중심 소비 성향 "
   ]
  },
  {
   "cell_type": "markdown",
   "id": "803e9887",
   "metadata": {},
   "source": [
    "1. 자녀 동반 시 소비 감소 경향\n",
    "- 30~50대, 60대 이상 공통\n",
    "- 자녀 동반 여행은 소비 분산 및 절제 경향\n",
    "- 개별 또는 부부 여행자 중심 마케팅이 효과적\n",
    "\n",
    "2. 웰니스 핵심 소비자 = 자녀 없이 여행하는 중장년층\n",
    "- 타겟: 30~50대 자녀 미동반층\n",
    "- 전략: 프리미엄 스파/명상/힐링 콘텐츠, 고급 숙소 연계"
   ]
  },
  {
   "cell_type": "code",
   "execution_count": 89,
   "id": "f7af3dc3",
   "metadata": {},
   "outputs": [
    {
     "name": "stdout",
     "output_type": "stream",
     "text": [
      "자녀동반        자녀O     자녀X\n",
      "연령대_세분화                \n",
      "20대      1635.3  1279.3\n",
      "30대      1160.8  1458.5\n",
      "40대      1573.8  1425.5\n",
      "50대      1289.3  1413.0\n",
      "60대 이상   1153.7  1320.5\n"
     ]
    }
   ],
   "source": [
    "# 자녀 동반 여부별 평균 총액 (연령대 세분화)\n",
    "pivot_wellness2 = wellness_df.pivot_table(\n",
    "    index='연령대_세분화',\n",
    "    columns='자녀동반',\n",
    "    values='총액1인TOT항공제외2',\n",
    "    aggfunc='mean'\n",
    ").round(1)\n",
    "\n",
    "print(pivot_wellness2)"
   ]
  },
  {
   "cell_type": "code",
   "execution_count": 90,
   "id": "951b0644",
   "metadata": {},
   "outputs": [
    {
     "data": {
      "image/png": "[encoded data removed]",
      "text/plain": [
       "<Figure size 900x500 with 1 Axes>"
      ]
     },
     "metadata": {},
     "output_type": "display_data"
    }
   ],
   "source": [
    "# 시각화 \n",
    "pivot_reset = pivot_wellness2.reset_index()\n",
    "\n",
    "pivot_melted = pivot_reset.melt(\n",
    "    id_vars='연령대_세분화', \n",
    "    value_vars=['자녀O', '자녀X'],\n",
    "    var_name='자녀동반', \n",
    "    value_name='총액1인TOT항공제외2'\n",
    ")\n",
    "\n",
    "plt.figure(figsize=(9, 5))\n",
    "ax = sns.barplot(\n",
    "    x='연령대_세분화', \n",
    "    y='총액1인TOT항공제외2', \n",
    "    hue='자녀동반', \n",
    "    data=pivot_melted, \n",
    "    palette='Set2'\n",
    ")\n",
    "plt.title('세분화 연령대 × 자녀 동반 여부별 웰니스 관광객 평균 소비 총액')\n",
    "plt.xlabel('연령대')\n",
    "plt.ylabel('평균 소비 총액 (USD)')\n",
    "plt.legend(title='자녀 동반 여부')\n",
    "plt.ylim(0, pivot_melted['총액1인TOT항공제외2'].max() * 1.2)\n",
    "\n",
    "# 막대 위 숫자 표시 (소수점 1자리)\n",
    "for p in ax.patches:\n",
    "    height = p.get_height()\n",
    "    if not pd.isna(height) and height != 0.0:\n",
    "        ax.annotate(f'{height:.1f}', \n",
    "                    (p.get_x() + p.get_width() / 2, height), \n",
    "                    ha='center', va='bottom', fontsize=9)\n",
    "\n",
    "plt.show()\n"
   ]
  },
  {
   "cell_type": "code",
   "execution_count": 91,
   "id": "0289170e",
   "metadata": {},
   "outputs": [
    {
     "name": "stdout",
     "output_type": "stream",
     "text": [
      "연령대_단순\n",
      "20대       1635.3\n",
      "30~50대    1345.6\n",
      "60대 이상    1153.7\n",
      "Name: 총액1인TOT항공제외2, dtype: float64\n"
     ]
    }
   ],
   "source": [
    "# 자녀 동반 웰니스 관광객만 필터링\n",
    "wellness_with_child = df_all[(df_all['웰니스참여'] == 1) & (df_all['자녀동반'] == '자녀O')]\n",
    "\n",
    "# 10대 제외\n",
    "wellness_with_child = wellness_with_child[wellness_with_child['연령대_세분화'] != '10대']\n",
    "\n",
    "# 연령대별 평균 소비 총액 계산\n",
    "mean_by_age = wellness_with_child.groupby('연령대_단순')['총액1인TOT항공제외2'].mean().round(1)\n",
    "\n",
    "print(mean_by_age)"
   ]
  },
  {
   "cell_type": "code",
   "execution_count": 92,
   "metadata": {},
   "outputs": [
    {
     "name": "stdout",
     "output_type": "stream",
     "text": [
      "연령대_단순\n",
      "20대       1294.6\n",
      "30~50대     967.7\n",
      "60대 이상     878.5\n",
      "Name: 총액1인TOT항공제외2, dtype: float64\n"
     ]
    }
   ],
   "source": [
    "# 자녀 동반 웰니스 관광객만 필터링 (20대 포함 전체 대상)\n",
    "wellness_with_child = df_all[(df_all['웰니스참여'] == 1) & (df_all['자녀동반'] == '자녀O')]\n",
    "\n",
    "# 10대 제외\n",
    "wellness_with_child = wellness_with_child[wellness_with_child['연령대_세분화'] != '10대']\n",
    "\n",
    "# 연령대별 중앙값 계산\n",
    "median_by_age = wellness_with_child.groupby('연령대_단순')['총액1인TOT항공제외2'].median().round(1)\n",
    "print(median_by_age)"
   ]
  },
  {
   "cell_type": "code",
   "execution_count": 93,
   "id": "37cae634",
   "metadata": {},
   "outputs": [
    {
     "data": {
      "image/png": "[encoded data removed]",
      "text/plain": [
       "<Figure size 800x500 with 1 Axes>"
      ]
     },
     "metadata": {},
     "output_type": "display_data"
    }
   ],
   "source": [
    "plt.figure(figsize=(8, 5))\n",
    "sns.boxplot(x='연령대_단순', y='총액1인TOT항공제외2', data=wellness_with_child, order=sorted(wellness_with_child['연령대_단순'].unique()))\n",
    "plt.title('자녀 동반 웰니스 관광객 연령대별 소비 총액 분포 (Boxplot)')\n",
    "plt.xlabel('연령대')\n",
    "plt.ylabel('예상 총액 (USD)')\n",
    "plt.ylim(0, wellness_with_child['총액1인TOT항공제외2'].max() * 1.1)\n",
    "plt.show()\n"
   ]
  },
  {
   "cell_type": "markdown",
   "id": "1c6e7082",
   "metadata": {},
   "source": [
    "최종 해석 및 전략\n",
    "1. 20대 자녀 동반자는 소비 왜곡 → 고소득 타겟 아님\n",
    "- 평균 1,634달러 → 실제 중앙값 1,293달러\n",
    "\n",
    "- 박스플롯 이상치로 인해 평균 과대\n",
    "\n",
    "-자녀 동반 20대는 타겟 제외, 개별 소비 마케팅만 적합\n",
    "\n",
    "2. 30~50대 자녀 동반자 → 소비 핵심층\n",
    "- 평균, 중앙값 모두 상대적으로 높음\n",
    "\n",
    "- 샘플 수 400명 이상 → 신뢰성 높음\n",
    "\n",
    "- 가족형 콘텐츠 + 고가 웰니스 상품 타겟 적합\n",
    "\n",
    "3. 60대 이상은 중간 소비층 → 효도/치유형 콘텐츠 적합\n",
    "- 평균 1,152달러, 중앙값 877달러\n",
    "\n",
    "- 중저가 상품 타겟 + 가족 동반 효도 여행 콘텐츠 전략\n",
    "\n",
    "4. 결론 요약\n",
    "- 자녀를 동반한 웰니스 관광은 30~50대 중심"
   ]
  },
  {
   "cell_type": "markdown",
   "id": "70bf74e6",
   "metadata": {
    "vscode": {
     "languageId": "markdown"
    }
   },
   "source": [
    "## 국적 × 연령대별 소비 총액\n",
    "- 웰니스 참여자 중 국적별로 연령대에 따른 소비 패턴 차이 비교"
   ]
  },
  {
   "cell_type": "code",
   "execution_count": 94,
   "id": "22a4c899",
   "metadata": {},
   "outputs": [
    {
     "data": {
      "application/vnd.microsoft.datawrangler.viewer.v0+json": {
       "columns": [
        {
         "name": "index",
         "rawType": "int64",
         "type": "integer"
        },
        {
         "name": "D_NAT",
         "rawType": "int64",
         "type": "integer"
        },
        {
         "name": "M일HAP",
         "rawType": "int64",
         "type": "integer"
        },
        {
         "name": "Q7A",
         "rawType": "int64",
         "type": "integer"
        },
        {
         "name": "Q7a_dk",
         "rawType": "float64",
         "type": "float"
        },
        {
         "name": "Q7a2",
         "rawType": "float64",
         "type": "float"
        },
        {
         "name": "Q7a3",
         "rawType": "float64",
         "type": "float"
        },
        {
         "name": "Q7a4",
         "rawType": "float64",
         "type": "float"
        },
        {
         "name": "Q7a5",
         "rawType": "float64",
         "type": "float"
        },
        {
         "name": "Q7a6",
         "rawType": "float64",
         "type": "float"
        },
        {
         "name": "Q7a7",
         "rawType": "float64",
         "type": "float"
        },
        {
         "name": "Q7a8",
         "rawType": "float64",
         "type": "float"
        },
        {
         "name": "D_GUB",
         "rawType": "int64",
         "type": "integer"
        },
        {
         "name": "D_MOK",
         "rawType": "int64",
         "type": "integer"
        },
        {
         "name": "총액1인TOT항공제외2",
         "rawType": "float64",
         "type": "float"
        },
        {
         "name": "Q8a03",
         "rawType": "float64",
         "type": "float"
        },
        {
         "name": "Q8a12",
         "rawType": "float64",
         "type": "float"
        },
        {
         "name": "Q8_1a1",
         "rawType": "int64",
         "type": "integer"
        },
        {
         "name": "Q8_1a2",
         "rawType": "float64",
         "type": "float"
        },
        {
         "name": "Q8_1a3",
         "rawType": "float64",
         "type": "float"
        },
        {
         "name": "D_AGE",
         "rawType": "int64",
         "type": "integer"
        },
        {
         "name": "동행자_단순",
         "rawType": "object",
         "type": "string"
        },
        {
         "name": "동행자_세분화",
         "rawType": "object",
         "type": "string"
        },
        {
         "name": "국가명",
         "rawType": "object",
         "type": "string"
        },
        {
         "name": "연령대_단순",
         "rawType": "object",
         "type": "string"
        },
        {
         "name": "연령대_세분화",
         "rawType": "object",
         "type": "string"
        },
        {
         "name": "웰니스참여",
         "rawType": "int64",
         "type": "integer"
        },
        {
         "name": "웰니스만족",
         "rawType": "int64",
         "type": "integer"
        },
        {
         "name": "log_총액",
         "rawType": "float64",
         "type": "float"
        },
        {
         "name": "year",
         "rawType": "int64",
         "type": "integer"
        },
        {
         "name": "예상_총액",
         "rawType": "float64",
         "type": "float"
        },
        {
         "name": "자녀동반",
         "rawType": "object",
         "type": "string"
        }
       ],
       "ref": "8ee64cf1-dd11-432c-9d42-b9ecb1c36f66",
       "rows": [
        [
         "1",
         "1",
         "7",
         "1",
         "1.0",
         null,
         null,
         null,
         null,
         null,
         null,
         null,
         "1",
         "2",
         "1621.28",
         "3.0",
         null,
         "11",
         "2.0",
         "3.0",
         "3",
         "혼자",
         "혼자",
         "중국",
         "30~50대",
         "30대",
         "1",
         "1",
         "7.390971239700008",
         "2023",
         "1620.2800000000007",
         "자녀X"
        ],
        [
         "4",
         "3",
         "8",
         "2",
         null,
         null,
         null,
         null,
         null,
         "6.0",
         null,
         null,
         "1",
         "1",
         "1336.6",
         "3.0",
         null,
         "2",
         "3.0",
         "1.0",
         "2",
         "친구",
         "친구",
         "대만",
         "20대",
         "20대",
         "1",
         "1",
         "7.19788435507697",
         "2023",
         "1335.6",
         "자녀X"
        ],
        [
         "7",
         "5",
         "6",
         "2",
         null,
         null,
         null,
         null,
         null,
         "6.0",
         null,
         null,
         "1",
         "1",
         "1790.84",
         "3.0",
         null,
         "3",
         "2.0",
         "15.0",
         "3",
         "친구",
         "친구",
         "홍콩",
         "30~50대",
         "30대",
         "1",
         "1",
         "7.49044006250333",
         "2023",
         "1789.8400000000004",
         "자녀X"
        ],
        [
         "8",
         "3",
         "6",
         "2",
         null,
         "2.0",
         null,
         null,
         null,
         null,
         null,
         null,
         "1",
         "1",
         "805.22",
         "3.0",
         null,
         "3",
         "1.0",
         "2.0",
         "2",
         "가족",
         "배우자/파트너",
         "대만",
         "20대",
         "20대",
         "1",
         "1",
         "6.691115532006593",
         "2023",
         "804.2199999999999",
         "자녀X"
        ],
        [
         "9",
         "3",
         "5",
         "2",
         null,
         null,
         null,
         null,
         null,
         "6.0",
         null,
         null,
         "3",
         "1",
         "1352.9",
         "3.0",
         null,
         "3",
         "1.0",
         "8.0",
         "3",
         "친구",
         "친구",
         "대만",
         "30~50대",
         "30대",
         "1",
         "1",
         "7.210005715609315",
         "2023",
         "1351.9",
         "자녀X"
        ],
        [
         "12",
         "3",
         "5",
         "2",
         null,
         null,
         null,
         "4.0",
         null,
         null,
         null,
         null,
         "3",
         "1",
         "1630.0",
         "3.0",
         null,
         "8",
         "11.0",
         "3.0",
         "4",
         "가족",
         "자녀",
         "대만",
         "30~50대",
         "40대",
         "1",
         "1",
         "7.396335293800808",
         "2023",
         "1629.0000000000005",
         "자녀O"
        ],
        [
         "13",
         "16",
         "7",
         "1",
         "1.0",
         null,
         null,
         null,
         null,
         null,
         null,
         null,
         "1",
         "2",
         "2145.26",
         "3.0",
         null,
         "1",
         "2.0",
         "3.0",
         "4",
         "혼자",
         "혼자",
         "영국",
         "30~50대",
         "40대",
         "1",
         "1",
         "7.671016036137734",
         "2023",
         "2144.260000000001",
         "자녀X"
        ],
        [
         "14",
         "7",
         "3",
         "1",
         "1.0",
         null,
         null,
         null,
         null,
         null,
         null,
         null,
         "1",
         "1",
         "733.44",
         "3.0",
         null,
         "4",
         "2.0",
         "3.0",
         "2",
         "혼자",
         "혼자",
         "베트남",
         "20대",
         "20대",
         "1",
         "1",
         "6.597745794646266",
         "2023",
         "732.4400000000004",
         "자녀X"
        ],
        [
         "19",
         "10",
         "10",
         "2",
         null,
         "2.0",
         null,
         "4.0",
         null,
         null,
         null,
         null,
         "1",
         "1",
         "4222.23",
         null,
         "12.0",
         "1",
         "12.0",
         "2.0",
         "3",
         "가족",
         "배우자/파트너",
         "싱가포르",
         "30~50대",
         "30대",
         "1",
         "1",
         "8.348118703475869",
         "2023",
         "4221.229999999996",
         "자녀X"
        ],
        [
         "20",
         "4",
         "10",
         "2",
         null,
         null,
         "3.0",
         null,
         null,
         null,
         null,
         null,
         "1",
         "1",
         "910.0",
         "3.0",
         null,
         "9",
         "1.0",
         "4.0",
         "3",
         "가족",
         "부모님",
         "미국",
         "30~50대",
         "30대",
         "1",
         "0",
         "6.813444599510896",
         "2023",
         "908.9999999999999",
         "자녀X"
        ],
        [
         "23",
         "5",
         "7",
         "2",
         null,
         "2.0",
         null,
         "4.0",
         null,
         null,
         null,
         null,
         "2",
         "1",
         "1477.42",
         "3.0",
         null,
         "6",
         "3.0",
         "2.0",
         "3",
         "가족",
         "배우자/파트너",
         "홍콩",
         "30~50대",
         "30대",
         "1",
         "1",
         "7.298052602298258",
         "2023",
         "1476.4200000000003",
         "자녀X"
        ],
        [
         "25",
         "10",
         "7",
         "2",
         null,
         null,
         null,
         null,
         "5.0",
         null,
         null,
         null,
         "1",
         "1",
         "1092.81",
         "3.0",
         null,
         "2",
         "3.0",
         "4.0",
         "3",
         "가족",
         "그 외 가족 친지",
         "싱가포르",
         "30~50대",
         "30대",
         "1",
         "1",
         "6.996507639579928",
         "2023",
         "1091.8099999999997",
         "자녀X"
        ],
        [
         "26",
         "10",
         "7",
         "2",
         null,
         "2.0",
         "3.0",
         "4.0",
         null,
         null,
         null,
         null,
         "1",
         "1",
         "4743.8",
         "3.0",
         null,
         "15",
         "4.0",
         "3.0",
         "3",
         "가족",
         "배우자/파트너",
         "싱가포르",
         "30~50대",
         "30대",
         "1",
         "1",
         "8.464593781272846",
         "2023",
         "4742.800000000001",
         "자녀X"
        ],
        [
         "28",
         "1",
         "24",
         "2",
         null,
         null,
         null,
         "4.0",
         null,
         null,
         null,
         null,
         "1",
         "2",
         "1010.8",
         "3.0",
         null,
         "3",
         "2.0",
         null,
         "4",
         "가족",
         "자녀",
         "중국",
         "30~50대",
         "40대",
         "1",
         "1",
         "6.918497375514039",
         "2023",
         "1009.7999999999997",
         "자녀O"
        ],
        [
         "29",
         "10",
         "6",
         "2",
         null,
         "2.0",
         "3.0",
         "4.0",
         null,
         null,
         null,
         null,
         "1",
         "1",
         "1583.34",
         "3.0",
         null,
         "2",
         "15.0",
         "3.0",
         "2",
         "가족",
         "배우자/파트너",
         "싱가포르",
         "20대",
         "20대",
         "1",
         "1",
         "7.367291818878028",
         "2023",
         "1582.3399999999992",
         "자녀X"
        ],
        [
         "30",
         "10",
         "7",
         "2",
         null,
         null,
         "3.0",
         "4.0",
         null,
         null,
         null,
         null,
         "2",
         "2",
         "2210.46",
         "3.0",
         null,
         "15",
         "2.0",
         "1.0",
         "4",
         "가족",
         "부모님",
         "싱가포르",
         "30~50대",
         "40대",
         "1",
         "0",
         "7.700955917649056",
         "2023",
         "2209.46",
         "자녀X"
        ],
        [
         "33",
         "6",
         "17",
         "1",
         "1.0",
         null,
         null,
         null,
         null,
         null,
         null,
         null,
         "1",
         "1",
         "2225.3",
         "3.0",
         null,
         "10",
         "3.0",
         "2.0",
         "2",
         "혼자",
         "혼자",
         "태국",
         "20대",
         "20대",
         "1",
         "1",
         "7.7076470169720706",
         "2023",
         "2224.3000000000006",
         "자녀X"
        ],
        [
         "39",
         "6",
         "5",
         "2",
         null,
         null,
         "3.0",
         null,
         null,
         null,
         null,
         null,
         "1",
         "1",
         "752.85",
         "3.0",
         null,
         "2",
         "1.0",
         "3.0",
         "6",
         "가족",
         "부모님",
         "태국",
         "60대 이상",
         "60대 이상",
         "1",
         "1",
         "6.623866004769052",
         "2023",
         "751.8499999999999",
         "자녀X"
        ],
        [
         "40",
         "4",
         "5",
         "2",
         null,
         "2.0",
         null,
         null,
         null,
         null,
         null,
         null,
         "1",
         "1",
         "1365.0",
         "3.0",
         "12.0",
         "11",
         "2.0",
         "1.0",
         "6",
         "가족",
         "배우자/파트너",
         "미국",
         "60대 이상",
         "60대 이상",
         "1",
         "0",
         "7.21890970761906",
         "2023",
         "1364.0000000000002",
         "자녀X"
        ],
        [
         "43",
         "4",
         "13",
         "2",
         null,
         "2.0",
         null,
         null,
         null,
         null,
         null,
         null,
         "1",
         "2",
         "980.0",
         "3.0",
         null,
         "4",
         "2.0",
         "3.0",
         "5",
         "가족",
         "배우자/파트너",
         "미국",
         "30~50대",
         "50대",
         "1",
         "1",
         "6.887552571664617",
         "2023",
         "978.9999999999998",
         "자녀X"
        ],
        [
         "46",
         "7",
         "5",
         "2",
         null,
         null,
         null,
         null,
         null,
         "6.0",
         null,
         null,
         "3",
         "1",
         "1302.0",
         "3.0",
         null,
         "11",
         "2.0",
         "6.0",
         "2",
         "친구",
         "친구",
         "베트남",
         "20대",
         "20대",
         "1",
         "0",
         "7.171656822768514",
         "2023",
         "1300.9999999999995",
         "자녀X"
        ],
        [
         "47",
         "4",
         "3",
         "2",
         null,
         null,
         null,
         null,
         "5.0",
         null,
         null,
         null,
         "1",
         "1",
         "520.0",
         "3.0",
         null,
         "3",
         "4.0",
         "1.0",
         "3",
         "가족",
         "그 외 가족 친지",
         "미국",
         "30~50대",
         "30대",
         "1",
         "1",
         "6.253828811575473",
         "2023",
         "519.0",
         "자녀X"
        ],
        [
         "48",
         "4",
         "8",
         "1",
         "1.0",
         null,
         null,
         null,
         null,
         null,
         null,
         null,
         "1",
         "2",
         "3900.0",
         "3.0",
         null,
         "6",
         "3.0",
         "1.0",
         "5",
         "혼자",
         "혼자",
         "미국",
         "30~50대",
         "50대",
         "1",
         "1",
         "8.268731832117737",
         "2023",
         "3898.9999999999977",
         "자녀X"
        ],
        [
         "49",
         "4",
         "28",
         "1",
         "1.0",
         null,
         null,
         null,
         null,
         null,
         null,
         null,
         "1",
         "2",
         "4250.0",
         null,
         "12.0",
         "1",
         "2.0",
         "12.0",
         "2",
         "혼자",
         "혼자",
         "미국",
         "20대",
         "20대",
         "1",
         "1",
         "8.354674261918463",
         "2023",
         "4249.000000000003",
         "자녀X"
        ],
        [
         "51",
         "16",
         "15",
         "2",
         null,
         null,
         null,
         null,
         "5.0",
         null,
         null,
         null,
         "1",
         "2",
         "698.41",
         "3.0",
         null,
         "4",
         "3.0",
         "6.0",
         "5",
         "가족",
         "그 외 가족 친지",
         "영국",
         "30~50대",
         "50대",
         "1",
         "1",
         "6.548806322865038",
         "2023",
         "697.4099999999997",
         "자녀X"
        ],
        [
         "52",
         "1",
         "5",
         "1",
         "1.0",
         null,
         null,
         null,
         null,
         null,
         null,
         null,
         "1",
         "1",
         "9549.51",
         null,
         "12.0",
         "12",
         "5.0",
         "2.0",
         "2",
         "혼자",
         "혼자",
         "중국",
         "20대",
         "20대",
         "1",
         "1",
         "9.164245123257906",
         "2023",
         "9548.510000000006",
         "자녀X"
        ],
        [
         "53",
         "2",
         "3",
         "2",
         null,
         null,
         null,
         null,
         null,
         "6.0",
         null,
         null,
         "1",
         "1",
         "342.0",
         null,
         "12.0",
         "2",
         "12.0",
         "1.0",
         "4",
         "친구",
         "친구",
         "일본",
         "30~50대",
         "40대",
         "1",
         "1",
         "5.834810737062605",
         "2023",
         "340.9999999999999",
         "자녀X"
        ],
        [
         "55",
         "10",
         "6",
         "2",
         null,
         null,
         null,
         null,
         "5.0",
         null,
         null,
         null,
         "1",
         "1",
         "968.63",
         "3.0",
         null,
         "7",
         "8.0",
         "2.0",
         "2",
         "가족",
         "그 외 가족 친지",
         "싱가포르",
         "20대",
         "20대",
         "1",
         "0",
         "6.875882702027173",
         "2023",
         "967.6300000000002",
         "자녀X"
        ],
        [
         "61",
         "3",
         "4",
         "2",
         null,
         null,
         null,
         null,
         null,
         "6.0",
         null,
         null,
         "1",
         "1",
         "1307.91",
         "3.0",
         null,
         "1",
         "3.0",
         "2.0",
         "4",
         "친구",
         "친구",
         "대만",
         "30~50대",
         "40대",
         "1",
         "1",
         "7.176185722310361",
         "2023",
         "1306.9100000000003",
         "자녀X"
        ],
        [
         "63",
         "10",
         "5",
         "2",
         null,
         null,
         null,
         null,
         "5.0",
         null,
         null,
         null,
         "1",
         "1",
         "782.36",
         "3.0",
         null,
         "1",
         "2.0",
         "3.0",
         "3",
         "가족",
         "그 외 가족 친지",
         "싱가포르",
         "30~50대",
         "30대",
         "1",
         "1",
         "6.662314992669317",
         "2023",
         "781.3599999999999",
         "자녀X"
        ],
        [
         "64",
         "4",
         "11",
         "2",
         null,
         "2.0",
         null,
         null,
         null,
         null,
         null,
         null,
         "1",
         "2",
         "1500.0",
         "3.0",
         null,
         "4",
         "3.0",
         "2.0",
         "5",
         "가족",
         "배우자/파트너",
         "미국",
         "30~50대",
         "50대",
         "1",
         "1",
         "7.313220387090301",
         "2023",
         "1499.0",
         "자녀X"
        ],
        [
         "65",
         "3",
         "5",
         "2",
         null,
         null,
         null,
         null,
         null,
         "6.0",
         null,
         null,
         "3",
         "1",
         "2608.0",
         "3.0",
         null,
         "3",
         "1.0",
         null,
         "4",
         "친구",
         "친구",
         "대만",
         "30~50대",
         "40대",
         "1",
         "1",
         "7.866338923046544",
         "2023",
         "2607.000000000001",
         "자녀X"
        ],
        [
         "68",
         "3",
         "6",
         "2",
         null,
         null,
         null,
         null,
         null,
         "6.0",
         null,
         null,
         "3",
         "1",
         "1890.8",
         "3.0",
         null,
         "8",
         "3.0",
         "15.0",
         "2",
         "친구",
         "친구",
         "대만",
         "20대",
         "20대",
         "1",
         "1",
         "7.544755298919081",
         "2023",
         "1889.7999999999993",
         "자녀X"
        ],
        [
         "69",
         "3",
         "7",
         "2",
         null,
         null,
         "3.0",
         null,
         "5.0",
         null,
         null,
         null,
         "1",
         "1",
         "1532.2",
         "3.0",
         null,
         "1",
         "4.0",
         "3.0",
         "3",
         "가족",
         "부모님",
         "대만",
         "30~50대",
         "30대",
         "1",
         "1",
         "7.33445989008272",
         "2023",
         "1531.1999999999996",
         "자녀X"
        ],
        [
         "74",
         "2",
         "8",
         "1",
         "1.0",
         null,
         null,
         null,
         null,
         null,
         null,
         null,
         "1",
         "2",
         "615.6",
         null,
         "12.0",
         "12",
         "1.0",
         "2.0",
         "5",
         "혼자",
         "혼자",
         "일본",
         "30~50대",
         "50대",
         "1",
         "1",
         "6.422597401964724",
         "2023",
         "614.6",
         "자녀X"
        ],
        [
         "79",
         "1",
         "22",
         "1",
         "1.0",
         null,
         null,
         null,
         null,
         null,
         null,
         null,
         "1",
         "2",
         "4941.06",
         "3.0",
         null,
         "1",
         "3.0",
         "6.0",
         "3",
         "혼자",
         "혼자",
         "중국",
         "30~50대",
         "30대",
         "1",
         "1",
         "8.505335162062853",
         "2023",
         "4940.0599999999995",
         "자녀X"
        ],
        [
         "85",
         "3",
         "5",
         "2",
         null,
         null,
         "3.0",
         null,
         null,
         null,
         null,
         null,
         "3",
         "1",
         "2608.0",
         "3.0",
         null,
         "1",
         "2.0",
         "3.0",
         "3",
         "가족",
         "부모님",
         "대만",
         "30~50대",
         "30대",
         "1",
         "1",
         "7.866338923046544",
         "2023",
         "2607.000000000001",
         "자녀X"
        ],
        [
         "86",
         "4",
         "5",
         "1",
         "1.0",
         null,
         null,
         null,
         null,
         null,
         null,
         null,
         "1",
         "1",
         "1430.0",
         "3.0",
         "12.0",
         "6",
         "3.0",
         "4.0",
         "3",
         "혼자",
         "혼자",
         "미국",
         "30~50대",
         "30대",
         "1",
         "1",
         "7.265429723253953",
         "2023",
         "1428.9999999999998",
         "자녀X"
        ],
        [
         "89",
         "6",
         "4",
         "1",
         "1.0",
         null,
         null,
         null,
         null,
         null,
         null,
         null,
         "3",
         "1",
         "1031.73",
         "3.0",
         null,
         "1",
         "3.0",
         "10.0",
         "2",
         "혼자",
         "혼자",
         "태국",
         "20대",
         "20대",
         "1",
         "1",
         "6.93899228390398",
         "2023",
         "1030.7300000000002",
         "자녀X"
        ],
        [
         "93",
         "10",
         "5",
         "2",
         null,
         null,
         "3.0",
         null,
         null,
         null,
         null,
         null,
         "1",
         "1",
         "745.1",
         "3.0",
         null,
         "2",
         "7.0",
         "3.0",
         "2",
         "가족",
         "부모님",
         "싱가포르",
         "20대",
         "20대",
         "1",
         "1",
         "6.613518437559682",
         "2023",
         "744.1",
         "자녀X"
        ],
        [
         "96",
         "1",
         "8",
         "1",
         "1.0",
         null,
         null,
         null,
         null,
         null,
         null,
         null,
         "1",
         "1",
         "2238.2",
         "3.0",
         null,
         "4",
         "3.0",
         null,
         "3",
         "혼자",
         "혼자",
         "중국",
         "30~50대",
         "30대",
         "1",
         "1",
         "7.713427250383926",
         "2023",
         "2237.199999999999",
         "자녀X"
        ],
        [
         "97",
         "4",
         "25",
         "2",
         null,
         "2.0",
         null,
         null,
         null,
         null,
         null,
         null,
         "1",
         "2",
         "2760.0",
         "3.0",
         null,
         "3",
         "5.0",
         "9.0",
         "5",
         "가족",
         "배우자/파트너",
         "미국",
         "30~50대",
         "50대",
         "1",
         "1",
         "7.9229859587111955",
         "2023",
         "2758.9999999999995",
         "자녀X"
        ],
        [
         "103",
         "4",
         "10",
         "1",
         "1.0",
         null,
         null,
         null,
         null,
         null,
         null,
         null,
         "1",
         "2",
         "1790.0",
         "3.0",
         null,
         "1",
         "4.0",
         "3.0",
         "6",
         "혼자",
         "혼자",
         "미국",
         "60대 이상",
         "60대 이상",
         "1",
         "1",
         "7.489970898834801",
         "2023",
         "1789.0000000000002",
         "자녀X"
        ],
        [
         "106",
         "6",
         "5",
         "1",
         "1.0",
         null,
         null,
         null,
         null,
         null,
         null,
         null,
         "1",
         "2",
         "1300.5",
         "3.0",
         null,
         "4",
         "2.0",
         "3.0",
         "5",
         "혼자",
         "혼자",
         "태국",
         "30~50대",
         "50대",
         "1",
         "1",
         "7.170504084888706",
         "2023",
         "1299.4999999999998",
         "자녀X"
        ],
        [
         "110",
         "12",
         "15",
         "2",
         null,
         null,
         null,
         null,
         null,
         "6.0",
         null,
         null,
         "1",
         "1",
         "4040.0",
         "3.0",
         null,
         "6",
         "5.0",
         "4.0",
         "5",
         "친구",
         "친구",
         "중동",
         "30~50대",
         "50대",
         "1",
         "0",
         "8.303999970955196",
         "2023",
         "4039.0000000000027",
         "자녀X"
        ],
        [
         "111",
         "2",
         "8",
         "1",
         "1.0",
         null,
         null,
         null,
         null,
         null,
         null,
         null,
         "1",
         "2",
         "1223.6",
         "3.0",
         "12.0",
         "2",
         "6.0",
         "1.0",
         "2",
         "혼자",
         "혼자",
         "일본",
         "20대",
         "20대",
         "1",
         "0",
         "7.109552612276748",
         "2023",
         "1222.6",
         "자녀X"
        ],
        [
         "114",
         "5",
         "7",
         "2",
         null,
         null,
         "3.0",
         null,
         "5.0",
         null,
         null,
         null,
         "1",
         "1",
         "1625.92",
         "3.0",
         null,
         "3",
         "2.0",
         "4.0",
         "6",
         "가족",
         "부모님",
         "홍콩",
         "60대 이상",
         "60대 이상",
         "1",
         "1",
         "7.393829088405367",
         "2023",
         "1624.9199999999996",
         "자녀X"
        ],
        [
         "121",
         "6",
         "5",
         "2",
         null,
         null,
         null,
         null,
         null,
         null,
         "7.0",
         null,
         "3",
         "1",
         "260.1",
         "3.0",
         null,
         "4",
         "3.0",
         "2.0",
         "5",
         "직장동료",
         "직장동료",
         "태국",
         "30~50대",
         "50대",
         "1",
         "1",
         "5.5610661724546055",
         "2023",
         "259.0999999999999",
         "자녀X"
        ],
        [
         "123",
         "5",
         "5",
         "2",
         null,
         "2.0",
         null,
         "4.0",
         null,
         null,
         null,
         null,
         "1",
         "1",
         "619.15",
         "3.0",
         null,
         "15",
         "3.0",
         "2.0",
         "2",
         "가족",
         "배우자/파트너",
         "홍콩",
         "20대",
         "20대",
         "1",
         "1",
         "6.428347569661107",
         "2023",
         "618.1499999999997",
         "자녀X"
        ],
        [
         "126",
         "10",
         "6",
         "2",
         null,
         "2.0",
         null,
         "4.0",
         null,
         null,
         null,
         null,
         "1",
         "1",
         "452.03",
         "3.0",
         null,
         "2",
         "11.0",
         "3.0",
         "4",
         "가족",
         "배우자/파트너",
         "싱가포르",
         "30~50대",
         "40대",
         "1",
         "1",
         "6.113748549311144",
         "2023",
         "451.0299999999999",
         "자녀X"
        ]
       ],
       "shape": {
        "columns": 31,
        "rows": 10579
       }
      },
      "text/html": [
       "<div>\n",
       "<style scoped>\n",
       "    .dataframe tbody tr th:only-of-type {\n",
       "        vertical-align: middle;\n",
       "    }\n",
       "\n",
       "    .dataframe tbody tr th {\n",
       "        vertical-align: top;\n",
       "    }\n",
       "\n",
       "    .dataframe thead th {\n",
       "        text-align: right;\n",
       "    }\n",
       "</style>\n",
       "<table border=\"1\" class=\"dataframe\">\n",
       "  <thead>\n",
       "    <tr style=\"text-align: right;\">\n",
       "      <th></th>\n",
       "      <th>D_NAT</th>\n",
       "      <th>M일HAP</th>\n",
       "      <th>Q7A</th>\n",
       "      <th>Q7a_dk</th>\n",
       "      <th>Q7a2</th>\n",
       "      <th>Q7a3</th>\n",
       "      <th>Q7a4</th>\n",
       "      <th>Q7a5</th>\n",
       "      <th>Q7a6</th>\n",
       "      <th>Q7a7</th>\n",
       "      <th>...</th>\n",
       "      <th>동행자_세분화</th>\n",
       "      <th>국가명</th>\n",
       "      <th>연령대_단순</th>\n",
       "      <th>연령대_세분화</th>\n",
       "      <th>웰니스참여</th>\n",
       "      <th>웰니스만족</th>\n",
       "      <th>log_총액</th>\n",
       "      <th>year</th>\n",
       "      <th>예상_총액</th>\n",
       "      <th>자녀동반</th>\n",
       "    </tr>\n",
       "  </thead>\n",
       "  <tbody>\n",
       "    <tr>\n",
       "      <th>1</th>\n",
       "      <td>1</td>\n",
       "      <td>7</td>\n",
       "      <td>1</td>\n",
       "      <td>1.0</td>\n",
       "      <td>NaN</td>\n",
       "      <td>NaN</td>\n",
       "      <td>NaN</td>\n",
       "      <td>NaN</td>\n",
       "      <td>NaN</td>\n",
       "      <td>NaN</td>\n",
       "      <td>...</td>\n",
       "      <td>혼자</td>\n",
       "      <td>중국</td>\n",
       "      <td>30~50대</td>\n",
       "      <td>30대</td>\n",
       "      <td>1</td>\n",
       "      <td>1</td>\n",
       "      <td>7.390971</td>\n",
       "      <td>2023</td>\n",
       "      <td>1620.280000</td>\n",
       "      <td>자녀X</td>\n",
       "    </tr>\n",
       "    <tr>\n",
       "      <th>4</th>\n",
       "      <td>3</td>\n",
       "      <td>8</td>\n",
       "      <td>2</td>\n",
       "      <td>NaN</td>\n",
       "      <td>NaN</td>\n",
       "      <td>NaN</td>\n",
       "      <td>NaN</td>\n",
       "      <td>NaN</td>\n",
       "      <td>6.0</td>\n",
       "      <td>NaN</td>\n",
       "      <td>...</td>\n",
       "      <td>친구</td>\n",
       "      <td>대만</td>\n",
       "      <td>20대</td>\n",
       "      <td>20대</td>\n",
       "      <td>1</td>\n",
       "      <td>1</td>\n",
       "      <td>7.197884</td>\n",
       "      <td>2023</td>\n",
       "      <td>1335.600000</td>\n",
       "      <td>자녀X</td>\n",
       "    </tr>\n",
       "    <tr>\n",
       "      <th>7</th>\n",
       "      <td>5</td>\n",
       "      <td>6</td>\n",
       "      <td>2</td>\n",
       "      <td>NaN</td>\n",
       "      <td>NaN</td>\n",
       "      <td>NaN</td>\n",
       "      <td>NaN</td>\n",
       "      <td>NaN</td>\n",
       "      <td>6.0</td>\n",
       "      <td>NaN</td>\n",
       "      <td>...</td>\n",
       "      <td>친구</td>\n",
       "      <td>홍콩</td>\n",
       "      <td>30~50대</td>\n",
       "      <td>30대</td>\n",
       "      <td>1</td>\n",
       "      <td>1</td>\n",
       "      <td>7.490440</td>\n",
       "      <td>2023</td>\n",
       "      <td>1789.840000</td>\n",
       "      <td>자녀X</td>\n",
       "    </tr>\n",
       "    <tr>\n",
       "      <th>8</th>\n",
       "      <td>3</td>\n",
       "      <td>6</td>\n",
       "      <td>2</td>\n",
       "      <td>NaN</td>\n",
       "      <td>2.0</td>\n",
       "      <td>NaN</td>\n",
       "      <td>NaN</td>\n",
       "      <td>NaN</td>\n",
       "      <td>NaN</td>\n",
       "      <td>NaN</td>\n",
       "      <td>...</td>\n",
       "      <td>배우자/파트너</td>\n",
       "      <td>대만</td>\n",
       "      <td>20대</td>\n",
       "      <td>20대</td>\n",
       "      <td>1</td>\n",
       "      <td>1</td>\n",
       "      <td>6.691116</td>\n",
       "      <td>2023</td>\n",
       "      <td>804.220000</td>\n",
       "      <td>자녀X</td>\n",
       "    </tr>\n",
       "    <tr>\n",
       "      <th>9</th>\n",
       "      <td>3</td>\n",
       "      <td>5</td>\n",
       "      <td>2</td>\n",
       "      <td>NaN</td>\n",
       "      <td>NaN</td>\n",
       "      <td>NaN</td>\n",
       "      <td>NaN</td>\n",
       "      <td>NaN</td>\n",
       "      <td>6.0</td>\n",
       "      <td>NaN</td>\n",
       "      <td>...</td>\n",
       "      <td>친구</td>\n",
       "      <td>대만</td>\n",
       "      <td>30~50대</td>\n",
       "      <td>30대</td>\n",
       "      <td>1</td>\n",
       "      <td>1</td>\n",
       "      <td>7.210006</td>\n",
       "      <td>2023</td>\n",
       "      <td>1351.900000</td>\n",
       "      <td>자녀X</td>\n",
       "    </tr>\n",
       "    <tr>\n",
       "      <th>...</th>\n",
       "      <td>...</td>\n",
       "      <td>...</td>\n",
       "      <td>...</td>\n",
       "      <td>...</td>\n",
       "      <td>...</td>\n",
       "      <td>...</td>\n",
       "      <td>...</td>\n",
       "      <td>...</td>\n",
       "      <td>...</td>\n",
       "      <td>...</td>\n",
       "      <td>...</td>\n",
       "      <td>...</td>\n",
       "      <td>...</td>\n",
       "      <td>...</td>\n",
       "      <td>...</td>\n",
       "      <td>...</td>\n",
       "      <td>...</td>\n",
       "      <td>...</td>\n",
       "      <td>...</td>\n",
       "      <td>...</td>\n",
       "      <td>...</td>\n",
       "    </tr>\n",
       "    <tr>\n",
       "      <th>17117</th>\n",
       "      <td>1</td>\n",
       "      <td>5</td>\n",
       "      <td>2</td>\n",
       "      <td>NaN</td>\n",
       "      <td>NaN</td>\n",
       "      <td>NaN</td>\n",
       "      <td>NaN</td>\n",
       "      <td>NaN</td>\n",
       "      <td>6.0</td>\n",
       "      <td>NaN</td>\n",
       "      <td>...</td>\n",
       "      <td>친구</td>\n",
       "      <td>중국</td>\n",
       "      <td>20대</td>\n",
       "      <td>20대</td>\n",
       "      <td>1</td>\n",
       "      <td>1</td>\n",
       "      <td>6.204900</td>\n",
       "      <td>2024</td>\n",
       "      <td>494.169633</td>\n",
       "      <td>자녀X</td>\n",
       "    </tr>\n",
       "    <tr>\n",
       "      <th>17118</th>\n",
       "      <td>1</td>\n",
       "      <td>5</td>\n",
       "      <td>2</td>\n",
       "      <td>NaN</td>\n",
       "      <td>NaN</td>\n",
       "      <td>NaN</td>\n",
       "      <td>NaN</td>\n",
       "      <td>NaN</td>\n",
       "      <td>6.0</td>\n",
       "      <td>NaN</td>\n",
       "      <td>...</td>\n",
       "      <td>친구</td>\n",
       "      <td>중국</td>\n",
       "      <td>30~50대</td>\n",
       "      <td>40대</td>\n",
       "      <td>1</td>\n",
       "      <td>1</td>\n",
       "      <td>6.053570</td>\n",
       "      <td>2024</td>\n",
       "      <td>424.630000</td>\n",
       "      <td>자녀X</td>\n",
       "    </tr>\n",
       "    <tr>\n",
       "      <th>17120</th>\n",
       "      <td>1</td>\n",
       "      <td>5</td>\n",
       "      <td>2</td>\n",
       "      <td>NaN</td>\n",
       "      <td>NaN</td>\n",
       "      <td>NaN</td>\n",
       "      <td>4.0</td>\n",
       "      <td>NaN</td>\n",
       "      <td>NaN</td>\n",
       "      <td>NaN</td>\n",
       "      <td>...</td>\n",
       "      <td>자녀</td>\n",
       "      <td>중국</td>\n",
       "      <td>30~50대</td>\n",
       "      <td>50대</td>\n",
       "      <td>1</td>\n",
       "      <td>1</td>\n",
       "      <td>7.845392</td>\n",
       "      <td>2024</td>\n",
       "      <td>2552.938220</td>\n",
       "      <td>자녀O</td>\n",
       "    </tr>\n",
       "    <tr>\n",
       "      <th>17121</th>\n",
       "      <td>1</td>\n",
       "      <td>5</td>\n",
       "      <td>2</td>\n",
       "      <td>NaN</td>\n",
       "      <td>2.0</td>\n",
       "      <td>NaN</td>\n",
       "      <td>NaN</td>\n",
       "      <td>NaN</td>\n",
       "      <td>NaN</td>\n",
       "      <td>NaN</td>\n",
       "      <td>...</td>\n",
       "      <td>배우자/파트너</td>\n",
       "      <td>중국</td>\n",
       "      <td>30~50대</td>\n",
       "      <td>50대</td>\n",
       "      <td>1</td>\n",
       "      <td>1</td>\n",
       "      <td>6.426246</td>\n",
       "      <td>2024</td>\n",
       "      <td>616.850000</td>\n",
       "      <td>자녀X</td>\n",
       "    </tr>\n",
       "    <tr>\n",
       "      <th>17122</th>\n",
       "      <td>4</td>\n",
       "      <td>26</td>\n",
       "      <td>2</td>\n",
       "      <td>NaN</td>\n",
       "      <td>2.0</td>\n",
       "      <td>NaN</td>\n",
       "      <td>NaN</td>\n",
       "      <td>NaN</td>\n",
       "      <td>NaN</td>\n",
       "      <td>NaN</td>\n",
       "      <td>...</td>\n",
       "      <td>배우자/파트너</td>\n",
       "      <td>미국</td>\n",
       "      <td>20대</td>\n",
       "      <td>20대</td>\n",
       "      <td>1</td>\n",
       "      <td>1</td>\n",
       "      <td>6.454500</td>\n",
       "      <td>2024</td>\n",
       "      <td>634.555556</td>\n",
       "      <td>자녀X</td>\n",
       "    </tr>\n",
       "  </tbody>\n",
       "</table>\n",
       "<p>10579 rows × 31 columns</p>\n",
       "</div>"
      ],
      "text/plain": [
       "       D_NAT  M일HAP  Q7A  Q7a_dk  Q7a2  Q7a3  Q7a4  Q7a5  Q7a6  Q7a7  ...  \\\n",
       "1          1      7    1     1.0   NaN   NaN   NaN   NaN   NaN   NaN  ...   \n",
       "4          3      8    2     NaN   NaN   NaN   NaN   NaN   6.0   NaN  ...   \n",
       "7          5      6    2     NaN   NaN   NaN   NaN   NaN   6.0   NaN  ...   \n",
       "8          3      6    2     NaN   2.0   NaN   NaN   NaN   NaN   NaN  ...   \n",
       "9          3      5    2     NaN   NaN   NaN   NaN   NaN   6.0   NaN  ...   \n",
       "...      ...    ...  ...     ...   ...   ...   ...   ...   ...   ...  ...   \n",
       "17117      1      5    2     NaN   NaN   NaN   NaN   NaN   6.0   NaN  ...   \n",
       "17118      1      5    2     NaN   NaN   NaN   NaN   NaN   6.0   NaN  ...   \n",
       "17120      1      5    2     NaN   NaN   NaN   4.0   NaN   NaN   NaN  ...   \n",
       "17121      1      5    2     NaN   2.0   NaN   NaN   NaN   NaN   NaN  ...   \n",
       "17122      4     26    2     NaN   2.0   NaN   NaN   NaN   NaN   NaN  ...   \n",
       "\n",
       "       동행자_세분화  국가명  연령대_단순  연령대_세분화  웰니스참여  웰니스만족    log_총액  year  \\\n",
       "1           혼자   중국  30~50대      30대      1      1  7.390971  2023   \n",
       "4           친구   대만     20대      20대      1      1  7.197884  2023   \n",
       "7           친구   홍콩  30~50대      30대      1      1  7.490440  2023   \n",
       "8      배우자/파트너   대만     20대      20대      1      1  6.691116  2023   \n",
       "9           친구   대만  30~50대      30대      1      1  7.210006  2023   \n",
       "...        ...  ...     ...      ...    ...    ...       ...   ...   \n",
       "17117       친구   중국     20대      20대      1      1  6.204900  2024   \n",
       "17118       친구   중국  30~50대      40대      1      1  6.053570  2024   \n",
       "17120       자녀   중국  30~50대      50대      1      1  7.845392  2024   \n",
       "17121  배우자/파트너   중국  30~50대      50대      1      1  6.426246  2024   \n",
       "17122  배우자/파트너   미국     20대      20대      1      1  6.454500  2024   \n",
       "\n",
       "             예상_총액  자녀동반  \n",
       "1      1620.280000   자녀X  \n",
       "4      1335.600000   자녀X  \n",
       "7      1789.840000   자녀X  \n",
       "8       804.220000   자녀X  \n",
       "9      1351.900000   자녀X  \n",
       "...            ...   ...  \n",
       "17117   494.169633   자녀X  \n",
       "17118   424.630000   자녀X  \n",
       "17120  2552.938220   자녀O  \n",
       "17121   616.850000   자녀X  \n",
       "17122   634.555556   자녀X  \n",
       "\n",
       "[10579 rows x 31 columns]"
      ]
     },
     "execution_count": 94,
     "metadata": {},
     "output_type": "execute_result"
    }
   ],
   "source": [
    "wellness_df"
   ]
  },
  {
   "cell_type": "code",
   "execution_count": 95,
   "id": "ad828bc0",
   "metadata": {},
   "outputs": [],
   "source": [
    "# Groupby로 국적-연령대별 소비 평균/중앙값\n",
    "grouped = wellness_df.groupby(['국가명', '연령대_단순'])['총액1인TOT항공제외2']\n",
    "mean_df = grouped.mean().reset_index(name='평균_총액')\n",
    "median_df = grouped.median().reset_index(name='중앙값_총액')"
   ]
  },
  {
   "cell_type": "code",
   "execution_count": 96,
   "metadata": {},
   "outputs": [
    {
     "data": {
      "application/vnd.microsoft.datawrangler.viewer.v0+json": {
       "columns": [
        {
         "name": "index",
         "rawType": "int64",
         "type": "integer"
        },
        {
         "name": "국가명",
         "rawType": "object",
         "type": "string"
        },
        {
         "name": "연령대_단순",
         "rawType": "object",
         "type": "string"
        },
        {
         "name": "평균_총액",
         "rawType": "float64",
         "type": "float"
        }
       ],
       "ref": "05c351dd-cadc-4856-8e7f-27606fa90336",
       "rows": [
        [
         "0",
         "대만",
         "20대",
         "1098.5799120379659"
        ],
        [
         "1",
         "대만",
         "30~50대",
         "1232.3332143005125"
        ],
        [
         "2",
         "대만",
         "60대 이상",
         "1313.51636915675"
        ],
        [
         "3",
         "독일",
         "20대",
         "1592.7913086929282"
        ],
        [
         "4",
         "독일",
         "30~50대",
         "1717.6531216095875"
        ],
        [
         "5",
         "독일",
         "60대 이상",
         "1638.4544311298973"
        ],
        [
         "6",
         "미국",
         "20대",
         "1559.2507558928173"
        ],
        [
         "7",
         "미국",
         "30~50대",
         "1607.2962109604264"
        ],
        [
         "8",
         "미국",
         "60대 이상",
         "1667.9676902936087"
        ],
        [
         "9",
         "베트남",
         "20대",
         "1106.953201216394"
        ],
        [
         "10",
         "베트남",
         "30~50대",
         "1162.2264509339211"
        ],
        [
         "11",
         "베트남",
         "60대 이상",
         "714.5352960162927"
        ],
        [
         "12",
         "싱가포르",
         "20대",
         "1553.1969828897898"
        ],
        [
         "13",
         "싱가포르",
         "30~50대",
         "1634.964204243035"
        ],
        [
         "14",
         "싱가포르",
         "60대 이상",
         "1778.1453223281155"
        ],
        [
         "15",
         "영국",
         "20대",
         "1759.019632038037"
        ],
        [
         "16",
         "영국",
         "30~50대",
         "1778.5108672360598"
        ],
        [
         "17",
         "영국",
         "60대 이상",
         "2248.585589371981"
        ],
        [
         "18",
         "일본",
         "20대",
         "652.5042024208785"
        ],
        [
         "19",
         "일본",
         "30~50대",
         "832.5631492961681"
        ],
        [
         "20",
         "일본",
         "60대 이상",
         "794.320545912193"
        ],
        [
         "21",
         "중국",
         "20대",
         "1298.8645708542567"
        ],
        [
         "22",
         "중국",
         "30~50대",
         "1626.2950858270137"
        ],
        [
         "23",
         "중국",
         "60대 이상",
         "1239.8424406924282"
        ],
        [
         "24",
         "중동",
         "20대",
         "2078.892856770605"
        ],
        [
         "25",
         "중동",
         "30~50대",
         "2297.273847271898"
        ],
        [
         "26",
         "중동",
         "60대 이상",
         "2196.1786488749344"
        ],
        [
         "27",
         "태국",
         "20대",
         "1049.892101322495"
        ],
        [
         "28",
         "태국",
         "30~50대",
         "1214.5980014788547"
        ],
        [
         "29",
         "태국",
         "60대 이상",
         "891.7225448028673"
        ],
        [
         "30",
         "홍콩",
         "20대",
         "1307.7011621299237"
        ],
        [
         "31",
         "홍콩",
         "30~50대",
         "1542.8359123610041"
        ],
        [
         "32",
         "홍콩",
         "60대 이상",
         "1304.9582389358527"
        ]
       ],
       "shape": {
        "columns": 3,
        "rows": 33
       }
      },
      "text/html": [
       "<div>\n",
       "<style scoped>\n",
       "    .dataframe tbody tr th:only-of-type {\n",
       "        vertical-align: middle;\n",
       "    }\n",
       "\n",
       "    .dataframe tbody tr th {\n",
       "        vertical-align: top;\n",
       "    }\n",
       "\n",
       "    .dataframe thead th {\n",
       "        text-align: right;\n",
       "    }\n",
       "</style>\n",
       "<table border=\"1\" class=\"dataframe\">\n",
       "  <thead>\n",
       "    <tr style=\"text-align: right;\">\n",
       "      <th></th>\n",
       "      <th>국가명</th>\n",
       "      <th>연령대_단순</th>\n",
       "      <th>평균_총액</th>\n",
       "    </tr>\n",
       "  </thead>\n",
       "  <tbody>\n",
       "    <tr>\n",
       "      <th>0</th>\n",
       "      <td>대만</td>\n",
       "      <td>20대</td>\n",
       "      <td>1098.579912</td>\n",
       "    </tr>\n",
       "    <tr>\n",
       "      <th>1</th>\n",
       "      <td>대만</td>\n",
       "      <td>30~50대</td>\n",
       "      <td>1232.333214</td>\n",
       "    </tr>\n",
       "    <tr>\n",
       "      <th>2</th>\n",
       "      <td>대만</td>\n",
       "      <td>60대 이상</td>\n",
       "      <td>1313.516369</td>\n",
       "    </tr>\n",
       "    <tr>\n",
       "      <th>3</th>\n",
       "      <td>독일</td>\n",
       "      <td>20대</td>\n",
       "      <td>1592.791309</td>\n",
       "    </tr>\n",
       "    <tr>\n",
       "      <th>4</th>\n",
       "      <td>독일</td>\n",
       "      <td>30~50대</td>\n",
       "      <td>1717.653122</td>\n",
       "    </tr>\n",
       "    <tr>\n",
       "      <th>5</th>\n",
       "      <td>독일</td>\n",
       "      <td>60대 이상</td>\n",
       "      <td>1638.454431</td>\n",
       "    </tr>\n",
       "    <tr>\n",
       "      <th>6</th>\n",
       "      <td>미국</td>\n",
       "      <td>20대</td>\n",
       "      <td>1559.250756</td>\n",
       "    </tr>\n",
       "    <tr>\n",
       "      <th>7</th>\n",
       "      <td>미국</td>\n",
       "      <td>30~50대</td>\n",
       "      <td>1607.296211</td>\n",
       "    </tr>\n",
       "    <tr>\n",
       "      <th>8</th>\n",
       "      <td>미국</td>\n",
       "      <td>60대 이상</td>\n",
       "      <td>1667.967690</td>\n",
       "    </tr>\n",
       "    <tr>\n",
       "      <th>9</th>\n",
       "      <td>베트남</td>\n",
       "      <td>20대</td>\n",
       "      <td>1106.953201</td>\n",
       "    </tr>\n",
       "    <tr>\n",
       "      <th>10</th>\n",
       "      <td>베트남</td>\n",
       "      <td>30~50대</td>\n",
       "      <td>1162.226451</td>\n",
       "    </tr>\n",
       "    <tr>\n",
       "      <th>11</th>\n",
       "      <td>베트남</td>\n",
       "      <td>60대 이상</td>\n",
       "      <td>714.535296</td>\n",
       "    </tr>\n",
       "    <tr>\n",
       "      <th>12</th>\n",
       "      <td>싱가포르</td>\n",
       "      <td>20대</td>\n",
       "      <td>1553.196983</td>\n",
       "    </tr>\n",
       "    <tr>\n",
       "      <th>13</th>\n",
       "      <td>싱가포르</td>\n",
       "      <td>30~50대</td>\n",
       "      <td>1634.964204</td>\n",
       "    </tr>\n",
       "    <tr>\n",
       "      <th>14</th>\n",
       "      <td>싱가포르</td>\n",
       "      <td>60대 이상</td>\n",
       "      <td>1778.145322</td>\n",
       "    </tr>\n",
       "    <tr>\n",
       "      <th>15</th>\n",
       "      <td>영국</td>\n",
       "      <td>20대</td>\n",
       "      <td>1759.019632</td>\n",
       "    </tr>\n",
       "    <tr>\n",
       "      <th>16</th>\n",
       "      <td>영국</td>\n",
       "      <td>30~50대</td>\n",
       "      <td>1778.510867</td>\n",
       "    </tr>\n",
       "    <tr>\n",
       "      <th>17</th>\n",
       "      <td>영국</td>\n",
       "      <td>60대 이상</td>\n",
       "      <td>2248.585589</td>\n",
       "    </tr>\n",
       "    <tr>\n",
       "      <th>18</th>\n",
       "      <td>일본</td>\n",
       "      <td>20대</td>\n",
       "      <td>652.504202</td>\n",
       "    </tr>\n",
       "    <tr>\n",
       "      <th>19</th>\n",
       "      <td>일본</td>\n",
       "      <td>30~50대</td>\n",
       "      <td>832.563149</td>\n",
       "    </tr>\n",
       "    <tr>\n",
       "      <th>20</th>\n",
       "      <td>일본</td>\n",
       "      <td>60대 이상</td>\n",
       "      <td>794.320546</td>\n",
       "    </tr>\n",
       "    <tr>\n",
       "      <th>21</th>\n",
       "      <td>중국</td>\n",
       "      <td>20대</td>\n",
       "      <td>1298.864571</td>\n",
       "    </tr>\n",
       "    <tr>\n",
       "      <th>22</th>\n",
       "      <td>중국</td>\n",
       "      <td>30~50대</td>\n",
       "      <td>1626.295086</td>\n",
       "    </tr>\n",
       "    <tr>\n",
       "      <th>23</th>\n",
       "      <td>중국</td>\n",
       "      <td>60대 이상</td>\n",
       "      <td>1239.842441</td>\n",
       "    </tr>\n",
       "    <tr>\n",
       "      <th>24</th>\n",
       "      <td>중동</td>\n",
       "      <td>20대</td>\n",
       "      <td>2078.892857</td>\n",
       "    </tr>\n",
       "    <tr>\n",
       "      <th>25</th>\n",
       "      <td>중동</td>\n",
       "      <td>30~50대</td>\n",
       "      <td>2297.273847</td>\n",
       "    </tr>\n",
       "    <tr>\n",
       "      <th>26</th>\n",
       "      <td>중동</td>\n",
       "      <td>60대 이상</td>\n",
       "      <td>2196.178649</td>\n",
       "    </tr>\n",
       "    <tr>\n",
       "      <th>27</th>\n",
       "      <td>태국</td>\n",
       "      <td>20대</td>\n",
       "      <td>1049.892101</td>\n",
       "    </tr>\n",
       "    <tr>\n",
       "      <th>28</th>\n",
       "      <td>태국</td>\n",
       "      <td>30~50대</td>\n",
       "      <td>1214.598001</td>\n",
       "    </tr>\n",
       "    <tr>\n",
       "      <th>29</th>\n",
       "      <td>태국</td>\n",
       "      <td>60대 이상</td>\n",
       "      <td>891.722545</td>\n",
       "    </tr>\n",
       "    <tr>\n",
       "      <th>30</th>\n",
       "      <td>홍콩</td>\n",
       "      <td>20대</td>\n",
       "      <td>1307.701162</td>\n",
       "    </tr>\n",
       "    <tr>\n",
       "      <th>31</th>\n",
       "      <td>홍콩</td>\n",
       "      <td>30~50대</td>\n",
       "      <td>1542.835912</td>\n",
       "    </tr>\n",
       "    <tr>\n",
       "      <th>32</th>\n",
       "      <td>홍콩</td>\n",
       "      <td>60대 이상</td>\n",
       "      <td>1304.958239</td>\n",
       "    </tr>\n",
       "  </tbody>\n",
       "</table>\n",
       "</div>"
      ],
      "text/plain": [
       "     국가명  연령대_단순        평균_총액\n",
       "0     대만     20대  1098.579912\n",
       "1     대만  30~50대  1232.333214\n",
       "2     대만  60대 이상  1313.516369\n",
       "3     독일     20대  1592.791309\n",
       "4     독일  30~50대  1717.653122\n",
       "5     독일  60대 이상  1638.454431\n",
       "6     미국     20대  1559.250756\n",
       "7     미국  30~50대  1607.296211\n",
       "8     미국  60대 이상  1667.967690\n",
       "9    베트남     20대  1106.953201\n",
       "10   베트남  30~50대  1162.226451\n",
       "11   베트남  60대 이상   714.535296\n",
       "12  싱가포르     20대  1553.196983\n",
       "13  싱가포르  30~50대  1634.964204\n",
       "14  싱가포르  60대 이상  1778.145322\n",
       "15    영국     20대  1759.019632\n",
       "16    영국  30~50대  1778.510867\n",
       "17    영국  60대 이상  2248.585589\n",
       "18    일본     20대   652.504202\n",
       "19    일본  30~50대   832.563149\n",
       "20    일본  60대 이상   794.320546\n",
       "21    중국     20대  1298.864571\n",
       "22    중국  30~50대  1626.295086\n",
       "23    중국  60대 이상  1239.842441\n",
       "24    중동     20대  2078.892857\n",
       "25    중동  30~50대  2297.273847\n",
       "26    중동  60대 이상  2196.178649\n",
       "27    태국     20대  1049.892101\n",
       "28    태국  30~50대  1214.598001\n",
       "29    태국  60대 이상   891.722545\n",
       "30    홍콩     20대  1307.701162\n",
       "31    홍콩  30~50대  1542.835912\n",
       "32    홍콩  60대 이상  1304.958239"
      ]
     },
     "execution_count": 96,
     "metadata": {},
     "output_type": "execute_result"
    }
   ],
   "source": [
    "mean_df"
   ]
  },
  {
   "cell_type": "code",
   "execution_count": 97,
   "id": "ad5d828d",
   "metadata": {},
   "outputs": [
    {
     "data": {
      "application/vnd.microsoft.datawrangler.viewer.v0+json": {
       "columns": [
        {
         "name": "index",
         "rawType": "int64",
         "type": "integer"
        },
        {
         "name": "국가명",
         "rawType": "object",
         "type": "string"
        },
        {
         "name": "연령대_단순",
         "rawType": "object",
         "type": "string"
        },
        {
         "name": "중앙값_총액",
         "rawType": "float64",
         "type": "float"
        }
       ],
       "ref": "7ece99d5-c27f-4a77-9f4a-1b51fc79d633",
       "rows": [
        [
         "0",
         "대만",
         "20대",
         "872.1"
        ],
        [
         "1",
         "대만",
         "30~50대",
         "985.6"
        ],
        [
         "2",
         "대만",
         "60대 이상",
         "943.9000000000001"
        ],
        [
         "3",
         "독일",
         "20대",
         "1353.67425"
        ],
        [
         "4",
         "독일",
         "30~50대",
         "1451.5046811460256"
        ],
        [
         "5",
         "독일",
         "60대 이상",
         "1148.2371428571428"
        ],
        [
         "6",
         "미국",
         "20대",
         "1280.0"
        ],
        [
         "7",
         "미국",
         "30~50대",
         "1144.871794871795"
        ],
        [
         "8",
         "미국",
         "60대 이상",
         "1143.8566552901025"
        ],
        [
         "9",
         "베트남",
         "20대",
         "923.03"
        ],
        [
         "10",
         "베트남",
         "30~50대",
         "1046.33"
        ],
        [
         "11",
         "베트남",
         "60대 이상",
         "788.4584197794562"
        ],
        [
         "12",
         "싱가포르",
         "20대",
         "1283.85"
        ],
        [
         "13",
         "싱가포르",
         "30~50대",
         "1344.8344333333332"
        ],
        [
         "14",
         "싱가포르",
         "60대 이상",
         "1608.11730964467"
        ],
        [
         "15",
         "영국",
         "20대",
         "1413.5520000000004"
        ],
        [
         "16",
         "영국",
         "30~50대",
         "1453.645"
        ],
        [
         "17",
         "영국",
         "60대 이상",
         "1737.25"
        ],
        [
         "18",
         "일본",
         "20대",
         "569.75"
        ],
        [
         "19",
         "일본",
         "30~50대",
         "749.277456647399"
        ],
        [
         "20",
         "일본",
         "60대 이상",
         "722.4152739361358"
        ],
        [
         "21",
         "중국",
         "20대",
         "890.345"
        ],
        [
         "22",
         "중국",
         "30~50대",
         "1101.6"
        ],
        [
         "23",
         "중국",
         "60대 이상",
         "833.7"
        ],
        [
         "24",
         "중동",
         "20대",
         "1622.5563909774437"
        ],
        [
         "25",
         "중동",
         "30~50대",
         "1800.0"
        ],
        [
         "26",
         "중동",
         "60대 이상",
         "1430.5739999999998"
        ],
        [
         "27",
         "태국",
         "20대",
         "867.0"
        ],
        [
         "28",
         "태국",
         "30~50대",
         "912.0"
        ],
        [
         "29",
         "태국",
         "60대 이상",
         "719.58"
        ],
        [
         "30",
         "홍콩",
         "20대",
         "1025.4807197943444"
        ],
        [
         "31",
         "홍콩",
         "30~50대",
         "1187.61"
        ],
        [
         "32",
         "홍콩",
         "60대 이상",
         "1089.3176470588237"
        ]
       ],
       "shape": {
        "columns": 3,
        "rows": 33
       }
      },
      "text/html": [
       "<div>\n",
       "<style scoped>\n",
       "    .dataframe tbody tr th:only-of-type {\n",
       "        vertical-align: middle;\n",
       "    }\n",
       "\n",
       "    .dataframe tbody tr th {\n",
       "        vertical-align: top;\n",
       "    }\n",
       "\n",
       "    .dataframe thead th {\n",
       "        text-align: right;\n",
       "    }\n",
       "</style>\n",
       "<table border=\"1\" class=\"dataframe\">\n",
       "  <thead>\n",
       "    <tr style=\"text-align: right;\">\n",
       "      <th></th>\n",
       "      <th>국가명</th>\n",
       "      <th>연령대_단순</th>\n",
       "      <th>중앙값_총액</th>\n",
       "    </tr>\n",
       "  </thead>\n",
       "  <tbody>\n",
       "    <tr>\n",
       "      <th>0</th>\n",
       "      <td>대만</td>\n",
       "      <td>20대</td>\n",
       "      <td>872.100000</td>\n",
       "    </tr>\n",
       "    <tr>\n",
       "      <th>1</th>\n",
       "      <td>대만</td>\n",
       "      <td>30~50대</td>\n",
       "      <td>985.600000</td>\n",
       "    </tr>\n",
       "    <tr>\n",
       "      <th>2</th>\n",
       "      <td>대만</td>\n",
       "      <td>60대 이상</td>\n",
       "      <td>943.900000</td>\n",
       "    </tr>\n",
       "    <tr>\n",
       "      <th>3</th>\n",
       "      <td>독일</td>\n",
       "      <td>20대</td>\n",
       "      <td>1353.674250</td>\n",
       "    </tr>\n",
       "    <tr>\n",
       "      <th>4</th>\n",
       "      <td>독일</td>\n",
       "      <td>30~50대</td>\n",
       "      <td>1451.504681</td>\n",
       "    </tr>\n",
       "    <tr>\n",
       "      <th>5</th>\n",
       "      <td>독일</td>\n",
       "      <td>60대 이상</td>\n",
       "      <td>1148.237143</td>\n",
       "    </tr>\n",
       "    <tr>\n",
       "      <th>6</th>\n",
       "      <td>미국</td>\n",
       "      <td>20대</td>\n",
       "      <td>1280.000000</td>\n",
       "    </tr>\n",
       "    <tr>\n",
       "      <th>7</th>\n",
       "      <td>미국</td>\n",
       "      <td>30~50대</td>\n",
       "      <td>1144.871795</td>\n",
       "    </tr>\n",
       "    <tr>\n",
       "      <th>8</th>\n",
       "      <td>미국</td>\n",
       "      <td>60대 이상</td>\n",
       "      <td>1143.856655</td>\n",
       "    </tr>\n",
       "    <tr>\n",
       "      <th>9</th>\n",
       "      <td>베트남</td>\n",
       "      <td>20대</td>\n",
       "      <td>923.030000</td>\n",
       "    </tr>\n",
       "    <tr>\n",
       "      <th>10</th>\n",
       "      <td>베트남</td>\n",
       "      <td>30~50대</td>\n",
       "      <td>1046.330000</td>\n",
       "    </tr>\n",
       "    <tr>\n",
       "      <th>11</th>\n",
       "      <td>베트남</td>\n",
       "      <td>60대 이상</td>\n",
       "      <td>788.458420</td>\n",
       "    </tr>\n",
       "    <tr>\n",
       "      <th>12</th>\n",
       "      <td>싱가포르</td>\n",
       "      <td>20대</td>\n",
       "      <td>1283.850000</td>\n",
       "    </tr>\n",
       "    <tr>\n",
       "      <th>13</th>\n",
       "      <td>싱가포르</td>\n",
       "      <td>30~50대</td>\n",
       "      <td>1344.834433</td>\n",
       "    </tr>\n",
       "    <tr>\n",
       "      <th>14</th>\n",
       "      <td>싱가포르</td>\n",
       "      <td>60대 이상</td>\n",
       "      <td>1608.117310</td>\n",
       "    </tr>\n",
       "    <tr>\n",
       "      <th>15</th>\n",
       "      <td>영국</td>\n",
       "      <td>20대</td>\n",
       "      <td>1413.552000</td>\n",
       "    </tr>\n",
       "    <tr>\n",
       "      <th>16</th>\n",
       "      <td>영국</td>\n",
       "      <td>30~50대</td>\n",
       "      <td>1453.645000</td>\n",
       "    </tr>\n",
       "    <tr>\n",
       "      <th>17</th>\n",
       "      <td>영국</td>\n",
       "      <td>60대 이상</td>\n",
       "      <td>1737.250000</td>\n",
       "    </tr>\n",
       "    <tr>\n",
       "      <th>18</th>\n",
       "      <td>일본</td>\n",
       "      <td>20대</td>\n",
       "      <td>569.750000</td>\n",
       "    </tr>\n",
       "    <tr>\n",
       "      <th>19</th>\n",
       "      <td>일본</td>\n",
       "      <td>30~50대</td>\n",
       "      <td>749.277457</td>\n",
       "    </tr>\n",
       "    <tr>\n",
       "      <th>20</th>\n",
       "      <td>일본</td>\n",
       "      <td>60대 이상</td>\n",
       "      <td>722.415274</td>\n",
       "    </tr>\n",
       "    <tr>\n",
       "      <th>21</th>\n",
       "      <td>중국</td>\n",
       "      <td>20대</td>\n",
       "      <td>890.345000</td>\n",
       "    </tr>\n",
       "    <tr>\n",
       "      <th>22</th>\n",
       "      <td>중국</td>\n",
       "      <td>30~50대</td>\n",
       "      <td>1101.600000</td>\n",
       "    </tr>\n",
       "    <tr>\n",
       "      <th>23</th>\n",
       "      <td>중국</td>\n",
       "      <td>60대 이상</td>\n",
       "      <td>833.700000</td>\n",
       "    </tr>\n",
       "    <tr>\n",
       "      <th>24</th>\n",
       "      <td>중동</td>\n",
       "      <td>20대</td>\n",
       "      <td>1622.556391</td>\n",
       "    </tr>\n",
       "    <tr>\n",
       "      <th>25</th>\n",
       "      <td>중동</td>\n",
       "      <td>30~50대</td>\n",
       "      <td>1800.000000</td>\n",
       "    </tr>\n",
       "    <tr>\n",
       "      <th>26</th>\n",
       "      <td>중동</td>\n",
       "      <td>60대 이상</td>\n",
       "      <td>1430.574000</td>\n",
       "    </tr>\n",
       "    <tr>\n",
       "      <th>27</th>\n",
       "      <td>태국</td>\n",
       "      <td>20대</td>\n",
       "      <td>867.000000</td>\n",
       "    </tr>\n",
       "    <tr>\n",
       "      <th>28</th>\n",
       "      <td>태국</td>\n",
       "      <td>30~50대</td>\n",
       "      <td>912.000000</td>\n",
       "    </tr>\n",
       "    <tr>\n",
       "      <th>29</th>\n",
       "      <td>태국</td>\n",
       "      <td>60대 이상</td>\n",
       "      <td>719.580000</td>\n",
       "    </tr>\n",
       "    <tr>\n",
       "      <th>30</th>\n",
       "      <td>홍콩</td>\n",
       "      <td>20대</td>\n",
       "      <td>1025.480720</td>\n",
       "    </tr>\n",
       "    <tr>\n",
       "      <th>31</th>\n",
       "      <td>홍콩</td>\n",
       "      <td>30~50대</td>\n",
       "      <td>1187.610000</td>\n",
       "    </tr>\n",
       "    <tr>\n",
       "      <th>32</th>\n",
       "      <td>홍콩</td>\n",
       "      <td>60대 이상</td>\n",
       "      <td>1089.317647</td>\n",
       "    </tr>\n",
       "  </tbody>\n",
       "</table>\n",
       "</div>"
      ],
      "text/plain": [
       "     국가명  연령대_단순       중앙값_총액\n",
       "0     대만     20대   872.100000\n",
       "1     대만  30~50대   985.600000\n",
       "2     대만  60대 이상   943.900000\n",
       "3     독일     20대  1353.674250\n",
       "4     독일  30~50대  1451.504681\n",
       "5     독일  60대 이상  1148.237143\n",
       "6     미국     20대  1280.000000\n",
       "7     미국  30~50대  1144.871795\n",
       "8     미국  60대 이상  1143.856655\n",
       "9    베트남     20대   923.030000\n",
       "10   베트남  30~50대  1046.330000\n",
       "11   베트남  60대 이상   788.458420\n",
       "12  싱가포르     20대  1283.850000\n",
       "13  싱가포르  30~50대  1344.834433\n",
       "14  싱가포르  60대 이상  1608.117310\n",
       "15    영국     20대  1413.552000\n",
       "16    영국  30~50대  1453.645000\n",
       "17    영국  60대 이상  1737.250000\n",
       "18    일본     20대   569.750000\n",
       "19    일본  30~50대   749.277457\n",
       "20    일본  60대 이상   722.415274\n",
       "21    중국     20대   890.345000\n",
       "22    중국  30~50대  1101.600000\n",
       "23    중국  60대 이상   833.700000\n",
       "24    중동     20대  1622.556391\n",
       "25    중동  30~50대  1800.000000\n",
       "26    중동  60대 이상  1430.574000\n",
       "27    태국     20대   867.000000\n",
       "28    태국  30~50대   912.000000\n",
       "29    태국  60대 이상   719.580000\n",
       "30    홍콩     20대  1025.480720\n",
       "31    홍콩  30~50대  1187.610000\n",
       "32    홍콩  60대 이상  1089.317647"
      ]
     },
     "execution_count": 97,
     "metadata": {},
     "output_type": "execute_result"
    }
   ],
   "source": [
    "median_df"
   ]
  },
  {
   "cell_type": "code",
   "execution_count": 98,
   "metadata": {},
   "outputs": [
    {
     "data": {
      "image/png": "[encoded data removed]",
      "text/plain": [
       "<Figure size 1200x600 with 1 Axes>"
      ]
     },
     "metadata": {},
     "output_type": "display_data"
    }
   ],
   "source": [
    "# 시각화\n",
    "plt.figure(figsize=(12, 6))\n",
    "sns.boxplot(data=wellness_df, x='연령대_단순', y='총액1인TOT항공제외2', hue='국가명')\n",
    "plt.title('국적별 연령대 소비 총액 분포')\n",
    "plt.show()"
   ]
  },
  {
   "cell_type": "code",
   "execution_count": 99,
   "id": "8df9789f",
   "metadata": {},
   "outputs": [
    {
     "name": "stdout",
     "output_type": "stream",
     "text": [
      "     국가명  연령대_단순  총액1인TOT항공제외2\n",
      "25    중동  30~50대   2297.273847\n",
      "17    영국  60대 이상   2248.585589\n",
      "26    중동  60대 이상   2196.178649\n",
      "24    중동     20대   2078.892857\n",
      "16    영국  30~50대   1778.510867\n",
      "14  싱가포르  60대 이상   1778.145322\n",
      "15    영국     20대   1759.019632\n",
      "4     독일  30~50대   1717.653122\n",
      "8     미국  60대 이상   1667.967690\n",
      "5     독일  60대 이상   1638.454431\n",
      "13  싱가포르  30~50대   1634.964204\n",
      "22    중국  30~50대   1626.295086\n",
      "7     미국  30~50대   1607.296211\n",
      "3     독일     20대   1592.791309\n",
      "6     미국     20대   1559.250756\n",
      "12  싱가포르     20대   1553.196983\n",
      "31    홍콩  30~50대   1542.835912\n",
      "2     대만  60대 이상   1313.516369\n",
      "30    홍콩     20대   1307.701162\n",
      "32    홍콩  60대 이상   1304.958239\n",
      "21    중국     20대   1298.864571\n",
      "23    중국  60대 이상   1239.842441\n",
      "1     대만  30~50대   1232.333214\n",
      "28    태국  30~50대   1214.598001\n",
      "10   베트남  30~50대   1162.226451\n",
      "9    베트남     20대   1106.953201\n",
      "0     대만     20대   1098.579912\n",
      "27    태국     20대   1049.892101\n",
      "29    태국  60대 이상    891.722545\n",
      "19    일본  30~50대    832.563149\n",
      "20    일본  60대 이상    794.320546\n",
      "11   베트남  60대 이상    714.535296\n",
      "18    일본     20대    652.504202\n"
     ]
    }
   ],
   "source": [
    "# 국적 × 연령대별 평균 소비액\n",
    "mean_df = wellness_df.groupby(['국가명', '연령대_단순'])['총액1인TOT항공제외2'].mean().reset_index()\n",
    "\n",
    "# 평균 소비액 높은 순 정렬\n",
    "mean_sorted = mean_df.sort_values(by='총액1인TOT항공제외2', ascending=False)\n",
    "\n",
    "# 상위 10개 확인\n",
    "print(mean_sorted)"
   ]
  },
  {
   "cell_type": "code",
   "execution_count": 100,
   "metadata": {},
   "outputs": [
    {
     "name": "stdout",
     "output_type": "stream",
     "text": [
      "['중동', '영국', '독일', '싱가포르', '미국', '중국', '홍콩', '대만', '태국', '베트남', '일본']\n"
     ]
    },
    {
     "data": {
      "image/png": "[encoded data removed]",
      "text/plain": [
       "<Figure size 1200x600 with 2 Axes>"
      ]
     },
     "metadata": {},
     "output_type": "display_data"
    }
   ],
   "source": [
    "# 국적별 평균 소비액\n",
    "pivot = wellness_df.groupby('국가명')['총액1인TOT항공제외2'].mean().sort_values(ascending=False)\n",
    "\n",
    "# 상위 5개 국적 확인\n",
    "top_countries = pivot.index.tolist()\n",
    "print(top_countries)\n",
    "\n",
    "# 히트맵: 국적 × 연령대별 평균 소비액\n",
    "pivot_table = wellness_df.pivot_table(index='국가명', columns='연령대_단순', values='총액1인TOT항공제외2', aggfunc='mean')\n",
    "\n",
    "import seaborn as sns\n",
    "import matplotlib.pyplot as plt\n",
    "plt.figure(figsize=(12, 6))\n",
    "sns.heatmap(pivot_table, annot=True, fmt=\".1f\", cmap='YlGnBu')\n",
    "plt.title('국적 × 연령대별 평균 소비액(USD)')\n",
    "plt.show()"
   ]
  },
  {
   "cell_type": "code",
   "execution_count": 101,
   "id": "b663f573",
   "metadata": {},
   "outputs": [
    {
     "data": {
      "image/png": "[encoded data removed]",
      "text/plain": [
       "<Figure size 1200x600 with 2 Axes>"
      ]
     },
     "metadata": {},
     "output_type": "display_data"
    }
   ],
   "source": [
    "# 국적별 평균 소비액 (내림차순)\n",
    "pivot = wellness_df.groupby('국가명')['총액1인TOT항공제외2'].mean().sort_values(ascending=False)\n",
    "\n",
    "# 정렬된 국가명 리스트\n",
    "top_countries = pivot.index.tolist()\n",
    "\n",
    "# pivot_table 생성 후 국가명 순서 지정 (상위권 → 하위권)\n",
    "pivot_table = wellness_df.pivot_table(\n",
    "    index='국가명',\n",
    "    columns='연령대_단순',\n",
    "    values='총액1인TOT항공제외2',\n",
    "    aggfunc='mean'\n",
    ").loc[top_countries]\n",
    "\n",
    "# 히트맵 시각화\n",
    "import seaborn as sns\n",
    "import matplotlib.pyplot as plt\n",
    "\n",
    "plt.figure(figsize=(12, 6))\n",
    "sns.heatmap(pivot_table, annot=True, fmt=\".1f\", cmap='YlGnBu')\n",
    "plt.title('국적 × 연령대별 평균 소비액(USD)')\n",
    "plt.show()\n"
   ]
  },
  {
   "cell_type": "code",
   "execution_count": 102,
   "id": "b492acef",
   "metadata": {},
   "outputs": [
    {
     "name": "stdout",
     "output_type": "stream",
     "text": [
      "[국적별 웰니스 참여자 평균 소비액 (USD)]\n",
      "     국가명  총액1인TOT항공제외2\n",
      "0     중동        2200.0\n",
      "1     영국        1795.1\n",
      "2     독일        1647.2\n",
      "3   싱가포르        1611.3\n",
      "4     미국        1598.1\n",
      "5     중국        1499.1\n",
      "6     홍콩        1449.0\n",
      "7     대만        1197.1\n",
      "8     태국        1158.2\n",
      "9    베트남        1138.8\n",
      "10    일본         754.7\n"
     ]
    }
   ],
   "source": [
    "# 국적별 웰니스 관광 평균 소비액\n",
    "country_mean = wellness_df.groupby('국가명')['총액1인TOT항공제외2'].mean().sort_values(ascending=False).reset_index()\n",
    "\n",
    "print(\"[국적별 웰니스 참여자 평균 소비액 (USD)]\")\n",
    "print(country_mean.round(1))"
   ]
  },
  {
   "cell_type": "markdown",
   "id": "e815d22e",
   "metadata": {},
   "source": []
  },
  {
   "cell_type": "code",
   "execution_count": 103,
   "id": "c93896c7",
   "metadata": {},
   "outputs": [
    {
     "name": "stdout",
     "output_type": "stream",
     "text": [
      "[웰니스 참여자 자녀 동반 여부별 평균 소비액 (USD)]\n",
      "  자녀동반  총액1인TOT항공제외2\n",
      "0  자녀O        1325.5\n",
      "1  자녀X        1372.3\n"
     ]
    }
   ],
   "source": [
    "# 자녀 동반 여부별 평균 소비액 계산 (wellness_df는 이미 웰니스 참여자만 포함)\n",
    "child_mean = wellness_df.groupby('자녀동반')['총액1인TOT항공제외2'].mean().reset_index()\n",
    "\n",
    "# # 보기 좋게 0 → '자녀X', 1 → '자녀O'로 변환\n",
    "# child_mean['자녀동반'] = child_mean['자녀동반'].map({0: '자녀X', 1: '자녀O'})\n",
    "\n",
    "print(\"[웰니스 참여자 자녀 동반 여부별 평균 소비액 (USD)]\")\n",
    "print(child_mean.round(1))"
   ]
  },
  {
   "cell_type": "markdown",
   "id": "359dadcd",
   "metadata": {},
   "source": [
    "#### 일본"
   ]
  },
  {
   "cell_type": "code",
   "execution_count": 104,
   "id": "bb01b8c1",
   "metadata": {},
   "outputs": [],
   "source": [
    "japan_df = wellness_df[wellness_df['국가명'] == '일본']"
   ]
  },
  {
   "cell_type": "code",
   "execution_count": 105,
   "metadata": {},
   "outputs": [
    {
     "data": {
      "application/vnd.microsoft.datawrangler.viewer.v0+json": {
       "columns": [
        {
         "name": "연령대_단순",
         "rawType": "object",
         "type": "string"
        },
        {
         "name": "count",
         "rawType": "int64",
         "type": "integer"
        }
       ],
       "ref": "a4d0a9a4-6ad2-443d-8221-2df245fc5ade",
       "rows": [
        [
         "30~50대",
         "712"
        ],
        [
         "20대",
         "608"
        ],
        [
         "60대 이상",
         "168"
        ]
       ],
       "shape": {
        "columns": 1,
        "rows": 3
       }
      },
      "text/plain": [
       "연령대_단순\n",
       "30~50대    712\n",
       "20대       608\n",
       "60대 이상    168\n",
       "Name: count, dtype: int64"
      ]
     },
     "execution_count": 105,
     "metadata": {},
     "output_type": "execute_result"
    }
   ],
   "source": [
    "# 동반자 유형별 연령대 분포 + 비율\n",
    "age_counts = japan_df['연령대_단순'].value_counts()\n",
    "age_counts\n"
   ]
  },
  {
   "cell_type": "code",
   "execution_count": 106,
   "id": "150de195",
   "metadata": {},
   "outputs": [
    {
     "data": {
      "application/vnd.microsoft.datawrangler.viewer.v0+json": {
       "columns": [
        {
         "name": "연령대_단순",
         "rawType": "object",
         "type": "string"
        },
        {
         "name": "count",
         "rawType": "float64",
         "type": "float"
        }
       ],
       "ref": "29b7fdd5-ab39-4848-ac90-c34c9564c098",
       "rows": [
        [
         "30~50대",
         "47.8494623655914"
        ],
        [
         "20대",
         "40.86021505376344"
        ],
        [
         "60대 이상",
         "11.29032258064516"
        ]
       ],
       "shape": {
        "columns": 1,
        "rows": 3
       }
      },
      "text/plain": [
       "연령대_단순\n",
       "30~50대    47.849462\n",
       "20대       40.860215\n",
       "60대 이상    11.290323\n",
       "Name: count, dtype: float64"
      ]
     },
     "execution_count": 106,
     "metadata": {},
     "output_type": "execute_result"
    }
   ],
   "source": [
    "age_ratio = age_counts / age_counts.sum() * 100\n",
    "age_ratio"
   ]
  },
  {
   "cell_type": "markdown",
   "id": "1d9ff324",
   "metadata": {},
   "source": [
    "- 30-50대 중심, 60대 이상은 소수"
   ]
  },
  {
   "cell_type": "code",
   "execution_count": 107,
   "id": "748f3a7e",
   "metadata": {},
   "outputs": [
    {
     "name": "stdout",
     "output_type": "stream",
     "text": [
      "[자녀 동반 여부 분포]\n",
      "자녀동반\n",
      "자녀X    1443\n",
      "자녀O      45\n",
      "Name: count, dtype: int64\n",
      "[비율 %]\n",
      "자녀동반\n",
      "자녀X    96.98\n",
      "자녀O     3.02\n",
      "Name: count, dtype: float64\n"
     ]
    }
   ],
   "source": [
    "# 자녀 동반 여부 비율\n",
    "child_counts = japan_df['자녀동반'].value_counts()\n",
    "child_ratio = child_counts / child_counts.sum() * 100\n",
    "\n",
    "print(\"[자녀 동반 여부 분포]\")\n",
    "print(child_counts)\n",
    "print(\"[비율 %]\")\n",
    "print(child_ratio.round(2))"
   ]
  },
  {
   "cell_type": "markdown",
   "id": "04f4af42",
   "metadata": {},
   "source": [
    "- 대부분 자녀없이 방한하는 관광객이 많음"
   ]
  },
  {
   "cell_type": "code",
   "execution_count": 108,
   "id": "7bb05157",
   "metadata": {},
   "outputs": [
    {
     "data": {
      "application/vnd.microsoft.datawrangler.viewer.v0+json": {
       "columns": [
        {
         "name": "연령대_단순",
         "rawType": "object",
         "type": "string"
        },
        {
         "name": "count",
         "rawType": "int64",
         "type": "integer"
        }
       ],
       "ref": "1ea749bf-45fb-4a52-ac54-c1a56eb7a7d3",
       "rows": [
        [
         "30~50대",
         "34"
        ],
        [
         "60대 이상",
         "10"
        ],
        [
         "20대",
         "1"
        ]
       ],
       "shape": {
        "columns": 1,
        "rows": 3
       }
      },
      "text/plain": [
       "연령대_단순\n",
       "30~50대    34\n",
       "60대 이상    10\n",
       "20대        1\n",
       "Name: count, dtype: int64"
      ]
     },
     "execution_count": 108,
     "metadata": {},
     "output_type": "execute_result"
    }
   ],
   "source": [
    "# 자녀 동반자 연령대 \n",
    "jp_with_child = japan_df[(japan_df['웰니스참여'] == 1) & (japan_df['자녀동반'] == '자녀O')]\n",
    "jp_with_child['연령대_단순'].value_counts()"
   ]
  },
  {
   "cell_type": "markdown",
   "id": "f5b38ff5",
   "metadata": {},
   "source": []
  },
  {
   "cell_type": "code",
   "execution_count": 109,
   "id": "d33e665d",
   "metadata": {},
   "outputs": [
    {
     "name": "stdout",
     "output_type": "stream",
     "text": [
      "[일본 연령대별 평균 소비액 (USD)]\n",
      "   연령대_단순  총액1인TOT항공제외2\n",
      "0     20대         652.5\n",
      "1  30~50대         832.6\n",
      "2  60대 이상         794.3\n"
     ]
    }
   ],
   "source": [
    "# 연령대별 평균 소비액 계산\n",
    "japan_age_mean = japan_df.groupby('연령대_단순')['총액1인TOT항공제외2'].mean().reset_index()\n",
    "\n",
    "print(\"[일본 연령대별 평균 소비액 (USD)]\")\n",
    "print(japan_age_mean.round(1))"
   ]
  },
  {
   "cell_type": "code",
   "execution_count": 110,
   "id": "5f62c341",
   "metadata": {},
   "outputs": [
    {
     "name": "stdout",
     "output_type": "stream",
     "text": [
      "[자녀 동반 여부별 평균 소비액]\n",
      "자녀동반\n",
      "자녀O    708.9\n",
      "자녀X    756.1\n",
      "Name: 총액1인TOT항공제외2, dtype: float64\n"
     ]
    }
   ],
   "source": [
    "# 자녀 동반 여부별 평균 소비액\n",
    "child_mean = japan_df.groupby('자녀동반')['총액1인TOT항공제외2'].mean()\n",
    "print(\"[자녀 동반 여부별 평균 소비액]\")\n",
    "print(child_mean.round(1))"
   ]
  },
  {
   "cell_type": "markdown",
   "id": "0dc92dd5",
   "metadata": {},
   "source": [
    "- 자녀 동반 시 소비액 감소 (약 $47 차이), 그러나 차이는 크지 않음."
   ]
  },
  {
   "cell_type": "markdown",
   "id": "fb892ada",
   "metadata": {},
   "source": [
    "#### 중국"
   ]
  },
  {
   "cell_type": "code",
   "execution_count": 111,
   "id": "a2341a4c",
   "metadata": {},
   "outputs": [],
   "source": [
    "china_df = wellness_df[wellness_df['국가명'] == '중국']"
   ]
  },
  {
   "cell_type": "code",
   "execution_count": 112,
   "id": "06401d31",
   "metadata": {},
   "outputs": [
    {
     "data": {
      "application/vnd.microsoft.datawrangler.viewer.v0+json": {
       "columns": [
        {
         "name": "연령대_단순",
         "rawType": "object",
         "type": "string"
        },
        {
         "name": "count",
         "rawType": "int64",
         "type": "integer"
        }
       ],
       "ref": "67bc64bf-40fe-438e-aa1d-be2232406502",
       "rows": [
        [
         "30~50대",
         "1074"
        ],
        [
         "20대",
         "566"
        ],
        [
         "60대 이상",
         "90"
        ]
       ],
       "shape": {
        "columns": 1,
        "rows": 3
       }
      },
      "text/plain": [
       "연령대_단순\n",
       "30~50대    1074\n",
       "20대        566\n",
       "60대 이상      90\n",
       "Name: count, dtype: int64"
      ]
     },
     "execution_count": 112,
     "metadata": {},
     "output_type": "execute_result"
    }
   ],
   "source": [
    "# 동반자 유형별 연령대 분포 + 비율\n",
    "age_counts = china_df['연령대_단순'].value_counts()\n",
    "age_counts"
   ]
  },
  {
   "cell_type": "code",
   "execution_count": 113,
   "metadata": {},
   "outputs": [
    {
     "data": {
      "application/vnd.microsoft.datawrangler.viewer.v0+json": {
       "columns": [
        {
         "name": "연령대_단순",
         "rawType": "object",
         "type": "string"
        },
        {
         "name": "count",
         "rawType": "float64",
         "type": "float"
        }
       ],
       "ref": "4ef33ffe-c3ca-48ae-9b2d-96dc2d891e06",
       "rows": [
        [
         "30~50대",
         "62.080924855491325"
        ],
        [
         "20대",
         "32.71676300578035"
        ],
        [
         "60대 이상",
         "5.202312138728324"
        ]
       ],
       "shape": {
        "columns": 1,
        "rows": 3
       }
      },
      "text/plain": [
       "연령대_단순\n",
       "30~50대    62.080925\n",
       "20대       32.716763\n",
       "60대 이상     5.202312\n",
       "Name: count, dtype: float64"
      ]
     },
     "execution_count": 113,
     "metadata": {},
     "output_type": "execute_result"
    }
   ],
   "source": [
    "age_ratio = age_counts / age_counts.sum() * 100\n",
    "age_ratio"
   ]
  },
  {
   "cell_type": "markdown",
   "id": "8768a4d3",
   "metadata": {},
   "source": [
    "- 30-50대가 가장 많이 방문, 20대의 두배\n",
    "- 60대 이상은 매우 소수"
   ]
  },
  {
   "cell_type": "code",
   "execution_count": 114,
   "metadata": {},
   "outputs": [
    {
     "name": "stdout",
     "output_type": "stream",
     "text": [
      "[자녀 동반 여부 분포]\n",
      "자녀동반\n",
      "자녀X    1590\n",
      "자녀O     140\n",
      "Name: count, dtype: int64\n",
      "[비율 %]\n",
      "자녀동반\n",
      "자녀X    91.91\n",
      "자녀O     8.09\n",
      "Name: count, dtype: float64\n"
     ]
    }
   ],
   "source": [
    "# 자녀 동반 여부 비율\n",
    "child_counts = china_df['자녀동반'].value_counts()\n",
    "child_ratio = child_counts / child_counts.sum() * 100\n",
    "\n",
    "print(\"[자녀 동반 여부 분포]\")\n",
    "print(child_counts)\n",
    "print(\"[비율 %]\")\n",
    "print(child_ratio.round(2))"
   ]
  },
  {
   "cell_type": "markdown",
   "id": "e8a003fe",
   "metadata": {},
   "source": [
    "- 대부분 자녀 없이 방문"
   ]
  },
  {
   "cell_type": "code",
   "execution_count": 115,
   "id": "ee77f5bb",
   "metadata": {},
   "outputs": [
    {
     "data": {
      "application/vnd.microsoft.datawrangler.viewer.v0+json": {
       "columns": [
        {
         "name": "연령대_단순",
         "rawType": "object",
         "type": "string"
        },
        {
         "name": "count",
         "rawType": "int64",
         "type": "integer"
        }
       ],
       "ref": "fd700283-e5f1-4196-8104-c2047286812c",
       "rows": [
        [
         "30~50대",
         "130"
        ],
        [
         "60대 이상",
         "9"
        ],
        [
         "20대",
         "1"
        ]
       ],
       "shape": {
        "columns": 1,
        "rows": 3
       }
      },
      "text/plain": [
       "연령대_단순\n",
       "30~50대    130\n",
       "60대 이상      9\n",
       "20대         1\n",
       "Name: count, dtype: int64"
      ]
     },
     "execution_count": 115,
     "metadata": {},
     "output_type": "execute_result"
    }
   ],
   "source": [
    "# 자녀 동반자 연령대 \n",
    "ca_with_child = china_df[(china_df['웰니스참여'] == 1) & (china_df['자녀동반'] == '자녀O')]\n",
    "ca_with_child['연령대_단순'].value_counts()"
   ]
  },
  {
   "cell_type": "markdown",
   "id": "6469183d",
   "metadata": {},
   "source": [
    "- 자녀 동반자 거의 모두 30~50대 부모층"
   ]
  },
  {
   "cell_type": "code",
   "execution_count": 116,
   "id": "d7f7ca18",
   "metadata": {},
   "outputs": [
    {
     "name": "stdout",
     "output_type": "stream",
     "text": [
      "[중국 연령대별 평균 소비액 (USD)]\n",
      "   연령대_단순  총액1인TOT항공제외2\n",
      "0     20대        1298.9\n",
      "1  30~50대        1626.3\n",
      "2  60대 이상        1239.8\n"
     ]
    }
   ],
   "source": [
    "# 연령대별 평균 소비액 계산\n",
    "china_age_mean = china_df.groupby('연령대_단순')['총액1인TOT항공제외2'].mean().reset_index()\n",
    "\n",
    "print(\"[중국 연령대별 평균 소비액 (USD)]\")\n",
    "print(china_age_mean.round(1))"
   ]
  },
  {
   "cell_type": "markdown",
   "id": "03052bcd",
   "metadata": {},
   "source": [
    "- 30~50대가 고소비층\n",
    "- 20대, 60대는 비슷한 수준"
   ]
  },
  {
   "cell_type": "code",
   "execution_count": 117,
   "id": "e3e0e66c",
   "metadata": {},
   "outputs": [
    {
     "name": "stdout",
     "output_type": "stream",
     "text": [
      "[자녀 동반 여부별 평균 소비액]\n",
      "자녀동반\n",
      "자녀O    1311.1\n",
      "자녀X    1515.6\n",
      "Name: 총액1인TOT항공제외2, dtype: float64\n"
     ]
    }
   ],
   "source": [
    "# 자녀 동반 여부별 평균 소비액\n",
    "child_mean = china_df.groupby('자녀동반')['총액1인TOT항공제외2'].mean()\n",
    "print(\"[자녀 동반 여부별 평균 소비액]\")\n",
    "print(child_mean.round(1))"
   ]
  },
  {
   "cell_type": "markdown",
   "id": "201e9ad0",
   "metadata": {},
   "source": [
    "- 자녀 없이 여행했을 때 소비액 약 $204 증가"
   ]
  },
  {
   "cell_type": "code",
   "execution_count": null,
   "id": "172c25dd",
   "metadata": {},
   "outputs": [],
   "source": []
  },
  {
   "cell_type": "code",
   "execution_count": null,
   "metadata": {},
   "outputs": [],
   "source": []
  },
  {
   "cell_type": "markdown",
   "id": "80fb0faf",
   "metadata": {},
   "source": [
    "#### 미국"
   ]
  },
  {
   "cell_type": "code",
   "execution_count": 118,
   "id": "3967cbdd",
   "metadata": {},
   "outputs": [],
   "source": [
    "usa_df = wellness_df[wellness_df['국가명'] == '미국']"
   ]
  },
  {
   "cell_type": "code",
   "execution_count": 119,
   "id": "6998a0d4",
   "metadata": {},
   "outputs": [
    {
     "data": {
      "application/vnd.microsoft.datawrangler.viewer.v0+json": {
       "columns": [
        {
         "name": "연령대_단순",
         "rawType": "object",
         "type": "string"
        },
        {
         "name": "count",
         "rawType": "int64",
         "type": "integer"
        }
       ],
       "ref": "6759562d-0dca-4fd4-8ec8-e8233c67b51d",
       "rows": [
        [
         "30~50대",
         "745"
        ],
        [
         "20대",
         "415"
        ],
        [
         "60대 이상",
         "132"
        ]
       ],
       "shape": {
        "columns": 1,
        "rows": 3
       }
      },
      "text/plain": [
       "연령대_단순\n",
       "30~50대    745\n",
       "20대       415\n",
       "60대 이상    132\n",
       "Name: count, dtype: int64"
      ]
     },
     "execution_count": 119,
     "metadata": {},
     "output_type": "execute_result"
    }
   ],
   "source": [
    "# 동반자 유형별 연령대 분포 + 비율\n",
    "age_counts = usa_df['연령대_단순'].value_counts()\n",
    "age_counts"
   ]
  },
  {
   "cell_type": "code",
   "execution_count": 120,
   "id": "8915736d",
   "metadata": {},
   "outputs": [
    {
     "data": {
      "application/vnd.microsoft.datawrangler.viewer.v0+json": {
       "columns": [
        {
         "name": "연령대_단순",
         "rawType": "object",
         "type": "string"
        },
        {
         "name": "count",
         "rawType": "float64",
         "type": "float"
        }
       ],
       "ref": "3f95c73f-a0f3-4fbe-ad92-d8f9a3b6100d",
       "rows": [
        [
         "30~50대",
         "57.6625386996904"
        ],
        [
         "20대",
         "32.12074303405573"
        ],
        [
         "60대 이상",
         "10.21671826625387"
        ]
       ],
       "shape": {
        "columns": 1,
        "rows": 3
       }
      },
      "text/plain": [
       "연령대_단순\n",
       "30~50대    57.662539\n",
       "20대       32.120743\n",
       "60대 이상    10.216718\n",
       "Name: count, dtype: float64"
      ]
     },
     "execution_count": 120,
     "metadata": {},
     "output_type": "execute_result"
    }
   ],
   "source": [
    "age_ratio = age_counts / age_counts.sum() * 100\n",
    "age_ratio"
   ]
  },
  {
   "cell_type": "code",
   "execution_count": 121,
   "id": "c5655c6d",
   "metadata": {},
   "outputs": [
    {
     "name": "stdout",
     "output_type": "stream",
     "text": [
      "[자녀 동반 여부 분포]\n",
      "자녀동반\n",
      "자녀X    1234\n",
      "자녀O      58\n",
      "Name: count, dtype: int64\n",
      "[비율 %]\n",
      "자녀동반\n",
      "자녀X    95.51\n",
      "자녀O     4.49\n",
      "Name: count, dtype: float64\n"
     ]
    }
   ],
   "source": [
    "# 자녀 동반 여부 비율\n",
    "child_counts = usa_df['자녀동반'].value_counts()\n",
    "child_ratio = child_counts / child_counts.sum() * 100\n",
    "\n",
    "print(\"[자녀 동반 여부 분포]\")\n",
    "print(child_counts)\n",
    "print(\"[비율 %]\")\n",
    "print(child_ratio.round(2))"
   ]
  },
  {
   "cell_type": "markdown",
   "id": "109a02a4",
   "metadata": {},
   "source": [
    "- 자녀 동반률은 일본(3.02)보다 높고, 중국(8.09) 보다 낮음"
   ]
  },
  {
   "cell_type": "code",
   "execution_count": 122,
   "id": "204ef6ce",
   "metadata": {},
   "outputs": [
    {
     "data": {
      "application/vnd.microsoft.datawrangler.viewer.v0+json": {
       "columns": [
        {
         "name": "연령대_단순",
         "rawType": "object",
         "type": "string"
        },
        {
         "name": "count",
         "rawType": "int64",
         "type": "integer"
        }
       ],
       "ref": "c37ef45b-db70-4ee6-a3cc-af8d55b4d649",
       "rows": [
        [
         "30~50대",
         "48"
        ],
        [
         "60대 이상",
         "8"
        ],
        [
         "20대",
         "2"
        ]
       ],
       "shape": {
        "columns": 1,
        "rows": 3
       }
      },
      "text/plain": [
       "연령대_단순\n",
       "30~50대    48\n",
       "60대 이상     8\n",
       "20대        2\n",
       "Name: count, dtype: int64"
      ]
     },
     "execution_count": 122,
     "metadata": {},
     "output_type": "execute_result"
    }
   ],
   "source": [
    "# 자녀 동반자 연령대 \n",
    "us_with_child = usa_df[(usa_df['웰니스참여'] == 1) & (usa_df['자녀동반'] == '자녀O')]\n",
    "us_with_child['연령대_단순'].value_counts()"
   ]
  },
  {
   "cell_type": "code",
   "execution_count": 123,
   "id": "37d4ce68",
   "metadata": {},
   "outputs": [
    {
     "name": "stdout",
     "output_type": "stream",
     "text": [
      "[미국 연령대별 평균 소비액 (USD)]\n",
      "   연령대_단순  총액1인TOT항공제외2\n",
      "0     20대        1559.3\n",
      "1  30~50대        1607.3\n",
      "2  60대 이상        1668.0\n"
     ]
    }
   ],
   "source": [
    "# 연령대별 평균 소비액 계산\n",
    "usa_age_mean = usa_df.groupby('연령대_단순')['총액1인TOT항공제외2'].mean().reset_index()\n",
    "\n",
    "print(\"[미국 연령대별 평균 소비액 (USD)]\")\n",
    "print(usa_age_mean.round(1))"
   ]
  },
  {
   "cell_type": "code",
   "execution_count": 124,
   "id": "9795ad8b",
   "metadata": {},
   "outputs": [
    {
     "name": "stdout",
     "output_type": "stream",
     "text": [
      "[자녀 동반 여부별 평균 소비액]\n",
      "자녀동반\n",
      "자녀O    1715.6\n",
      "자녀X    1592.5\n",
      "Name: 총액1인TOT항공제외2, dtype: float64\n"
     ]
    }
   ],
   "source": [
    "# 자녀 동반 여부별 평균 소비액\n",
    "child_mean = usa_df.groupby('자녀동반')['총액1인TOT항공제외2'].mean()\n",
    "print(\"[자녀 동반 여부별 평균 소비액]\")\n",
    "print(child_mean.round(1))"
   ]
  },
  {
   "cell_type": "markdown",
   "id": "b8f43c53",
   "metadata": {},
   "source": [
    "- 세대 전반 소비력 강함 -> 고소득층 다수 추정\n",
    "- 자녀 동반 시 소비액 증가 경향이 명확함 (약 $123 차이)"
   ]
  },
  {
   "cell_type": "code",
   "execution_count": null,
   "id": "f1e34bd5",
   "metadata": {},
   "outputs": [],
   "source": []
  },
  {
   "cell_type": "markdown",
   "id": "f9370d0d",
   "metadata": {},
   "source": [
    "#### 영국"
   ]
  },
  {
   "cell_type": "code",
   "execution_count": 125,
   "id": "f340e213",
   "metadata": {},
   "outputs": [],
   "source": [
    "uk_df = wellness_df[wellness_df['국가명'] == '영국']"
   ]
  },
  {
   "cell_type": "code",
   "execution_count": 126,
   "id": "0d2162b4",
   "metadata": {},
   "outputs": [
    {
     "data": {
      "application/vnd.microsoft.datawrangler.viewer.v0+json": {
       "columns": [
        {
         "name": "연령대_단순",
         "rawType": "object",
         "type": "string"
        },
        {
         "name": "count",
         "rawType": "int64",
         "type": "integer"
        }
       ],
       "ref": "a5a646fe-36ae-407d-97b0-4d4b3cb10aef",
       "rows": [
        [
         "30~50대",
         "220"
        ],
        [
         "20대",
         "201"
        ],
        [
         "60대 이상",
         "24"
        ]
       ],
       "shape": {
        "columns": 1,
        "rows": 3
       }
      },
      "text/plain": [
       "연령대_단순\n",
       "30~50대    220\n",
       "20대       201\n",
       "60대 이상     24\n",
       "Name: count, dtype: int64"
      ]
     },
     "execution_count": 126,
     "metadata": {},
     "output_type": "execute_result"
    }
   ],
   "source": [
    "# 동반자 유형별 연령대 분포 + 비율\n",
    "age_counts = uk_df['연령대_단순'].value_counts()\n",
    "age_counts"
   ]
  },
  {
   "cell_type": "code",
   "execution_count": 127,
   "id": "ee2199c9",
   "metadata": {},
   "outputs": [
    {
     "data": {
      "application/vnd.microsoft.datawrangler.viewer.v0+json": {
       "columns": [
        {
         "name": "연령대_단순",
         "rawType": "object",
         "type": "string"
        },
        {
         "name": "count",
         "rawType": "float64",
         "type": "float"
        }
       ],
       "ref": "e06ad01f-7053-4d02-a1e5-a8d1f446bd04",
       "rows": [
        [
         "30~50대",
         "49.43820224719101"
        ],
        [
         "20대",
         "45.1685393258427"
        ],
        [
         "60대 이상",
         "5.393258426966292"
        ]
       ],
       "shape": {
        "columns": 1,
        "rows": 3
       }
      },
      "text/plain": [
       "연령대_단순\n",
       "30~50대    49.438202\n",
       "20대       45.168539\n",
       "60대 이상     5.393258\n",
       "Name: count, dtype: float64"
      ]
     },
     "execution_count": 127,
     "metadata": {},
     "output_type": "execute_result"
    }
   ],
   "source": [
    "age_ratio = age_counts / age_counts.sum() * 100\n",
    "age_ratio"
   ]
  },
  {
   "cell_type": "markdown",
   "id": "55c15ac3",
   "metadata": {},
   "source": [
    "- 30-50대, 20대 웰니스 관광 비율이 비슷함\n",
    "- 60대 이상은 극소수"
   ]
  },
  {
   "cell_type": "code",
   "execution_count": 128,
   "id": "f7f3c29a",
   "metadata": {},
   "outputs": [
    {
     "name": "stdout",
     "output_type": "stream",
     "text": [
      "[자녀 동반 여부 분포]\n",
      "자녀동반\n",
      "자녀X    440\n",
      "자녀O      5\n",
      "Name: count, dtype: int64\n",
      "[비율 %]\n",
      "자녀동반\n",
      "자녀X    98.88\n",
      "자녀O     1.12\n",
      "Name: count, dtype: float64\n"
     ]
    }
   ],
   "source": [
    "# 자녀 동반 여부 비율\n",
    "child_counts = uk_df['자녀동반'].value_counts()\n",
    "child_ratio = child_counts / child_counts.sum() * 100\n",
    "\n",
    "print(\"[자녀 동반 여부 분포]\")\n",
    "print(child_counts)\n",
    "print(\"[비율 %]\")\n",
    "print(child_ratio.round(2))"
   ]
  },
  {
   "cell_type": "markdown",
   "id": "45e22c24",
   "metadata": {},
   "source": [
    "- 자녀없이 방문하는 경우가 압도적으로 많음\n",
    "- 거의 모든 관광객이 자녀 없이 방문"
   ]
  },
  {
   "cell_type": "code",
   "execution_count": 129,
   "id": "1358d167",
   "metadata": {},
   "outputs": [
    {
     "data": {
      "application/vnd.microsoft.datawrangler.viewer.v0+json": {
       "columns": [
        {
         "name": "연령대_단순",
         "rawType": "object",
         "type": "string"
        },
        {
         "name": "count",
         "rawType": "int64",
         "type": "integer"
        }
       ],
       "ref": "d9d2c451-357a-4d27-b399-e7870aea2048",
       "rows": [
        [
         "30~50대",
         "5"
        ]
       ],
       "shape": {
        "columns": 1,
        "rows": 1
       }
      },
      "text/plain": [
       "연령대_단순\n",
       "30~50대    5\n",
       "Name: count, dtype: int64"
      ]
     },
     "execution_count": 129,
     "metadata": {},
     "output_type": "execute_result"
    }
   ],
   "source": [
    "# 자녀 동반자 연령대 \n",
    "uk_with_child = uk_df[(uk_df['웰니스참여'] == 1) & (uk_df['자녀동반'] == '자녀O')]\n",
    "uk_with_child['연령대_단순'].value_counts()"
   ]
  },
  {
   "cell_type": "markdown",
   "id": "34c94ff1",
   "metadata": {},
   "source": [
    "- 자녀 동반자는 전원 30~50대"
   ]
  },
  {
   "cell_type": "code",
   "execution_count": 130,
   "id": "cb2c9de1",
   "metadata": {},
   "outputs": [
    {
     "name": "stdout",
     "output_type": "stream",
     "text": [
      "[영국 연령대별 평균 소비액 (USD)]\n",
      "   연령대_단순  총액1인TOT항공제외2\n",
      "0     20대        1759.0\n",
      "1  30~50대        1778.5\n",
      "2  60대 이상        2248.6\n"
     ]
    }
   ],
   "source": [
    "# 연령대별 평균 소비액 계산\n",
    "uk_age_mean = uk_df.groupby('연령대_단순')['총액1인TOT항공제외2'].mean().reset_index()\n",
    "\n",
    "print(\"[영국 연령대별 평균 소비액 (USD)]\")\n",
    "print(uk_age_mean.round(1))"
   ]
  },
  {
   "cell_type": "markdown",
   "id": "4c4b78f9",
   "metadata": {},
   "source": [
    "- 60대 이상 압도적 고소비층"
   ]
  },
  {
   "cell_type": "code",
   "execution_count": 131,
   "id": "4040d082",
   "metadata": {},
   "outputs": [
    {
     "name": "stdout",
     "output_type": "stream",
     "text": [
      "[자녀 동반 여부별 평균 소비액]\n",
      "자녀동반\n",
      "자녀O    2485.2\n",
      "자녀X    1787.2\n",
      "Name: 총액1인TOT항공제외2, dtype: float64\n"
     ]
    }
   ],
   "source": [
    "# 자녀 동반 여부별 평균 소비액\n",
    "child_mean = uk_df.groupby('자녀동반')['총액1인TOT항공제외2'].mean()\n",
    "print(\"[자녀 동반 여부별 평균 소비액]\")\n",
    "print(child_mean.round(1))"
   ]
  },
  {
   "cell_type": "markdown",
   "id": "45e399ab",
   "metadata": {},
   "source": [
    "- 자녀 동반 시 소비액 약 $698 증가\n",
    "- 다만 동반자 수가 적어 추세 참고용으로 활용 가능"
   ]
  },
  {
   "cell_type": "markdown",
   "id": "775f4024",
   "metadata": {},
   "source": [
    "#### 중동"
   ]
  },
  {
   "cell_type": "code",
   "execution_count": 132,
   "id": "12b35064",
   "metadata": {},
   "outputs": [],
   "source": [
    "middle_east_df = wellness_df[wellness_df['국가명'] == '중동']"
   ]
  },
  {
   "cell_type": "code",
   "execution_count": 133,
   "id": "32172c89",
   "metadata": {},
   "outputs": [
    {
     "data": {
      "application/vnd.microsoft.datawrangler.viewer.v0+json": {
       "columns": [
        {
         "name": "연령대_단순",
         "rawType": "object",
         "type": "string"
        },
        {
         "name": "count",
         "rawType": "int64",
         "type": "integer"
        }
       ],
       "ref": "8ffd4607-7a1d-4974-bb21-09d8c7b46ace",
       "rows": [
        [
         "30~50대",
         "246"
        ],
        [
         "20대",
         "197"
        ],
        [
         "60대 이상",
         "13"
        ]
       ],
       "shape": {
        "columns": 1,
        "rows": 3
       }
      },
      "text/plain": [
       "연령대_단순\n",
       "30~50대    246\n",
       "20대       197\n",
       "60대 이상     13\n",
       "Name: count, dtype: int64"
      ]
     },
     "execution_count": 133,
     "metadata": {},
     "output_type": "execute_result"
    }
   ],
   "source": [
    "# 동반자 유형별 연령대 분포 + 비율\n",
    "age_counts = middle_east_df['연령대_단순'].value_counts()\n",
    "age_counts"
   ]
  },
  {
   "cell_type": "code",
   "execution_count": 134,
   "id": "1c96a5d1",
   "metadata": {},
   "outputs": [
    {
     "data": {
      "application/vnd.microsoft.datawrangler.viewer.v0+json": {
       "columns": [
        {
         "name": "연령대_단순",
         "rawType": "object",
         "type": "string"
        },
        {
         "name": "count",
         "rawType": "float64",
         "type": "float"
        }
       ],
       "ref": "f8f841a9-4df6-46b7-b91d-47c7ae35af2f",
       "rows": [
        [
         "30~50대",
         "53.94736842105263"
        ],
        [
         "20대",
         "43.20175438596491"
        ],
        [
         "60대 이상",
         "2.850877192982456"
        ]
       ],
       "shape": {
        "columns": 1,
        "rows": 3
       }
      },
      "text/plain": [
       "연령대_단순\n",
       "30~50대    53.947368\n",
       "20대       43.201754\n",
       "60대 이상     2.850877\n",
       "Name: count, dtype: float64"
      ]
     },
     "execution_count": 134,
     "metadata": {},
     "output_type": "execute_result"
    }
   ],
   "source": [
    "age_ratio = age_counts / age_counts.sum() * 100\n",
    "age_ratio"
   ]
  },
  {
   "cell_type": "markdown",
   "id": "a8b8e6ab",
   "metadata": {},
   "source": [
    "- 젊은층(20대, 30-50대)이 주로 방문함\n",
    "- 60대 이상은 극소수"
   ]
  },
  {
   "cell_type": "code",
   "execution_count": 135,
   "id": "5ce35480",
   "metadata": {},
   "outputs": [
    {
     "name": "stdout",
     "output_type": "stream",
     "text": [
      "[자녀 동반 여부 분포]\n",
      "자녀동반\n",
      "자녀X    434\n",
      "자녀O     22\n",
      "Name: count, dtype: int64\n",
      "[비율 %]\n",
      "자녀동반\n",
      "자녀X    95.18\n",
      "자녀O     4.82\n",
      "Name: count, dtype: float64\n"
     ]
    }
   ],
   "source": [
    "# 자녀 동반 여부 비율\n",
    "child_counts = middle_east_df['자녀동반'].value_counts()\n",
    "child_ratio = child_counts / child_counts.sum() * 100\n",
    "\n",
    "print(\"[자녀 동반 여부 분포]\")\n",
    "print(child_counts)\n",
    "print(\"[비율 %]\")\n",
    "print(child_ratio.round(2))"
   ]
  },
  {
   "cell_type": "markdown",
   "id": "47b9bb5f",
   "metadata": {},
   "source": [
    "- 대부분 자녀 없이 방문"
   ]
  },
  {
   "cell_type": "code",
   "execution_count": 136,
   "id": "1286b850",
   "metadata": {},
   "outputs": [
    {
     "data": {
      "application/vnd.microsoft.datawrangler.viewer.v0+json": {
       "columns": [
        {
         "name": "연령대_단순",
         "rawType": "object",
         "type": "string"
        },
        {
         "name": "count",
         "rawType": "int64",
         "type": "integer"
        }
       ],
       "ref": "7d1bd79b-cd38-49c6-b527-d3a59784ff07",
       "rows": [
        [
         "30~50대",
         "20"
        ],
        [
         "60대 이상",
         "2"
        ]
       ],
       "shape": {
        "columns": 1,
        "rows": 2
       }
      },
      "text/plain": [
       "연령대_단순\n",
       "30~50대    20\n",
       "60대 이상     2\n",
       "Name: count, dtype: int64"
      ]
     },
     "execution_count": 136,
     "metadata": {},
     "output_type": "execute_result"
    }
   ],
   "source": [
    "# 자녀 동반자 연령대 \n",
    "me_with_child = middle_east_df[(middle_east_df['웰니스참여'] == 1) & (middle_east_df['자녀동반'] == '자녀O')]\n",
    "me_with_child['연령대_단순'].value_counts()"
   ]
  },
  {
   "cell_type": "markdown",
   "id": "db2bcb84",
   "metadata": {},
   "source": [
    "- 자녀 동반자는 대부분 30~50대, 60대 이상은 소수"
   ]
  },
  {
   "cell_type": "code",
   "execution_count": 137,
   "id": "b1fb8593",
   "metadata": {},
   "outputs": [
    {
     "name": "stdout",
     "output_type": "stream",
     "text": [
      "[중동 연령대별 평균 소비액 (USD)]\n",
      "   연령대_단순  총액1인TOT항공제외2\n",
      "0     20대         652.5\n",
      "1  30~50대         832.6\n",
      "2  60대 이상         794.3\n"
     ]
    }
   ],
   "source": [
    "# 연령대별 평균 소비액 계산\n",
    "me_age_mean = middle_east_df.groupby('연령대_단순')['총액1인TOT항공제외2'].mean().reset_index()\n",
    "\n",
    "print(\"[중동 연령대별 평균 소비액 (USD)]\")\n",
    "print(japan_age_mean.round(1))"
   ]
  },
  {
   "cell_type": "code",
   "execution_count": 138,
   "id": "ae7ae11a",
   "metadata": {},
   "outputs": [
    {
     "name": "stdout",
     "output_type": "stream",
     "text": [
      "[자녀 동반 여부별 평균 소비액]\n",
      "자녀동반\n",
      "자녀O    2075.5\n",
      "자녀X    2206.4\n",
      "Name: 총액1인TOT항공제외2, dtype: float64\n"
     ]
    }
   ],
   "source": [
    "# 자녀 동반 여부별 평균 소비액\n",
    "child_mean = middle_east_df.groupby('자녀동반')['총액1인TOT항공제외2'].mean()\n",
    "print(\"[자녀 동반 여부별 평균 소비액]\")\n",
    "print(child_mean.round(1))"
   ]
  },
  {
   "cell_type": "markdown",
   "id": "40ebb3a5",
   "metadata": {},
   "source": [
    "- 자녀 미동반 소비액 더 높음 (차이 약 $131).\n",
    "- 중동은 전반적으로 고소비 성향을 보이며, 자녀 동반 여부 영향이 적음"
   ]
  },
  {
   "cell_type": "markdown",
   "id": "0c1fa18e",
   "metadata": {},
   "source": [
    "#### 국가별 웰니스 전략 요약표\n",
    "| 국가 | 타깃 연령층     | 자녀 동반율 | 전략 방향 요약                      |\n",
    "| -- | ---------- | ------ | ----------------------------- |\n",
    "| 일본 | 30\\~50대 중심 | 3%     | 1인/성인 중심 체류형 콘텐츠, 소액 체험 강화    |\n",
    "| 중국 | 30\\~50대 중심 | 8%     | 가족형 프리미엄 콘텐츠, 쇼핑/숙박 연계 확대     |\n",
    "| 미국 | 전 연령 고소비층  | 4.5%   | 실버층 포함 전 연령 대상 고급 콘텐츠 다양화     |\n",
    "| 영국 | 젊은층 + 실버층  | 1%     | 고소비층 대상 럭셔리/힐링형 웰니스, 커플형 적합   |\n",
    "| 중동 | 젊은층 중심     | 4.8%   | VIP 쇼핑/뷰티 중심, 1인/성인 대상 고급 콘텐츠 |"
   ]
  },
  {
   "cell_type": "markdown",
   "id": "3a373868",
   "metadata": {},
   "source": []
  },
  {
   "cell_type": "code",
   "execution_count": 139,
   "id": "6b9efc26",
   "metadata": {},
   "outputs": [
    {
     "name": "stderr",
     "output_type": "stream",
     "text": [
      "C:\\Users\\82106\\AppData\\Local\\Temp\\ipykernel_16740\\1226902835.py:14: FutureWarning: Series.__getitem__ treating keys as positions is deprecated. In a future version, integer keys will always be treated as labels (consistent with DataFrame behavior). To access a value by position, use `ser.iloc[pos]`\n",
      "  '자녀X(%)': round(ratio.get(0, 0), 2),\n",
      "C:\\Users\\82106\\AppData\\Local\\Temp\\ipykernel_16740\\1226902835.py:15: FutureWarning: Series.__getitem__ treating keys as positions is deprecated. In a future version, integer keys will always be treated as labels (consistent with DataFrame behavior). To access a value by position, use `ser.iloc[pos]`\n",
      "  '자녀O(%)': round(ratio.get(1, 0), 2)\n",
      "C:\\Users\\82106\\AppData\\Local\\Temp\\ipykernel_16740\\1226902835.py:14: FutureWarning: Series.__getitem__ treating keys as positions is deprecated. In a future version, integer keys will always be treated as labels (consistent with DataFrame behavior). To access a value by position, use `ser.iloc[pos]`\n",
      "  '자녀X(%)': round(ratio.get(0, 0), 2),\n",
      "C:\\Users\\82106\\AppData\\Local\\Temp\\ipykernel_16740\\1226902835.py:15: FutureWarning: Series.__getitem__ treating keys as positions is deprecated. In a future version, integer keys will always be treated as labels (consistent with DataFrame behavior). To access a value by position, use `ser.iloc[pos]`\n",
      "  '자녀O(%)': round(ratio.get(1, 0), 2)\n",
      "C:\\Users\\82106\\AppData\\Local\\Temp\\ipykernel_16740\\1226902835.py:14: FutureWarning: Series.__getitem__ treating keys as positions is deprecated. In a future version, integer keys will always be treated as labels (consistent with DataFrame behavior). To access a value by position, use `ser.iloc[pos]`\n",
      "  '자녀X(%)': round(ratio.get(0, 0), 2),\n",
      "C:\\Users\\82106\\AppData\\Local\\Temp\\ipykernel_16740\\1226902835.py:15: FutureWarning: Series.__getitem__ treating keys as positions is deprecated. In a future version, integer keys will always be treated as labels (consistent with DataFrame behavior). To access a value by position, use `ser.iloc[pos]`\n",
      "  '자녀O(%)': round(ratio.get(1, 0), 2)\n",
      "C:\\Users\\82106\\AppData\\Local\\Temp\\ipykernel_16740\\1226902835.py:14: FutureWarning: Series.__getitem__ treating keys as positions is deprecated. In a future version, integer keys will always be treated as labels (consistent with DataFrame behavior). To access a value by position, use `ser.iloc[pos]`\n",
      "  '자녀X(%)': round(ratio.get(0, 0), 2),\n",
      "C:\\Users\\82106\\AppData\\Local\\Temp\\ipykernel_16740\\1226902835.py:15: FutureWarning: Series.__getitem__ treating keys as positions is deprecated. In a future version, integer keys will always be treated as labels (consistent with DataFrame behavior). To access a value by position, use `ser.iloc[pos]`\n",
      "  '자녀O(%)': round(ratio.get(1, 0), 2)\n",
      "C:\\Users\\82106\\AppData\\Local\\Temp\\ipykernel_16740\\1226902835.py:14: FutureWarning: Series.__getitem__ treating keys as positions is deprecated. In a future version, integer keys will always be treated as labels (consistent with DataFrame behavior). To access a value by position, use `ser.iloc[pos]`\n",
      "  '자녀X(%)': round(ratio.get(0, 0), 2),\n",
      "C:\\Users\\82106\\AppData\\Local\\Temp\\ipykernel_16740\\1226902835.py:15: FutureWarning: Series.__getitem__ treating keys as positions is deprecated. In a future version, integer keys will always be treated as labels (consistent with DataFrame behavior). To access a value by position, use `ser.iloc[pos]`\n",
      "  '자녀O(%)': round(ratio.get(1, 0), 2)\n"
     ]
    }
   ],
   "source": [
    "# 대상 국가 리스트\n",
    "target_countries = ['일본', '미국', '영국', '중동', '중국']\n",
    "\n",
    "# 결과 저장용 딕셔너리\n",
    "result = {}\n",
    "\n",
    "for country in target_countries:\n",
    "    sub_df = wellness_df[wellness_df['국가명'] == country]\n",
    "    counts = sub_df['자녀동반'].value_counts()\n",
    "    ratio = counts / counts.sum() * 100  # 비율 계산 (%)\n",
    "    \n",
    "    # 저장\n",
    "    result[country] = {\n",
    "        '자녀X(%)': round(ratio.get(0, 0), 2),\n",
    "        '자녀O(%)': round(ratio.get(1, 0), 2)\n",
    "    }"
   ]
  },
  {
   "cell_type": "code",
   "execution_count": 140,
   "id": "138e67e5",
   "metadata": {},
   "outputs": [
    {
     "name": "stdout",
     "output_type": "stream",
     "text": [
      "    자녀X(%)  자녀O(%)\n",
      "일본   96.98    3.02\n",
      "미국   95.51    4.49\n",
      "영국   98.88    1.12\n",
      "중동   95.18    4.82\n",
      "중국   91.91    8.09\n"
     ]
    }
   ],
   "source": [
    "# 결과 보기 (DataFrame으로 변환)\n",
    "import pandas as pd\n",
    "child_ratio_df = pd.DataFrame(result).T  # 전치하여 보기 좋게\n",
    "print(child_ratio_df)"
   ]
  },
  {
   "cell_type": "code",
   "execution_count": null,
   "id": "63726ff7",
   "metadata": {},
   "outputs": [],
   "source": []
  }
 ],
 "metadata": {
  "kernelspec": {
   "display_name": "tensorflow_env",
   "language": "python",
   "name": "python3"
  },
  "language_info": {
   "codemirror_mode": {
    "name": "ipython",
    "version": 3
   },
   "file_extension": ".py",
   "mimetype": "text/x-python",
   "name": "python",
   "nbconvert_exporter": "python",
   "pygments_lexer": "ipython3",
   "version": "3.10.18"
  }
 },
 "nbformat": 4,
 "nbformat_minor": 5
}
