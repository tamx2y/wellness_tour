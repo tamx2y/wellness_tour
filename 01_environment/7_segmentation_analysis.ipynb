{
 "cells": [
  {
   "cell_type": "code",
   "execution_count": 38,
   "id": "7ba8c29e",
   "metadata": {},
   "outputs": [],
   "source": [
    "import pandas as pd\n",
    "import numpy as np\n",
    "import seaborn as sns\n",
    "import matplotlib.pyplot as plt\n",
    "from scipy.stats import f_oneway\n",
    "from scipy.stats import levene\n",
    "from scipy.stats import ttest_ind\n",
    "from statsmodels.stats.multicomp import pairwise_tukeyhsd\n",
    "from scipy.stats import ttest_ind, mannwhitneyu\n",
    "import pingouin as pg\n",
    "import matplotlib.pyplot as plt\n",
    "import seaborn as sns\n",
    "\n",
    "# 그래프 기본 설정\n",
    "plt.rcParams['font.family'] = 'Malgun Gothic'\n",
    "# plt.rcParams['font.family'] = 'AppleGothic'\n",
    "plt.rcParams['figure.figsize'] = 12, 6\n",
    "plt.rcParams['font.size'] = 12\n",
    "plt.rcParams['axes.unicode_minus'] = False"
   ]
  },
  {
   "cell_type": "code",
   "execution_count": 2,
   "id": "0e17e467",
   "metadata": {},
   "outputs": [],
   "source": [
    "df_2023= pd.read_csv('data/2023/외래관광객조사_2023_전처리3(세분화).csv')\n",
    "df_2024= pd.read_csv('data/2024/외래관광객조사_2024_전처리3(세분화).csv')"
   ]
  },
  {
   "cell_type": "code",
   "execution_count": 3,
   "id": "cefe87d9",
   "metadata": {},
   "outputs": [],
   "source": [
    "# 2024년 컬럼명 통일\n",
    "df_2024.rename(columns={\n",
    "    '총액1인TOT_개별국제교통비제외2': '총액1인TOT항공제외2'\n",
    "}, inplace=True)"
   ]
  },
  {
   "cell_type": "code",
   "execution_count": 4,
   "id": "b8c99c03",
   "metadata": {},
   "outputs": [
    {
     "name": "stdout",
     "output_type": "stream",
     "text": [
      "False\n"
     ]
    }
   ],
   "source": [
    "print('총액1인TOT_개별국제교통비제외2' in df_2024.columns)"
   ]
  },
  {
   "cell_type": "code",
   "execution_count": 5,
   "id": "6c3dc487",
   "metadata": {},
   "outputs": [
    {
     "name": "stdout",
     "output_type": "stream",
     "text": [
      "True\n"
     ]
    }
   ],
   "source": [
    "print('총액1인TOT항공제외2' in df_2024.columns)"
   ]
  },
  {
   "cell_type": "code",
   "execution_count": 6,
   "id": "7882bcf4",
   "metadata": {},
   "outputs": [
    {
     "name": "stdout",
     "output_type": "stream",
     "text": [
      "['D_NAT', 'M일HAP', 'Q7A', 'Q7a_dk', 'Q7a2', 'Q7a3', 'Q7a4', 'Q7a5', 'Q7a6', 'Q7a7', 'Q7a8', 'D_GUB', 'D_MOK', '총액1인TOT항공제외2', 'Q8a03', 'Q8a12', 'Q8_1a1', 'Q8_1a2', 'Q8_1a3', 'D_AGE', '동행자_단순', '동행자_세분화', '국가명', '연령대_단순', '연령대_세분화', '웰니스참여', '웰니스만족', 'log_총액', 'year']\n"
     ]
    }
   ],
   "source": [
    "print(df_2024.columns.tolist())"
   ]
  },
  {
   "cell_type": "code",
   "execution_count": 7,
   "id": "4b915713",
   "metadata": {},
   "outputs": [],
   "source": [
    "# 23, 24년도 데이터 병합\n",
    "df_all = pd.concat([df_2023, df_2024], ignore_index=True)"
   ]
  },
  {
   "cell_type": "code",
   "execution_count": 8,
   "id": "0e2513e0",
   "metadata": {},
   "outputs": [
    {
     "name": "stdout",
     "output_type": "stream",
     "text": [
      "(17123, 29)\n",
      "year\n",
      "2024    8769\n",
      "2023    8354\n",
      "Name: count, dtype: int64\n"
     ]
    }
   ],
   "source": [
    "# 병합된 데이터 확인\n",
    "print(df_all.shape)\n",
    "print(df_all['year'].value_counts())  # 연도별 분포 확인"
   ]
  },
  {
   "cell_type": "markdown",
   "id": "8257ca71",
   "metadata": {},
   "source": [
    "### 연령대별 사용 총액 분석"
   ]
  },
  {
   "cell_type": "code",
   "execution_count": 9,
   "id": "7a4edc70",
   "metadata": {},
   "outputs": [
    {
     "data": {
      "application/vnd.microsoft.datawrangler.viewer.v0+json": {
       "columns": [
        {
         "name": "연령대_단순",
         "rawType": "object",
         "type": "string"
        },
        {
         "name": "count",
         "rawType": "int64",
         "type": "integer"
        }
       ],
       "ref": "634a68db-7128-4c85-9026-f70ea63a57b0",
       "rows": [
        [
         "30~50대",
         "9596"
        ],
        [
         "20대",
         "6117"
        ],
        [
         "60대 이상",
         "974"
        ],
        [
         "10대",
         "436"
        ]
       ],
       "shape": {
        "columns": 1,
        "rows": 4
       }
      },
      "text/plain": [
       "연령대_단순\n",
       "30~50대    9596\n",
       "20대       6117\n",
       "60대 이상     974\n",
       "10대        436\n",
       "Name: count, dtype: int64"
      ]
     },
     "execution_count": 9,
     "metadata": {},
     "output_type": "execute_result"
    }
   ],
   "source": [
    "df_all['연령대_단순'].value_counts()"
   ]
  },
  {
   "cell_type": "code",
   "execution_count": 10,
   "id": "9e45da45",
   "metadata": {},
   "outputs": [
    {
     "name": "stdout",
     "output_type": "stream",
     "text": [
      "연령대_단순\n",
      "10대       1160.0\n",
      "20대       1268.6\n",
      "30~50대    1445.3\n",
      "60대 이상    1252.9\n",
      "Name: 총액1인TOT항공제외2, dtype: float64\n"
     ]
    }
   ],
   "source": [
    "# 연령대별 평균 총액\n",
    "avg_total_by_age = df_all.groupby('연령대_단순')['총액1인TOT항공제외2'].mean().round(1).sort_index()\n",
    "print(avg_total_by_age)"
   ]
  },
  {
   "cell_type": "markdown",
   "id": "9fe7f063",
   "metadata": {},
   "source": [
    "- 30~50대가 총액1인소비가 가장 큰 그룹으로 나타남\n",
    "- 30~50대 > 20대 > 60대 이상 > 10대 순으로 연령대별 평균 소비 총액을 확인할 수 있음 "
   ]
  },
  {
   "cell_type": "code",
   "execution_count": 11,
   "id": "49c0d523",
   "metadata": {},
   "outputs": [
    {
     "data": {
      "application/vnd.microsoft.datawrangler.viewer.v0+json": {
       "columns": [
        {
         "name": "연령대_세분화",
         "rawType": "object",
         "type": "string"
        },
        {
         "name": "count",
         "rawType": "int64",
         "type": "integer"
        }
       ],
       "ref": "15ffaf75-b3e4-460d-857d-e81f458e3b1f",
       "rows": [
        [
         "20대",
         "6117"
        ],
        [
         "30대",
         "4189"
        ],
        [
         "50대",
         "2776"
        ],
        [
         "40대",
         "2631"
        ],
        [
         "60대 이상",
         "974"
        ],
        [
         "10대",
         "436"
        ]
       ],
       "shape": {
        "columns": 1,
        "rows": 6
       }
      },
      "text/plain": [
       "연령대_세분화\n",
       "20대       6117\n",
       "30대       4189\n",
       "50대       2776\n",
       "40대       2631\n",
       "60대 이상     974\n",
       "10대        436\n",
       "Name: count, dtype: int64"
      ]
     },
     "execution_count": 11,
     "metadata": {},
     "output_type": "execute_result"
    }
   ],
   "source": [
    "df_all['연령대_세분화'].value_counts()"
   ]
  },
  {
   "cell_type": "code",
   "execution_count": 12,
   "id": "27370eb5",
   "metadata": {},
   "outputs": [
    {
     "name": "stdout",
     "output_type": "stream",
     "text": [
      "연령대_세분화\n",
      "10대       1160.0\n",
      "20대       1268.6\n",
      "30대       1465.3\n",
      "40대       1476.9\n",
      "50대       1385.0\n",
      "60대 이상    1252.9\n",
      "Name: 총액1인TOT항공제외2, dtype: float64\n"
     ]
    }
   ],
   "source": [
    "# 연령대별 평균 총액\n",
    "avg_total_by_age = df_all.groupby('연령대_세분화')['총액1인TOT항공제외2'].mean().round(1).sort_index()\n",
    "print(avg_total_by_age)"
   ]
  },
  {
   "cell_type": "code",
   "execution_count": 13,
   "id": "6cbd15cb",
   "metadata": {},
   "outputs": [
    {
     "name": "stdout",
     "output_type": "stream",
     "text": [
      "count    17123.000000\n",
      "mean      1363.952237\n",
      "std       1272.311095\n",
      "min        139.800000\n",
      "25%        665.133847\n",
      "50%        987.620000\n",
      "75%       1561.700000\n",
      "max       9549.510000\n",
      "Name: 총액1인TOT항공제외2, dtype: float64\n"
     ]
    }
   ],
   "source": [
    "print(df_all['총액1인TOT항공제외2'].describe())"
   ]
  },
  {
   "cell_type": "code",
   "execution_count": 14,
   "id": "c9309653",
   "metadata": {},
   "outputs": [
    {
     "data": {
      "image/png": "[encoded data removed]",
      "text/plain": [
       "<Figure size 800x500 with 1 Axes>"
      ]
     },
     "metadata": {},
     "output_type": "display_data"
    }
   ],
   "source": [
    "plt.figure(figsize=(8, 5))\n",
    "sns.histplot(df_all['총액1인TOT항공제외2'], bins=50, kde=True)\n",
    "plt.title(\"총액1인TOT항공제외2 분포\")\n",
    "plt.xlabel(\"총액 (USD)\")\n",
    "plt.ylabel(\"빈도수\")\n",
    "plt.show()"
   ]
  },
  {
   "cell_type": "code",
   "execution_count": 15,
   "id": "095c8f39",
   "metadata": {},
   "outputs": [
    {
     "data": {
      "image/png": "[encoded data removed]",
      "text/plain": [
       "<Figure size 800x500 with 1 Axes>"
      ]
     },
     "metadata": {},
     "output_type": "display_data"
    }
   ],
   "source": [
    "plt.figure(figsize=(8, 5))\n",
    "sns.histplot(df_all['log_총액'], bins=50, kde=True, color='orange')\n",
    "plt.title(\"log_총액 분포\")\n",
    "plt.xlabel(\"로그 변환된 총액\")\n",
    "plt.ylabel(\"빈도수\")\n",
    "plt.show()"
   ]
  },
  {
   "cell_type": "code",
   "execution_count": 16,
   "id": "a5d58f7c",
   "metadata": {},
   "outputs": [
    {
     "name": "stdout",
     "output_type": "stream",
     "text": [
      "연령대_단순\n",
      "10대       6.798\n",
      "20대       6.870\n",
      "30~50대    7.003\n",
      "60대 이상    6.829\n",
      "Name: log_총액, dtype: float64\n"
     ]
    }
   ],
   "source": [
    "# 연령대별 평균 log_총액 구하기\n",
    "avg_log_by_age = df_all.groupby('연령대_단순')['log_총액'].mean().round(3)\n",
    "print(avg_log_by_age)"
   ]
  },
  {
   "cell_type": "code",
   "execution_count": 17,
   "metadata": {},
   "outputs": [],
   "source": [
    "df_all['예상_총액'] = np.exp(df_all['log_총액']) - 1"
   ]
  },
  {
   "cell_type": "code",
   "execution_count": 18,
   "metadata": {},
   "outputs": [
    {
     "name": "stdout",
     "output_type": "stream",
     "text": [
      "연령대_단순\n",
      "10대       1159.0\n",
      "20대       1267.6\n",
      "30~50대    1444.3\n",
      "60대 이상    1251.9\n",
      "Name: 예상_총액, dtype: float64\n"
     ]
    }
   ],
   "source": [
    "avg_total_by_age = df_all.groupby('연령대_단순')['예상_총액'].mean().round(1)\n",
    "print(avg_total_by_age)"
   ]
  },
  {
   "cell_type": "markdown",
   "id": "8d1d8644",
   "metadata": {},
   "source": [
    "### 연령대별 자녀 동반 여부에 따른 소비 총액 차이"
   ]
  },
  {
   "cell_type": "markdown",
   "id": "30dd900b",
   "metadata": {},
   "source": [
    "#### 연령대_단순 기준 \n",
    "- 10대, 20대, 30~50대, 60대 이상"
   ]
  },
  {
   "cell_type": "code",
   "execution_count": 19,
   "id": "6745e6f0",
   "metadata": {},
   "outputs": [],
   "source": [
    "# 동행자_세분화 컬럼 중에서 '자녀'와 함께온 관광객은 자녀O, 아닌 그룹은 자녀X 그룹으로 나눔\n",
    "df_all['자녀동반'] = df_all['동행자_세분화'].apply(lambda x: '자녀O' if x == '자녀' else '자녀X')"
   ]
  },
  {
   "cell_type": "code",
   "execution_count": 20,
   "id": "2d964e1e",
   "metadata": {},
   "outputs": [
    {
     "data": {
      "application/vnd.microsoft.datawrangler.viewer.v0+json": {
       "columns": [
        {
         "name": "연령대_단순",
         "rawType": "object",
         "type": "string"
        },
        {
         "name": "count",
         "rawType": "int64",
         "type": "integer"
        }
       ],
       "ref": "6a2aa1c7-4461-4587-81ab-919cc861a9f0",
       "rows": [
        [
         "30~50대",
         "9596"
        ],
        [
         "20대",
         "6117"
        ],
        [
         "60대 이상",
         "974"
        ],
        [
         "10대",
         "436"
        ]
       ],
       "shape": {
        "columns": 1,
        "rows": 4
       }
      },
      "text/plain": [
       "연령대_단순\n",
       "30~50대    9596\n",
       "20대       6117\n",
       "60대 이상     974\n",
       "10대        436\n",
       "Name: count, dtype: int64"
      ]
     },
     "execution_count": 20,
     "metadata": {},
     "output_type": "execute_result"
    }
   ],
   "source": [
    "df_all['연령대_단순'].value_counts()"
   ]
  },
  {
   "cell_type": "code",
   "execution_count": 21,
   "id": "3d660a94",
   "metadata": {},
   "outputs": [
    {
     "data": {
      "application/vnd.microsoft.datawrangler.viewer.v0+json": {
       "columns": [
        {
         "name": "연령대_단순",
         "rawType": "object",
         "type": "string"
        },
        {
         "name": "0",
         "rawType": "int64",
         "type": "integer"
        }
       ],
       "ref": "19782a91-5c80-4ce2-980c-766b954f9537",
       "rows": [
        [
         "10대",
         "1"
        ],
        [
         "20대",
         "15"
        ],
        [
         "30~50대",
         "698"
        ],
        [
         "60대 이상",
         "114"
        ]
       ],
       "shape": {
        "columns": 1,
        "rows": 4
       }
      },
      "text/plain": [
       "연령대_단순\n",
       "10대         1\n",
       "20대        15\n",
       "30~50대    698\n",
       "60대 이상    114\n",
       "dtype: int64"
      ]
     },
     "execution_count": 21,
     "metadata": {},
     "output_type": "execute_result"
    }
   ],
   "source": [
    "df_all.query(\"자녀동반 == '자녀O'\").groupby('연령대_단순').size()"
   ]
  },
  {
   "cell_type": "code",
   "execution_count": 22,
   "id": "016dca44",
   "metadata": {},
   "outputs": [
    {
     "name": "stdout",
     "output_type": "stream",
     "text": [
      "['자녀X' '자녀O']\n"
     ]
    }
   ],
   "source": [
    "print(df_all['자녀동반'].unique())"
   ]
  },
  {
   "cell_type": "code",
   "execution_count": 23,
   "id": "39752e45",
   "metadata": {},
   "outputs": [],
   "source": [
    "# 10대 제외 필터링\n",
    "df_filtered = df_all[df_all['연령대_단순'] != '10대']"
   ]
  },
  {
   "cell_type": "code",
   "execution_count": 24,
   "metadata": {},
   "outputs": [
    {
     "name": "stdout",
     "output_type": "stream",
     "text": [
      "자녀동반       자녀O     자녀X\n",
      "연령대_단순                \n",
      "20대     1360.4  1267.4\n",
      "30~50대  1298.2  1455.7\n",
      "60대 이상  1172.4  1262.5\n"
     ]
    }
   ],
   "source": [
    "# 연령대별 × 자녀 동반 여부별 평균 소비액 확인\n",
    "## 예상 총액 기준으로 평균 비교\n",
    "pivot = df_filtered.pivot_table(\n",
    "    index='연령대_단순',\n",
    "    columns='자녀동반',\n",
    "    values='예상_총액',\n",
    "    aggfunc='mean'\n",
    ").round(1)\n",
    "\n",
    "print(pivot)"
   ]
  },
  {
   "cell_type": "code",
   "execution_count": 25,
   "id": "ec8d62c1",
   "metadata": {},
   "outputs": [
    {
     "name": "stdout",
     "output_type": "stream",
     "text": [
      "연령대_단순\n",
      "20대        15\n",
      "30~50대    698\n",
      "60대 이상    114\n",
      "dtype: int64\n"
     ]
    },
    {
     "data": {
      "application/vnd.microsoft.datawrangler.viewer.v0+json": {
       "columns": [
        {
         "name": "연령대_단순",
         "rawType": "object",
         "type": "string"
        },
        {
         "name": "자녀동반비율",
         "rawType": "object",
         "type": "string"
        }
       ],
       "ref": "110795f7-7a0b-459e-b948-4cc80fbb813d",
       "rows": [
        [
         "20대",
         "0.2%"
        ],
        [
         "30~50대",
         "7.3%"
        ],
        [
         "60대 이상",
         "11.7%"
        ]
       ],
       "shape": {
        "columns": 1,
        "rows": 3
       }
      },
      "text/plain": [
       "연령대_단순\n",
       "20대        0.2%\n",
       "30~50대     7.3%\n",
       "60대 이상    11.7%\n",
       "Name: 자녀동반비율, dtype: object"
      ]
     },
     "execution_count": 25,
     "metadata": {},
     "output_type": "execute_result"
    }
   ],
   "source": [
    "# 자녀 동반 비율\n",
    "# 전체 인원 수\n",
    "total = df_filtered.groupby('연령대_단순').size()\n",
    "\n",
    "# 자녀동반 인원 수\n",
    "with_child = df_filtered[df_filtered['자녀동반'] == '자녀O'].groupby('연령대_단순').size()\n",
    "\n",
    "# 비율 계산\n",
    "pivot['자녀동반비율'] = (with_child / total * 100).round(1).astype(str) + '%'\n",
    "\n",
    "print(with_child)\n",
    "pivot['자녀동반비율']"
   ]
  },
  {
   "cell_type": "markdown",
   "id": "118b63fd",
   "metadata": {},
   "source": [
    "| 연령대     | 자녀O 평균 소비액 | 자녀X 평균 소비액 | 차이 (자녀X - 자녀O)            |\n",
    "| ------- | ---------- | ---------- | ------------------------- |\n",
    "| 20대     | \\$1,360.4  | \\$1,267.4  | **-93.0** (자녀 동반 시 소비 ↑)  |\n",
    "| 30\\~50대 | \\$1,298.2  | \\$1,455.7  | **+157.5** (자녀 동반 시 소비 ↓) |\n",
    "| 60대 이상  | \\$1,172.4  | \\$1,262.5  | **+90.1** (자녀 동반 시 소비 ↓)  |\n"
   ]
  },
  {
   "cell_type": "markdown",
   "id": "b7cdda91",
   "metadata": {},
   "source": [
    "- 20대만 자녀 동반 시 소비가 증가 (다만, 표본수가 다른 그룹보다 적기에 신뢰도 낮음)\n",
    "- 30~50대는 자녀 동반 시 평균 소비 감소 (30~50대 전체 표본수에 비해 자녀와 함계한 30~50대의 표본차가 큼)\n",
    "- 자녀 미동반 시 평균 소비가 약 $157 더 높음\n",
    "- 자녀 동반 시 비용 부담을 줄이거나, 여행 스타일 자체가 달라질 가능성 존재\n",
    "- 체험 위주 -> 실내/단기 체류\n",
    "- 60대도 비슷한 경향\n",
    "- 자녀 미동반 시 소비가 더 높음\n",
    "- 다만 전반적으로 평균 소비 자체가 낮음 (60대 특징)"
   ]
  },
  {
   "cell_type": "markdown",
   "id": "dbd23180",
   "metadata": {},
   "source": [
    "- 30~50대: 자녀 없이 여행하는 중장년층이 가장 높은 소비력 보유층으로 타겟팅 가치 큼\n",
    "- 60대 이상: 자녀와 함께 여행하더라도 소비는 제한적 → 저가형, 휴식형 콘텐츠 전략 적합"
   ]
  },
  {
   "cell_type": "markdown",
   "id": "ce53a437",
   "metadata": {},
   "source": [
    "#### 연령대_세분화 기준"
   ]
  },
  {
   "cell_type": "code",
   "execution_count": 26,
   "id": "18495c34",
   "metadata": {},
   "outputs": [
    {
     "data": {
      "application/vnd.microsoft.datawrangler.viewer.v0+json": {
       "columns": [
        {
         "name": "연령대_세분화",
         "rawType": "object",
         "type": "string"
        },
        {
         "name": "0",
         "rawType": "int64",
         "type": "integer"
        }
       ],
       "ref": "a7615c18-4c08-4725-bf48-aee25bbb4d72",
       "rows": [
        [
         "10대",
         "1"
        ],
        [
         "20대",
         "15"
        ],
        [
         "30대",
         "113"
        ],
        [
         "40대",
         "206"
        ],
        [
         "50대",
         "379"
        ],
        [
         "60대 이상",
         "114"
        ]
       ],
       "shape": {
        "columns": 1,
        "rows": 6
       }
      },
      "text/plain": [
       "연령대_세분화\n",
       "10대         1\n",
       "20대        15\n",
       "30대       113\n",
       "40대       206\n",
       "50대       379\n",
       "60대 이상    114\n",
       "dtype: int64"
      ]
     },
     "execution_count": 26,
     "metadata": {},
     "output_type": "execute_result"
    }
   ],
   "source": [
    "df_all.query(\"자녀동반 == '자녀O'\").groupby('연령대_세분화').size()"
   ]
  },
  {
   "cell_type": "code",
   "execution_count": 27,
   "id": "ed528def",
   "metadata": {},
   "outputs": [],
   "source": [
    "# 10대 제외 필터링\n",
    "df_filtered = df_all[df_all['연령대_세분화'] != '10대']"
   ]
  },
  {
   "cell_type": "code",
   "execution_count": 28,
   "id": "5036e147",
   "metadata": {},
   "outputs": [
    {
     "name": "stdout",
     "output_type": "stream",
     "text": [
      "자녀동반        자녀O     자녀X\n",
      "연령대_세분화                \n",
      "20대      1360.4  1267.4\n",
      "30대      1329.7  1468.1\n",
      "40대      1424.3  1480.2\n",
      "50대      1220.3  1409.9\n",
      "60대 이상   1172.4  1262.5\n"
     ]
    }
   ],
   "source": [
    "# 연령대별 × 자녀 동반 여부별 평균 소비액 확인\n",
    "## 예상 총액 기준으로 평균 비교\n",
    "pivot = df_filtered.pivot_table(\n",
    "    index='연령대_세분화',\n",
    "    columns='자녀동반',\n",
    "    values='예상_총액',\n",
    "    aggfunc='mean'\n",
    ").round(1)\n",
    "\n",
    "print(pivot)"
   ]
  },
  {
   "cell_type": "markdown",
   "id": "558aed7f",
   "metadata": {},
   "source": [
    "### 왜 자녀를 동반하면 소비가 줄어들까?"
   ]
  },
  {
   "cell_type": "markdown",
   "id": "03441ccd",
   "metadata": {},
   "source": [
    "1. 1인당 지출이 분산됨\n",
    "- 숙소·음식·이동 등에서 전체 비용은 증가하나, 개별 체험/사치 지출은 감소\n",
    "\n",
    "2. 자녀 중심 일정으로 전환됨\n",
    "- 웰니스 콘텐츠(명상, 뷰티, 스파 등)는 어른 중심 활동\n",
    "- 자녀가 있으면 소극적 선택, 체험 종류 제한됨\n",
    "\n",
    "3. 예산 조정 심리\n",
    "- 가족 단위 여행은 전체 예산이 커지므로, 개별 항목에서 지출 절제\n",
    "\n",
    "4. 왜 30~50대 자녀 미동반자는 핵심 소비자인가?\n",
    "- 경제활동 주력층 + 체력과 여가 모두 확보된 세대\n",
    "- 자녀 없이 여행할 경우: 자기만족 중심 소비 가능\n",
    "- 웰니스 콘텐츠(명상, 스파, 치유 등)에 높은 관심과 지출 여력\n",
    "\n",
    "5. 결론\n",
    "- 웰니스 관광의 핵심 소비자는 ‘자녀 없이 여행하는 30~50대’다."
   ]
  },
  {
   "cell_type": "markdown",
   "id": "8afe2158",
   "metadata": {},
   "source": [
    "- 관광객 / 웰니스 관광객 구분해서 더 분석해보기"
   ]
  },
  {
   "cell_type": "markdown",
   "id": "37af2611",
   "metadata": {},
   "source": [
    "## 웰니스 관광객 사용 총액 분석"
   ]
  },
  {
   "cell_type": "code",
   "execution_count": 51,
   "id": "d7d0b0ee",
   "metadata": {},
   "outputs": [],
   "source": [
    "# 웰니스 관광객만 필터링\n",
    "wellness_df = df_all[df_all['웰니스참여'] == 1]"
   ]
  },
  {
   "cell_type": "code",
   "execution_count": 53,
   "id": "5a455b0b",
   "metadata": {},
   "outputs": [
    {
     "data": {
      "application/vnd.microsoft.datawrangler.viewer.v0+json": {
       "columns": [
        {
         "name": "index",
         "rawType": "int64",
         "type": "integer"
        },
        {
         "name": "D_NAT",
         "rawType": "int64",
         "type": "integer"
        },
        {
         "name": "M일HAP",
         "rawType": "int64",
         "type": "integer"
        },
        {
         "name": "Q7A",
         "rawType": "int64",
         "type": "integer"
        },
        {
         "name": "Q7a_dk",
         "rawType": "float64",
         "type": "float"
        },
        {
         "name": "Q7a2",
         "rawType": "float64",
         "type": "float"
        },
        {
         "name": "Q7a3",
         "rawType": "float64",
         "type": "float"
        },
        {
         "name": "Q7a4",
         "rawType": "float64",
         "type": "float"
        },
        {
         "name": "Q7a5",
         "rawType": "float64",
         "type": "float"
        },
        {
         "name": "Q7a6",
         "rawType": "float64",
         "type": "float"
        },
        {
         "name": "Q7a7",
         "rawType": "float64",
         "type": "float"
        },
        {
         "name": "Q7a8",
         "rawType": "float64",
         "type": "float"
        },
        {
         "name": "D_GUB",
         "rawType": "int64",
         "type": "integer"
        },
        {
         "name": "D_MOK",
         "rawType": "int64",
         "type": "integer"
        },
        {
         "name": "총액1인TOT항공제외2",
         "rawType": "float64",
         "type": "float"
        },
        {
         "name": "Q8a03",
         "rawType": "float64",
         "type": "float"
        },
        {
         "name": "Q8a12",
         "rawType": "float64",
         "type": "float"
        },
        {
         "name": "Q8_1a1",
         "rawType": "int64",
         "type": "integer"
        },
        {
         "name": "Q8_1a2",
         "rawType": "float64",
         "type": "float"
        },
        {
         "name": "Q8_1a3",
         "rawType": "float64",
         "type": "float"
        },
        {
         "name": "D_AGE",
         "rawType": "int64",
         "type": "integer"
        },
        {
         "name": "동행자_단순",
         "rawType": "object",
         "type": "string"
        },
        {
         "name": "동행자_세분화",
         "rawType": "object",
         "type": "string"
        },
        {
         "name": "국가명",
         "rawType": "object",
         "type": "string"
        },
        {
         "name": "연령대_단순",
         "rawType": "object",
         "type": "string"
        },
        {
         "name": "연령대_세분화",
         "rawType": "object",
         "type": "string"
        },
        {
         "name": "웰니스참여",
         "rawType": "int64",
         "type": "integer"
        },
        {
         "name": "웰니스만족",
         "rawType": "int64",
         "type": "integer"
        },
        {
         "name": "log_총액",
         "rawType": "float64",
         "type": "float"
        },
        {
         "name": "year",
         "rawType": "int64",
         "type": "integer"
        },
        {
         "name": "예상_총액",
         "rawType": "float64",
         "type": "float"
        },
        {
         "name": "자녀동반",
         "rawType": "object",
         "type": "string"
        }
       ],
       "ref": "b43b4f45-4a21-4eeb-80a6-4a8eec74949c",
       "rows": [
        [
         "1",
         "1",
         "7",
         "1",
         "1.0",
         null,
         null,
         null,
         null,
         null,
         null,
         null,
         "1",
         "2",
         "1621.28",
         "3.0",
         null,
         "11",
         "2.0",
         "3.0",
         "3",
         "혼자",
         "혼자",
         "중국",
         "30~50대",
         "30대",
         "1",
         "1",
         "7.390971239700008",
         "2023",
         "1620.2800000000007",
         "자녀X"
        ],
        [
         "4",
         "3",
         "8",
         "2",
         null,
         null,
         null,
         null,
         null,
         "6.0",
         null,
         null,
         "1",
         "1",
         "1336.6",
         "3.0",
         null,
         "2",
         "3.0",
         "1.0",
         "2",
         "친구",
         "친구",
         "대만",
         "20대",
         "20대",
         "1",
         "1",
         "7.19788435507697",
         "2023",
         "1335.6",
         "자녀X"
        ],
        [
         "7",
         "5",
         "6",
         "2",
         null,
         null,
         null,
         null,
         null,
         "6.0",
         null,
         null,
         "1",
         "1",
         "1790.84",
         "3.0",
         null,
         "3",
         "2.0",
         "15.0",
         "3",
         "친구",
         "친구",
         "홍콩",
         "30~50대",
         "30대",
         "1",
         "1",
         "7.49044006250333",
         "2023",
         "1789.8400000000004",
         "자녀X"
        ],
        [
         "8",
         "3",
         "6",
         "2",
         null,
         "2.0",
         null,
         null,
         null,
         null,
         null,
         null,
         "1",
         "1",
         "805.22",
         "3.0",
         null,
         "3",
         "1.0",
         "2.0",
         "2",
         "가족",
         "배우자/파트너",
         "대만",
         "20대",
         "20대",
         "1",
         "1",
         "6.691115532006593",
         "2023",
         "804.2199999999999",
         "자녀X"
        ],
        [
         "9",
         "3",
         "5",
         "2",
         null,
         null,
         null,
         null,
         null,
         "6.0",
         null,
         null,
         "3",
         "1",
         "1352.9",
         "3.0",
         null,
         "3",
         "1.0",
         "8.0",
         "3",
         "친구",
         "친구",
         "대만",
         "30~50대",
         "30대",
         "1",
         "1",
         "7.210005715609315",
         "2023",
         "1351.9",
         "자녀X"
        ],
        [
         "12",
         "3",
         "5",
         "2",
         null,
         null,
         null,
         "4.0",
         null,
         null,
         null,
         null,
         "3",
         "1",
         "1630.0",
         "3.0",
         null,
         "8",
         "11.0",
         "3.0",
         "4",
         "가족",
         "자녀",
         "대만",
         "30~50대",
         "40대",
         "1",
         "1",
         "7.396335293800808",
         "2023",
         "1629.0000000000005",
         "자녀O"
        ],
        [
         "13",
         "16",
         "7",
         "1",
         "1.0",
         null,
         null,
         null,
         null,
         null,
         null,
         null,
         "1",
         "2",
         "2145.26",
         "3.0",
         null,
         "1",
         "2.0",
         "3.0",
         "4",
         "혼자",
         "혼자",
         "영국",
         "30~50대",
         "40대",
         "1",
         "1",
         "7.671016036137734",
         "2023",
         "2144.260000000001",
         "자녀X"
        ],
        [
         "14",
         "7",
         "3",
         "1",
         "1.0",
         null,
         null,
         null,
         null,
         null,
         null,
         null,
         "1",
         "1",
         "733.44",
         "3.0",
         null,
         "4",
         "2.0",
         "3.0",
         "2",
         "혼자",
         "혼자",
         "베트남",
         "20대",
         "20대",
         "1",
         "1",
         "6.597745794646266",
         "2023",
         "732.4400000000004",
         "자녀X"
        ],
        [
         "19",
         "10",
         "10",
         "2",
         null,
         "2.0",
         null,
         "4.0",
         null,
         null,
         null,
         null,
         "1",
         "1",
         "4222.23",
         null,
         "12.0",
         "1",
         "12.0",
         "2.0",
         "3",
         "가족",
         "배우자/파트너",
         "싱가포르",
         "30~50대",
         "30대",
         "1",
         "1",
         "8.348118703475869",
         "2023",
         "4221.229999999996",
         "자녀X"
        ],
        [
         "20",
         "4",
         "10",
         "2",
         null,
         null,
         "3.0",
         null,
         null,
         null,
         null,
         null,
         "1",
         "1",
         "910.0",
         "3.0",
         null,
         "9",
         "1.0",
         "4.0",
         "3",
         "가족",
         "부모님",
         "미국",
         "30~50대",
         "30대",
         "1",
         "0",
         "6.813444599510896",
         "2023",
         "908.9999999999999",
         "자녀X"
        ],
        [
         "22",
         "1",
         "8",
         "2",
         null,
         null,
         "3.0",
         null,
         null,
         null,
         null,
         null,
         "1",
         "2",
         "1111.88",
         "3.0",
         null,
         "1",
         "2.0",
         "3.0",
         "1",
         "가족",
         "부모님",
         "중국",
         "10대",
         "10대",
         "1",
         "1",
         "7.0138075553183645",
         "2023",
         "1110.8800000000006",
         "자녀X"
        ],
        [
         "23",
         "5",
         "7",
         "2",
         null,
         "2.0",
         null,
         "4.0",
         null,
         null,
         null,
         null,
         "2",
         "1",
         "1477.42",
         "3.0",
         null,
         "6",
         "3.0",
         "2.0",
         "3",
         "가족",
         "배우자/파트너",
         "홍콩",
         "30~50대",
         "30대",
         "1",
         "1",
         "7.298052602298258",
         "2023",
         "1476.4200000000003",
         "자녀X"
        ],
        [
         "25",
         "10",
         "7",
         "2",
         null,
         null,
         null,
         null,
         "5.0",
         null,
         null,
         null,
         "1",
         "1",
         "1092.81",
         "3.0",
         null,
         "2",
         "3.0",
         "4.0",
         "3",
         "가족",
         "그 외 가족 친지",
         "싱가포르",
         "30~50대",
         "30대",
         "1",
         "1",
         "6.996507639579928",
         "2023",
         "1091.8099999999997",
         "자녀X"
        ],
        [
         "26",
         "10",
         "7",
         "2",
         null,
         "2.0",
         "3.0",
         "4.0",
         null,
         null,
         null,
         null,
         "1",
         "1",
         "4743.8",
         "3.0",
         null,
         "15",
         "4.0",
         "3.0",
         "3",
         "가족",
         "배우자/파트너",
         "싱가포르",
         "30~50대",
         "30대",
         "1",
         "1",
         "8.464593781272846",
         "2023",
         "4742.800000000001",
         "자녀X"
        ],
        [
         "28",
         "1",
         "24",
         "2",
         null,
         null,
         null,
         "4.0",
         null,
         null,
         null,
         null,
         "1",
         "2",
         "1010.8",
         "3.0",
         null,
         "3",
         "2.0",
         null,
         "4",
         "가족",
         "자녀",
         "중국",
         "30~50대",
         "40대",
         "1",
         "1",
         "6.918497375514039",
         "2023",
         "1009.7999999999997",
         "자녀O"
        ],
        [
         "29",
         "10",
         "6",
         "2",
         null,
         "2.0",
         "3.0",
         "4.0",
         null,
         null,
         null,
         null,
         "1",
         "1",
         "1583.34",
         "3.0",
         null,
         "2",
         "15.0",
         "3.0",
         "2",
         "가족",
         "배우자/파트너",
         "싱가포르",
         "20대",
         "20대",
         "1",
         "1",
         "7.367291818878028",
         "2023",
         "1582.3399999999992",
         "자녀X"
        ],
        [
         "30",
         "10",
         "7",
         "2",
         null,
         null,
         "3.0",
         "4.0",
         null,
         null,
         null,
         null,
         "2",
         "2",
         "2210.46",
         "3.0",
         null,
         "15",
         "2.0",
         "1.0",
         "4",
         "가족",
         "부모님",
         "싱가포르",
         "30~50대",
         "40대",
         "1",
         "0",
         "7.700955917649056",
         "2023",
         "2209.46",
         "자녀X"
        ],
        [
         "33",
         "6",
         "17",
         "1",
         "1.0",
         null,
         null,
         null,
         null,
         null,
         null,
         null,
         "1",
         "1",
         "2225.3",
         "3.0",
         null,
         "10",
         "3.0",
         "2.0",
         "2",
         "혼자",
         "혼자",
         "태국",
         "20대",
         "20대",
         "1",
         "1",
         "7.7076470169720706",
         "2023",
         "2224.3000000000006",
         "자녀X"
        ],
        [
         "39",
         "6",
         "5",
         "2",
         null,
         null,
         "3.0",
         null,
         null,
         null,
         null,
         null,
         "1",
         "1",
         "752.85",
         "3.0",
         null,
         "2",
         "1.0",
         "3.0",
         "6",
         "가족",
         "부모님",
         "태국",
         "60대 이상",
         "60대 이상",
         "1",
         "1",
         "6.623866004769052",
         "2023",
         "751.8499999999999",
         "자녀X"
        ],
        [
         "40",
         "4",
         "5",
         "2",
         null,
         "2.0",
         null,
         null,
         null,
         null,
         null,
         null,
         "1",
         "1",
         "1365.0",
         "3.0",
         "12.0",
         "11",
         "2.0",
         "1.0",
         "6",
         "가족",
         "배우자/파트너",
         "미국",
         "60대 이상",
         "60대 이상",
         "1",
         "0",
         "7.21890970761906",
         "2023",
         "1364.0000000000002",
         "자녀X"
        ],
        [
         "43",
         "4",
         "13",
         "2",
         null,
         "2.0",
         null,
         null,
         null,
         null,
         null,
         null,
         "1",
         "2",
         "980.0",
         "3.0",
         null,
         "4",
         "2.0",
         "3.0",
         "5",
         "가족",
         "배우자/파트너",
         "미국",
         "30~50대",
         "50대",
         "1",
         "1",
         "6.887552571664617",
         "2023",
         "978.9999999999998",
         "자녀X"
        ],
        [
         "44",
         "7",
         "4",
         "2",
         null,
         null,
         "3.0",
         null,
         null,
         "6.0",
         null,
         null,
         "3",
         "1",
         "1265.0",
         null,
         "12.0",
         "8",
         "1.0",
         "2.0",
         "1",
         "가족",
         "부모님",
         "베트남",
         "10대",
         "10대",
         "1",
         "0",
         "7.142827401161621",
         "2023",
         "1264.0000000000002",
         "자녀X"
        ],
        [
         "46",
         "7",
         "5",
         "2",
         null,
         null,
         null,
         null,
         null,
         "6.0",
         null,
         null,
         "3",
         "1",
         "1302.0",
         "3.0",
         null,
         "11",
         "2.0",
         "6.0",
         "2",
         "친구",
         "친구",
         "베트남",
         "20대",
         "20대",
         "1",
         "0",
         "7.171656822768514",
         "2023",
         "1300.9999999999995",
         "자녀X"
        ],
        [
         "47",
         "4",
         "3",
         "2",
         null,
         null,
         null,
         null,
         "5.0",
         null,
         null,
         null,
         "1",
         "1",
         "520.0",
         "3.0",
         null,
         "3",
         "4.0",
         "1.0",
         "3",
         "가족",
         "그 외 가족 친지",
         "미국",
         "30~50대",
         "30대",
         "1",
         "1",
         "6.253828811575473",
         "2023",
         "519.0",
         "자녀X"
        ],
        [
         "48",
         "4",
         "8",
         "1",
         "1.0",
         null,
         null,
         null,
         null,
         null,
         null,
         null,
         "1",
         "2",
         "3900.0",
         "3.0",
         null,
         "6",
         "3.0",
         "1.0",
         "5",
         "혼자",
         "혼자",
         "미국",
         "30~50대",
         "50대",
         "1",
         "1",
         "8.268731832117737",
         "2023",
         "3898.9999999999977",
         "자녀X"
        ],
        [
         "49",
         "4",
         "28",
         "1",
         "1.0",
         null,
         null,
         null,
         null,
         null,
         null,
         null,
         "1",
         "2",
         "4250.0",
         null,
         "12.0",
         "1",
         "2.0",
         "12.0",
         "2",
         "혼자",
         "혼자",
         "미국",
         "20대",
         "20대",
         "1",
         "1",
         "8.354674261918463",
         "2023",
         "4249.000000000003",
         "자녀X"
        ],
        [
         "51",
         "16",
         "15",
         "2",
         null,
         null,
         null,
         null,
         "5.0",
         null,
         null,
         null,
         "1",
         "2",
         "698.41",
         "3.0",
         null,
         "4",
         "3.0",
         "6.0",
         "5",
         "가족",
         "그 외 가족 친지",
         "영국",
         "30~50대",
         "50대",
         "1",
         "1",
         "6.548806322865038",
         "2023",
         "697.4099999999997",
         "자녀X"
        ],
        [
         "52",
         "1",
         "5",
         "1",
         "1.0",
         null,
         null,
         null,
         null,
         null,
         null,
         null,
         "1",
         "1",
         "9549.51",
         null,
         "12.0",
         "12",
         "5.0",
         "2.0",
         "2",
         "혼자",
         "혼자",
         "중국",
         "20대",
         "20대",
         "1",
         "1",
         "9.164245123257906",
         "2023",
         "9548.510000000006",
         "자녀X"
        ],
        [
         "53",
         "2",
         "3",
         "2",
         null,
         null,
         null,
         null,
         null,
         "6.0",
         null,
         null,
         "1",
         "1",
         "342.0",
         null,
         "12.0",
         "2",
         "12.0",
         "1.0",
         "4",
         "친구",
         "친구",
         "일본",
         "30~50대",
         "40대",
         "1",
         "1",
         "5.834810737062605",
         "2023",
         "340.9999999999999",
         "자녀X"
        ],
        [
         "55",
         "10",
         "6",
         "2",
         null,
         null,
         null,
         null,
         "5.0",
         null,
         null,
         null,
         "1",
         "1",
         "968.63",
         "3.0",
         null,
         "7",
         "8.0",
         "2.0",
         "2",
         "가족",
         "그 외 가족 친지",
         "싱가포르",
         "20대",
         "20대",
         "1",
         "0",
         "6.875882702027173",
         "2023",
         "967.6300000000002",
         "자녀X"
        ],
        [
         "60",
         "10",
         "4",
         "2",
         null,
         null,
         null,
         null,
         "5.0",
         null,
         null,
         null,
         "1",
         "1",
         "992.85",
         "3.0",
         null,
         "3",
         "1.0",
         "2.0",
         "1",
         "가족",
         "그 외 가족 친지",
         "싱가포르",
         "10대",
         "10대",
         "1",
         "1",
         "6.900579595233041",
         "2023",
         "991.8499999999996",
         "자녀X"
        ],
        [
         "61",
         "3",
         "4",
         "2",
         null,
         null,
         null,
         null,
         null,
         "6.0",
         null,
         null,
         "1",
         "1",
         "1307.91",
         "3.0",
         null,
         "1",
         "3.0",
         "2.0",
         "4",
         "친구",
         "친구",
         "대만",
         "30~50대",
         "40대",
         "1",
         "1",
         "7.176185722310361",
         "2023",
         "1306.9100000000003",
         "자녀X"
        ],
        [
         "62",
         "5",
         "5",
         "2",
         null,
         null,
         "3.0",
         null,
         null,
         null,
         null,
         null,
         "3",
         "1",
         "2818.2",
         "3.0",
         null,
         "2",
         "11.0",
         "5.0",
         "1",
         "가족",
         "부모님",
         "홍콩",
         "10대",
         "10대",
         "1",
         "0",
         "7.943853662261004",
         "2023",
         "2817.199999999999",
         "자녀X"
        ],
        [
         "63",
         "10",
         "5",
         "2",
         null,
         null,
         null,
         null,
         "5.0",
         null,
         null,
         null,
         "1",
         "1",
         "782.36",
         "3.0",
         null,
         "1",
         "2.0",
         "3.0",
         "3",
         "가족",
         "그 외 가족 친지",
         "싱가포르",
         "30~50대",
         "30대",
         "1",
         "1",
         "6.662314992669317",
         "2023",
         "781.3599999999999",
         "자녀X"
        ],
        [
         "64",
         "4",
         "11",
         "2",
         null,
         "2.0",
         null,
         null,
         null,
         null,
         null,
         null,
         "1",
         "2",
         "1500.0",
         "3.0",
         null,
         "4",
         "3.0",
         "2.0",
         "5",
         "가족",
         "배우자/파트너",
         "미국",
         "30~50대",
         "50대",
         "1",
         "1",
         "7.313220387090301",
         "2023",
         "1499.0",
         "자녀X"
        ],
        [
         "65",
         "3",
         "5",
         "2",
         null,
         null,
         null,
         null,
         null,
         "6.0",
         null,
         null,
         "3",
         "1",
         "2608.0",
         "3.0",
         null,
         "3",
         "1.0",
         null,
         "4",
         "친구",
         "친구",
         "대만",
         "30~50대",
         "40대",
         "1",
         "1",
         "7.866338923046544",
         "2023",
         "2607.000000000001",
         "자녀X"
        ],
        [
         "68",
         "3",
         "6",
         "2",
         null,
         null,
         null,
         null,
         null,
         "6.0",
         null,
         null,
         "3",
         "1",
         "1890.8",
         "3.0",
         null,
         "8",
         "3.0",
         "15.0",
         "2",
         "친구",
         "친구",
         "대만",
         "20대",
         "20대",
         "1",
         "1",
         "7.544755298919081",
         "2023",
         "1889.7999999999993",
         "자녀X"
        ],
        [
         "69",
         "3",
         "7",
         "2",
         null,
         null,
         "3.0",
         null,
         "5.0",
         null,
         null,
         null,
         "1",
         "1",
         "1532.2",
         "3.0",
         null,
         "1",
         "4.0",
         "3.0",
         "3",
         "가족",
         "부모님",
         "대만",
         "30~50대",
         "30대",
         "1",
         "1",
         "7.33445989008272",
         "2023",
         "1531.1999999999996",
         "자녀X"
        ],
        [
         "74",
         "2",
         "8",
         "1",
         "1.0",
         null,
         null,
         null,
         null,
         null,
         null,
         null,
         "1",
         "2",
         "615.6",
         null,
         "12.0",
         "12",
         "1.0",
         "2.0",
         "5",
         "혼자",
         "혼자",
         "일본",
         "30~50대",
         "50대",
         "1",
         "1",
         "6.422597401964724",
         "2023",
         "614.6",
         "자녀X"
        ],
        [
         "79",
         "1",
         "22",
         "1",
         "1.0",
         null,
         null,
         null,
         null,
         null,
         null,
         null,
         "1",
         "2",
         "4941.06",
         "3.0",
         null,
         "1",
         "3.0",
         "6.0",
         "3",
         "혼자",
         "혼자",
         "중국",
         "30~50대",
         "30대",
         "1",
         "1",
         "8.505335162062853",
         "2023",
         "4940.0599999999995",
         "자녀X"
        ],
        [
         "85",
         "3",
         "5",
         "2",
         null,
         null,
         "3.0",
         null,
         null,
         null,
         null,
         null,
         "3",
         "1",
         "2608.0",
         "3.0",
         null,
         "1",
         "2.0",
         "3.0",
         "3",
         "가족",
         "부모님",
         "대만",
         "30~50대",
         "30대",
         "1",
         "1",
         "7.866338923046544",
         "2023",
         "2607.000000000001",
         "자녀X"
        ],
        [
         "86",
         "4",
         "5",
         "1",
         "1.0",
         null,
         null,
         null,
         null,
         null,
         null,
         null,
         "1",
         "1",
         "1430.0",
         "3.0",
         "12.0",
         "6",
         "3.0",
         "4.0",
         "3",
         "혼자",
         "혼자",
         "미국",
         "30~50대",
         "30대",
         "1",
         "1",
         "7.265429723253953",
         "2023",
         "1428.9999999999998",
         "자녀X"
        ],
        [
         "87",
         "6",
         "4",
         "2",
         null,
         null,
         null,
         null,
         null,
         null,
         "7.0",
         null,
         "1",
         "1",
         "289.0",
         "3.0",
         null,
         "3",
         "4.0",
         "2.0",
         "1",
         "직장동료",
         "직장동료",
         "태국",
         "10대",
         "10대",
         "1",
         "1",
         "5.666426688112432",
         "2023",
         "288.00000000000006",
         "자녀X"
        ],
        [
         "88",
         "6",
         "4",
         "2",
         null,
         null,
         null,
         null,
         null,
         "6.0",
         null,
         null,
         "3",
         "1",
         "1142.13",
         "3.0",
         null,
         "2",
         "3.0",
         "11.0",
         "1",
         "친구",
         "친구",
         "태국",
         "10대",
         "10대",
         "1",
         "1",
         "7.040650219113733",
         "2023",
         "1141.1299999999997",
         "자녀X"
        ],
        [
         "89",
         "6",
         "4",
         "1",
         "1.0",
         null,
         null,
         null,
         null,
         null,
         null,
         null,
         "3",
         "1",
         "1031.73",
         "3.0",
         null,
         "1",
         "3.0",
         "10.0",
         "2",
         "혼자",
         "혼자",
         "태국",
         "20대",
         "20대",
         "1",
         "1",
         "6.93899228390398",
         "2023",
         "1030.7300000000002",
         "자녀X"
        ],
        [
         "93",
         "10",
         "5",
         "2",
         null,
         null,
         "3.0",
         null,
         null,
         null,
         null,
         null,
         "1",
         "1",
         "745.1",
         "3.0",
         null,
         "2",
         "7.0",
         "3.0",
         "2",
         "가족",
         "부모님",
         "싱가포르",
         "20대",
         "20대",
         "1",
         "1",
         "6.613518437559682",
         "2023",
         "744.1",
         "자녀X"
        ],
        [
         "96",
         "1",
         "8",
         "1",
         "1.0",
         null,
         null,
         null,
         null,
         null,
         null,
         null,
         "1",
         "1",
         "2238.2",
         "3.0",
         null,
         "4",
         "3.0",
         null,
         "3",
         "혼자",
         "혼자",
         "중국",
         "30~50대",
         "30대",
         "1",
         "1",
         "7.713427250383926",
         "2023",
         "2237.199999999999",
         "자녀X"
        ],
        [
         "97",
         "4",
         "25",
         "2",
         null,
         "2.0",
         null,
         null,
         null,
         null,
         null,
         null,
         "1",
         "2",
         "2760.0",
         "3.0",
         null,
         "3",
         "5.0",
         "9.0",
         "5",
         "가족",
         "배우자/파트너",
         "미국",
         "30~50대",
         "50대",
         "1",
         "1",
         "7.9229859587111955",
         "2023",
         "2758.9999999999995",
         "자녀X"
        ],
        [
         "103",
         "4",
         "10",
         "1",
         "1.0",
         null,
         null,
         null,
         null,
         null,
         null,
         null,
         "1",
         "2",
         "1790.0",
         "3.0",
         null,
         "1",
         "4.0",
         "3.0",
         "6",
         "혼자",
         "혼자",
         "미국",
         "60대 이상",
         "60대 이상",
         "1",
         "1",
         "7.489970898834801",
         "2023",
         "1789.0000000000002",
         "자녀X"
        ],
        [
         "104",
         "3",
         "5",
         "2",
         null,
         null,
         "3.0",
         null,
         "5.0",
         null,
         null,
         null,
         "3",
         "1",
         "1369.2",
         "3.0",
         null,
         "2",
         "11.0",
         "1.0",
         "1",
         "가족",
         "부모님",
         "대만",
         "10대",
         "10대",
         "1",
         "0",
         "7.221981906656031",
         "2023",
         "1368.2000000000005",
         "자녀X"
        ]
       ],
       "shape": {
        "columns": 31,
        "rows": 10826
       }
      },
      "text/html": [
       "<div>\n",
       "<style scoped>\n",
       "    .dataframe tbody tr th:only-of-type {\n",
       "        vertical-align: middle;\n",
       "    }\n",
       "\n",
       "    .dataframe tbody tr th {\n",
       "        vertical-align: top;\n",
       "    }\n",
       "\n",
       "    .dataframe thead th {\n",
       "        text-align: right;\n",
       "    }\n",
       "</style>\n",
       "<table border=\"1\" class=\"dataframe\">\n",
       "  <thead>\n",
       "    <tr style=\"text-align: right;\">\n",
       "      <th></th>\n",
       "      <th>D_NAT</th>\n",
       "      <th>M일HAP</th>\n",
       "      <th>Q7A</th>\n",
       "      <th>Q7a_dk</th>\n",
       "      <th>Q7a2</th>\n",
       "      <th>Q7a3</th>\n",
       "      <th>Q7a4</th>\n",
       "      <th>Q7a5</th>\n",
       "      <th>Q7a6</th>\n",
       "      <th>Q7a7</th>\n",
       "      <th>...</th>\n",
       "      <th>동행자_세분화</th>\n",
       "      <th>국가명</th>\n",
       "      <th>연령대_단순</th>\n",
       "      <th>연령대_세분화</th>\n",
       "      <th>웰니스참여</th>\n",
       "      <th>웰니스만족</th>\n",
       "      <th>log_총액</th>\n",
       "      <th>year</th>\n",
       "      <th>예상_총액</th>\n",
       "      <th>자녀동반</th>\n",
       "    </tr>\n",
       "  </thead>\n",
       "  <tbody>\n",
       "    <tr>\n",
       "      <th>1</th>\n",
       "      <td>1</td>\n",
       "      <td>7</td>\n",
       "      <td>1</td>\n",
       "      <td>1.0</td>\n",
       "      <td>NaN</td>\n",
       "      <td>NaN</td>\n",
       "      <td>NaN</td>\n",
       "      <td>NaN</td>\n",
       "      <td>NaN</td>\n",
       "      <td>NaN</td>\n",
       "      <td>...</td>\n",
       "      <td>혼자</td>\n",
       "      <td>중국</td>\n",
       "      <td>30~50대</td>\n",
       "      <td>30대</td>\n",
       "      <td>1</td>\n",
       "      <td>1</td>\n",
       "      <td>7.390971</td>\n",
       "      <td>2023</td>\n",
       "      <td>1620.280000</td>\n",
       "      <td>자녀X</td>\n",
       "    </tr>\n",
       "    <tr>\n",
       "      <th>4</th>\n",
       "      <td>3</td>\n",
       "      <td>8</td>\n",
       "      <td>2</td>\n",
       "      <td>NaN</td>\n",
       "      <td>NaN</td>\n",
       "      <td>NaN</td>\n",
       "      <td>NaN</td>\n",
       "      <td>NaN</td>\n",
       "      <td>6.0</td>\n",
       "      <td>NaN</td>\n",
       "      <td>...</td>\n",
       "      <td>친구</td>\n",
       "      <td>대만</td>\n",
       "      <td>20대</td>\n",
       "      <td>20대</td>\n",
       "      <td>1</td>\n",
       "      <td>1</td>\n",
       "      <td>7.197884</td>\n",
       "      <td>2023</td>\n",
       "      <td>1335.600000</td>\n",
       "      <td>자녀X</td>\n",
       "    </tr>\n",
       "    <tr>\n",
       "      <th>7</th>\n",
       "      <td>5</td>\n",
       "      <td>6</td>\n",
       "      <td>2</td>\n",
       "      <td>NaN</td>\n",
       "      <td>NaN</td>\n",
       "      <td>NaN</td>\n",
       "      <td>NaN</td>\n",
       "      <td>NaN</td>\n",
       "      <td>6.0</td>\n",
       "      <td>NaN</td>\n",
       "      <td>...</td>\n",
       "      <td>친구</td>\n",
       "      <td>홍콩</td>\n",
       "      <td>30~50대</td>\n",
       "      <td>30대</td>\n",
       "      <td>1</td>\n",
       "      <td>1</td>\n",
       "      <td>7.490440</td>\n",
       "      <td>2023</td>\n",
       "      <td>1789.840000</td>\n",
       "      <td>자녀X</td>\n",
       "    </tr>\n",
       "    <tr>\n",
       "      <th>8</th>\n",
       "      <td>3</td>\n",
       "      <td>6</td>\n",
       "      <td>2</td>\n",
       "      <td>NaN</td>\n",
       "      <td>2.0</td>\n",
       "      <td>NaN</td>\n",
       "      <td>NaN</td>\n",
       "      <td>NaN</td>\n",
       "      <td>NaN</td>\n",
       "      <td>NaN</td>\n",
       "      <td>...</td>\n",
       "      <td>배우자/파트너</td>\n",
       "      <td>대만</td>\n",
       "      <td>20대</td>\n",
       "      <td>20대</td>\n",
       "      <td>1</td>\n",
       "      <td>1</td>\n",
       "      <td>6.691116</td>\n",
       "      <td>2023</td>\n",
       "      <td>804.220000</td>\n",
       "      <td>자녀X</td>\n",
       "    </tr>\n",
       "    <tr>\n",
       "      <th>9</th>\n",
       "      <td>3</td>\n",
       "      <td>5</td>\n",
       "      <td>2</td>\n",
       "      <td>NaN</td>\n",
       "      <td>NaN</td>\n",
       "      <td>NaN</td>\n",
       "      <td>NaN</td>\n",
       "      <td>NaN</td>\n",
       "      <td>6.0</td>\n",
       "      <td>NaN</td>\n",
       "      <td>...</td>\n",
       "      <td>친구</td>\n",
       "      <td>대만</td>\n",
       "      <td>30~50대</td>\n",
       "      <td>30대</td>\n",
       "      <td>1</td>\n",
       "      <td>1</td>\n",
       "      <td>7.210006</td>\n",
       "      <td>2023</td>\n",
       "      <td>1351.900000</td>\n",
       "      <td>자녀X</td>\n",
       "    </tr>\n",
       "    <tr>\n",
       "      <th>...</th>\n",
       "      <td>...</td>\n",
       "      <td>...</td>\n",
       "      <td>...</td>\n",
       "      <td>...</td>\n",
       "      <td>...</td>\n",
       "      <td>...</td>\n",
       "      <td>...</td>\n",
       "      <td>...</td>\n",
       "      <td>...</td>\n",
       "      <td>...</td>\n",
       "      <td>...</td>\n",
       "      <td>...</td>\n",
       "      <td>...</td>\n",
       "      <td>...</td>\n",
       "      <td>...</td>\n",
       "      <td>...</td>\n",
       "      <td>...</td>\n",
       "      <td>...</td>\n",
       "      <td>...</td>\n",
       "      <td>...</td>\n",
       "      <td>...</td>\n",
       "    </tr>\n",
       "    <tr>\n",
       "      <th>17117</th>\n",
       "      <td>1</td>\n",
       "      <td>5</td>\n",
       "      <td>2</td>\n",
       "      <td>NaN</td>\n",
       "      <td>NaN</td>\n",
       "      <td>NaN</td>\n",
       "      <td>NaN</td>\n",
       "      <td>NaN</td>\n",
       "      <td>6.0</td>\n",
       "      <td>NaN</td>\n",
       "      <td>...</td>\n",
       "      <td>친구</td>\n",
       "      <td>중국</td>\n",
       "      <td>20대</td>\n",
       "      <td>20대</td>\n",
       "      <td>1</td>\n",
       "      <td>1</td>\n",
       "      <td>6.204900</td>\n",
       "      <td>2024</td>\n",
       "      <td>494.169633</td>\n",
       "      <td>자녀X</td>\n",
       "    </tr>\n",
       "    <tr>\n",
       "      <th>17118</th>\n",
       "      <td>1</td>\n",
       "      <td>5</td>\n",
       "      <td>2</td>\n",
       "      <td>NaN</td>\n",
       "      <td>NaN</td>\n",
       "      <td>NaN</td>\n",
       "      <td>NaN</td>\n",
       "      <td>NaN</td>\n",
       "      <td>6.0</td>\n",
       "      <td>NaN</td>\n",
       "      <td>...</td>\n",
       "      <td>친구</td>\n",
       "      <td>중국</td>\n",
       "      <td>30~50대</td>\n",
       "      <td>40대</td>\n",
       "      <td>1</td>\n",
       "      <td>1</td>\n",
       "      <td>6.053570</td>\n",
       "      <td>2024</td>\n",
       "      <td>424.630000</td>\n",
       "      <td>자녀X</td>\n",
       "    </tr>\n",
       "    <tr>\n",
       "      <th>17120</th>\n",
       "      <td>1</td>\n",
       "      <td>5</td>\n",
       "      <td>2</td>\n",
       "      <td>NaN</td>\n",
       "      <td>NaN</td>\n",
       "      <td>NaN</td>\n",
       "      <td>4.0</td>\n",
       "      <td>NaN</td>\n",
       "      <td>NaN</td>\n",
       "      <td>NaN</td>\n",
       "      <td>...</td>\n",
       "      <td>자녀</td>\n",
       "      <td>중국</td>\n",
       "      <td>30~50대</td>\n",
       "      <td>50대</td>\n",
       "      <td>1</td>\n",
       "      <td>1</td>\n",
       "      <td>7.845392</td>\n",
       "      <td>2024</td>\n",
       "      <td>2552.938220</td>\n",
       "      <td>자녀O</td>\n",
       "    </tr>\n",
       "    <tr>\n",
       "      <th>17121</th>\n",
       "      <td>1</td>\n",
       "      <td>5</td>\n",
       "      <td>2</td>\n",
       "      <td>NaN</td>\n",
       "      <td>2.0</td>\n",
       "      <td>NaN</td>\n",
       "      <td>NaN</td>\n",
       "      <td>NaN</td>\n",
       "      <td>NaN</td>\n",
       "      <td>NaN</td>\n",
       "      <td>...</td>\n",
       "      <td>배우자/파트너</td>\n",
       "      <td>중국</td>\n",
       "      <td>30~50대</td>\n",
       "      <td>50대</td>\n",
       "      <td>1</td>\n",
       "      <td>1</td>\n",
       "      <td>6.426246</td>\n",
       "      <td>2024</td>\n",
       "      <td>616.850000</td>\n",
       "      <td>자녀X</td>\n",
       "    </tr>\n",
       "    <tr>\n",
       "      <th>17122</th>\n",
       "      <td>4</td>\n",
       "      <td>26</td>\n",
       "      <td>2</td>\n",
       "      <td>NaN</td>\n",
       "      <td>2.0</td>\n",
       "      <td>NaN</td>\n",
       "      <td>NaN</td>\n",
       "      <td>NaN</td>\n",
       "      <td>NaN</td>\n",
       "      <td>NaN</td>\n",
       "      <td>...</td>\n",
       "      <td>배우자/파트너</td>\n",
       "      <td>미국</td>\n",
       "      <td>20대</td>\n",
       "      <td>20대</td>\n",
       "      <td>1</td>\n",
       "      <td>1</td>\n",
       "      <td>6.454500</td>\n",
       "      <td>2024</td>\n",
       "      <td>634.555556</td>\n",
       "      <td>자녀X</td>\n",
       "    </tr>\n",
       "  </tbody>\n",
       "</table>\n",
       "<p>10826 rows × 31 columns</p>\n",
       "</div>"
      ],
      "text/plain": [
       "       D_NAT  M일HAP  Q7A  Q7a_dk  Q7a2  Q7a3  Q7a4  Q7a5  Q7a6  Q7a7  ...  \\\n",
       "1          1      7    1     1.0   NaN   NaN   NaN   NaN   NaN   NaN  ...   \n",
       "4          3      8    2     NaN   NaN   NaN   NaN   NaN   6.0   NaN  ...   \n",
       "7          5      6    2     NaN   NaN   NaN   NaN   NaN   6.0   NaN  ...   \n",
       "8          3      6    2     NaN   2.0   NaN   NaN   NaN   NaN   NaN  ...   \n",
       "9          3      5    2     NaN   NaN   NaN   NaN   NaN   6.0   NaN  ...   \n",
       "...      ...    ...  ...     ...   ...   ...   ...   ...   ...   ...  ...   \n",
       "17117      1      5    2     NaN   NaN   NaN   NaN   NaN   6.0   NaN  ...   \n",
       "17118      1      5    2     NaN   NaN   NaN   NaN   NaN   6.0   NaN  ...   \n",
       "17120      1      5    2     NaN   NaN   NaN   4.0   NaN   NaN   NaN  ...   \n",
       "17121      1      5    2     NaN   2.0   NaN   NaN   NaN   NaN   NaN  ...   \n",
       "17122      4     26    2     NaN   2.0   NaN   NaN   NaN   NaN   NaN  ...   \n",
       "\n",
       "       동행자_세분화  국가명  연령대_단순  연령대_세분화  웰니스참여  웰니스만족    log_총액  year  \\\n",
       "1           혼자   중국  30~50대      30대      1      1  7.390971  2023   \n",
       "4           친구   대만     20대      20대      1      1  7.197884  2023   \n",
       "7           친구   홍콩  30~50대      30대      1      1  7.490440  2023   \n",
       "8      배우자/파트너   대만     20대      20대      1      1  6.691116  2023   \n",
       "9           친구   대만  30~50대      30대      1      1  7.210006  2023   \n",
       "...        ...  ...     ...      ...    ...    ...       ...   ...   \n",
       "17117       친구   중국     20대      20대      1      1  6.204900  2024   \n",
       "17118       친구   중국  30~50대      40대      1      1  6.053570  2024   \n",
       "17120       자녀   중국  30~50대      50대      1      1  7.845392  2024   \n",
       "17121  배우자/파트너   중국  30~50대      50대      1      1  6.426246  2024   \n",
       "17122  배우자/파트너   미국     20대      20대      1      1  6.454500  2024   \n",
       "\n",
       "             예상_총액  자녀동반  \n",
       "1      1620.280000   자녀X  \n",
       "4      1335.600000   자녀X  \n",
       "7      1789.840000   자녀X  \n",
       "8       804.220000   자녀X  \n",
       "9      1351.900000   자녀X  \n",
       "...            ...   ...  \n",
       "17117   494.169633   자녀X  \n",
       "17118   424.630000   자녀X  \n",
       "17120  2552.938220   자녀O  \n",
       "17121   616.850000   자녀X  \n",
       "17122   634.555556   자녀X  \n",
       "\n",
       "[10826 rows x 31 columns]"
      ]
     },
     "execution_count": 53,
     "metadata": {},
     "output_type": "execute_result"
    }
   ],
   "source": [
    "wellness_df"
   ]
  },
  {
   "cell_type": "code",
   "execution_count": 54,
   "id": "5dd79b9d",
   "metadata": {},
   "outputs": [
    {
     "data": {
      "application/vnd.microsoft.datawrangler.viewer.v0+json": {
       "columns": [
        {
         "name": "연령대_단순",
         "rawType": "object",
         "type": "string"
        },
        {
         "name": "count",
         "rawType": "int64",
         "type": "integer"
        }
       ],
       "ref": "bf34aef7-96f2-4242-ab83-d3aa7deda6e2",
       "rows": [
        [
         "30~50대",
         "6243"
        ],
        [
         "20대",
         "3693"
        ],
        [
         "60대 이상",
         "643"
        ],
        [
         "10대",
         "247"
        ]
       ],
       "shape": {
        "columns": 1,
        "rows": 4
       }
      },
      "text/plain": [
       "연령대_단순\n",
       "30~50대    6243\n",
       "20대       3693\n",
       "60대 이상     643\n",
       "10대        247\n",
       "Name: count, dtype: int64"
      ]
     },
     "execution_count": 54,
     "metadata": {},
     "output_type": "execute_result"
    }
   ],
   "source": [
    "# 웰니스 관광객 연령대 분포\n",
    "wellness_df['연령대_단순'].value_counts()"
   ]
  },
  {
   "cell_type": "code",
   "execution_count": 48,
   "id": "ae373885",
   "metadata": {},
   "outputs": [
    {
     "data": {
      "application/vnd.microsoft.datawrangler.viewer.v0+json": {
       "columns": [
        {
         "name": "연령대_단순",
         "rawType": "object",
         "type": "string"
        },
        {
         "name": "count",
         "rawType": "int64",
         "type": "integer"
        }
       ],
       "ref": "144b5870-d5f0-459a-8b0d-53f9f4ceba98",
       "rows": [
        [
         "30~50대",
         "9596"
        ],
        [
         "20대",
         "6117"
        ],
        [
         "60대 이상",
         "974"
        ],
        [
         "10대",
         "436"
        ]
       ],
       "shape": {
        "columns": 1,
        "rows": 4
       }
      },
      "text/plain": [
       "연령대_단순\n",
       "30~50대    9596\n",
       "20대       6117\n",
       "60대 이상     974\n",
       "10대        436\n",
       "Name: count, dtype: int64"
      ]
     },
     "execution_count": 48,
     "metadata": {},
     "output_type": "execute_result"
    }
   ],
   "source": [
    "# 전체 연령대 분포\n",
    "df_all['연령대_단순'].value_counts()"
   ]
  },
  {
   "cell_type": "code",
   "execution_count": 81,
   "id": "0af6bfc7",
   "metadata": {},
   "outputs": [
    {
     "name": "stdout",
     "output_type": "stream",
     "text": [
      "연령대_단순\n",
      "20대       34.9\n",
      "30~50대    59.0\n",
      "60대 이상     6.1\n",
      "Name: proportion, dtype: float64\n"
     ]
    }
   ],
   "source": [
    "# 연령대별 비율 \n",
    "ratio_by_age = (wellness_df['연령대_단순']\n",
    "                .value_counts(normalize=True)\n",
    "                .sort_index() * 100).round(1)\n",
    "\n",
    "print(ratio_by_age)"
   ]
  },
  {
   "cell_type": "code",
   "execution_count": 89,
   "id": "fc10a1ad",
   "metadata": {},
   "outputs": [
    {
     "data": {
      "image/png": "[encoded data removed]",
      "text/plain": [
       "<Figure size 700x700 with 1 Axes>"
      ]
     },
     "metadata": {},
     "output_type": "display_data"
    }
   ],
   "source": [
    "# 연령대 비율 시각화\n",
    "labels = ratio_by_age.index.tolist()\n",
    "sizes = ratio_by_age.values.tolist()\n",
    "\n",
    "plt.figure(figsize=(7, 7))\n",
    "plt.pie(\n",
    "    sizes, \n",
    "    labels=labels, \n",
    "    autopct='%1.1f%%', \n",
    "    startangle=90, \n",
    "    colors=plt.cm.Pastel1.colors,\n",
    "    labeldistance=1.05  # ← 조각과 라벨의 거리 조절 (기본값은 1.1)\n",
    ")\n",
    "plt.title('웰니스 관광객 연령대 비율')\n",
    "plt.axis('equal')\n",
    "plt.show()"
   ]
  },
  {
   "cell_type": "code",
   "execution_count": 55,
   "id": "bbb0ac20",
   "metadata": {},
   "outputs": [],
   "source": [
    "# 10대 제외\n",
    "wellness_df = wellness_df[wellness_df['연령대_단순'] != '10대']"
   ]
  },
  {
   "cell_type": "code",
   "execution_count": 32,
   "id": "d2662928",
   "metadata": {},
   "outputs": [
    {
     "name": "stdout",
     "output_type": "stream",
     "text": [
      "연령대_단순\n",
      "20대       1279.4\n",
      "30~50대    1429.0\n",
      "60대 이상    1301.1\n",
      "Name: 예상_총액, dtype: float64\n"
     ]
    }
   ],
   "source": [
    "# 연령대별 평균 예상 총액\n",
    "avg_total = wellness_df.groupby('연령대_단순')['예상_총액'].mean().round(1)\n",
    "print(avg_total)"
   ]
  },
  {
   "cell_type": "code",
   "execution_count": 66,
   "id": "8fc33d5f",
   "metadata": {},
   "outputs": [
    {
     "name": "stdout",
     "output_type": "stream",
     "text": [
      "연령대_세분화\n",
      "20대       1279.4\n",
      "30대       1449.5\n",
      "40대       1434.6\n",
      "50대       1395.9\n",
      "60대 이상    1301.1\n",
      "Name: 예상_총액, dtype: float64\n"
     ]
    }
   ],
   "source": [
    "avg_total = wellness_df.groupby('연령대_세분화')['예상_총액'].mean().round(1)\n",
    "print(avg_total)"
   ]
  },
  {
   "cell_type": "code",
   "execution_count": 34,
   "id": "2766e6b5",
   "metadata": {},
   "outputs": [
    {
     "name": "stderr",
     "output_type": "stream",
     "text": [
      "C:\\Users\\82106\\AppData\\Local\\Temp\\ipykernel_26476\\618232424.py:9: FutureWarning: \n",
      "\n",
      "Passing `palette` without assigning `hue` is deprecated and will be removed in v0.14.0. Assign the `x` variable to `hue` and set `legend=False` for the same effect.\n",
      "\n",
      "  sns.barplot(x='연령대_단순', y='예상_총액', data=avg_total_df, palette='Blues_d')\n"
     ]
    },
    {
     "data": {
      "image/png": "[encoded data removed]",
      "text/plain": [
       "<Figure size 800x500 with 1 Axes>"
      ]
     },
     "metadata": {},
     "output_type": "display_data"
    }
   ],
   "source": [
    "import matplotlib.pyplot as plt\n",
    "import seaborn as sns\n",
    "\n",
    "# 시각화용 DataFrame으로 변환\n",
    "avg_total_df = wellness_df.groupby('연령대_단순')['예상_총액'].mean().round(1).reset_index()\n",
    "\n",
    "# 그래프 그리기\n",
    "plt.figure(figsize=(8, 5))\n",
    "sns.barplot(x='연령대_단순', y='예상_총액', data=avg_total_df, palette='Blues_d')\n",
    "plt.title('연령대별 웰니스 관광객 평균 소비 총액')\n",
    "plt.xlabel('연령대')\n",
    "plt.ylabel('평균 총액 (USD)')\n",
    "plt.ylim(0, avg_total_df['예상_총액'].max() * 1.2)  # y축 여유롭게\n",
    "\n",
    "# 막대 위에 값 표시\n",
    "for i, row in avg_total_df.iterrows():\n",
    "    plt.text(i, row['예상_총액'] + 20, f\"{row['예상_총액']}\", ha='center')\n",
    "\n",
    "plt.show()"
   ]
  },
  {
   "cell_type": "markdown",
   "id": "b129d430",
   "metadata": {},
   "source": [
    "- 30~50대: 전체 참여자의 59% 차지 + 평균 소비 최고 -> 웰니스 시장의 압도적 핵심 타겟\n",
    "- 20대: 약 35%의 비율로 비교적 많이 참여 -> 참여율은 높지만 소비는 가장 낮음 -> 저가 체험형 콘텐츠 (가성비)\n",
    "- 60대 이상: 소수지만 탄탄한 수요층 -> 참여자는 6.1%로 적지만 평균 소비는 1,300달러 수준 -> 건강 치유형 콘텐츠 타겟, 소규모 집중 마케팅\n",
    "- 웰니스 관광은 30~50대가 양적·질적으로 모두 핵심이며, 20대는 참여 유도층, 60대는 치유형 니치 마켓으로 활용 가능하다."
   ]
  },
  {
   "cell_type": "code",
   "execution_count": 67,
   "id": "4899a6fc",
   "metadata": {},
   "outputs": [
    {
     "name": "stderr",
     "output_type": "stream",
     "text": [
      "C:\\Users\\82106\\AppData\\Local\\Temp\\ipykernel_26476\\1022846865.py:6: FutureWarning: \n",
      "\n",
      "Passing `palette` without assigning `hue` is deprecated and will be removed in v0.14.0. Assign the `x` variable to `hue` and set `legend=False` for the same effect.\n",
      "\n",
      "  sns.barplot(x='연령대_세분화', y='예상_총액', data=avg_total_df, palette='Blues_d')\n"
     ]
    },
    {
     "data": {
      "image/png": "[encoded data removed]",
      "text/plain": [
       "<Figure size 800x500 with 1 Axes>"
      ]
     },
     "metadata": {},
     "output_type": "display_data"
    }
   ],
   "source": [
    "# 시각화용 DataFrame으로 변환\n",
    "avg_total_df = wellness_df.groupby('연령대_세분화')['예상_총액'].mean().round(1).reset_index()\n",
    "\n",
    "# 그래프 그리기\n",
    "plt.figure(figsize=(8, 5))\n",
    "sns.barplot(x='연령대_세분화', y='예상_총액', data=avg_total_df, palette='Blues_d')\n",
    "plt.title('연령대별 웰니스 관광객 평균 소비 총액')\n",
    "plt.xlabel('연령대')\n",
    "plt.ylabel('평균 총액 (USD)')\n",
    "plt.ylim(0, avg_total_df['예상_총액'].max() * 1.2)  # y축 여유롭게\n",
    "\n",
    "# 막대 위에 값 표시\n",
    "for i, row in avg_total_df.iterrows():\n",
    "    plt.text(i, row['예상_총액'] + 20, f\"{row['예상_총액']}\", ha='center')\n",
    "\n",
    "plt.show()"
   ]
  },
  {
   "cell_type": "markdown",
   "id": "131f1c68",
   "metadata": {},
   "source": [
    "- 30, 40대가 가장 큰 웰니스 관광 소비층 \n",
    "- 30~50대 전체를 핵심 소비군으로 묶는 전략 가능"
   ]
  },
  {
   "cell_type": "markdown",
   "id": "f94426b7",
   "metadata": {},
   "source": [
    "###  웰니스 관광객 × 자녀 동반 여부에 따른 소비 총액 분석"
   ]
  },
  {
   "cell_type": "code",
   "execution_count": 60,
   "id": "26ab7c5c",
   "metadata": {},
   "outputs": [],
   "source": [
    "# 웰니스 참여자 중 자녀 동반자 연령대 \n",
    "wellness_with_child = df_all[(df_all['웰니스참여'] == 1) & (df_all['자녀동반'] == '자녀O')]"
   ]
  },
  {
   "cell_type": "code",
   "execution_count": 64,
   "id": "200b54ca",
   "metadata": {},
   "outputs": [
    {
     "data": {
      "application/vnd.microsoft.datawrangler.viewer.v0+json": {
       "columns": [
        {
         "name": "연령대_단순",
         "rawType": "object",
         "type": "string"
        },
        {
         "name": "count",
         "rawType": "int64",
         "type": "integer"
        }
       ],
       "ref": "e1961df3-9a23-4a26-a834-1c2f8bef7c9b",
       "rows": [
        [
         "30~50대",
         "436"
        ],
        [
         "60대 이상",
         "71"
        ],
        [
         "20대",
         "11"
        ],
        [
         "10대",
         "1"
        ]
       ],
       "shape": {
        "columns": 1,
        "rows": 4
       }
      },
      "text/plain": [
       "연령대_단순\n",
       "30~50대    436\n",
       "60대 이상     71\n",
       "20대        11\n",
       "10대         1\n",
       "Name: count, dtype: int64"
      ]
     },
     "execution_count": 64,
     "metadata": {},
     "output_type": "execute_result"
    }
   ],
   "source": [
    "wellness_with_child['연령대_단순'].value_counts()"
   ]
  },
  {
   "cell_type": "code",
   "execution_count": 65,
   "id": "0b4fcdcb",
   "metadata": {},
   "outputs": [
    {
     "data": {
      "application/vnd.microsoft.datawrangler.viewer.v0+json": {
       "columns": [
        {
         "name": "연령대_세분화",
         "rawType": "object",
         "type": "string"
        },
        {
         "name": "count",
         "rawType": "int64",
         "type": "integer"
        }
       ],
       "ref": "eeb39df9-fc86-4f31-80a0-52c061e52468",
       "rows": [
        [
         "50대",
         "248"
        ],
        [
         "40대",
         "118"
        ],
        [
         "60대 이상",
         "71"
        ],
        [
         "30대",
         "70"
        ],
        [
         "20대",
         "11"
        ],
        [
         "10대",
         "1"
        ]
       ],
       "shape": {
        "columns": 1,
        "rows": 6
       }
      },
      "text/plain": [
       "연령대_세분화\n",
       "50대       248\n",
       "40대       118\n",
       "60대 이상     71\n",
       "30대        70\n",
       "20대        11\n",
       "10대         1\n",
       "Name: count, dtype: int64"
      ]
     },
     "execution_count": 65,
     "metadata": {},
     "output_type": "execute_result"
    }
   ],
   "source": [
    "wellness_with_child['연령대_세분화'].value_counts()"
   ]
  },
  {
   "cell_type": "code",
   "execution_count": 90,
   "id": "6304c9c7",
   "metadata": {},
   "outputs": [],
   "source": [
    "# 10대 제외\n",
    "wellness_with_child = wellness_with_child[wellness_with_child['연령대_단순'] != '10대']"
   ]
  },
  {
   "cell_type": "code",
   "execution_count": 91,
   "id": "162158b7",
   "metadata": {},
   "outputs": [
    {
     "name": "stdout",
     "output_type": "stream",
     "text": [
      "연령대_단순\n",
      "20대        2.1\n",
      "30~50대    84.2\n",
      "60대 이상    13.7\n",
      "Name: proportion, dtype: float64\n"
     ]
    }
   ],
   "source": [
    "# 연령대별 비율 (%) 계산\n",
    "child_ratio = (wellness_with_child['연령대_단순']\n",
    "               .value_counts(normalize=True)\n",
    "               .sort_index() * 100).round(1)\n",
    "\n",
    "print(child_ratio)"
   ]
  },
  {
   "cell_type": "code",
   "execution_count": 92,
   "id": "601abce4",
   "metadata": {},
   "outputs": [
    {
     "data": {
      "image/png": "[encoded data removed]",
      "text/plain": [
       "<Figure size 700x700 with 1 Axes>"
      ]
     },
     "metadata": {},
     "output_type": "display_data"
    }
   ],
   "source": [
    "import matplotlib.pyplot as plt\n",
    "\n",
    "labels = child_ratio.index.tolist()\n",
    "sizes = child_ratio.values.tolist()\n",
    "\n",
    "plt.figure(figsize=(7, 7))\n",
    "plt.pie(\n",
    "    sizes, \n",
    "    labels=labels, \n",
    "    autopct='%1.1f%%', \n",
    "    startangle=90, \n",
    "    colors=plt.cm.Pastel2.colors, \n",
    "    labeldistance=1.05  # 라벨과 그래프 조각 간 거리 좁힘\n",
    ")\n",
    "plt.title('자녀 동반 웰니스 관광객 연령대 비율')\n",
    "plt.axis('equal')  # 원형 유지\n",
    "plt.show()"
   ]
  },
  {
   "cell_type": "code",
   "execution_count": 33,
   "id": "00951e74",
   "metadata": {},
   "outputs": [
    {
     "name": "stdout",
     "output_type": "stream",
     "text": [
      "자녀동반       자녀O     자녀X\n",
      "연령대_단순                \n",
      "20대     1634.3  1278.3\n",
      "30~50대  1344.6  1435.3\n",
      "60대 이상  1152.7  1319.5\n"
     ]
    }
   ],
   "source": [
    "# 자녀 동반 여부별 평균 총액\n",
    "pivot_wellness = wellness_df.pivot_table(\n",
    "    index='연령대_단순',\n",
    "    columns='자녀동반',\n",
    "    values='예상_총액',\n",
    "    aggfunc='mean'\n",
    ").round(1)\n",
    "\n",
    "print(pivot_wellness)"
   ]
  },
  {
   "cell_type": "code",
   "execution_count": 56,
   "id": "9813384f",
   "metadata": {},
   "outputs": [
    {
     "data": {
      "image/png": "[encoded data removed]",
      "text/plain": [
       "<Figure size 800x500 with 1 Axes>"
      ]
     },
     "metadata": {},
     "output_type": "display_data"
    }
   ],
   "source": [
    "# 시각화\n",
    "# 1. Pivot → Long Format 변환\n",
    "pivot_wellness_reset = pivot_wellness.reset_index()\n",
    "\n",
    "pivot_melted = pivot_wellness_reset.melt(\n",
    "    id_vars='연령대_단순', \n",
    "    value_vars=['자녀O', '자녀X'],\n",
    "    var_name='자녀동반', \n",
    "    value_name='예상_총액'\n",
    ")\n",
    "\n",
    "# 2. Grouped Barplot 그리기\n",
    "plt.figure(figsize=(8, 5))\n",
    "ax = sns.barplot(\n",
    "    x='연령대_단순', \n",
    "    y='예상_총액', \n",
    "    hue='자녀동반', \n",
    "    data=pivot_melted, \n",
    "    palette='Set2'\n",
    ")\n",
    "plt.title('연령대별 × 자녀 동반 여부별 웰니스 관광객 평균 소비 총액')\n",
    "plt.xlabel('연령대')\n",
    "plt.ylabel('평균 소비 총액 (USD)')\n",
    "plt.legend(title='자녀 동반 여부')\n",
    "plt.ylim(0, pivot_melted['예상_총액'].max() * 1.2)\n",
    "\n",
    "# 3. 막대 위 숫자 표시\n",
    "for p in ax.patches:\n",
    "    height = p.get_height()\n",
    "    if not pd.isna(height) and height != 0.0:  # NaN 및 0.0 모두 방지\n",
    "        ax.annotate(f'{height:.1f}', \n",
    "                    (p.get_x() + p.get_width() / 2, height), \n",
    "                    ha='center', va='bottom', fontsize=9)\n",
    "plt.show()\n"
   ]
  },
  {
   "cell_type": "markdown",
   "id": "203fbc70",
   "metadata": {},
   "source": [
    "- 30~50대가 자녀 동반 웰니스의 실질 타겟 (10명 중 8명 이상이 이 연령대)\n",
    "- 가족 중심 콘텐츠, 프리미엄 숙소/리조트, 쇼핑 연계형 웰니스 전략 적합\n",
    "- 60대 이상은 자녀와 동반 여행할 가능성 존재 (전체의 13.7% 차지 → 니치 타겟 가능)\n",
    "- 건강/치유형 콘텐츠 + 효도형 여행 마케팅 전략 활용 가능\n",
    "- 20대는 분석상 제외 가능 -> 자녀 동반은 의미 없는 수준 (2.1%)\n",
    "- 개별 소비자 중심 마케팅이 적절 (가성비 중심)"
   ]
  },
  {
   "cell_type": "markdown",
   "id": "570b64de",
   "metadata": {},
   "source": [
    "- 30~50대: 자녀 없이 여행할 때 소비 높음 -> 자녀를 동반하지 않았을 때 소비가 약 91달러 더 높음\n",
    "- 이 연령대는 자녀 없이 여유롭게 고가 소비하는 특성이 뚜렷 → 웰니스 프리미엄 콘텐츠 타겟 확정\n",
    "- 60대 이상도 자녀 미동반이 더 많이 씀 -> 자녀를 동반하지 않은 경우 약 167달러 더 소비\n",
    "- 단독/부부 여행자 중심 소비 성향 → 건강/치유 콘텐츠 중심, 가격 민감층 고려"
   ]
  },
  {
   "cell_type": "markdown",
   "id": "803e9887",
   "metadata": {},
   "source": [
    "1. 자녀 동반 시 소비 감소 경향\n",
    "- 30~50대, 60대 이상 공통\n",
    "- 자녀 동반 여행은 소비 분산 및 절제 경향\n",
    "- 개별 또는 부부 여행자 중심 마케팅이 효과적\n",
    "\n",
    "2. 웰니스 핵심 소비자 = 자녀 없이 여행하는 중장년층\n",
    "- 타겟: 30~50대 자녀 미동반층\n",
    "- 전략: 프리미엄 스파/명상/힐링 콘텐츠, 고급 숙소 연계"
   ]
  },
  {
   "cell_type": "code",
   "execution_count": 70,
   "id": "f7af3dc3",
   "metadata": {},
   "outputs": [
    {
     "name": "stdout",
     "output_type": "stream",
     "text": [
      "자녀동반        자녀O     자녀X\n",
      "연령대_세분화                \n",
      "20대      1634.3  1278.3\n",
      "30대      1159.8  1457.5\n",
      "40대      1572.8  1424.5\n",
      "50대      1288.3  1412.0\n",
      "60대 이상   1152.7  1319.5\n"
     ]
    }
   ],
   "source": [
    "# 자녀 동반 여부별 평균 총액 (연령대 세분화)\n",
    "pivot_wellness2 = wellness_df.pivot_table(\n",
    "    index='연령대_세분화',\n",
    "    columns='자녀동반',\n",
    "    values='예상_총액',\n",
    "    aggfunc='mean'\n",
    ").round(1)\n",
    "\n",
    "print(pivot_wellness2)"
   ]
  },
  {
   "cell_type": "code",
   "execution_count": 95,
   "id": "951b0644",
   "metadata": {},
   "outputs": [
    {
     "data": {
      "image/png": "[encoded data removed]",
      "text/plain": [
       "<Figure size 900x500 with 1 Axes>"
      ]
     },
     "metadata": {},
     "output_type": "display_data"
    }
   ],
   "source": [
    "# 시각화 \n",
    "pivot_reset = pivot_wellness2.reset_index()\n",
    "\n",
    "pivot_melted = pivot_reset.melt(\n",
    "    id_vars='연령대_세분화', \n",
    "    value_vars=['자녀O', '자녀X'],\n",
    "    var_name='자녀동반', \n",
    "    value_name='예상_총액'\n",
    ")\n",
    "\n",
    "plt.figure(figsize=(9, 5))\n",
    "ax = sns.barplot(\n",
    "    x='연령대_세분화', \n",
    "    y='예상_총액', \n",
    "    hue='자녀동반', \n",
    "    data=pivot_melted, \n",
    "    palette='Set2'\n",
    ")\n",
    "plt.title('세분화 연령대 × 자녀 동반 여부별 웰니스 관광객 평균 소비 총액')\n",
    "plt.xlabel('연령대')\n",
    "plt.ylabel('평균 소비 총액 (USD)')\n",
    "plt.legend(title='자녀 동반 여부')\n",
    "plt.ylim(0, pivot_melted['예상_총액'].max() * 1.2)\n",
    "\n",
    "# 막대 위 숫자 표시 (소수점 1자리)\n",
    "for p in ax.patches:\n",
    "    height = p.get_height()\n",
    "    if not pd.isna(height) and height != 0.0:\n",
    "        ax.annotate(f'{height:.1f}', \n",
    "                    (p.get_x() + p.get_width() / 2, height), \n",
    "                    ha='center', va='bottom', fontsize=9)\n",
    "\n",
    "plt.show()\n"
   ]
  },
  {
   "cell_type": "code",
   "execution_count": 96,
   "id": "0289170e",
   "metadata": {},
   "outputs": [
    {
     "name": "stdout",
     "output_type": "stream",
     "text": [
      "연령대_단순\n",
      "10대       1705.3\n",
      "20대       1634.3\n",
      "30~50대    1344.6\n",
      "60대 이상    1152.7\n",
      "Name: 예상_총액, dtype: float64\n"
     ]
    }
   ],
   "source": [
    "# 자녀 동반 웰니스 관광객만 필터링\n",
    "wellness_with_child = df_all[(df_all['웰니스참여'] == 1) & (df_all['자녀동반'] == '자녀O')]\n",
    "\n",
    "# 연령대별 평균 소비 총액 계산\n",
    "mean_by_age = wellness_with_child.groupby('연령대_단순')['예상_총액'].mean().round(1)\n",
    "\n",
    "print(mean_by_age)"
   ]
  },
  {
   "cell_type": "code",
   "execution_count": 93,
   "metadata": {},
   "outputs": [
    {
     "name": "stdout",
     "output_type": "stream",
     "text": [
      "연령대_단순\n",
      "10대       1705.3\n",
      "20대       1293.6\n",
      "30~50대     966.7\n",
      "60대 이상     877.5\n",
      "Name: 예상_총액, dtype: float64\n"
     ]
    }
   ],
   "source": [
    "# 자녀 동반 웰니스 관광객만 필터링 (20대 포함 전체 대상)\n",
    "wellness_with_child = df_all[(df_all['웰니스참여'] == 1) & (df_all['자녀동반'] == '자녀O')]\n",
    "\n",
    "# 연령대별 중앙값 계산\n",
    "median_by_age = wellness_with_child.groupby('연령대_단순')['예상_총액'].median().round(1)\n",
    "print(median_by_age)"
   ]
  },
  {
   "cell_type": "code",
   "execution_count": 94,
   "id": "37cae634",
   "metadata": {},
   "outputs": [
    {
     "data": {
      "image/png": "[encoded data removed]",
      "text/plain": [
       "<Figure size 800x500 with 1 Axes>"
      ]
     },
     "metadata": {},
     "output_type": "display_data"
    }
   ],
   "source": [
    "plt.figure(figsize=(8, 5))\n",
    "sns.boxplot(x='연령대_단순', y='예상_총액', data=wellness_with_child, order=sorted(wellness_with_child['연령대_단순'].unique()))\n",
    "plt.title('자녀 동반 웰니스 관광객 연령대별 소비 총액 분포 (Boxplot)')\n",
    "plt.xlabel('연령대')\n",
    "plt.ylabel('예상 총액 (USD)')\n",
    "plt.ylim(0, wellness_with_child['예상_총액'].max() * 1.1)\n",
    "plt.show()\n"
   ]
  },
  {
   "cell_type": "markdown",
   "id": "1577d1d7",
   "metadata": {},
   "source": [
    "| 연령대     | 평균 소비 (USD) | 중앙값 (USD)   | 차이 (평균 - 중앙값) | 해석                 |\n",
    "| ------- | ----------- | ----------- | ------------- | ------------------ |\n",
    "| 10대     | 1,705.3     | 1,705.3     | 0.0           | 샘플 수 **1명**, 무의미   |\n",
    "| 20대     | **1,634.3** | **1,293.6** | **+340.7**    | 평균 **왜곡 심각**       |\n",
    "| 30\\~50대 | 1,344.6     | 966.7       | +377.9        | 왜곡 있지만 **샘플 수 충분** |\n",
    "| 60대 이상  | 1,152.7     | 877.5       | +275.2        | 왜곡 있으나 **타겟 가능**   |\n"
   ]
  },
  {
   "cell_type": "markdown",
   "id": "53525530",
   "metadata": {},
   "source": [
    "| 연령대     | 평균 신뢰도    | 해석                       |\n",
    "| ------- | --------- | ------------------------ |\n",
    "| 10대     | 샘플 1명 | 분석 제외                    |\n",
    "| 20대     | 평균 과대   | 실제 소비는 낮음 → **고액 소비 착시** |\n",
    "| 30\\~50대 | 샘플 충분 | 평균과 중앙값 모두 참고 → 핵심 소비층   |\n",
    "| 60대 이상  | 평균 과대  | **중간 가격대 타겟 적합**         |"
   ]
  },
  {
   "cell_type": "markdown",
   "id": "1c6e7082",
   "metadata": {},
   "source": [
    "최종 해석 및 전략\n",
    "1. 20대 자녀 동반자는 소비 왜곡 → 고소득 타겟 아님\n",
    "- 평균 1,634달러 → 실제 중앙값 1,293달러\n",
    "\n",
    "- 박스플롯 이상치로 인해 평균 과대\n",
    "\n",
    "-자녀 동반 20대는 타겟 제외, 개별 소비 마케팅만 적합\n",
    "\n",
    "2. 30~50대 자녀 동반자 → 소비 핵심층\n",
    "- 평균, 중앙값 모두 상대적으로 높음\n",
    "\n",
    "- 샘플 수 400명 이상 → 신뢰성 높음\n",
    "\n",
    "- 가족형 콘텐츠 + 고가 웰니스 상품 타겟 적합\n",
    "\n",
    "3. 60대 이상은 중간 소비층 → 효도/치유형 콘텐츠 적합\n",
    "- 평균 1,152달러, 중앙값 877달러\n",
    "\n",
    "- 중저가 상품 타겟 + 가족 동반 효도 여행 콘텐츠 전략\n",
    "\n",
    "4. 결론 요약\n",
    "- 자녀를 동반한 웰니스 관광은 30~50대 중심이며, 평균 소비에 왜곡이 있는 20대는 전략 타겟에서 제외하는 것이 적절하다."
   ]
  },
  {
   "cell_type": "markdown",
   "id": "70bf74e6",
   "metadata": {
    "vscode": {
     "languageId": "markdown"
    }
   },
   "source": []
  }
 ],
 "metadata": {
  "kernelspec": {
   "display_name": "tensorflow_env",
   "language": "python",
   "name": "python3"
  },
  "language_info": {
   "codemirror_mode": {
    "name": "ipython",
    "version": 3
   },
   "file_extension": ".py",
   "mimetype": "text/x-python",
   "name": "python",
   "nbconvert_exporter": "python",
   "pygments_lexer": "ipython3",
   "version": "3.10.18"
  }
 },
 "nbformat": 4,
 "nbformat_minor": 5
}
