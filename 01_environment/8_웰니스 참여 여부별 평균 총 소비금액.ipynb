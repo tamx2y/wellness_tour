{
 "cells": [
  {
   "cell_type": "code",
   "execution_count": 1,
   "id": "75ebe577",
   "metadata": {},
   "outputs": [],
   "source": [
    "import pandas as pd\n",
    "import numpy as np\n",
    "import seaborn as sns\n",
    "import matplotlib.pyplot as plt\n",
    "from scipy.stats import f_oneway\n",
    "from scipy.stats import levene\n",
    "from scipy.stats import ttest_ind\n",
    "from statsmodels.stats.multicomp import pairwise_tukeyhsd\n",
    "from scipy.stats import ttest_ind, mannwhitneyu\n",
    "import pingouin as pg\n",
    "import matplotlib.pyplot as plt\n",
    "import seaborn as sns\n",
    "\n",
    "# 그래프 기본 설정\n",
    "plt.rcParams['font.family'] = 'Malgun Gothic'\n",
    "# plt.rcParams['font.family'] = 'AppleGothic'\n",
    "plt.rcParams['figure.figsize'] = 12, 6\n",
    "plt.rcParams['font.size'] = 14\n",
    "plt.rcParams['axes.unicode_minus'] = False"
   ]
  },
  {
   "cell_type": "code",
   "execution_count": 2,
   "metadata": {},
   "outputs": [],
   "source": [
    "df_2023= pd.read_csv('data/2023/외래관광객조사_2023_전처리2.csv')\n",
    "df_2024= pd.read_csv('data/2024/외래관광객조사_2024_전처리2.csv')"
   ]
  },
  {
   "cell_type": "code",
   "execution_count": 3,
   "metadata": {},
   "outputs": [],
   "source": [
    "# 2024년 컬럼명 통일\n",
    "df_2024.rename(columns={\n",
    "    '총액1인TOT_개별국제 교통비제외2': '총액1인TOT항공제외2'\n",
    "}, inplace=True)"
   ]
  },
  {
   "cell_type": "code",
   "execution_count": 4,
   "id": "ca5ba450",
   "metadata": {},
   "outputs": [],
   "source": [
    "# 23, 24년도 데이터 병합\n",
    "df_all = pd.concat([df_2023, df_2024], ignore_index=True)"
   ]
  },
  {
   "cell_type": "code",
   "execution_count": 5,
   "metadata": {},
   "outputs": [
    {
     "name": "stdout",
     "output_type": "stream",
     "text": [
      "(17123, 26)\n",
      "year\n",
      "2024    8769\n",
      "2023    8354\n",
      "Name: count, dtype: int64\n"
     ]
    }
   ],
   "source": [
    "# 병합된 데이터 확인\n",
    "print(df_all.shape)\n",
    "print(df_all['year'].value_counts())  # 연도별 분포 확인"
   ]
  },
  {
   "cell_type": "code",
   "execution_count": 6,
   "metadata": {},
   "outputs": [],
   "source": [
    "# 그룹 나누기\n",
    "g1 = df_all[df_all['웰니스참여'] == 1]['총액1인TOT항공제외2'].dropna()\n",
    "g2 = df_all[df_all['웰니스참여'] == 0]['총액1인TOT항공제외2'].dropna()"
   ]
  },
  {
   "cell_type": "code",
   "execution_count": 7,
   "metadata": {},
   "outputs": [
    {
     "name": "stdout",
     "output_type": "stream",
     "text": [
      "t-test p-value: 0.16159905261448\n"
     ]
    }
   ],
   "source": [
    "# t-test\n",
    "t_stat, p_value = ttest_ind(g1, g2, equal_var=False)\n",
    "print(\"t-test p-value:\", p_value)"
   ]
  },
  {
   "cell_type": "code",
   "execution_count": 8,
   "metadata": {},
   "outputs": [
    {
     "name": "stdout",
     "output_type": "stream",
     "text": [
      "참여자 평균 지출: 1425.8381892523364\n",
      "비참여자 평균 지출: 1381.539875699192\n",
      "참여자 중위 지출: 1030.2800000000002\n",
      "비참여자 중위 지출: 941.93\n"
     ]
    }
   ],
   "source": [
    "# 평균·중위수 비교\n",
    "print(\"참여자 평균 지출:\", g1.mean())\n",
    "print(\"비참여자 평균 지출:\", g2.mean())\n",
    "print(\"참여자 중위 지출:\", g1.median())\n",
    "print(\"비참여자 중위 지출:\", g2.median())"
   ]
  },
  {
   "cell_type": "code",
   "execution_count": 9,
   "metadata": {},
   "outputs": [],
   "source": [
    "# Mann-Whitney\n",
    "# 그룹 나누기 \n",
    "g1 = df_all[df_all['웰니스참여'] == 1]['총액1인TOT항공제외2'].dropna()\n",
    "g2 = df_all[df_all['웰니스참여'] == 0]['총액1인TOT항공제외2'].dropna()"
   ]
  },
  {
   "cell_type": "code",
   "execution_count": 10,
   "metadata": {},
   "outputs": [
    {
     "name": "stdout",
     "output_type": "stream",
     "text": [
      "Mann-Whitney U p-value: 7.742785605265836e-10\n"
     ]
    }
   ],
   "source": [
    "# Mann-Whitney \n",
    "u_stat, p_u = mannwhitneyu(g1, g2, alternative='two-sided')\n",
    "print(\"Mann-Whitney U p-value:\", p_u)"
   ]
  },
  {
   "cell_type": "code",
   "execution_count": 11,
   "metadata": {},
   "outputs": [
    {
     "name": "stdout",
     "output_type": "stream",
     "text": [
      "참여자 중위 지출: 1030.2800000000002\n",
      "비참여자 중위 지출: 941.93\n"
     ]
    }
   ],
   "source": [
    "print(\"참여자 중위 지출:\", g1.median())\n",
    "print(\"비참여자 중위 지출:\", g2.median())"
   ]
  },
  {
   "cell_type": "code",
   "execution_count": 14,
   "id": "73a87131",
   "metadata": {},
   "outputs": [
    {
     "data": {
      "image/png": "[encoded data removed]",
      "text/plain": [
       "<Figure size 600x500 with 1 Axes>"
      ]
     },
     "metadata": {},
     "output_type": "display_data"
    }
   ],
   "source": [
    "import matplotlib.pyplot as plt\n",
    "\n",
    "# 한글 폰트 설정 (윈도우 기준)\n",
    "plt.rcParams['font.family'] = 'Malgun Gothic'\n",
    "plt.rcParams['axes.unicode_minus'] = False\n",
    "\n",
    "# 평균 계산\n",
    "means = [g1.mean(), g2.mean()]\n",
    "labels = ['참여자', '비참여자']\n",
    "\n",
    "# 막대그래프\n",
    "plt.figure(figsize=(6, 5))\n",
    "bars = plt.bar(labels, means, color=['#1f78b4', '#a6cee3'], edgecolor='black')\n",
    "\n",
    "# y값 표시\n",
    "for bar in bars:\n",
    "    height = bar.get_height()\n",
    "    plt.text(bar.get_x() + bar.get_width() / 2, height,\n",
    "             f'{height:,.1f}', ha='center', va='bottom', fontsize=10)\n",
    "\n",
    "plt.ylabel('평균 총소비금액 (USD)')\n",
    "plt.title('웰니스 참여 여부별 평균 총소비금액')\n",
    "plt.ylim(0, max(means) * 1.1)\n",
    "plt.grid(False)\n",
    "plt.show()\n"
   ]
  },
  {
   "cell_type": "code",
   "execution_count": null,
   "id": "ad17de20",
   "metadata": {},
   "outputs": [],
   "source": []
  }
 ],
 "metadata": {
  "kernelspec": {
   "display_name": "tensorflow_env",
   "language": "python",
   "name": "python3"
  },
  "language_info": {
   "codemirror_mode": {
    "name": "ipython",
    "version": 3
   },
   "file_extension": ".py",
   "mimetype": "text/x-python",
   "name": "python",
   "nbconvert_exporter": "python",
   "pygments_lexer": "ipython3",
   "version": "3.10.18"
  }
 },
 "nbformat": 4,
 "nbformat_minor": 5
}
